{
 "cells": [
  {
   "cell_type": "markdown",
   "metadata": {},
   "source": [
    "# Figures for Chapter 4"
   ]
  },
  {
   "cell_type": "code",
   "execution_count": 1,
   "metadata": {
    "collapsed": true
   },
   "outputs": [],
   "source": [
    "%matplotlib inline\n",
    "import matplotlib as mpl\n",
    "import matplotlib.pyplot as plt"
   ]
  },
  {
   "cell_type": "code",
   "execution_count": 2,
   "metadata": {},
   "outputs": [
    {
     "data": {
      "image/png": "[encoded data removed]",
      "text/plain": [
       "<matplotlib.figure.Figure at 0x7f99b44e3588>"
      ]
     },
     "metadata": {},
     "output_type": "display_data"
    }
   ],
   "source": [
    "fig = plt.figure()\n",
    "\n",
    "ax = fig.add_axes([0.05, 0.05, 0.86, 0.88])\n",
    "ax.set_xticks([])\n",
    "ax.set_yticks([])\n",
    "ax.text(0.001, 0.01, \"(0,0)\")\n",
    "ax.text(1.001, 0.01, \"(1,0)\")\n",
    "ax.text(0.001, 1.01, \"(0,1)\")\n",
    "ax.text(1.001, 1.01, \"(1,1)\")\n",
    "ax.text(0.12, 0.06, \"(0.15, 0.15)\")\n",
    "ax.text(0.02, 0.92, \"Figure\", fontsize=18)\n",
    "\n",
    "ax = fig.add_axes([0.15, 0.15, 0.66, 0.68])\n",
    "ax.set_xticks([])\n",
    "ax.set_yticks([])\n",
    "ax.text(0.03, 0.88, \"Axes\", fontsize=18)\n",
    "\n",
    "fig.savefig(\"./figs/figure_axes_schematic.svg\")"
   ]
  },
  {
   "cell_type": "code",
   "execution_count": 3,
   "metadata": {},
   "outputs": [
    {
     "data": {
      "image/png": "[encoded data removed]",
      "text/plain": [
       "<matplotlib.figure.Figure at 0x7f99b20ff6d8>"
      ]
     },
     "metadata": {},
     "output_type": "display_data"
    }
   ],
   "source": [
    "fig = plt.figure()\n",
    "\n",
    "ax = fig.add_axes([0.15, 0.15, 0.68, 0.68])\n",
    "\n",
    "ax.set_xlim(1, 3)\n",
    "ax.set_ylim(1, 3)\n",
    "\n",
    "ax.tick_params(which='both', direction='in')\n",
    "\n",
    "ax.set_xticks([1, 2, 3])\n",
    "ax.set_yticks([1, 2, 3])\n",
    "\n",
    "ax.xaxis.set_minor_locator(mpl.ticker.MultipleLocator(0.25))\n",
    "ax.yaxis.set_minor_locator(mpl.ticker.MultipleLocator(0.25))\n",
    "\n",
    "ax.set_xlabel(\"x axis\", fontsize=18)\n",
    "ax.set_ylabel(\"y axis\", fontsize=18)\n",
    "\n",
    "ax.annotate(\"Major Tick\", fontsize=16,\n",
    "            xy=(1, 2), xycoords='data',\n",
    "            xytext=(35, 30), textcoords='offset points',\n",
    "            arrowprops=dict(arrowstyle=\"->\", connectionstyle=\"arc3, rad=0.4\"))\n",
    "\n",
    "ax.annotate(\"Minor Tick\", fontsize=16,\n",
    "            xy=(1, 1.5), xycoords='data',\n",
    "            xytext=(35, 30), textcoords='offset points',\n",
    "            arrowprops=dict(arrowstyle=\"->\", connectionstyle=\"arc3, rad=0.4\"))\n",
    "\n",
    "fig.savefig(\"./figs/figure_axis_schematic.svg\")"
   ]
  },
  {
   "cell_type": "markdown",
   "metadata": {},
   "source": [
    "## Versions"
   ]
  },
  {
   "cell_type": "code",
   "execution_count": 4,
   "metadata": {},
   "outputs": [
    {
     "data": {
      "application/json": {
       "Software versions": [
        {
         "module": "Python",
         "version": "3.6.1 64bit [GCC 4.4.7 20120313 (Red Hat 4.4.7-1)]"
        },
        {
         "module": "IPython",
         "version": "5.3.0"
        },
        {
         "module": "OS",
         "version": "Linux 4.9.41 moby x86_64 with debian 8.5"
        },
        {
         "module": "numpy",
         "version": "1.13.1"
        },
        {
         "module": "matplotlib",
         "version": "2.0.2"
        }
       ]
      },
      "text/html": [
       "<table><tr><th>Software</th><th>Version</th></tr><tr><td>Python</td><td>3.6.1 64bit [GCC 4.4.7 20120313 (Red Hat 4.4.7-1)]</td></tr><tr><td>IPython</td><td>5.3.0</td></tr><tr><td>OS</td><td>Linux 4.9.41 moby x86_64 with debian 8.5</td></tr><tr><td>numpy</td><td>1.13.1</td></tr><tr><td>matplotlib</td><td>2.0.2</td></tr><tr><td colspan='2'>Fri Sep 22 14:34:06 2017 UTC</td></tr></table>"
      ],
      "text/latex": [
       "\\begin{tabular}{|l|l|}\\hline\n",
       "{\\bf Software} & {\\bf Version} \\\\ \\hline\\hline\n",
       "Python & 3.6.1 64bit [GCC 4.4.7 20120313 (Red Hat 4.4.7-1)] \\\\ \\hline\n",
       "IPython & 5.3.0 \\\\ \\hline\n",
       "OS & Linux 4.9.41 moby x86\\_64 with debian 8.5 \\\\ \\hline\n",
       "numpy & 1.13.1 \\\\ \\hline\n",
       "matplotlib & 2.0.2 \\\\ \\hline\n",
       "\\hline \\multicolumn{2}{|l|}{Fri Sep 22 14:34:06 2017 UTC} \\\\ \\hline\n",
       "\\end{tabular}\n"
      ],
      "text/plain": [
       "Software versions\n",
       "Python 3.6.1 64bit [GCC 4.4.7 20120313 (Red Hat 4.4.7-1)]\n",
       "IPython 5.3.0\n",
       "OS Linux 4.9.41 moby x86_64 with debian 8.5\n",
       "numpy 1.13.1\n",
       "matplotlib 2.0.2\n",
       "Fri Sep 22 14:34:06 2017 UTC"
      ]
     },
     "execution_count": 4,
     "metadata": {},
     "output_type": "execute_result"
    }
   ],
   "source": [
    "%load_ext version_information\n",
    "%version_information numpy, matplotlib"
   ]
  }
 ],
 "metadata": {
  "kernelspec": {
   "display_name": "Python 3",
   "language": "python",
   "name": "python3"
  },
  "language_info": {
   "codemirror_mode": {
    "name": "ipython",
    "version": 3
   },
   "file_extension": ".py",
   "mimetype": "text/x-python",
   "name": "python",
   "nbconvert_exporter": "python",
   "pygments_lexer": "ipython3",
   "version": "3.6.1"
  }
 },
 "nbformat": 4,
 "nbformat_minor": 2
}
