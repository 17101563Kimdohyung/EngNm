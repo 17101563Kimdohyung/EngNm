{
  "nbformat": 4,
  "nbformat_minor": 0,
  "metadata": {
    "celltoolbar": "Slideshow",
    "kernelspec": {
      "display_name": "Python 3",
      "language": "python",
      "name": "python3"
    },
    "language_info": {
      "codemirror_mode": {
        "name": "ipython",
        "version": 3
      },
      "file_extension": ".py",
      "mimetype": "text/x-python",
      "name": "python",
      "nbconvert_exporter": "python",
      "pygments_lexer": "ipython3",
      "version": "3.7.5"
    },
    "colab": {
      "name": "02_numpy의 사본",
      "provenance": [],
      "collapsed_sections": [],
      "include_colab_link": true
    }
  },
  "cells": [
    {
      "cell_type": "markdown",
      "metadata": {
        "id": "view-in-github",
        "colab_type": "text"
      },
      "source": [
        "<a href=\"https://colab.research.google.com/github/17101563Kimdohyung/EngNm/blob/master/02_numpy%EC%9D%98_%EC%82%AC%EB%B3%B8.ipynb\" target=\"_parent\"><img src=\"https://colab.research.google.com/assets/colab-badge.svg\" alt=\"Open In Colab\"/></a>"
      ]
    },
    {
      "cell_type": "markdown",
      "metadata": {
        "id": "L7aSmLUyqbn5"
      },
      "source": [
        "# Chapter 2. $~$ Vectors, Matrices and Multidimensional Arrays"
      ]
    },
    {
      "cell_type": "code",
      "metadata": {
        "id": "QPEByY2xqbn6"
      },
      "source": [
        "import numpy as np"
      ],
      "execution_count": null,
      "outputs": []
    },
    {
      "cell_type": "markdown",
      "metadata": {
        "id": "PZaSD5hlqbn7"
      },
      "source": [
        "## 2.1 $~$The Numpy Array Object"
      ]
    },
    {
      "cell_type": "code",
      "metadata": {
        "id": "J9h6KQxsqbn7"
      },
      "source": [
        "data = np.array([[1, 2], [3, 4], [5, 6]])\n",
        "data"
      ],
      "execution_count": null,
      "outputs": []
    },
    {
      "cell_type": "code",
      "metadata": {
        "id": "pC_4rDV7qbn8"
      },
      "source": [
        "type(data)"
      ],
      "execution_count": null,
      "outputs": []
    },
    {
      "cell_type": "code",
      "metadata": {
        "id": "Zg9IxTMMqbn9"
      },
      "source": [
        "data.ndim"
      ],
      "execution_count": null,
      "outputs": []
    },
    {
      "cell_type": "code",
      "metadata": {
        "id": "QCUlSNdGqbn9"
      },
      "source": [
        "data.shape"
      ],
      "execution_count": null,
      "outputs": []
    },
    {
      "cell_type": "code",
      "metadata": {
        "id": "whp6xdu_qbn-"
      },
      "source": [
        "data.size"
      ],
      "execution_count": null,
      "outputs": []
    },
    {
      "cell_type": "code",
      "metadata": {
        "id": "uocx1k5Bqbn-"
      },
      "source": [
        "data.dtype"
      ],
      "execution_count": null,
      "outputs": []
    },
    {
      "cell_type": "code",
      "metadata": {
        "id": "zmnmlx_Jqbn-"
      },
      "source": [
        "data.nbytes"
      ],
      "execution_count": null,
      "outputs": []
    },
    {
      "cell_type": "markdown",
      "metadata": {
        "id": "HcQ1wmxJqbn_"
      },
      "source": [
        "##2.2 $~$ Data Types"
      ]
    },
    {
      "cell_type": "code",
      "metadata": {
        "id": "CPJNsq26qbn_"
      },
      "source": [
        "d0 = np.array([1, 2, 3], dtype=np.int); d0"
      ],
      "execution_count": null,
      "outputs": []
    },
    {
      "cell_type": "code",
      "metadata": {
        "id": "9c0zXBYvqbn_"
      },
      "source": [
        "d1 = np.array([1, 2, 3], dtype=np.float); d1"
      ],
      "execution_count": null,
      "outputs": []
    },
    {
      "cell_type": "code",
      "metadata": {
        "id": "SAqc4CWCqboA"
      },
      "source": [
        "d2 = np.array([1, 2, 3], dtype=np.complex); d2"
      ],
      "execution_count": null,
      "outputs": []
    },
    {
      "cell_type": "markdown",
      "metadata": {
        "id": "qydQ_hbIqboA"
      },
      "source": [
        "##1.3 $~$ Type Casting"
      ]
    },
    {
      "cell_type": "code",
      "metadata": {
        "id": "6eRVmXx6qboB"
      },
      "source": [
        "data = np.array([1, 2, 3], dtype=np.float); data"
      ],
      "execution_count": null,
      "outputs": []
    },
    {
      "cell_type": "code",
      "metadata": {
        "id": "0Iu0JSj6qboB"
      },
      "source": [
        "data.dtype"
      ],
      "execution_count": null,
      "outputs": []
    },
    {
      "cell_type": "code",
      "metadata": {
        "id": "kEVxmYadqboC"
      },
      "source": [
        "data.astype(np.int)"
      ],
      "execution_count": null,
      "outputs": []
    },
    {
      "cell_type": "markdown",
      "metadata": {
        "id": "Vb6ccdlKqboC"
      },
      "source": [
        "##1.4 $~$ Type Promotion"
      ]
    },
    {
      "cell_type": "code",
      "metadata": {
        "id": "SQqzx6k6qboD"
      },
      "source": [
        "d1 = np.array([1, 2, 3], dtype=float)"
      ],
      "execution_count": null,
      "outputs": []
    },
    {
      "cell_type": "code",
      "metadata": {
        "id": "htVQC6pSqboD"
      },
      "source": [
        "d2 = np.array([1, 2, 3], dtype=complex)"
      ],
      "execution_count": null,
      "outputs": []
    },
    {
      "cell_type": "code",
      "metadata": {
        "id": "t499ERmKqboE"
      },
      "source": [
        "d1 + d2"
      ],
      "execution_count": null,
      "outputs": []
    },
    {
      "cell_type": "code",
      "metadata": {
        "id": "-NOVv-XsqboE"
      },
      "source": [
        "(d1 + d2).dtype"
      ],
      "execution_count": null,
      "outputs": []
    },
    {
      "cell_type": "markdown",
      "metadata": {
        "id": "Duqpmp7PqboE"
      },
      "source": [
        "##1.5 $~$ Type-depending Operation"
      ]
    },
    {
      "cell_type": "code",
      "metadata": {
        "id": "pvViVTDzqboF"
      },
      "source": [
        "np.sqrt(np.array([-1, 0, 1]))"
      ],
      "execution_count": null,
      "outputs": []
    },
    {
      "cell_type": "code",
      "metadata": {
        "id": "xuH6ync3qboF"
      },
      "source": [
        "np.sqrt(np.array([-1, 0, 1], dtype=complex))"
      ],
      "execution_count": null,
      "outputs": []
    },
    {
      "cell_type": "markdown",
      "metadata": {
        "id": "vfNDsOzYqboF"
      },
      "source": [
        "##1.6 $~$ Real and Imaginary Parts "
      ]
    },
    {
      "cell_type": "code",
      "metadata": {
        "id": "sDF76I5HqboG"
      },
      "source": [
        "data = np.array([1, 2, 3], dtype=complex); data"
      ],
      "execution_count": null,
      "outputs": []
    },
    {
      "cell_type": "code",
      "metadata": {
        "id": "FiX7D9OtqboG"
      },
      "source": [
        "data.real"
      ],
      "execution_count": null,
      "outputs": []
    },
    {
      "cell_type": "code",
      "metadata": {
        "id": "4a3Unlv7qboG"
      },
      "source": [
        "data.imag"
      ],
      "execution_count": null,
      "outputs": []
    },
    {
      "cell_type": "code",
      "metadata": {
        "id": "hoS0fwK4qboG"
      },
      "source": [
        "np.real(data)"
      ],
      "execution_count": null,
      "outputs": []
    },
    {
      "cell_type": "code",
      "metadata": {
        "id": "1y83Ee40qboH"
      },
      "source": [
        "np.imag(data)"
      ],
      "execution_count": null,
      "outputs": []
    },
    {
      "cell_type": "markdown",
      "metadata": {
        "id": "NBnGNI03qboH"
      },
      "source": [
        "##1.7 $~$ Order of Array Data in Memory"
      ]
    },
    {
      "cell_type": "markdown",
      "metadata": {
        "id": "3rZZ-M6PqboH"
      },
      "source": [
        "Multidimensional arrays are stored as contiguous data in memory. Consider the case of a two-dimensional array, containing rows and columns: One possible way to store this array as a consecutive sequence of values is to store the rows after each other, and another equally valid approach is to store the columns one after another. The former is called **row-major format** and the latter is **column-major format**. Whether to use row-major or column-major is a matter of conventions, and the row-major format is used for example in the **C** programming language, and **Fortran** uses the column-major format. "
      ]
    },
    {
      "cell_type": "markdown",
      "metadata": {
        "id": "UrPm9IHfqboI"
      },
      "source": [
        "A `numpy` array can be specified to be stored in row-major format, using the keyword argument `order='C'`, and column-major format, using the keyword argument `order='F'`, when the array is created or reshaped. The default format is *row-major*. "
      ]
    },
    {
      "cell_type": "markdown",
      "metadata": {
        "id": "9cFqfgVgqboI"
      },
      "source": [
        "In general, the `numpy` array attribute `ndarray.strides` defines exactly how this mapping is done. The `strides` attribute is a tuple of the same length as the number of axes (dimensions) of the array. Each value in `strides` is the factor by which the index for the corresponding axis is multiplied when calculating the *memory offset (in bytes)* for a given index expression.\n"
      ]
    },
    {
      "cell_type": "code",
      "metadata": {
        "id": "yh-Q9BTqqboI"
      },
      "source": [
        "data = np.array([[1, 2, 3], [4, 5, 6]], dtype=np.int32); data"
      ],
      "execution_count": null,
      "outputs": []
    },
    {
      "cell_type": "code",
      "metadata": {
        "id": "AUfB23LxqboI"
      },
      "source": [
        "data.strides"
      ],
      "execution_count": null,
      "outputs": []
    },
    {
      "cell_type": "code",
      "metadata": {
        "id": "E2xYnOJlqboI"
      },
      "source": [
        "data = np.array([[1, 2, 3], [4, 5, 6]], dtype=np.int32, order='F'); data"
      ],
      "execution_count": null,
      "outputs": []
    },
    {
      "cell_type": "code",
      "metadata": {
        "id": "NNeKrPUDqboJ"
      },
      "source": [
        "data.strides"
      ],
      "execution_count": null,
      "outputs": []
    },
    {
      "cell_type": "markdown",
      "metadata": {
        "id": "cavOnzmiqboJ"
      },
      "source": [
        "##1.8 $~$ Creating Arrays"
      ]
    },
    {
      "cell_type": "markdown",
      "metadata": {
        "id": "V5tMl1UvqboJ"
      },
      "source": [
        "### Arrays created from lists and other array-like objects"
      ]
    },
    {
      "cell_type": "code",
      "metadata": {
        "id": "4NntZaXLqboJ"
      },
      "source": [
        "data = np.array([1, 2, 3, 4]); data"
      ],
      "execution_count": null,
      "outputs": []
    },
    {
      "cell_type": "code",
      "metadata": {
        "id": "IVbBY68lqboK"
      },
      "source": [
        "data = np.array([[1, 2], [3, 4]]); data"
      ],
      "execution_count": null,
      "outputs": []
    },
    {
      "cell_type": "markdown",
      "metadata": {
        "id": "gYHh7SXOqboL"
      },
      "source": [
        "### Arrays filled with constant values"
      ]
    },
    {
      "cell_type": "code",
      "metadata": {
        "id": "KLb1PE-7qboL"
      },
      "source": [
        "np.zeros((2, 3))"
      ],
      "execution_count": null,
      "outputs": []
    },
    {
      "cell_type": "code",
      "metadata": {
        "id": "6KrdZL-TqboL"
      },
      "source": [
        "np.ones(4)"
      ],
      "execution_count": null,
      "outputs": []
    },
    {
      "cell_type": "markdown",
      "metadata": {
        "id": "TkMpN7tbqboL"
      },
      "source": [
        "---"
      ]
    },
    {
      "cell_type": "code",
      "metadata": {
        "id": "XPEhlvHZqboM"
      },
      "source": [
        "data = np.ones(4); data"
      ],
      "execution_count": null,
      "outputs": []
    },
    {
      "cell_type": "code",
      "metadata": {
        "id": "-LK_e9AjqboM"
      },
      "source": [
        "data.dtype"
      ],
      "execution_count": null,
      "outputs": []
    },
    {
      "cell_type": "code",
      "metadata": {
        "id": "eXAaNoJ0qboM"
      },
      "source": [
        "data = np.ones(4, dtype=np.int64); data"
      ],
      "execution_count": null,
      "outputs": []
    },
    {
      "cell_type": "code",
      "metadata": {
        "id": "WcV6PLHrqboM"
      },
      "source": [
        "data.dtype"
      ],
      "execution_count": null,
      "outputs": []
    },
    {
      "cell_type": "markdown",
      "metadata": {
        "id": "7xeN6YsHqboM"
      },
      "source": [
        "---"
      ]
    },
    {
      "cell_type": "code",
      "metadata": {
        "id": "kPdsLO62qboM"
      },
      "source": [
        "5.4 * np.ones(10)"
      ],
      "execution_count": null,
      "outputs": []
    },
    {
      "cell_type": "code",
      "metadata": {
        "id": "HJqDCBF1qboN"
      },
      "source": [
        "np.full(10, 5.4) # slightly more efficient"
      ],
      "execution_count": null,
      "outputs": []
    },
    {
      "cell_type": "markdown",
      "metadata": {
        "id": "DwjqeZf2qboN"
      },
      "source": [
        "---"
      ]
    },
    {
      "cell_type": "code",
      "metadata": {
        "id": "0WdQgSszqboN"
      },
      "source": [
        "x1 = np.empty(5)\n",
        "x1.fill(3.0)\n",
        "x1"
      ],
      "execution_count": null,
      "outputs": []
    },
    {
      "cell_type": "markdown",
      "metadata": {
        "id": "yMEynioAqboN"
      },
      "source": [
        "### Arrays filled with incremental sequences"
      ]
    },
    {
      "cell_type": "code",
      "metadata": {
        "id": "oERi9x9ZqboO"
      },
      "source": [
        "np.arange(0, 11, 1)"
      ],
      "execution_count": null,
      "outputs": []
    },
    {
      "cell_type": "code",
      "metadata": {
        "id": "F1t9HeE_qboP"
      },
      "source": [
        "np.linspace(0, 10, 11) # generally recommended"
      ],
      "execution_count": null,
      "outputs": []
    },
    {
      "cell_type": "markdown",
      "metadata": {
        "id": "tEli_hmoqboP"
      },
      "source": [
        "### Arrays filled with logarithmic sequences "
      ]
    },
    {
      "cell_type": "code",
      "metadata": {
        "id": "QLldbeZIqboP"
      },
      "source": [
        "np.logspace(0, 2, 5)  # 5 data points between 10**0=1 to 10**2=100"
      ],
      "execution_count": null,
      "outputs": []
    },
    {
      "cell_type": "markdown",
      "metadata": {
        "id": "5HGS4ctnqboQ"
      },
      "source": [
        "### Mesh grid arrays"
      ]
    },
    {
      "cell_type": "code",
      "metadata": {
        "id": "f9PIp3NHqboQ"
      },
      "source": [
        "x = np.array([-1, 0, 1])\n",
        "y = np.array([-2, 0, 2])"
      ],
      "execution_count": null,
      "outputs": []
    },
    {
      "cell_type": "code",
      "metadata": {
        "id": "S7DlbHfJqboR"
      },
      "source": [
        "X, Y = np.meshgrid(x, y)"
      ],
      "execution_count": null,
      "outputs": []
    },
    {
      "cell_type": "code",
      "metadata": {
        "id": "DNQ7g3YKqboR"
      },
      "source": [
        "X"
      ],
      "execution_count": null,
      "outputs": []
    },
    {
      "cell_type": "code",
      "metadata": {
        "id": "sH6Fv21HqboS"
      },
      "source": [
        "Y"
      ],
      "execution_count": null,
      "outputs": []
    },
    {
      "cell_type": "code",
      "metadata": {
        "id": "P1abgIkmqboS"
      },
      "source": [
        "Z = (X + Y)**2; Z"
      ],
      "execution_count": null,
      "outputs": []
    },
    {
      "cell_type": "markdown",
      "metadata": {
        "id": "uD1V5LO_qboS"
      },
      "source": [
        "### Creating uninitialized arrays"
      ]
    },
    {
      "cell_type": "code",
      "metadata": {
        "id": "7u26blHhqboT"
      },
      "source": [
        "x = np.empty(3, dtype=np.float); x"
      ],
      "execution_count": null,
      "outputs": []
    },
    {
      "cell_type": "markdown",
      "metadata": {
        "id": "w-dwjjE3qboT"
      },
      "source": [
        "### Creating arrays with properties of other arrays"
      ]
    },
    {
      "cell_type": "code",
      "metadata": {
        "id": "v_3KoBz1qboU"
      },
      "source": [
        "def f(x):    \n",
        "    y = np.ones_like(x)    # compute with x and y    \n",
        "    return y\n",
        "\n",
        "x = np.array([[1, 2, 3], [4, 5, 6]])\n",
        "y = f(x); y"
      ],
      "execution_count": null,
      "outputs": []
    },
    {
      "cell_type": "markdown",
      "metadata": {
        "id": "W5G8BYooqboV"
      },
      "source": [
        "### Creating matrix arrays"
      ]
    },
    {
      "cell_type": "code",
      "metadata": {
        "id": "F1suVvSRqboW"
      },
      "source": [
        "np.identity(4)"
      ],
      "execution_count": null,
      "outputs": []
    },
    {
      "cell_type": "code",
      "metadata": {
        "id": "eYtsZVeKqboW"
      },
      "source": [
        "np.eye(4, k=1)"
      ],
      "execution_count": null,
      "outputs": []
    },
    {
      "cell_type": "code",
      "metadata": {
        "id": "wnvi7ssnqboW"
      },
      "source": [
        "np.eye(4, k=-1)"
      ],
      "execution_count": null,
      "outputs": []
    },
    {
      "cell_type": "code",
      "metadata": {
        "id": "r01mOLCeqboX"
      },
      "source": [
        "np.diag(np.arange(0, 20, 5))"
      ],
      "execution_count": null,
      "outputs": []
    },
    {
      "cell_type": "markdown",
      "metadata": {
        "id": "gypR_jNGqboX"
      },
      "source": [
        "##1.9 $~$ Indexing and Slicing"
      ]
    },
    {
      "cell_type": "markdown",
      "metadata": {
        "id": "kme1D4kqqboX"
      },
      "source": [
        "### One-dimensional arrays"
      ]
    },
    {
      "cell_type": "code",
      "metadata": {
        "id": "cndPpIjCqboY"
      },
      "source": [
        "a = np.arange(0, 11); a"
      ],
      "execution_count": null,
      "outputs": []
    },
    {
      "cell_type": "code",
      "metadata": {
        "id": "DZ8G_kpYqboZ"
      },
      "source": [
        "a[0]"
      ],
      "execution_count": null,
      "outputs": []
    },
    {
      "cell_type": "code",
      "metadata": {
        "id": "zBhhs7z0qboZ"
      },
      "source": [
        "a[-1]"
      ],
      "execution_count": null,
      "outputs": []
    },
    {
      "cell_type": "code",
      "metadata": {
        "id": "bAtyEuPfqboa"
      },
      "source": [
        "a[4]"
      ],
      "execution_count": null,
      "outputs": []
    },
    {
      "cell_type": "markdown",
      "metadata": {
        "id": "EgV9V8Uuqboa"
      },
      "source": [
        "---"
      ]
    },
    {
      "cell_type": "code",
      "metadata": {
        "id": "ouGDyILwqbob"
      },
      "source": [
        "a[1:-1]"
      ],
      "execution_count": null,
      "outputs": []
    },
    {
      "cell_type": "code",
      "metadata": {
        "id": "2L2cbPQNqbob"
      },
      "source": [
        "a[1:-1:2]"
      ],
      "execution_count": null,
      "outputs": []
    },
    {
      "cell_type": "markdown",
      "metadata": {
        "id": "dQssZo1Bqboc"
      },
      "source": [
        "---"
      ]
    },
    {
      "cell_type": "code",
      "metadata": {
        "id": "FStHTw1hqbod"
      },
      "source": [
        "a[:5]"
      ],
      "execution_count": null,
      "outputs": []
    },
    {
      "cell_type": "code",
      "metadata": {
        "id": "Pb1jODI1qbod"
      },
      "source": [
        "a[-5:]"
      ],
      "execution_count": null,
      "outputs": []
    },
    {
      "cell_type": "code",
      "metadata": {
        "id": "LhdV-u-_qboe"
      },
      "source": [
        "a[::-2]"
      ],
      "execution_count": null,
      "outputs": []
    },
    {
      "cell_type": "markdown",
      "metadata": {
        "id": "JVdLVEzaqbof"
      },
      "source": [
        "### Multidimensional arrays"
      ]
    },
    {
      "cell_type": "code",
      "metadata": {
        "id": "lD3iq5R6qbog"
      },
      "source": [
        "f = lambda m, n: 10*m +n"
      ],
      "execution_count": null,
      "outputs": []
    },
    {
      "cell_type": "code",
      "metadata": {
        "id": "G1c1_8dPqbog"
      },
      "source": [
        "A = np.fromfunction(f, (6, 6), dtype=int); A # please search for numpy.fromfunction at google"
      ],
      "execution_count": null,
      "outputs": []
    },
    {
      "cell_type": "markdown",
      "metadata": {
        "id": "ltBBxfovqbog"
      },
      "source": [
        "---"
      ]
    },
    {
      "cell_type": "code",
      "metadata": {
        "id": "c7mlWeLtqboh"
      },
      "source": [
        "A[:, 1]  # the second column"
      ],
      "execution_count": null,
      "outputs": []
    },
    {
      "cell_type": "code",
      "metadata": {
        "id": "JQg-3wtsqboh"
      },
      "source": [
        "A[1, :]  # the second raw"
      ],
      "execution_count": null,
      "outputs": []
    },
    {
      "cell_type": "code",
      "metadata": {
        "id": "mGXEVYA7qboi"
      },
      "source": [
        "A[:3, :3]"
      ],
      "execution_count": null,
      "outputs": []
    },
    {
      "cell_type": "code",
      "metadata": {
        "id": "EyZXm3awqboi"
      },
      "source": [
        "A[3:, :3]"
      ],
      "execution_count": null,
      "outputs": []
    },
    {
      "cell_type": "code",
      "metadata": {
        "id": "PbHYMHArqboj"
      },
      "source": [
        "A[::2, ::2]"
      ],
      "execution_count": null,
      "outputs": []
    },
    {
      "cell_type": "code",
      "metadata": {
        "id": "QPZs27Ubqboj"
      },
      "source": [
        "A[1::2, 1::3]"
      ],
      "execution_count": null,
      "outputs": []
    },
    {
      "cell_type": "markdown",
      "metadata": {
        "id": "b8ySsxMwqboj"
      },
      "source": [
        "### Views"
      ]
    },
    {
      "cell_type": "markdown",
      "metadata": {
        "id": "kY3F6R4Qqbok"
      },
      "source": [
        "Subarrays that are extracted from arrays using slice operations are **alternative views** of the same underlying\n",
        "array data. That is, they are arrays that refer to the same data in memory as the original array, but with a\n",
        "different `strides` configuration. When elements in a view are assigned new values, the values of the original\n",
        "array are therefore also updated. For example,"
      ]
    },
    {
      "cell_type": "code",
      "metadata": {
        "id": "PLipY8Jeqbok"
      },
      "source": [
        "B = A[1:5, 1:5]; B"
      ],
      "execution_count": null,
      "outputs": []
    },
    {
      "cell_type": "code",
      "metadata": {
        "id": "T_-Jf1U6qbol"
      },
      "source": [
        "B[:, :] = 0; A"
      ],
      "execution_count": null,
      "outputs": []
    },
    {
      "cell_type": "markdown",
      "metadata": {
        "id": "L_mE4doWqbom"
      },
      "source": [
        "When **a copy rather than a view** is needed, the view can be copied explicitly by using\n",
        "the `copy` method of the `ndarray` instance."
      ]
    },
    {
      "cell_type": "code",
      "metadata": {
        "id": "FbItGw9cqbom"
      },
      "source": [
        "C = B[1:3, 1:3].copy(); C"
      ],
      "execution_count": null,
      "outputs": []
    },
    {
      "cell_type": "code",
      "metadata": {
        "id": "iq248b43qbom"
      },
      "source": [
        "C[:, :] = 1; C"
      ],
      "execution_count": null,
      "outputs": []
    },
    {
      "cell_type": "code",
      "metadata": {
        "id": "K_gSqQ1Gqbom"
      },
      "source": [
        "B"
      ],
      "execution_count": null,
      "outputs": []
    },
    {
      "cell_type": "markdown",
      "metadata": {
        "id": "wgGr_Iqaqbon"
      },
      "source": [
        "### Fancy indexing and boolean-valued indexing"
      ]
    },
    {
      "cell_type": "code",
      "metadata": {
        "id": "s2Q8IegEqbon"
      },
      "source": [
        "A = np.linspace(0, 1, 11); A"
      ],
      "execution_count": null,
      "outputs": []
    },
    {
      "cell_type": "code",
      "metadata": {
        "id": "5HzQJCQfqbon"
      },
      "source": [
        "A[np.array([0, 2, 4])]"
      ],
      "execution_count": null,
      "outputs": []
    },
    {
      "cell_type": "code",
      "metadata": {
        "id": "ICbKUuJQqbon"
      },
      "source": [
        "A[[0, 2, 4]]"
      ],
      "execution_count": null,
      "outputs": []
    },
    {
      "cell_type": "markdown",
      "metadata": {
        "id": "TGIufbCHqboo"
      },
      "source": [
        "---"
      ]
    },
    {
      "cell_type": "code",
      "metadata": {
        "id": "SFJwl2m8qboo"
      },
      "source": [
        "A > 0.5"
      ],
      "execution_count": null,
      "outputs": []
    },
    {
      "cell_type": "code",
      "metadata": {
        "id": "s4QYBSmbqbop"
      },
      "source": [
        "A[A > 0.5]"
      ],
      "execution_count": null,
      "outputs": []
    },
    {
      "cell_type": "markdown",
      "metadata": {
        "id": "UGoo_no0qbop"
      },
      "source": [
        "Unlike arrays created by using slices, **the arrays returned using fancy indexing and boolean-valued\n",
        "indexing are not views**, but rather new independent arrays."
      ]
    },
    {
      "cell_type": "code",
      "metadata": {
        "id": "q5sQFuWwqbop"
      },
      "source": [
        "A = np.arange(10); A"
      ],
      "execution_count": null,
      "outputs": []
    },
    {
      "cell_type": "code",
      "metadata": {
        "id": "DyQ2hXG5qboq"
      },
      "source": [
        "indices = [2, 4, 6]"
      ],
      "execution_count": null,
      "outputs": []
    },
    {
      "cell_type": "code",
      "metadata": {
        "id": "ekLQe6IMqboq"
      },
      "source": [
        "B = A[indices]; B"
      ],
      "execution_count": null,
      "outputs": []
    },
    {
      "cell_type": "code",
      "metadata": {
        "id": "jJHzWhBUqboq"
      },
      "source": [
        "B[0] = -1; A"
      ],
      "execution_count": null,
      "outputs": []
    },
    {
      "cell_type": "code",
      "metadata": {
        "id": "CZ6coao2qbor"
      },
      "source": [
        "A[indices] = -1; A"
      ],
      "execution_count": null,
      "outputs": []
    },
    {
      "cell_type": "markdown",
      "metadata": {
        "id": "E5bEI2xeqbor"
      },
      "source": [
        "---"
      ]
    },
    {
      "cell_type": "code",
      "metadata": {
        "id": "b01IYC9eqbor"
      },
      "source": [
        "A = np.arange(10); A"
      ],
      "execution_count": null,
      "outputs": []
    },
    {
      "cell_type": "code",
      "metadata": {
        "id": "HqnGU7wCqbos"
      },
      "source": [
        "B = A[A > 5]"
      ],
      "execution_count": null,
      "outputs": []
    },
    {
      "cell_type": "code",
      "metadata": {
        "id": "7lO9NQfRqbos"
      },
      "source": [
        "B[0] = -1; A"
      ],
      "execution_count": null,
      "outputs": []
    },
    {
      "cell_type": "code",
      "metadata": {
        "id": "6VLDxe3_qbos"
      },
      "source": [
        "A[A > 5] = -1; A"
      ],
      "execution_count": null,
      "outputs": []
    },
    {
      "cell_type": "markdown",
      "metadata": {
        "id": "oRXuqoZ5qbot"
      },
      "source": [
        "### Summery"
      ]
    },
    {
      "cell_type": "markdown",
      "metadata": {
        "id": "TXF4a0Zjqbot"
      },
      "source": [
        "<table>\n",
        "<td><img src=\"https://github.com/SeoulTechPSE/EngNm/blob/master/figs/array_indexing_01.png?raw=1\"></td>\n",
        "<td><img src=\"https://github.com/SeoulTechPSE/EngNm/blob/master/figs/array_indexing_02.png?raw=1\"></td>\n",
        "<td><img src=\"https://github.com/SeoulTechPSE/EngNm/blob/master/figs/array_indexing_03.png?raw=1\"></td>\n",
        "<td><img src=\"https://github.com/SeoulTechPSE/EngNm/blob/master/figs/array_indexing_04.png?raw=1\"></td>\n",
        "</table>"
      ]
    },
    {
      "cell_type": "markdown",
      "metadata": {
        "id": "dTsFIGXfqbot"
      },
      "source": [
        "<table>\n",
        "<td><img src=\"https://github.com/SeoulTechPSE/EngNm/blob/master/figs/array_indexing_05.png?raw=1\"></td>\n",
        "<td><img src=\"https://github.com/SeoulTechPSE/EngNm/blob/master/figs/array_indexing_06.png?raw=1\"></td>\n",
        "<td><img src=\"https://github.com/SeoulTechPSE/EngNm/blob/master/figs/array_indexing_07.png?raw=1\"></td>\n",
        "<td><img src=\"https://github.com/SeoulTechPSE/EngNm/blob/master/figs/array_indexing_08.png?raw=1\"></td>\n",
        "</table>"
      ]
    },
    {
      "cell_type": "markdown",
      "metadata": {
        "id": "-VhqMEAAqbou"
      },
      "source": [
        "<table>\n",
        "<td><img src=\"https://github.com/SeoulTechPSE/EngNm/blob/master/figs/array_indexing_09.png?raw=1\"></td>\n",
        "<td><img src=\"https://github.com/SeoulTechPSE/EngNm/blob/master/figs/array_indexing_10.png?raw=1\"></td>\n",
        "<td><img src=\"https://github.com/SeoulTechPSE/EngNm/blob/master/figs/array_indexing_11.png?raw=1\"></td>\n",
        "<td><img src=\"https://github.com/SeoulTechPSE/EngNm/blob/master/figs/array_indexing_12.png?raw=1\"></td>\n",
        "</table>"
      ]
    },
    {
      "cell_type": "markdown",
      "metadata": {
        "id": "8eoIhX10qbou"
      },
      "source": [
        "##1.9 $~$ Reshaping and Resizing"
      ]
    },
    {
      "cell_type": "markdown",
      "metadata": {
        "id": "oeR3Qrs_qbou"
      },
      "source": [
        "Reshaping an array does not require modifying the underlying array data; it only changes in how the\n",
        "data is interpreted, by redefining the array’s `strides` attribute."
      ]
    },
    {
      "cell_type": "code",
      "metadata": {
        "id": "8B-ZmCMoqbov"
      },
      "source": [
        "data = np.array([[1, 2], [3, 4]]); data"
      ],
      "execution_count": null,
      "outputs": []
    },
    {
      "cell_type": "code",
      "metadata": {
        "id": "2DM0RBHEqbov"
      },
      "source": [
        "data1 = np.reshape(data, (1, 4)); data1"
      ],
      "execution_count": null,
      "outputs": []
    },
    {
      "cell_type": "code",
      "metadata": {
        "id": "gp_-PH2Kqbov"
      },
      "source": [
        "data1[0, 2] = -1; data"
      ],
      "execution_count": null,
      "outputs": []
    },
    {
      "cell_type": "code",
      "metadata": {
        "id": "UFAlnA6xqbow"
      },
      "source": [
        "data2 = data.reshape(4); data2"
      ],
      "execution_count": null,
      "outputs": []
    },
    {
      "cell_type": "code",
      "metadata": {
        "scrolled": true,
        "id": "mJh0gl0Aqbow"
      },
      "source": [
        "data2[2] = -2; data"
      ],
      "execution_count": null,
      "outputs": []
    },
    {
      "cell_type": "markdown",
      "metadata": {
        "id": "aV25ECCeqbow"
      },
      "source": [
        "---"
      ]
    },
    {
      "cell_type": "code",
      "metadata": {
        "id": "SZSzX_4Pqbox"
      },
      "source": [
        "data = np.array([[1, 2], [3, 4]]); data"
      ],
      "execution_count": null,
      "outputs": []
    },
    {
      "cell_type": "code",
      "metadata": {
        "id": "VqxyeVw4qbox"
      },
      "source": [
        "data1 = np.ravel(data); data1"
      ],
      "execution_count": null,
      "outputs": []
    },
    {
      "cell_type": "code",
      "metadata": {
        "id": "WNUt6ZKrqboy"
      },
      "source": [
        "data1[0] = -1; data"
      ],
      "execution_count": null,
      "outputs": []
    },
    {
      "cell_type": "markdown",
      "metadata": {
        "id": "myWTpIssqboy"
      },
      "source": [
        "The `ndarray` method `flatten` perform the same function, but\n",
        "returns a **copy** instead of a view."
      ]
    },
    {
      "cell_type": "code",
      "metadata": {
        "id": "P9W47AELqboy"
      },
      "source": [
        "data2 = data.flatten(); data2"
      ],
      "execution_count": null,
      "outputs": []
    },
    {
      "cell_type": "code",
      "metadata": {
        "id": "MUu_W2kDqboz"
      },
      "source": [
        "data2[0] = -2; data"
      ],
      "execution_count": null,
      "outputs": []
    },
    {
      "cell_type": "markdown",
      "metadata": {
        "id": "0IoX-NU9qboz"
      },
      "source": [
        "---"
      ]
    },
    {
      "cell_type": "code",
      "metadata": {
        "id": "21IWoBfCqboz"
      },
      "source": [
        "data = np.arange(0, 5); data.shape"
      ],
      "execution_count": null,
      "outputs": []
    },
    {
      "cell_type": "code",
      "metadata": {
        "id": "t9PZeiHGqbo0"
      },
      "source": [
        "column = data[:, np.newaxis]; column"
      ],
      "execution_count": null,
      "outputs": []
    },
    {
      "cell_type": "code",
      "metadata": {
        "id": "KBDfefdfqbo0"
      },
      "source": [
        "column.shape"
      ],
      "execution_count": null,
      "outputs": []
    },
    {
      "cell_type": "code",
      "metadata": {
        "id": "SGwlzxMAqbo1"
      },
      "source": [
        "row = data[np.newaxis, :]; row"
      ],
      "execution_count": null,
      "outputs": []
    },
    {
      "cell_type": "code",
      "metadata": {
        "id": "-X07zNsgqbo1"
      },
      "source": [
        "row.shape"
      ],
      "execution_count": null,
      "outputs": []
    },
    {
      "cell_type": "code",
      "metadata": {
        "id": "kkEDCVA3qbo2"
      },
      "source": [
        "row[0, 0] = -1; data"
      ],
      "execution_count": null,
      "outputs": []
    },
    {
      "cell_type": "code",
      "metadata": {
        "id": "fAGiv0Jjqbo2"
      },
      "source": [
        "np.expand_dims(data, axis=1)"
      ],
      "execution_count": null,
      "outputs": []
    },
    {
      "cell_type": "code",
      "metadata": {
        "id": "EPaWux4rqbo3"
      },
      "source": [
        "np.expand_dims(data, axis=0)"
      ],
      "execution_count": null,
      "outputs": []
    },
    {
      "cell_type": "markdown",
      "metadata": {
        "id": "06TXlZEQqbo3"
      },
      "source": [
        "---"
      ]
    },
    {
      "cell_type": "code",
      "metadata": {
        "id": "j4VIEkNCqbo3"
      },
      "source": [
        "data = np.arange(5); data"
      ],
      "execution_count": null,
      "outputs": []
    },
    {
      "cell_type": "code",
      "metadata": {
        "id": "sLUxJl2yqbo4"
      },
      "source": [
        "np.vstack((data, data, data))"
      ],
      "execution_count": null,
      "outputs": []
    },
    {
      "cell_type": "code",
      "metadata": {
        "id": "3Q5Wg9oeqbo4"
      },
      "source": [
        "np.hstack((data, data, data))"
      ],
      "execution_count": null,
      "outputs": []
    },
    {
      "cell_type": "code",
      "metadata": {
        "id": "j7J2fLwxqbo4"
      },
      "source": [
        "data = data[:, np.newaxis]; data.shape"
      ],
      "execution_count": null,
      "outputs": []
    },
    {
      "cell_type": "code",
      "metadata": {
        "id": "OD_HauHGqbo5"
      },
      "source": [
        "np.hstack((data, data, data))"
      ],
      "execution_count": null,
      "outputs": []
    },
    {
      "cell_type": "code",
      "metadata": {
        "id": "ydNVEi2Qqbo5"
      },
      "source": [
        "data1 = np.array([[1, 2], [3, 4]]); data1"
      ],
      "execution_count": null,
      "outputs": []
    },
    {
      "cell_type": "code",
      "metadata": {
        "id": "7qGMNPUsqbo6"
      },
      "source": [
        "data2 = np.array([[5, 6]]); data2"
      ],
      "execution_count": null,
      "outputs": []
    },
    {
      "cell_type": "code",
      "metadata": {
        "id": "iXvMTX4gqbo6"
      },
      "source": [
        "np.concatenate((data1, data2), axis=0)"
      ],
      "execution_count": null,
      "outputs": []
    },
    {
      "cell_type": "code",
      "metadata": {
        "id": "JG7Qmrcqqbo6"
      },
      "source": [
        "np.concatenate((data1, data2.T), axis=1)"
      ],
      "execution_count": null,
      "outputs": []
    },
    {
      "cell_type": "markdown",
      "metadata": {
        "id": "DZouA9Tjqbo7"
      },
      "source": [
        "##1.10 $~$ Vectorized Expressions"
      ]
    },
    {
      "cell_type": "markdown",
      "metadata": {
        "id": "InrUF11mqbo7"
      },
      "source": [
        "### Arithmetic operations"
      ]
    },
    {
      "cell_type": "code",
      "metadata": {
        "id": "U-qmrO1iqbo7"
      },
      "source": [
        "x = np.array([[1, 2], [3, 4]])\n",
        "y = np.array([[5, 6], [7, 8]])"
      ],
      "execution_count": null,
      "outputs": []
    },
    {
      "cell_type": "code",
      "metadata": {
        "id": "VDxN7f1mqbo8"
      },
      "source": [
        "x + y"
      ],
      "execution_count": null,
      "outputs": []
    },
    {
      "cell_type": "code",
      "metadata": {
        "id": "w3zf9_JFqbo8"
      },
      "source": [
        "y - x"
      ],
      "execution_count": null,
      "outputs": []
    },
    {
      "cell_type": "code",
      "metadata": {
        "id": "eAm3kRktqbo8"
      },
      "source": [
        "x * y"
      ],
      "execution_count": null,
      "outputs": []
    },
    {
      "cell_type": "code",
      "metadata": {
        "id": "tI8c5agNqbo9"
      },
      "source": [
        "y / x"
      ],
      "execution_count": null,
      "outputs": []
    },
    {
      "cell_type": "markdown",
      "metadata": {
        "id": "t1H1b0Gaqbo9"
      },
      "source": [
        "---"
      ]
    },
    {
      "cell_type": "code",
      "metadata": {
        "id": "sLfco6vUqbo9"
      },
      "source": [
        "x * 2"
      ],
      "execution_count": null,
      "outputs": []
    },
    {
      "cell_type": "code",
      "metadata": {
        "id": "_jAA14PBqbo-"
      },
      "source": [
        "2**x"
      ],
      "execution_count": null,
      "outputs": []
    },
    {
      "cell_type": "code",
      "metadata": {
        "id": "V7fpOsCJqbo-"
      },
      "source": [
        "y / 2"
      ],
      "execution_count": null,
      "outputs": []
    },
    {
      "cell_type": "code",
      "metadata": {
        "id": "Wlfsm6U1qbo_"
      },
      "source": [
        "(y / 2).dtype"
      ],
      "execution_count": null,
      "outputs": []
    },
    {
      "cell_type": "markdown",
      "metadata": {
        "id": "FOtpTdvmqbo_"
      },
      "source": [
        "---"
      ]
    },
    {
      "cell_type": "markdown",
      "metadata": {
        "id": "B6H-R4xSqbo_"
      },
      "source": [
        "<table>\n",
        "<td><img src=\"https://github.com/SeoulTechPSE/EngNm/blob/master/figs/array_broadcasting_1.png?raw=1\"></td>\n",
        "</table>"
      ]
    },
    {
      "cell_type": "markdown",
      "metadata": {
        "id": "_2nPc18tqbpA"
      },
      "source": [
        "<table>\n",
        "<td><img src=\"https://github.com/SeoulTechPSE/EngNm/blob/master/figs/array_broadcasting_2.png?raw=1\"></td>\n",
        "</table>"
      ]
    },
    {
      "cell_type": "code",
      "metadata": {
        "id": "WIWzFhhtqbpA"
      },
      "source": [
        "x = np.array([1, 2, 3, 4]).reshape(2, 2)\n",
        "y = np.array([1, 2, 3, 4])\n",
        "x / y"
      ],
      "execution_count": null,
      "outputs": []
    },
    {
      "cell_type": "code",
      "metadata": {
        "id": "wh01m55yqbpB"
      },
      "source": [
        "z = np.array([[2, 4]]); z.shape"
      ],
      "execution_count": null,
      "outputs": []
    },
    {
      "cell_type": "code",
      "metadata": {
        "id": "92Bwz3LWqbpB"
      },
      "source": [
        "x / z"
      ],
      "execution_count": null,
      "outputs": []
    },
    {
      "cell_type": "code",
      "metadata": {
        "id": "cegFxpV0qbpB"
      },
      "source": [
        "zz = np.vstack((z, z)); zz"
      ],
      "execution_count": null,
      "outputs": []
    },
    {
      "cell_type": "code",
      "metadata": {
        "id": "Xk7mCMvxqbpC"
      },
      "source": [
        "x / zz"
      ],
      "execution_count": null,
      "outputs": []
    },
    {
      "cell_type": "markdown",
      "metadata": {
        "id": "9II_jLbmqbpC"
      },
      "source": [
        "---"
      ]
    },
    {
      "cell_type": "code",
      "metadata": {
        "id": "VwDjVBW2qbpD"
      },
      "source": [
        "z = np.array([[2], [4]]); z.shape"
      ],
      "execution_count": null,
      "outputs": []
    },
    {
      "cell_type": "code",
      "metadata": {
        "id": "aUlnEcHgqbpD"
      },
      "source": [
        "x / z"
      ],
      "execution_count": null,
      "outputs": []
    },
    {
      "cell_type": "code",
      "metadata": {
        "id": "yZ_cFwelqbpE"
      },
      "source": [
        "zz = np.concatenate([z, z], axis=1); zz"
      ],
      "execution_count": null,
      "outputs": []
    },
    {
      "cell_type": "code",
      "metadata": {
        "id": "Ns_i-na0qbpE"
      },
      "source": [
        "x / zz"
      ],
      "execution_count": null,
      "outputs": []
    },
    {
      "cell_type": "markdown",
      "metadata": {
        "id": "2bGtIYtBqbpF"
      },
      "source": [
        "---"
      ]
    },
    {
      "cell_type": "code",
      "metadata": {
        "id": "WwzFXyjSqbpF"
      },
      "source": [
        "x = np.array([1, 2, 3, 4])\n",
        "y = np.array([5, 6, 7, 8])\n",
        "x = x + y  # x is reassigned to a new array\n",
        "x"
      ],
      "execution_count": null,
      "outputs": []
    },
    {
      "cell_type": "code",
      "metadata": {
        "id": "59RmQUSsqbpG"
      },
      "source": [
        "x = np.array([1, 2, 3, 4])\n",
        "y = np.array([5, 6, 7, 8])\n",
        "x += y  # the values of array x are updated in place\n",
        "x"
      ],
      "execution_count": null,
      "outputs": []
    },
    {
      "cell_type": "markdown",
      "metadata": {
        "id": "SH3QXPX-qbpG"
      },
      "source": [
        "### Elementwise functions"
      ]
    },
    {
      "cell_type": "code",
      "metadata": {
        "id": "aUWAk5_qqbpG"
      },
      "source": [
        "x = np.linspace(0, 2 *np.pi, 5); x"
      ],
      "execution_count": null,
      "outputs": []
    },
    {
      "cell_type": "code",
      "metadata": {
        "id": "V21qEvl9qbpI"
      },
      "source": [
        "y = np.sin(x); y"
      ],
      "execution_count": null,
      "outputs": []
    },
    {
      "cell_type": "code",
      "metadata": {
        "id": "FAYkWhZsqbpI"
      },
      "source": [
        "np.round(y, decimals=4)"
      ],
      "execution_count": null,
      "outputs": []
    },
    {
      "cell_type": "code",
      "metadata": {
        "id": "eRxGmhsyqbpJ"
      },
      "source": [
        "np.add(np.sin(x)**2, np.cos(x)**2)"
      ],
      "execution_count": null,
      "outputs": []
    },
    {
      "cell_type": "code",
      "metadata": {
        "id": "36sKLDhuqbpJ"
      },
      "source": [
        "np.sin(x)**2 + np.cos(x)**2"
      ],
      "execution_count": null,
      "outputs": []
    },
    {
      "cell_type": "markdown",
      "metadata": {
        "id": "8TpOnxCSqbpJ"
      },
      "source": [
        "---"
      ]
    },
    {
      "cell_type": "code",
      "metadata": {
        "id": "AUNAq8_BqbpK"
      },
      "source": [
        "def heaviside(x):\n",
        "    return 1 if x > 0 else 0"
      ],
      "execution_count": null,
      "outputs": []
    },
    {
      "cell_type": "code",
      "metadata": {
        "id": "uE6KHKd9qbpK"
      },
      "source": [
        "heaviside(-1)"
      ],
      "execution_count": null,
      "outputs": []
    },
    {
      "cell_type": "code",
      "metadata": {
        "id": "lLAIWgnlqbpK"
      },
      "source": [
        "heaviside(1.5)"
      ],
      "execution_count": null,
      "outputs": []
    },
    {
      "cell_type": "code",
      "metadata": {
        "id": "o7mc-S6HqbpL"
      },
      "source": [
        "x = np.linspace(-5, 5, 11)\n",
        "heaviside(x)"
      ],
      "execution_count": null,
      "outputs": []
    },
    {
      "cell_type": "code",
      "metadata": {
        "id": "PsJn09a_qbpL"
      },
      "source": [
        "heaviside = np.vectorize(heaviside)\n",
        "heaviside(x)"
      ],
      "execution_count": null,
      "outputs": []
    },
    {
      "cell_type": "code",
      "metadata": {
        "id": "NEf4u1-1qbpL"
      },
      "source": [
        "def heaviside(x):  # much better way\n",
        "    return 1 * (x > 0)\n",
        "\n",
        "heaviside(x)"
      ],
      "execution_count": null,
      "outputs": []
    },
    {
      "cell_type": "markdown",
      "metadata": {
        "id": "YfG0ZdWcqbpM"
      },
      "source": [
        "### Aggregate functions"
      ]
    },
    {
      "cell_type": "code",
      "metadata": {
        "id": "JWJgTKCqqbpM"
      },
      "source": [
        "data = np.random.normal(size=(5, 5)); data"
      ],
      "execution_count": null,
      "outputs": []
    },
    {
      "cell_type": "code",
      "metadata": {
        "id": "GDwFWVddqbpM"
      },
      "source": [
        "np.mean(data)"
      ],
      "execution_count": null,
      "outputs": []
    },
    {
      "cell_type": "code",
      "metadata": {
        "id": "z6SQjeX1qbpN"
      },
      "source": [
        "data.mean()"
      ],
      "execution_count": null,
      "outputs": []
    },
    {
      "cell_type": "markdown",
      "metadata": {
        "id": "IM202Z1BqbpN"
      },
      "source": [
        "---"
      ]
    },
    {
      "cell_type": "code",
      "metadata": {
        "id": "RWMqx4sRqbpN"
      },
      "source": [
        "data = np.random.normal(size=(2, 3, 4)); data"
      ],
      "execution_count": null,
      "outputs": []
    },
    {
      "cell_type": "code",
      "metadata": {
        "id": "tqRzCo2bqbpN"
      },
      "source": [
        "data.sum(axis=0).shape"
      ],
      "execution_count": null,
      "outputs": []
    },
    {
      "cell_type": "code",
      "metadata": {
        "id": "nc818KyHqbpO"
      },
      "source": [
        "data.sum(axis=(0, 2)).shape"
      ],
      "execution_count": null,
      "outputs": []
    },
    {
      "cell_type": "code",
      "metadata": {
        "id": "heF6R_euqbpO"
      },
      "source": [
        "data.sum()"
      ],
      "execution_count": null,
      "outputs": []
    },
    {
      "cell_type": "markdown",
      "metadata": {
        "id": "sXcMqp9XqbpO"
      },
      "source": [
        "---"
      ]
    },
    {
      "cell_type": "code",
      "metadata": {
        "id": "Rkd05Pl_qbpO"
      },
      "source": [
        "data = np.arange(1, 10).reshape(3, 3); data"
      ],
      "execution_count": null,
      "outputs": []
    },
    {
      "cell_type": "code",
      "metadata": {
        "id": "l2BOCtEgqbpO"
      },
      "source": [
        "data.sum()"
      ],
      "execution_count": null,
      "outputs": []
    },
    {
      "cell_type": "code",
      "metadata": {
        "id": "4P4SzrliqbpP"
      },
      "source": [
        "data.sum(axis=0)"
      ],
      "execution_count": null,
      "outputs": []
    },
    {
      "cell_type": "code",
      "metadata": {
        "id": "ph12AdrRqbpP"
      },
      "source": [
        "data.sum(axis=1)"
      ],
      "execution_count": null,
      "outputs": []
    },
    {
      "cell_type": "markdown",
      "metadata": {
        "id": "zzALsPOTqbpP"
      },
      "source": [
        "<table>\n",
        "<td><img src=\"https://github.com/SeoulTechPSE/EngNm/blob/master/figs/array_aggregation_1.png?raw=1\" width=\"300\"></td>\n",
        "<td><img src=\"https://github.com/SeoulTechPSE/EngNm/blob/master/figs/array_aggregation_2.png?raw=1\" width=\"300\"></td>\n",
        "<td><img src=\"https://github.com/SeoulTechPSE/EngNm/blob/master/figs/array_aggregation_3.png?raw=1\" width=\"300\"></td>\n",
        "</table>"
      ]
    },
    {
      "cell_type": "markdown",
      "metadata": {
        "id": "azRSD3snqbpP"
      },
      "source": [
        "### Boolean arrays and conditional expressions"
      ]
    },
    {
      "cell_type": "code",
      "metadata": {
        "id": "sms7toseqbpQ"
      },
      "source": [
        "a = np.array([1, 2, 3, 4])\n",
        "b = np.array([4, 3, 2, 1])"
      ],
      "execution_count": null,
      "outputs": []
    },
    {
      "cell_type": "code",
      "metadata": {
        "id": "sA45wSp5qbpQ"
      },
      "source": [
        "a < b"
      ],
      "execution_count": null,
      "outputs": []
    },
    {
      "cell_type": "markdown",
      "metadata": {
        "id": "ah9hBdPQqbpQ"
      },
      "source": [
        "---"
      ]
    },
    {
      "cell_type": "code",
      "metadata": {
        "id": "9nnELi7GqbpQ"
      },
      "source": [
        "np.all(a < b)"
      ],
      "execution_count": null,
      "outputs": []
    },
    {
      "cell_type": "code",
      "metadata": {
        "id": "--d6hD0KqbpR"
      },
      "source": [
        "np.any(a < b)"
      ],
      "execution_count": null,
      "outputs": []
    },
    {
      "cell_type": "markdown",
      "metadata": {
        "id": "8mOUsj5wqbpT"
      },
      "source": [
        "---"
      ]
    },
    {
      "cell_type": "code",
      "metadata": {
        "id": "QZzotaQHqbpU"
      },
      "source": [
        "x = np.array([-2, -1, 0, 1, 2]); x"
      ],
      "execution_count": null,
      "outputs": []
    },
    {
      "cell_type": "code",
      "metadata": {
        "id": "JT1vuJdVqbpV"
      },
      "source": [
        "x > 0"
      ],
      "execution_count": null,
      "outputs": []
    },
    {
      "cell_type": "code",
      "metadata": {
        "id": "ReNJ2o7sqbpV"
      },
      "source": [
        "1 * (x > 0)"
      ],
      "execution_count": null,
      "outputs": []
    },
    {
      "cell_type": "code",
      "metadata": {
        "id": "sStaJsvAqbpV"
      },
      "source": [
        "x * (x > 0)"
      ],
      "execution_count": null,
      "outputs": []
    },
    {
      "cell_type": "markdown",
      "metadata": {
        "id": "puD4YHECqbpW"
      },
      "source": [
        "---"
      ]
    },
    {
      "cell_type": "code",
      "metadata": {
        "id": "yai2IDpMqbpW"
      },
      "source": [
        "def pulse(x, position, width, height):\n",
        "    return height * (x >= position) * (x <= (position + width))\n",
        "\n",
        "#   return height *np.logical_and(x >= position, x <= (position + width))                                       "
      ],
      "execution_count": null,
      "outputs": []
    },
    {
      "cell_type": "code",
      "metadata": {
        "id": "1sIwPUOrqbpW"
      },
      "source": [
        "x = np.linspace(-5, 5, 11); x"
      ],
      "execution_count": null,
      "outputs": []
    },
    {
      "cell_type": "code",
      "metadata": {
        "id": "jvIeEu9TqbpX"
      },
      "source": [
        "pulse(x, position=-2, width=5, height=1)"
      ],
      "execution_count": null,
      "outputs": []
    },
    {
      "cell_type": "code",
      "metadata": {
        "id": "a6l8CK8gqbpX"
      },
      "source": [
        "pulse(x, position=1, width=2, height=2)"
      ],
      "execution_count": null,
      "outputs": []
    },
    {
      "cell_type": "markdown",
      "metadata": {
        "id": "wjgrD00IqbpY"
      },
      "source": [
        "---"
      ]
    },
    {
      "cell_type": "code",
      "metadata": {
        "id": "ymXt8h9hqbpY"
      },
      "source": [
        "x = np.linspace(-5, 5, 11); x"
      ],
      "execution_count": null,
      "outputs": []
    },
    {
      "cell_type": "code",
      "metadata": {
        "id": "QIiJo5U-qbpY"
      },
      "source": [
        "np.where(x < 0, x**2, x**3)"
      ],
      "execution_count": null,
      "outputs": []
    },
    {
      "cell_type": "code",
      "metadata": {
        "id": "XjMD_FwMqbpY"
      },
      "source": [
        "np.select([x < -1, x < 2, x>= 2], [x**2, x**3, x**4])"
      ],
      "execution_count": null,
      "outputs": []
    },
    {
      "cell_type": "code",
      "metadata": {
        "id": "AMYXwwCjqbpZ"
      },
      "source": [
        "np.choose([0, 0, 0, 0, 1, 1, 1, 2, 2, 2, 2], [x**2, x**3, x**4])"
      ],
      "execution_count": null,
      "outputs": []
    },
    {
      "cell_type": "markdown",
      "metadata": {
        "id": "bembDPYPqbpZ"
      },
      "source": [
        "---"
      ]
    },
    {
      "cell_type": "code",
      "metadata": {
        "id": "FnXqpbL9qbpZ"
      },
      "source": [
        "np.nonzero(abs(x) > 2)"
      ],
      "execution_count": null,
      "outputs": []
    },
    {
      "cell_type": "code",
      "metadata": {
        "id": "av5XFYq6qbpa"
      },
      "source": [
        "x[np.nonzero(abs(x) > 2)]"
      ],
      "execution_count": null,
      "outputs": []
    },
    {
      "cell_type": "code",
      "metadata": {
        "id": "lDJlKPAkqbpa"
      },
      "source": [
        "x[abs(x) > 2]"
      ],
      "execution_count": null,
      "outputs": []
    },
    {
      "cell_type": "markdown",
      "metadata": {
        "id": "H-smYDe-qbpa"
      },
      "source": [
        "### Set operations"
      ]
    },
    {
      "cell_type": "code",
      "metadata": {
        "id": "vVJSUH-cqbpb"
      },
      "source": [
        "a = np.unique([1, 2, 3, 3]); a"
      ],
      "execution_count": null,
      "outputs": []
    },
    {
      "cell_type": "code",
      "metadata": {
        "id": "h_Ot4sEQqbpb"
      },
      "source": [
        "b = np.unique([2, 3, 4, 4, 5, 6, 5]); b"
      ],
      "execution_count": null,
      "outputs": []
    },
    {
      "cell_type": "code",
      "metadata": {
        "id": "zA23iPXFqbpg"
      },
      "source": [
        "np.in1d(a, b)"
      ],
      "execution_count": null,
      "outputs": []
    },
    {
      "cell_type": "code",
      "metadata": {
        "id": "rI9n-0WIqbph"
      },
      "source": [
        "1 in a"
      ],
      "execution_count": null,
      "outputs": []
    },
    {
      "cell_type": "code",
      "metadata": {
        "id": "3pEIN7Rnqbph"
      },
      "source": [
        "1 in b"
      ],
      "execution_count": null,
      "outputs": []
    },
    {
      "cell_type": "code",
      "metadata": {
        "id": "8ebnvzfvqbpi"
      },
      "source": [
        "np.all(np.in1d(a, b))  # to test if a is a subset of b"
      ],
      "execution_count": null,
      "outputs": []
    },
    {
      "cell_type": "markdown",
      "metadata": {
        "id": "stPNkmhdqbpi"
      },
      "source": [
        "---"
      ]
    },
    {
      "cell_type": "code",
      "metadata": {
        "id": "x-C4BzEzqbpi"
      },
      "source": [
        "np.union1d(a, b)"
      ],
      "execution_count": null,
      "outputs": []
    },
    {
      "cell_type": "code",
      "metadata": {
        "id": "c78rowTkqbpi"
      },
      "source": [
        "np.intersect1d(a, b)"
      ],
      "execution_count": null,
      "outputs": []
    },
    {
      "cell_type": "code",
      "metadata": {
        "id": "6Ocv1k-_qbpj"
      },
      "source": [
        "np.setdiff1d(a, b)"
      ],
      "execution_count": null,
      "outputs": []
    },
    {
      "cell_type": "code",
      "metadata": {
        "id": "msq5DUbWqbpj"
      },
      "source": [
        "np.setdiff1d(b, a)"
      ],
      "execution_count": null,
      "outputs": []
    },
    {
      "cell_type": "markdown",
      "metadata": {
        "id": "FwnV30XTqbpj"
      },
      "source": [
        "### Operations on arrays"
      ]
    },
    {
      "cell_type": "code",
      "metadata": {
        "id": "kXHKsN70qbpj"
      },
      "source": [
        "data = np.arange(9).reshape(3, 3); data"
      ],
      "execution_count": null,
      "outputs": []
    },
    {
      "cell_type": "code",
      "metadata": {
        "id": "ug6CKoRgqbpk"
      },
      "source": [
        "np.transpose(data)"
      ],
      "execution_count": null,
      "outputs": []
    },
    {
      "cell_type": "markdown",
      "metadata": {
        "id": "vs3bzczaqbpk"
      },
      "source": [
        "---"
      ]
    },
    {
      "cell_type": "code",
      "metadata": {
        "id": "KYTIoEsEqbpk"
      },
      "source": [
        "data = np.random.randn(1, 2, 3, 4, 5)"
      ],
      "execution_count": null,
      "outputs": []
    },
    {
      "cell_type": "code",
      "metadata": {
        "id": "OmOv8svWqbpl"
      },
      "source": [
        "data.shape"
      ],
      "execution_count": null,
      "outputs": []
    },
    {
      "cell_type": "code",
      "metadata": {
        "id": "WHWrO9VBqbpl"
      },
      "source": [
        "data.T.shape"
      ],
      "execution_count": null,
      "outputs": []
    },
    {
      "cell_type": "markdown",
      "metadata": {
        "id": "JJUoARpGqbpl"
      },
      "source": [
        "##1.11 $~$ Matrix and vector operations"
      ]
    },
    {
      "cell_type": "code",
      "metadata": {
        "id": "h7JwuxYUqbpm"
      },
      "source": [
        "A = np.arange(1, 7).reshape(2, 3); A"
      ],
      "execution_count": null,
      "outputs": []
    },
    {
      "cell_type": "code",
      "metadata": {
        "id": "IzBjJahjqbpm"
      },
      "source": [
        "B = np.arange(1, 7).reshape(3, 2); B"
      ],
      "execution_count": null,
      "outputs": []
    },
    {
      "cell_type": "code",
      "metadata": {
        "id": "dXB4BPbTqbpm"
      },
      "source": [
        "np.dot(A, B)"
      ],
      "execution_count": null,
      "outputs": []
    },
    {
      "cell_type": "code",
      "metadata": {
        "id": "ikdeg6IZqbpm"
      },
      "source": [
        "np.dot(B, A)"
      ],
      "execution_count": null,
      "outputs": []
    },
    {
      "cell_type": "markdown",
      "metadata": {
        "id": "I3rHvtwMqbpn"
      },
      "source": [
        "---"
      ]
    },
    {
      "cell_type": "code",
      "metadata": {
        "id": "Oox-oWMwqbpn"
      },
      "source": [
        "A = np.arange(9).reshape(3, 3); A"
      ],
      "execution_count": null,
      "outputs": []
    },
    {
      "cell_type": "code",
      "metadata": {
        "id": "UrWtBIzdqbpn"
      },
      "source": [
        "x = np.arange(3); x"
      ],
      "execution_count": null,
      "outputs": []
    },
    {
      "cell_type": "code",
      "metadata": {
        "id": "Q-5gUv4qqbpn"
      },
      "source": [
        "np.dot(A, x)"
      ],
      "execution_count": null,
      "outputs": []
    },
    {
      "cell_type": "code",
      "metadata": {
        "id": "VDU63r8zqbpo"
      },
      "source": [
        "A.dot(x)"
      ],
      "execution_count": null,
      "outputs": []
    },
    {
      "cell_type": "markdown",
      "metadata": {
        "id": "-dA3P6o5qbpo"
      },
      "source": [
        "---"
      ]
    },
    {
      "cell_type": "code",
      "metadata": {
        "id": "Qn8mcBcGqbpp"
      },
      "source": [
        "A = np.random.rand(3, 3)\n",
        "B = np.random.rand(3, 3)"
      ],
      "execution_count": null,
      "outputs": []
    },
    {
      "cell_type": "code",
      "metadata": {
        "id": "7Mzvp19yqbpp"
      },
      "source": [
        "Ap = np.dot(B, np.dot(A, np.linalg.inv(B)))"
      ],
      "execution_count": null,
      "outputs": []
    },
    {
      "cell_type": "code",
      "metadata": {
        "id": "fpLqbCNUqbpq"
      },
      "source": [
        "Ap = B.dot(A.dot(np.linalg.inv(B)))"
      ],
      "execution_count": null,
      "outputs": []
    },
    {
      "cell_type": "markdown",
      "metadata": {
        "id": "yMY8lNlNqbpq"
      },
      "source": [
        "---"
      ]
    },
    {
      "cell_type": "code",
      "metadata": {
        "id": "jlkIyi1bqbpq"
      },
      "source": [
        "A1 = np.matrix(A)\n",
        "B1 = np.matrix(B)"
      ],
      "execution_count": null,
      "outputs": []
    },
    {
      "cell_type": "code",
      "metadata": {
        "id": "f97KQQpyqbpr"
      },
      "source": [
        "Ap = B1 * A1 * B1.I"
      ],
      "execution_count": null,
      "outputs": []
    },
    {
      "cell_type": "markdown",
      "metadata": {
        "id": "yihRxgIrqbpr"
      },
      "source": [
        "or"
      ]
    },
    {
      "cell_type": "code",
      "metadata": {
        "id": "3xVjIqQeqbpr"
      },
      "source": [
        "A2 = np.asmatrix(A)\n",
        "B2 = np.asmatrix(B)"
      ],
      "execution_count": null,
      "outputs": []
    },
    {
      "cell_type": "code",
      "metadata": {
        "id": "9VthODd5qbpr"
      },
      "source": [
        "Ap = B2 * A2 * B2.I"
      ],
      "execution_count": null,
      "outputs": []
    },
    {
      "cell_type": "code",
      "metadata": {
        "id": "suqVL-Hvqbps"
      },
      "source": [
        "Ap = np.asarray(Ap)"
      ],
      "execution_count": null,
      "outputs": []
    },
    {
      "cell_type": "markdown",
      "metadata": {
        "id": "OFRt9a8Eqbps"
      },
      "source": [
        "---"
      ]
    },
    {
      "cell_type": "code",
      "metadata": {
        "id": "ATqxHmiLqbps"
      },
      "source": [
        "np.inner(x, x)"
      ],
      "execution_count": null,
      "outputs": []
    },
    {
      "cell_type": "code",
      "metadata": {
        "id": "2uyQI0ufqbps"
      },
      "source": [
        "np.dot(x, x)"
      ],
      "execution_count": null,
      "outputs": []
    },
    {
      "cell_type": "code",
      "metadata": {
        "id": "DYeyN6rOqbpt"
      },
      "source": [
        "y = x[:, np.newaxis]; y"
      ],
      "execution_count": null,
      "outputs": []
    },
    {
      "cell_type": "code",
      "metadata": {
        "id": "ci79qBl4qbpt"
      },
      "source": [
        "np.dot(y.T, y)"
      ],
      "execution_count": null,
      "outputs": []
    },
    {
      "cell_type": "markdown",
      "metadata": {
        "id": "Q7J0b98mqbpu"
      },
      "source": [
        "---"
      ]
    },
    {
      "cell_type": "code",
      "metadata": {
        "id": "Pr8m22obqbpu"
      },
      "source": [
        "x = np.array([1, 2, 3])"
      ],
      "execution_count": null,
      "outputs": []
    },
    {
      "cell_type": "code",
      "metadata": {
        "id": "ZsDesl1iqbpu"
      },
      "source": [
        "np.outer(x, x)"
      ],
      "execution_count": null,
      "outputs": []
    },
    {
      "cell_type": "code",
      "metadata": {
        "id": "opQWTR8Kqbpu"
      },
      "source": [
        "np.kron(x, x)"
      ],
      "execution_count": null,
      "outputs": []
    },
    {
      "cell_type": "code",
      "metadata": {
        "id": "CLd2Z7-Hqbpv"
      },
      "source": [
        "np.kron(x[:, np.newaxis], x[np.newaxis, :])"
      ],
      "execution_count": null,
      "outputs": []
    },
    {
      "cell_type": "code",
      "metadata": {
        "id": "trFTGEp-qbpv"
      },
      "source": [
        "np.kron(np.ones((2, 2)), np.identity(2))"
      ],
      "execution_count": null,
      "outputs": []
    },
    {
      "cell_type": "code",
      "metadata": {
        "id": "SgLtGJ-eqbpw"
      },
      "source": [
        "np.kron(np.identity(2), np.ones((2, 2)))"
      ],
      "execution_count": null,
      "outputs": []
    },
    {
      "cell_type": "markdown",
      "metadata": {
        "id": "J9dIBbLyqbpw"
      },
      "source": [
        "---"
      ]
    },
    {
      "cell_type": "code",
      "metadata": {
        "id": "wrFuP7ksqbpx"
      },
      "source": [
        "x = np.array([1, 2, 3, 4])\n",
        "y = np.array([5, 6, 7, 8])"
      ],
      "execution_count": null,
      "outputs": []
    },
    {
      "cell_type": "code",
      "metadata": {
        "id": "6qO3Faijqbpx"
      },
      "source": [
        "np.einsum(\"n,n\", x, y)"
      ],
      "execution_count": null,
      "outputs": []
    },
    {
      "cell_type": "code",
      "metadata": {
        "id": "wbPMhuRBqbpx"
      },
      "source": [
        "np.inner(x, y)"
      ],
      "execution_count": null,
      "outputs": []
    },
    {
      "cell_type": "code",
      "metadata": {
        "id": "XFa3bwwUqbp0"
      },
      "source": [
        "A = np.arange(9).reshape(3, 3)\n",
        "B = A.T"
      ],
      "execution_count": null,
      "outputs": []
    },
    {
      "cell_type": "code",
      "metadata": {
        "id": "KjRoGXc2qbp0"
      },
      "source": [
        "np.einsum(\"mk,kn\", A, B)"
      ],
      "execution_count": null,
      "outputs": []
    },
    {
      "cell_type": "code",
      "metadata": {
        "id": "WcIaJYkzqbp0"
      },
      "source": [
        "np.alltrue(np.einsum(\"mk,kn\", A, B) == np.dot(A, B))"
      ],
      "execution_count": null,
      "outputs": []
    },
    {
      "cell_type": "markdown",
      "metadata": {
        "id": "S0hDoL-cqbp1"
      },
      "source": [
        "## Versions"
      ]
    },
    {
      "cell_type": "code",
      "metadata": {
        "id": "juWfyvDjqbp1"
      },
      "source": [
        "print(\"numpy: \", np.__version__)"
      ],
      "execution_count": null,
      "outputs": []
    }
  ]
}