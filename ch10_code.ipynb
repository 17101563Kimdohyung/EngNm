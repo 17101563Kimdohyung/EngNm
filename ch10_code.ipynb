{
 "cells": [
  {
   "cell_type": "markdown",
   "metadata": {
    "slideshow": {
     "slide_type": "skip"
    }
   },
   "source": [
    " [![Open In Colab](https://colab.research.google.com/assets/colab-badge.svg)](https://colab.research.google.com/github/SeoulTechPSE/EngNm/blob/master/ch10_code.ipynb)"
   ]
  },
  {
   "cell_type": "markdown",
   "metadata": {
    "slideshow": {
     "slide_type": "slide"
    }
   },
   "source": [
    "# Chapter 10: Sparse matrices and graphs"
   ]
  },
  {
   "cell_type": "markdown",
   "metadata": {
    "slideshow": {
     "slide_type": "fragment"
    }
   },
   "source": [
    "Creator: Robert Johansson, Updator: Kee-Youn Yoo\n",
    "\n",
    "Updated source code listings for Numerical Python - A Practical Techniques Approach for Industry \n",
    "<p>(ISBN 978-1-484205-54-9)."
   ]
  },
  {
   "cell_type": "markdown",
   "metadata": {
    "slideshow": {
     "slide_type": "subslide"
    }
   },
   "source": [
    "For matrices that are dominated by zero elements, it is inefficient to store all the zeros in the computer's memory, and it is more suitable to store only the nonzero values with additional information about their locations. For non-sparse matrices, known as dense matrices, such a representation is less efficient than storing all values consecutively in the memory, but for large *sparse* matrices it can be vastly superior"
   ]
  },
  {
   "cell_type": "markdown",
   "metadata": {
    "slideshow": {
     "slide_type": "fragment"
    }
   },
   "source": [
    "There are several options for working with sparse matrices in Python. Here we mainly focus on the sparse\n",
    "matrix module in Scipy, [`scipy.sparse`](https://docs.scipy.org/doc/scipy/reference/sparse.html), which provides an easy-to-use interface for representing sparse matrices and carrying out linear algebra operations on such objects. Toward the end of the chapter, we also briefly explore representing and processing graphs, using the Scipy [`sparse.csgraph`](https://docs.scipy.org/doc/scipy/reference/sparse.csgraph.html) module and [the NetworkX library](https://networkx.github.io/). Graphs can be represented as adjacency matrices, which in many applications are very sparse. Graphs and sparse matrices are therefore closely connected topics"
   ]
  },
  {
   "cell_type": "markdown",
   "metadata": {
    "slideshow": {
     "slide_type": "slide"
    }
   },
   "source": [
    "## Importing modules"
   ]
  },
  {
   "cell_type": "code",
   "execution_count": 1,
   "metadata": {
    "slideshow": {
     "slide_type": "fragment"
    }
   },
   "outputs": [],
   "source": [
    "import matplotlib.pyplot as plt\n",
    "import matplotlib as mpl\n",
    "\n",
    "import numpy as np\n",
    "import scipy.linalg as la\n",
    "\n",
    "import scipy.sparse as sp\n",
    "import scipy.sparse.linalg\n",
    "\n",
    "import networkx as nx"
   ]
  },
  {
   "cell_type": "markdown",
   "metadata": {
    "slideshow": {
     "slide_type": "slide"
    }
   },
   "source": [
    "## Sparse matrices in scipy"
   ]
  },
  {
   "cell_type": "markdown",
   "metadata": {
    "slideshow": {
     "slide_type": "fragment"
    }
   },
   "source": [
    "The basic idea of sparse matrix representation is to avoid storing the excessive amount of zeros in a\n",
    "sparse matrix. If we store only the nonzero elements, we clearly also need to store the row and column indices for each element. There are numerous approaches to organizing the storage of the nonzero elements and their corresponding row and column indices"
   ]
  },
  {
   "cell_type": "markdown",
   "metadata": {
    "slideshow": {
     "slide_type": "subslide"
    }
   },
   "source": [
    "The class [`sp.coo_matrix`](https://docs.scipy.org/doc/scipy/reference/generated/scipy.sparse.coo_matrix.html) is used to represent sparse matrices in the coordinate list format. This format is particularly easy to initialize. For instance, with the matrix,\n",
    "\n",
    "\\begin{bmatrix}\n",
    "0 & 1 & 0 & 0\\\\ \n",
    "0 & 0 & 0 & 2\\\\ \n",
    "0 & 0 & 3 & 0\\\\ \n",
    "4 & 0 & 0 & 0\n",
    "\\end{bmatrix}\n",
    "\n",
    "we can easily identify the nonzero values $[A_{01}=1,\\,A_{13}=2,\\,A_{22}=3,\\,A_{30}=4]$ and their corresponding rows $[0, 1, 2, 3]$ and columns $[1, 3, 2, 0]$ (note that here we have used Python’s zero-based indexing)"
   ]
  },
  {
   "cell_type": "code",
   "execution_count": 2,
   "metadata": {
    "slideshow": {
     "slide_type": "fragment"
    }
   },
   "outputs": [
    {
     "data": {
      "text/plain": [
       "<4x4 sparse matrix of type '<class 'numpy.int32'>'\n",
       "\twith 4 stored elements in COOrdinate format>"
      ]
     },
     "execution_count": 2,
     "metadata": {},
     "output_type": "execute_result"
    }
   ],
   "source": [
    "values = [1, 2, 3, 4]\n",
    "\n",
    "rows = [0, 1, 2, 3]\n",
    "cols = [1, 3, 2, 0]\n",
    "\n",
    "A = sp.coo_matrix((values, (rows, cols)), shape=[4, 4]); A"
   ]
  },
  {
   "cell_type": "markdown",
   "metadata": {
    "slideshow": {
     "slide_type": "subslide"
    }
   },
   "source": [
    "The result is a data structure that represents the sparse matrix. All sparse matrix representations in\n",
    "Scipy's `sparse` module share several common attributes. Examples of such attributes are `shape`, `size`,`dtype`, and `ndim`, and common to all sparse matrix representations are the `nnz` (number of nonzero elements) and `data` (the nonzero values) attributes:"
   ]
  },
  {
   "cell_type": "code",
   "execution_count": 3,
   "metadata": {
    "slideshow": {
     "slide_type": "fragment"
    }
   },
   "outputs": [
    {
     "data": {
      "text/plain": [
       "((4, 4), 4, dtype('int32'), 2)"
      ]
     },
     "execution_count": 3,
     "metadata": {},
     "output_type": "execute_result"
    }
   ],
   "source": [
    "A.shape, A.size, A.dtype, A.ndim"
   ]
  },
  {
   "cell_type": "code",
   "execution_count": 4,
   "metadata": {
    "slideshow": {
     "slide_type": "fragment"
    }
   },
   "outputs": [
    {
     "data": {
      "text/plain": [
       "(4, array([1, 2, 3, 4]))"
      ]
     },
     "execution_count": 4,
     "metadata": {},
     "output_type": "execute_result"
    }
   ],
   "source": [
    "A.nnz, A.data"
   ]
  },
  {
   "cell_type": "code",
   "execution_count": 5,
   "metadata": {
    "slideshow": {
     "slide_type": "fragment"
    }
   },
   "outputs": [
    {
     "data": {
      "text/plain": [
       "(array([0, 1, 2, 3], dtype=int32), array([1, 3, 2, 0], dtype=int32))"
      ]
     },
     "execution_count": 5,
     "metadata": {},
     "output_type": "execute_result"
    }
   ],
   "source": [
    "A.row, A.col"
   ]
  },
  {
   "cell_type": "markdown",
   "metadata": {
    "slideshow": {
     "slide_type": "subslide"
    }
   },
   "source": [
    "There are also a large number of methods available for operating on sparse matrix objects. Many of\n",
    "these methods are for applying mathematical functions on the matrix. For example, element-wise math\n",
    "methods like `sin`, `cos`, `arcsin`, etc., aggregation methods like `min`, `max`, `sum`, etc., mathematical array operators such as conjugate (`conj`) and transpose (`transpose`), etc., and `dot` for computing the dot product between sparse matrices or a sparse matrix and a dense vector"
   ]
  },
  {
   "cell_type": "markdown",
   "metadata": {
    "slideshow": {
     "slide_type": "subslide"
    }
   },
   "source": [
    "Another important family of methods is used to convert sparse matrices\n",
    "between different formats: For example `tocoo`, `tocsr`, `tolil`, etc. There are also the methods for converting a sparse matrix to Numpy `ndarray` and Numpy `matrix` objects (that is, dense matrix representations): `toarray` and `todense`, respectively"
   ]
  },
  {
   "cell_type": "code",
   "execution_count": 6,
   "metadata": {
    "slideshow": {
     "slide_type": "fragment"
    }
   },
   "outputs": [
    {
     "data": {
      "text/plain": [
       "<4x4 sparse matrix of type '<class 'numpy.intc'>'\n",
       "\twith 4 stored elements in Compressed Sparse Row format>"
      ]
     },
     "execution_count": 6,
     "metadata": {},
     "output_type": "execute_result"
    }
   ],
   "source": [
    "A.tocsr()"
   ]
  },
  {
   "cell_type": "code",
   "execution_count": 7,
   "metadata": {
    "slideshow": {
     "slide_type": "fragment"
    }
   },
   "outputs": [
    {
     "data": {
      "text/plain": [
       "array([[0, 1, 0, 0],\n",
       "       [0, 0, 0, 2],\n",
       "       [0, 0, 3, 0],\n",
       "       [4, 0, 0, 0]])"
      ]
     },
     "execution_count": 7,
     "metadata": {},
     "output_type": "execute_result"
    }
   ],
   "source": [
    "A.toarray()"
   ]
  },
  {
   "cell_type": "code",
   "execution_count": 8,
   "metadata": {
    "slideshow": {
     "slide_type": "fragment"
    }
   },
   "outputs": [
    {
     "data": {
      "text/plain": [
       "matrix([[0, 1, 0, 0],\n",
       "        [0, 0, 0, 2],\n",
       "        [0, 0, 3, 0],\n",
       "        [4, 0, 0, 0]])"
      ]
     },
     "execution_count": 8,
     "metadata": {},
     "output_type": "execute_result"
    }
   ],
   "source": [
    "A.todense()"
   ]
  },
  {
   "cell_type": "markdown",
   "metadata": {
    "slideshow": {
     "slide_type": "subslide"
    }
   },
   "source": [
    "The obvious way to access elements in a matrix, which we have used in numerous different contexts so\n",
    "far, is using the indexing syntax, for example `A[1,2]`, as well as the slicing syntax, for example `A[1:3,2]`, and so on. We can often use this syntax with sparse matrices too, but not all representations support indexing and slicing, and if it is supported, it may not be an efficient operation"
   ]
  },
  {
   "cell_type": "code",
   "execution_count": 9,
   "metadata": {
    "slideshow": {
     "slide_type": "fragment"
    }
   },
   "outputs": [
    {
     "ename": "TypeError",
     "evalue": "'coo_matrix' object is not subscriptable",
     "output_type": "error",
     "traceback": [
      "\u001b[1;31m---------------------------------------------------------------------------\u001b[0m",
      "\u001b[1;31mTypeError\u001b[0m                                 Traceback (most recent call last)",
      "\u001b[1;32m<ipython-input-9-1bd8ebb01559>\u001b[0m in \u001b[0;36m<module>\u001b[1;34m\u001b[0m\n\u001b[1;32m----> 1\u001b[1;33m \u001b[0mA\u001b[0m\u001b[1;33m[\u001b[0m\u001b[1;36m0\u001b[0m\u001b[1;33m,\u001b[0m\u001b[1;36m1\u001b[0m\u001b[1;33m]\u001b[0m\u001b[1;33m\u001b[0m\u001b[1;33m\u001b[0m\u001b[0m\n\u001b[0m",
      "\u001b[1;31mTypeError\u001b[0m: 'coo_matrix' object is not subscriptable"
     ]
    }
   ],
   "source": [
    "A[0,1]"
   ]
  },
  {
   "cell_type": "code",
   "execution_count": 10,
   "metadata": {
    "slideshow": {
     "slide_type": "fragment"
    }
   },
   "outputs": [
    {
     "ename": "NotImplementedError",
     "evalue": "",
     "output_type": "error",
     "traceback": [
      "\u001b[1;31m---------------------------------------------------------------------------\u001b[0m",
      "\u001b[1;31mNotImplementedError\u001b[0m                       Traceback (most recent call last)",
      "\u001b[1;32m<ipython-input-10-91478cf00883>\u001b[0m in \u001b[0;36m<module>\u001b[1;34m\u001b[0m\n\u001b[1;32m----> 1\u001b[1;33m \u001b[0mA\u001b[0m\u001b[1;33m.\u001b[0m\u001b[0mtobsr\u001b[0m\u001b[1;33m(\u001b[0m\u001b[1;33m)\u001b[0m\u001b[1;33m[\u001b[0m\u001b[1;36m0\u001b[0m\u001b[1;33m,\u001b[0m\u001b[1;36m1\u001b[0m\u001b[1;33m]\u001b[0m\u001b[1;33m\u001b[0m\u001b[1;33m\u001b[0m\u001b[0m\n\u001b[0m",
      "\u001b[1;32m~\\Anaconda3\\lib\\site-packages\\scipy\\sparse\\bsr.py\u001b[0m in \u001b[0;36m__getitem__\u001b[1;34m(self, key)\u001b[0m\n\u001b[0;32m    315\u001b[0m \u001b[1;33m\u001b[0m\u001b[0m\n\u001b[0;32m    316\u001b[0m     \u001b[1;32mdef\u001b[0m \u001b[0m__getitem__\u001b[0m\u001b[1;33m(\u001b[0m\u001b[0mself\u001b[0m\u001b[1;33m,\u001b[0m\u001b[0mkey\u001b[0m\u001b[1;33m)\u001b[0m\u001b[1;33m:\u001b[0m\u001b[1;33m\u001b[0m\u001b[1;33m\u001b[0m\u001b[0m\n\u001b[1;32m--> 317\u001b[1;33m         \u001b[1;32mraise\u001b[0m \u001b[0mNotImplementedError\u001b[0m\u001b[1;33m\u001b[0m\u001b[1;33m\u001b[0m\u001b[0m\n\u001b[0m\u001b[0;32m    318\u001b[0m \u001b[1;33m\u001b[0m\u001b[0m\n\u001b[0;32m    319\u001b[0m     \u001b[1;32mdef\u001b[0m \u001b[0m__setitem__\u001b[0m\u001b[1;33m(\u001b[0m\u001b[0mself\u001b[0m\u001b[1;33m,\u001b[0m\u001b[0mkey\u001b[0m\u001b[1;33m,\u001b[0m\u001b[0mval\u001b[0m\u001b[1;33m)\u001b[0m\u001b[1;33m:\u001b[0m\u001b[1;33m\u001b[0m\u001b[1;33m\u001b[0m\u001b[0m\n",
      "\u001b[1;31mNotImplementedError\u001b[0m: "
     ]
    }
   ],
   "source": [
    "A.tobsr()[0,1]"
   ]
  },
  {
   "cell_type": "code",
   "execution_count": 11,
   "metadata": {
    "slideshow": {
     "slide_type": "subslide"
    }
   },
   "outputs": [
    {
     "data": {
      "text/plain": [
       "1"
      ]
     },
     "execution_count": 11,
     "metadata": {},
     "output_type": "execute_result"
    }
   ],
   "source": [
    "A.tocsr()[0,1]"
   ]
  },
  {
   "cell_type": "code",
   "execution_count": 12,
   "metadata": {
    "slideshow": {
     "slide_type": "fragment"
    }
   },
   "outputs": [
    {
     "data": {
      "text/plain": [
       "<2x1 sparse matrix of type '<class 'numpy.intc'>'\n",
       "\twith 1 stored elements in List of Lists format>"
      ]
     },
     "execution_count": 12,
     "metadata": {},
     "output_type": "execute_result"
    }
   ],
   "source": [
    "A.tolil()[1:3,3]"
   ]
  },
  {
   "cell_type": "markdown",
   "metadata": {
    "slideshow": {
     "slide_type": "subslide"
    }
   },
   "source": [
    "When working with sparse matrices, it is common to face the situation that different tasks – such\n",
    "as construction, updating, and arithmetic operations – are most efficiently handled in different formats.\n",
    "Converting between different sparse formats is relatively efficient, so it is useful to switch between\n",
    "different formats in different parts of an application. Efficient use of sparse matrices therefore requires an understanding of how different formats are implemented and what they are suitable for "
   ]
  },
  {
   "cell_type": "markdown",
   "metadata": {
    "slideshow": {
     "slide_type": "fragment"
    }
   },
   "source": [
    "For computations, the most important sparse matrix representations in Scipy's `sparse` module are\n",
    "the **CSR (Compressed Sparse Row)** and **CSC (Compressed Sparse Column)** formats, because they are well suited for efficient matrix arithmetic and linear algebra applications. Other formats, like **COO**, **LIL** and **DOK** are mainly used for constructing and updating sparse matrices, and once a sparse matrix is ready to be used in computations, it is best to convert it to either CSR or CSC format, using the `tocsr` or `tocsc` methods, respectively"
   ]
  },
  {
   "cell_type": "markdown",
   "metadata": {
    "slideshow": {
     "slide_type": "subslide"
    }
   },
   "source": [
    "In the CSR format, the nonzero values (`data`) are stored along with an array that contains the column\n",
    "indices of each value (`indices`), and another array that stores the offsets of the column index array of each\n",
    "row with the total number of nonzero elements at the end(`indptr`). For instance, consider the matrix\n",
    "\n",
    "\\begin{bmatrix}\n",
    "1 & 3 & 0 & 0\\\\ \n",
    "0 & 5 & 7 & 0\\\\ \n",
    "0 & 0 & 9 & 11\\\\ \n",
    "13 & 0 & 15 & 17\n",
    "\\end{bmatrix}"
   ]
  },
  {
   "cell_type": "code",
   "execution_count": 13,
   "metadata": {
    "slideshow": {
     "slide_type": "fragment"
    }
   },
   "outputs": [
    {
     "data": {
      "text/plain": [
       "array([[ 1,  3,  0,  0],\n",
       "       [ 0,  5,  7,  0],\n",
       "       [ 0,  0,  9, 11],\n",
       "       [13,  0, 15, 17]])"
      ]
     },
     "execution_count": 13,
     "metadata": {},
     "output_type": "execute_result"
    }
   ],
   "source": [
    "A = np.array([[1, 3, 0, 0], [0, 5, 7, 0], [0, 0, 9, 11], [13, 0, 15, 17]]); A"
   ]
  },
  {
   "cell_type": "code",
   "execution_count": 14,
   "metadata": {
    "slideshow": {
     "slide_type": "subslide"
    }
   },
   "outputs": [],
   "source": [
    "A = sp.csr_matrix(A)"
   ]
  },
  {
   "cell_type": "code",
   "execution_count": 15,
   "metadata": {
    "slideshow": {
     "slide_type": "fragment"
    }
   },
   "outputs": [
    {
     "data": {
      "text/plain": [
       "array([ 1,  3,  5,  7,  9, 11, 13, 15, 17], dtype=int32)"
      ]
     },
     "execution_count": 15,
     "metadata": {},
     "output_type": "execute_result"
    }
   ],
   "source": [
    "A.data"
   ]
  },
  {
   "cell_type": "code",
   "execution_count": 16,
   "metadata": {
    "slideshow": {
     "slide_type": "fragment"
    }
   },
   "outputs": [
    {
     "data": {
      "text/plain": [
       "array([0, 1, 1, 2, 2, 3, 0, 2, 3], dtype=int32)"
      ]
     },
     "execution_count": 16,
     "metadata": {},
     "output_type": "execute_result"
    }
   ],
   "source": [
    "A.indices"
   ]
  },
  {
   "cell_type": "code",
   "execution_count": 17,
   "metadata": {
    "slideshow": {
     "slide_type": "fragment"
    }
   },
   "outputs": [
    {
     "data": {
      "text/plain": [
       "array([0, 2, 4, 6, 9], dtype=int32)"
      ]
     },
     "execution_count": 17,
     "metadata": {},
     "output_type": "execute_result"
    }
   ],
   "source": [
    "A.indptr"
   ]
  },
  {
   "cell_type": "markdown",
   "metadata": {
    "slideshow": {
     "slide_type": "subslide"
    }
   },
   "source": [
    "For example, the elements in the third row, with index `i = 2`, starts at\n",
    "`indptr[2] = 4` and ends at `indptr[3] -1 = 5`, which gives the element values `data[4] = 9` and `data[5] = 11` and column indices `indices[4] = 2` and `indices[5] = 3`. Thus, `A[2,2] = 9` and `A[2,3] = 11`:"
   ]
  },
  {
   "cell_type": "code",
   "execution_count": 18,
   "metadata": {
    "slideshow": {
     "slide_type": "fragment"
    }
   },
   "outputs": [
    {
     "data": {
      "text/plain": [
       "(4, 5)"
      ]
     },
     "execution_count": 18,
     "metadata": {},
     "output_type": "execute_result"
    }
   ],
   "source": [
    "i = 2\n",
    "A.indptr[i], A.indptr[i +1] -1"
   ]
  },
  {
   "cell_type": "code",
   "execution_count": 19,
   "metadata": {
    "slideshow": {
     "slide_type": "fragment"
    }
   },
   "outputs": [
    {
     "data": {
      "text/plain": [
       "array([2, 3], dtype=int32)"
      ]
     },
     "execution_count": 19,
     "metadata": {},
     "output_type": "execute_result"
    }
   ],
   "source": [
    "A.indices[A.indptr[i]:A.indptr[i +1]]"
   ]
  },
  {
   "cell_type": "code",
   "execution_count": 20,
   "metadata": {
    "slideshow": {
     "slide_type": "fragment"
    }
   },
   "outputs": [
    {
     "data": {
      "text/plain": [
       "array([ 9, 11], dtype=int32)"
      ]
     },
     "execution_count": 20,
     "metadata": {},
     "output_type": "execute_result"
    }
   ],
   "source": [
    "A.data[A.indptr[i]:A.indptr[i +1]]"
   ]
  },
  {
   "cell_type": "code",
   "execution_count": 21,
   "metadata": {
    "slideshow": {
     "slide_type": "fragment"
    }
   },
   "outputs": [
    {
     "data": {
      "text/plain": [
       "(9, 11)"
      ]
     },
     "execution_count": 21,
     "metadata": {},
     "output_type": "execute_result"
    }
   ],
   "source": [
    "A[2, 2], A[2, 3] # check"
   ]
  },
  {
   "cell_type": "markdown",
   "metadata": {
    "slideshow": {
     "slide_type": "subslide"
    }
   },
   "source": [
    "### Functions for creating sparse matrices"
   ]
  },
  {
   "cell_type": "markdown",
   "metadata": {
    "slideshow": {
     "slide_type": "fragment"
    }
   },
   "source": [
    "As we have seen examples earlier in this chapter, one way of constructing sparse matrices is to prepare the data structures for a specific sparse matrix format, and pass these to the constructor of the corresponding sparse matrix class. While this method is sometimes suitable, it is often more convenient to compose sparse matrices from predefined template matrices"
   ]
  },
  {
   "cell_type": "markdown",
   "metadata": {
    "slideshow": {
     "slide_type": "fragment"
    }
   },
   "source": [
    "To create a sparse matrix of\n",
    "size 10 x 10 with a main diagonal and an upper and lower diagonal, we can use three calls to [`sp.eye`](https://docs.scipy.org/doc/scipy/reference/generated/scipy.sparse.eye.html), using the `k` argument to specify the offset from the main diagonal:"
   ]
  },
  {
   "cell_type": "code",
   "execution_count": 22,
   "metadata": {
    "slideshow": {
     "slide_type": "fragment"
    }
   },
   "outputs": [
    {
     "data": {
      "text/plain": [
       "<10x10 sparse matrix of type '<class 'numpy.float64'>'\n",
       "\twith 28 stored elements in Compressed Sparse Row format>"
      ]
     },
     "execution_count": 22,
     "metadata": {},
     "output_type": "execute_result"
    }
   ],
   "source": [
    "N = 10\n",
    "A = sp.eye(N, k=1) -2 *sp.eye(N) +sp.eye(N, k=-1); A"
   ]
  },
  {
   "cell_type": "markdown",
   "metadata": {
    "slideshow": {
     "slide_type": "subslide"
    }
   },
   "source": [
    "By default, the resulting object is sparse matrix in the CSR format, but using the `format` argument, we\n",
    "can specify any other sparse matrix format. All functions for creating sparse matrices in [`sp.sparse`](https://docs.scipy.org/doc/scipy/reference/sparse.html) accept this argument. For example, in the previous example, we could have produced the same matrix using [`sp.diags`](https://docs.scipy.org/doc/scipy/reference/generated/scipy.sparse.spdiags.html), by specifying the pattern `[1, -2, 1]`, and the corresponding offsets from the main diagonal `[1, 0, -1]`. If we additionally want the resulting sparse\n",
    "matrix in CSC format, we can set `format='csc'`: "
   ]
  },
  {
   "cell_type": "code",
   "execution_count": 23,
   "metadata": {
    "slideshow": {
     "slide_type": "fragment"
    }
   },
   "outputs": [
    {
     "data": {
      "text/plain": [
       "<10x10 sparse matrix of type '<class 'numpy.float64'>'\n",
       "\twith 28 stored elements in Compressed Sparse Column format>"
      ]
     },
     "execution_count": 23,
     "metadata": {},
     "output_type": "execute_result"
    }
   ],
   "source": [
    "A = sp.diags([1, -2, 1], [1, 0, -1], shape=[N, N], format='csc'); A"
   ]
  },
  {
   "cell_type": "code",
   "execution_count": 24,
   "metadata": {
    "slideshow": {
     "slide_type": "fragment"
    }
   },
   "outputs": [
    {
     "data": {
      "image/png": "[encoded data removed]",
      "text/plain": [
       "<Figure size 432x288 with 1 Axes>"
      ]
     },
     "metadata": {
      "needs_background": "light"
     },
     "output_type": "display_data"
    }
   ],
   "source": [
    "fig, ax = plt.subplots()\n",
    "ax.spy(A);"
   ]
  },
  {
   "cell_type": "markdown",
   "metadata": {
    "slideshow": {
     "slide_type": "subslide"
    }
   },
   "source": [
    "For example, to create a sparse matrix for the tensor product between $A$ and the matrix\n",
    "\n",
    "$$\\scriptsize\n",
    "\\begin{bmatrix}\n",
    "0 & 1 & 0\\\\ \n",
    "1 & 0 & 1\\\\ \n",
    "0 & 1 & 0\n",
    "\\end{bmatrix}$$\n",
    "\n",
    "we can use [`sp.kron`](https://docs.scipy.org/doc/scipy/reference/generated/scipy.sparse.kron.html)`(A, B)`:"
   ]
  },
  {
   "cell_type": "code",
   "execution_count": 25,
   "metadata": {
    "slideshow": {
     "slide_type": "fragment"
    }
   },
   "outputs": [
    {
     "data": {
      "image/png": "[encoded data removed]",
      "text/plain": [
       "<Figure size 864x288 with 3 Axes>"
      ]
     },
     "metadata": {
      "needs_background": "light"
     },
     "output_type": "display_data"
    }
   ],
   "source": [
    "B = sp.diags([1, 1], [-1, 1], shape=[3, 3])\n",
    "C = sp.kron(A, B)\n",
    "\n",
    "fig, (ax_A, ax_B, ax_C) = plt.subplots(1, 3, figsize=(12, 4))\n",
    "ax_A.spy(A)\n",
    "ax_B.spy(B)\n",
    "ax_C.spy(C);"
   ]
  },
  {
   "cell_type": "markdown",
   "metadata": {
    "slideshow": {
     "slide_type": "subslide"
    }
   },
   "source": [
    "### Sparse linear algebra functions"
   ]
  },
  {
   "cell_type": "markdown",
   "metadata": {
    "slideshow": {
     "slide_type": "fragment"
    }
   },
   "source": [
    "The main application of sparse matrices is to perform linear algebra operations on large matrices that are intractable or inefficient to treat using dense matrix representations \n",
    "\n",
    "The Scipy `sparse` module contains a module `linalg` that implements many linear algebra routines. Not all linear algebra operations are suitable for sparse matrices, and in some cases the behavior of the sparse matrix version of operations needs to be modified compared to the dense counterparts\n",
    "\n",
    "Consequently, there are a number of differences between the sparse linear algebra module [`scipy.sparse.linalg`](https://docs.scipy.org/doc/scipy/reference/sparse.linalg.html) and the dense linear algebra module [`scipy.linalg`](https://docs.scipy.org/doc/scipy/reference/linalg.html).\n",
    "In general, for sparse matrix methods to be efficient, they must retain the sparsity of matrices involved in the computation\n",
    "\n",
    "An examples of operations where the sparsity usually is not retained is the matrix inverse, and\n",
    "it should therefore be avoided when possible"
   ]
  },
  {
   "cell_type": "markdown",
   "metadata": {
    "slideshow": {
     "slide_type": "subslide"
    }
   },
   "source": [
    "### Linear equation systems"
   ]
  },
  {
   "cell_type": "markdown",
   "metadata": {
    "slideshow": {
     "slide_type": "fragment"
    }
   },
   "source": [
    "The most important application of sparse matrices is arguably to solve linear equation system on the form\n",
    "$\\mathbf{A}\\mathbf{x} = \\mathbf{b}$, where $\\mathbf{A}$ is a sparse matrix and $\\mathbf{x}$ and $\\mathbf{b}$ are dense vectors. \n",
    "The Scipy `sparse.linalg` module has both direct and iterative solver for this type of problem ([`sp.linalg.spsolve`](https://docs.scipy.org/doc/scipy/reference/generated/scipy.sparse.linalg.spsolve.html)), and methods to factor a matrix $\\mathbf{A}$, using for example LU factorization ([`sp.linalg.splu`](https://docs.scipy.org/doc/scipy/reference/generated/scipy.sparse.linalg.splu.html)) and incomplete LU factorization ([`sp.linalg.spilu`](https://docs.scipy.org/doc/scipy/reference/generated/scipy.sparse.linalg.spilu.html))."
   ]
  },
  {
   "cell_type": "code",
   "execution_count": 26,
   "metadata": {
    "slideshow": {
     "slide_type": "fragment"
    }
   },
   "outputs": [],
   "source": [
    "N = 10\n",
    "A = sp.diags([1, -2, 1], [1, 0, -1], shape=[N, N], format='csc')\n",
    "b = -np.ones(N)"
   ]
  },
  {
   "cell_type": "code",
   "execution_count": 27,
   "metadata": {
    "slideshow": {
     "slide_type": "fragment"
    }
   },
   "outputs": [
    {
     "data": {
      "text/plain": [
       "array([ 5.,  9., 12., 14., 15., 15., 14., 12.,  9.,  5.])"
      ]
     },
     "execution_count": 27,
     "metadata": {},
     "output_type": "execute_result"
    }
   ],
   "source": [
    "x = sp.linalg.spsolve(A, b); x"
   ]
  },
  {
   "cell_type": "markdown",
   "metadata": {
    "slideshow": {
     "slide_type": "subslide"
    }
   },
   "source": [
    "For comparison, we can also solve this problem using\n",
    "dense direct solver in Numpy [`np.linalg.solve`](https://numpy.org/doc/stable/reference/generated/numpy.linalg.solve.html) (or, similarly, using [`scipy.linalg.solve`](https://docs.scipy.org/doc/scipy/reference/generated/scipy.linalg.solve.html))"
   ]
  },
  {
   "cell_type": "code",
   "execution_count": 28,
   "metadata": {
    "slideshow": {
     "slide_type": "fragment"
    }
   },
   "outputs": [
    {
     "data": {
      "text/plain": [
       "array([ 5.,  9., 12., 14., 15., 15., 14., 12.,  9.,  5.])"
      ]
     },
     "execution_count": 28,
     "metadata": {},
     "output_type": "execute_result"
    }
   ],
   "source": [
    "np.linalg.solve(A.todense(), b)"
   ]
  },
  {
   "cell_type": "markdown",
   "metadata": {
    "slideshow": {
     "slide_type": "fragment"
    }
   },
   "source": [
    "As expected, the result agrees with what we obtained from the sparse solver. For small problems like this\n",
    "one there is not much to gain using sparse matrices, but for increasing system size the merits of using sparse\n",
    "matrices and sparse solvers become apparent. For this particular problem, the threshold system size beyond which sparse methods outperforms dense methods is approximately `N=100`"
   ]
  },
  {
   "cell_type": "markdown",
   "metadata": {
    "slideshow": {
     "slide_type": "subslide"
    }
   },
   "source": [
    "An alternative to the [`spsolve`](https://docs.scipy.org/doc/scipy/reference/generated/scipy.sparse.linalg.spsolve.html) interface is to explicitly compute the LU factorization using [`sp.sparse.splu`](https://docs.scipy.org/doc/scipy/reference/generated/scipy.sparse.linalg.splu.html) or [`sp.sparse.spilu`](https://docs.scipy.org/doc/scipy/reference/generated/scipy.sparse.linalg.spilu.html) (incomplete LU factorization). These functions return an object that contains the $\\mathbf{L}$ and $\\mathbf{U}$ factors, and that has a method `solve` that solves $\\mathbf{LUx} = \\mathbf{b}$ for a given vector $\\mathbf{b}$"
   ]
  },
  {
   "cell_type": "code",
   "execution_count": 29,
   "metadata": {
    "slideshow": {
     "slide_type": "fragment"
    }
   },
   "outputs": [],
   "source": [
    "lu = sp.linalg.splu(A)"
   ]
  },
  {
   "cell_type": "code",
   "execution_count": 30,
   "metadata": {
    "slideshow": {
     "slide_type": "fragment"
    }
   },
   "outputs": [
    {
     "data": {
      "text/plain": [
       "<10x10 sparse matrix of type '<class 'numpy.float64'>'\n",
       "\twith 20 stored elements in Compressed Sparse Column format>"
      ]
     },
     "execution_count": 30,
     "metadata": {},
     "output_type": "execute_result"
    }
   ],
   "source": [
    "lu.L"
   ]
  },
  {
   "cell_type": "code",
   "execution_count": 31,
   "metadata": {
    "slideshow": {
     "slide_type": "fragment"
    }
   },
   "outputs": [
    {
     "data": {
      "text/plain": [
       "<10x10 sparse matrix of type '<class 'numpy.float64'>'\n",
       "\twith 20 stored elements in Compressed Sparse Column format>"
      ]
     },
     "execution_count": 31,
     "metadata": {},
     "output_type": "execute_result"
    }
   ],
   "source": [
    "lu.U"
   ]
  },
  {
   "cell_type": "code",
   "execution_count": 32,
   "metadata": {
    "slideshow": {
     "slide_type": "fragment"
    }
   },
   "outputs": [
    {
     "data": {
      "text/plain": [
       "array([ 5.,  9., 12., 14., 15., 15., 14., 12.,  9.,  5.])"
      ]
     },
     "execution_count": 32,
     "metadata": {},
     "output_type": "execute_result"
    }
   ],
   "source": [
    "x = lu.solve(b); x"
   ]
  },
  {
   "cell_type": "markdown",
   "metadata": {
    "slideshow": {
     "slide_type": "subslide"
    }
   },
   "source": [
    "An important consideration that arises with sparse matrices is that the LU factorization of $\\mathbf{A}$ may introduce new nonzero elements in $\\mathbf{L}$ and $\\mathbf{U}$ compared to the matrix $\\mathbf{A}$, and therefore make $\\mathbf{L}$ and $\\mathbf{U}$ less sparse. Elements that exist in $\\mathbf{L}$ or $\\mathbf{U}$, but not in $\\mathbf{A}$, are called fill-ins. \n",
    "\n",
    "If the amount of fill-ins is large, the\n",
    "advantage of using sparse matrices may be lost. While there is no complete solution to eliminate fill-ins, it is often possible to reduce fill-in by permuting the rows and columns in $\\mathbf{A}$, so that the LU factorization takes the form $\\mathbf{P_r AP_c} = \\mathbf{LU}$.\n",
    "\n",
    "The [`spsolve`](https://docs.scipy.org/doc/scipy/reference/generated/scipy.sparse.linalg.spsolve.html), [`splu`](https://docs.scipy.org/doc/scipy/reference/generated/scipy.sparse.linalg.splu.html) and [`spilu`](https://docs.scipy.org/doc/scipy/reference/generated/scipy.sparse.linalg.spilu.html) functions all take the argument `permc_spec`, which can take the values `NATURAL`, `MMD_ATA`, `MMD_AT_PLUT_A`, or `COLAMD`, which indicates different permutation methods that are built in these methods. The object returned by `splu` and `spilu` accounts for such permutations, and the permutation vectors are available via the `perm_c` and `perm_r` attributes."
   ]
  },
  {
   "cell_type": "code",
   "execution_count": 33,
   "metadata": {
    "slideshow": {
     "slide_type": "fragment"
    }
   },
   "outputs": [
    {
     "data": {
      "text/plain": [
       "<10x10 sparse matrix of type '<class 'numpy.float64'>'\n",
       "\twith 8 stored elements in Compressed Sparse Column format>"
      ]
     },
     "execution_count": 33,
     "metadata": {},
     "output_type": "execute_result"
    }
   ],
   "source": [
    "lu.L *lu.U -A"
   ]
  },
  {
   "cell_type": "code",
   "execution_count": 34,
   "metadata": {
    "slideshow": {
     "slide_type": "fragment"
    }
   },
   "outputs": [
    {
     "data": {
      "text/plain": [
       "(array([0, 1, 2, 3, 4, 5, 6, 8, 7, 9], dtype=int32),\n",
       " array([0, 1, 2, 3, 4, 5, 6, 8, 7, 9], dtype=int32))"
      ]
     },
     "execution_count": 34,
     "metadata": {},
     "output_type": "execute_result"
    }
   ],
   "source": [
    "lu.perm_r, lu.perm_c"
   ]
  },
  {
   "cell_type": "code",
   "execution_count": 35,
   "metadata": {
    "slideshow": {
     "slide_type": "subslide"
    }
   },
   "outputs": [],
   "source": [
    "def sp_permute(A, perm_r, perm_c):\n",
    "    \"\"\" permute rows and columns of A \"\"\"\n",
    "    M, N = A.shape\n",
    "    # row permumation matrix\n",
    "    Pr = sp.coo_matrix((np.ones(M), (perm_r, np.arange(N)))).tocsr()\n",
    "    # column permutation matrix\n",
    "    Pc = sp.coo_matrix((np.ones(M), (np.arange(M), perm_c))).tocsr()\n",
    "    return Pr.T *A *Pc.T"
   ]
  },
  {
   "cell_type": "code",
   "execution_count": 36,
   "metadata": {
    "slideshow": {
     "slide_type": "fragment"
    }
   },
   "outputs": [
    {
     "data": {
      "text/plain": [
       "<10x10 sparse matrix of type '<class 'numpy.float64'>'\n",
       "\twith 0 stored elements in Compressed Sparse Column format>"
      ]
     },
     "execution_count": 36,
     "metadata": {},
     "output_type": "execute_result"
    }
   ],
   "source": [
    "sp_permute(lu.L *lu.U, lu.perm_r, lu.perm_c) -A"
   ]
  },
  {
   "cell_type": "code",
   "execution_count": 37,
   "metadata": {
    "slideshow": {
     "slide_type": "fragment"
    }
   },
   "outputs": [
    {
     "data": {
      "image/png": "[encoded data removed]",
      "text/plain": [
       "<Figure size 864x288 with 3 Axes>"
      ]
     },
     "metadata": {
      "needs_background": "light"
     },
     "output_type": "display_data"
    }
   ],
   "source": [
    "fig, (ax1, ax2, ax3) = plt.subplots(1, 3, figsize=(12, 4))\n",
    "ax1.spy(lu.L)\n",
    "ax2.spy(lu.U)\n",
    "ax3.spy(A);"
   ]
  },
  {
   "cell_type": "markdown",
   "metadata": {
    "slideshow": {
     "slide_type": "subslide"
    }
   },
   "source": [
    "By default, the direct sparse linear solver in Scipy uses the [`SuperLU`](https://docs.scipy.org/doc/scipy/reference/generated/scipy.sparse.linalg.SuperLU.html) package. An alternative sparse matrix solver that also can be used in Scipy is the `UMFPACK` package, although this package is not bundled with Scipy and requires that the [`scikit-umfpack`](https://scikit-umfpack.github.io/scikit-umfpack/) Python library is installed. If `scikit-umfpack` is available and the `use_umfpack` argument to the `sp.linalg.spsolve` function is `True`, then the `UMFPACK` is used instead of `SuperLU`. \n",
    "\n",
    "Whether `SuperLU` or `UMFPACK` gives better performance varies from problem to problem, so it is worth having both installed and testing both for any given problem"
   ]
  },
  {
   "cell_type": "code",
   "execution_count": 38,
   "metadata": {
    "slideshow": {
     "slide_type": "fragment"
    }
   },
   "outputs": [
    {
     "data": {
      "text/plain": [
       "array([ 5.,  9., 12., 14., 15., 15., 14., 12.,  9.,  5.])"
      ]
     },
     "execution_count": 38,
     "metadata": {},
     "output_type": "execute_result"
    }
   ],
   "source": [
    "# use_umfpack=True is only effective if scikit-umfpack is installed\n",
    "x = sp.linalg.spsolve(A, b, use_umfpack=True); x"
   ]
  },
  {
   "cell_type": "markdown",
   "metadata": {
    "slideshow": {
     "slide_type": "subslide"
    }
   },
   "source": [
    "The `sp.spsolve` function is an interface to direct solvers, which internally performs matrix\n",
    "factorization. \n",
    "\n",
    "An alternative approach is to use iterative methods that originate in optimization. The Scipy [`sparse.linalg`](https://docs.scipy.org/doc/scipy/reference/sparse.linalg.html#module-scipy.sparse.linalg) module contains several functions for iterative solution of sparse linear problems: For example, [`bicg`](https://docs.scipy.org/doc/scipy/reference/generated/scipy.sparse.linalg.bicg.html) (biconjugate gradient method), [`bicgstab`](https://docs.scipy.org/doc/scipy/reference/generated/scipy.sparse.linalg.bicgstab.html) (biconjugate gradient stabilized method), [`cg`](https://docs.scipy.org/doc/scipy/reference/generated/scipy.sparse.linalg.cg.html)(conjugate gradient), [`gmres`](https://docs.scipy.org/doc/scipy/reference/generated/scipy.sparse.linalg.gmres.html) (generalized minimum residual), and [`lgmres`](https://docs.scipy.org/doc/scipy/reference/generated/scipy.sparse.linalg.lgmres.html) (loose generalized minimum residual method). \n",
    "\n",
    "All of these functions (and a few others) can be used to solve the problem $\\mathbf{Ax} = \\mathbf{b}$ by calling the function with $\\mathbf{A}$ and $\\mathbf{b}$ as arguments, and they all return a tuple `(x,info)` where `x` is the solution and `info` contains additional information about the solution process (`info=0` indicates success, and it is positive for convergence error, and negative for input error). For example:"
   ]
  },
  {
   "cell_type": "code",
   "execution_count": 39,
   "metadata": {
    "slideshow": {
     "slide_type": "fragment"
    }
   },
   "outputs": [
    {
     "data": {
      "text/plain": [
       "array([ 5.,  9., 12., 14., 15., 15., 14., 12.,  9.,  5.])"
      ]
     },
     "execution_count": 39,
     "metadata": {},
     "output_type": "execute_result"
    }
   ],
   "source": [
    "x, info = sp.linalg.bicgstab(A, b); x"
   ]
  },
  {
   "cell_type": "code",
   "execution_count": 40,
   "metadata": {
    "slideshow": {
     "slide_type": "fragment"
    }
   },
   "outputs": [
    {
     "data": {
      "text/plain": [
       "array([ 5.,  9., 12., 14., 15., 15., 14., 12.,  9.,  5.])"
      ]
     },
     "execution_count": 40,
     "metadata": {},
     "output_type": "execute_result"
    }
   ],
   "source": [
    "x, info = sp.linalg.cg(A, b); x"
   ]
  },
  {
   "cell_type": "code",
   "execution_count": 41,
   "metadata": {
    "slideshow": {
     "slide_type": "fragment"
    }
   },
   "outputs": [
    {
     "data": {
      "text/plain": [
       "array([ 5.,  9., 12., 14., 15., 15., 14., 12.,  9.,  5.])"
      ]
     },
     "execution_count": 41,
     "metadata": {},
     "output_type": "execute_result"
    }
   ],
   "source": [
    "x, info = sp.linalg.lgmres(A, b, atol=1e-5); x"
   ]
  },
  {
   "cell_type": "markdown",
   "metadata": {
    "slideshow": {
     "slide_type": "subslide"
    }
   },
   "source": [
    "Iterative solver may have an advantage over direct solvers for very large problems,\n",
    "where direct solvers may require excessive memory usage due to undesirable fill-ins. In contrast, iterative solvers only require to evaluate sparse matrix-vector multiplications, and therefore do not suffer from fill-in problems, but on the other hand, they might have slow convergence for many problems, especially if not properly preconditioned"
   ]
  },
  {
   "cell_type": "markdown",
   "metadata": {
    "slideshow": {
     "slide_type": "fragment"
    }
   },
   "source": [
    "#### A matrix permutation method: [reverse_cuthil_mckee](https://docs.scipy.org/doc/scipy/reference/generated/scipy.sparse.csgraph.reverse_cuthill_mckee.html)"
   ]
  },
  {
   "cell_type": "code",
   "execution_count": 42,
   "metadata": {
    "slideshow": {
     "slide_type": "fragment"
    }
   },
   "outputs": [
    {
     "data": {
      "text/plain": [
       "array([ 7, 15, 23,  1,  9, 17,  2, 10, 18,  3, 11, 19,  4, 12, 20,  5, 13,\n",
       "       21,  6, 14, 22, 24, 16,  8,  0], dtype=int32)"
      ]
     },
     "execution_count": 42,
     "metadata": {},
     "output_type": "execute_result"
    }
   ],
   "source": [
    "N = 25\n",
    "A = sp.diags([1, -2, 1], [8, 0, -8], shape=[N, N], format='csc')\n",
    "perm = sp.csgraph.reverse_cuthill_mckee(A); perm"
   ]
  },
  {
   "cell_type": "code",
   "execution_count": 43,
   "metadata": {
    "slideshow": {
     "slide_type": "subslide"
    }
   },
   "outputs": [
    {
     "data": {
      "image/png": "[encoded data removed]",
      "text/plain": [
       "<Figure size 576x288 with 2 Axes>"
      ]
     },
     "metadata": {
      "needs_background": "light"
     },
     "output_type": "display_data"
    }
   ],
   "source": [
    "fig, (ax1, ax2) = plt.subplots(1, 2, figsize=(8, 4))\n",
    "ax1.spy(A)\n",
    "ax2.spy(sp_permute(A, perm, perm));"
   ]
  },
  {
   "cell_type": "markdown",
   "metadata": {
    "slideshow": {
     "slide_type": "subslide"
    }
   },
   "source": [
    "#### Performance comparison: Sparse/Dense"
   ]
  },
  {
   "cell_type": "code",
   "execution_count": 44,
   "metadata": {
    "cell_style": "split",
    "slideshow": {
     "slide_type": "fragment"
    }
   },
   "outputs": [],
   "source": [
    "# compare performance of solving Ax=b vs system size N,\n",
    "# where A is the sparse matrix for the 1d poisson problem\n",
    "import time\n",
    "\n",
    "def setup(N):\n",
    "    A = sp.diags([1,-2,1], [1,0,-1], shape=[N, N], format='csr')\n",
    "    b = -np.ones(N)\n",
    "    return A, A.todense(), b\n",
    "\n",
    "reps = 10\n",
    "\n",
    "N_vec = np.arange(10, 2000, 10)\n",
    "t_sparse = np.empty(len(N_vec))\n",
    "t_dense = np.empty(len(N_vec))\n",
    "for idx, N in enumerate(N_vec):\n",
    "    A, A_dense, b = setup(N)\n",
    "    t = time.time()\n",
    "    for r in range(reps):\n",
    "        x = np.linalg.solve(A_dense, b)\n",
    "    t_dense[idx] = (time.time() -t)/reps\n",
    "\n",
    "    t = time.time()\n",
    "    for r in range(reps):\n",
    "        x = sp.linalg.spsolve(A, b, use_umfpack=True)\n",
    "    t_sparse[idx] = (time.time() -t)/reps"
   ]
  },
  {
   "cell_type": "code",
   "execution_count": 45,
   "metadata": {
    "cell_style": "split",
    "slideshow": {
     "slide_type": "fragment"
    }
   },
   "outputs": [
    {
     "data": {
      "image/png": "[encoded data removed]",
      "text/plain": [
       "<Figure size 576x288 with 1 Axes>"
      ]
     },
     "metadata": {
      "needs_background": "light"
     },
     "output_type": "display_data"
    }
   ],
   "source": [
    "fig, ax = plt.subplots(figsize=(8, 4))\n",
    "\n",
    "ax.plot(N_vec, t_dense *1e3, '.-', label=\"dense\")\n",
    "ax.plot(N_vec, t_sparse *1e3, '.-', label=\"sparse\")\n",
    "ax.set_xlabel(r\"$N$\", fontsize=16)\n",
    "ax.set_ylabel(\"Elapsed Time, [ms]\", fontsize=16)\n",
    "ax.legend(loc=0)\n",
    "\n",
    "ax.set_xlim(0, 2000)\n",
    "ax.set_ylim(0, 400)\n",
    "\n",
    "fig.tight_layout()"
   ]
  },
  {
   "cell_type": "markdown",
   "metadata": {
    "slideshow": {
     "slide_type": "subslide"
    }
   },
   "source": [
    "### Eigenvalue problems"
   ]
  },
  {
   "cell_type": "markdown",
   "metadata": {
    "slideshow": {
     "slide_type": "fragment"
    }
   },
   "source": [
    "Sparse eigenvalue and [singular-value](https://en.wikipedia.org/wiki/Singular_value_decomposition) problems can be solved using the [`sp.linalg.eigs`](https://docs.scipy.org/doc/scipy/reference/generated/scipy.sparse.linalg.eigs.html) and [`sp.linalg.svds`](https://docs.scipy.org/doc/scipy/reference/generated/scipy.sparse.linalg.svds.html)\n",
    "functions, respectively. For real symmetric or complex [hermitian](https://en.wikipedia.org/wiki/Hermitian_matrix) matrices, the eigenvalues (which in this\n",
    "case are real) and eigenvectors can also be computed using [`sp.linalg.eigsh`](https://docs.scipy.org/doc/scipy/reference/generated/scipy.sparse.linalg.eigsh.html). These functions do not compute all eigenvalues or singular values, but rather compute a given number of eigenvalues and\n",
    "vectors (the default is six)."
   ]
  },
  {
   "cell_type": "markdown",
   "metadata": {
    "slideshow": {
     "slide_type": "fragment"
    }
   },
   "source": [
    "For example, to compute the largest four eigenvalues for the sparse matrix of the one-dimensional\n",
    "Poisson problem (of system size 10 x 10),"
   ]
  },
  {
   "cell_type": "code",
   "execution_count": 46,
   "metadata": {
    "slideshow": {
     "slide_type": "fragment"
    }
   },
   "outputs": [],
   "source": [
    "N = 10\n",
    "A = sp.diags([1, -2, 1], [1, 0, -1], shape=[N, N], format='csc')\n",
    "evals, evecs = sp.linalg.eigs(A, k=4, which='LM')"
   ]
  },
  {
   "cell_type": "code",
   "execution_count": 47,
   "metadata": {
    "slideshow": {
     "slide_type": "subslide"
    }
   },
   "outputs": [
    {
     "data": {
      "text/plain": [
       "array([-3.91898595+0.j, -3.68250707+0.j, -3.30972147+0.j, -2.83083003+0.j])"
      ]
     },
     "execution_count": 47,
     "metadata": {},
     "output_type": "execute_result"
    }
   ],
   "source": [
    "evals"
   ]
  },
  {
   "cell_type": "code",
   "execution_count": 48,
   "metadata": {
    "slideshow": {
     "slide_type": "fragment"
    }
   },
   "outputs": [
    {
     "data": {
      "text/plain": [
       "array([[-0.12013117+0.j, -0.23053002+0.j, -0.3222527 +0.j,\n",
       "        -0.38786839+0.j],\n",
       "       [ 0.23053002+0.j,  0.38786839+0.j,  0.42206128+0.j,\n",
       "         0.3222527 +0.j],\n",
       "       [-0.3222527 +0.j, -0.42206128+0.j, -0.23053002+0.j,\n",
       "         0.12013117+0.j],\n",
       "       [ 0.38786839+0.j,  0.3222527 +0.j, -0.12013117+0.j,\n",
       "        -0.42206128+0.j],\n",
       "       [-0.42206128+0.j, -0.12013117+0.j,  0.38786839+0.j,\n",
       "         0.23053002+0.j],\n",
       "       [ 0.42206128+0.j, -0.12013117+0.j, -0.38786839+0.j,\n",
       "         0.23053002+0.j],\n",
       "       [-0.38786839+0.j,  0.3222527 +0.j,  0.12013117+0.j,\n",
       "        -0.42206128+0.j],\n",
       "       [ 0.3222527 +0.j, -0.42206128+0.j,  0.23053002+0.j,\n",
       "         0.12013117+0.j],\n",
       "       [-0.23053002+0.j,  0.38786839+0.j, -0.42206128+0.j,\n",
       "         0.3222527 +0.j],\n",
       "       [ 0.12013117+0.j, -0.23053002+0.j,  0.3222527 +0.j,\n",
       "        -0.38786839+0.j]])"
      ]
     },
     "execution_count": 48,
     "metadata": {},
     "output_type": "execute_result"
    }
   ],
   "source": [
    "evecs"
   ]
  },
  {
   "cell_type": "code",
   "execution_count": 49,
   "metadata": {
    "slideshow": {
     "slide_type": "fragment"
    }
   },
   "outputs": [
    {
     "data": {
      "text/plain": [
       "True"
      ]
     },
     "execution_count": 49,
     "metadata": {},
     "output_type": "execute_result"
    }
   ],
   "source": [
    "np.allclose(A.dot(evecs[:, 0]), evals[0] *evecs[:, 0])"
   ]
  },
  {
   "cell_type": "markdown",
   "metadata": {
    "slideshow": {
     "slide_type": "subslide"
    }
   },
   "source": [
    "For this particular example, the sparse matrix $\\mathbf{A}$ is symmetric, so instead of `sp.linalg.eigs` we could use `sp.linalg.eigsh` instead, and in doing so we obtain an eigenvalue array with real-valued elements:"
   ]
  },
  {
   "cell_type": "code",
   "execution_count": 50,
   "metadata": {
    "slideshow": {
     "slide_type": "fragment"
    }
   },
   "outputs": [
    {
     "data": {
      "text/plain": [
       "array([-3.91898595, -3.68250707, -3.30972147, -2.83083003])"
      ]
     },
     "execution_count": 50,
     "metadata": {},
     "output_type": "execute_result"
    }
   ],
   "source": [
    "evals, evecs = sp.linalg.eigsh(A, k=4, which='LM'); evals"
   ]
  },
  {
   "cell_type": "markdown",
   "metadata": {
    "slideshow": {
     "slide_type": "fragment"
    }
   },
   "source": [
    "By changing the argument `which='LM'` (for largest magnitude) to `which='SM'` (smallest magnitude), we\n",
    "obtain a different set of eigenvalues and vector (those with smallest magnitude)."
   ]
  },
  {
   "cell_type": "code",
   "execution_count": 51,
   "metadata": {
    "slideshow": {
     "slide_type": "fragment"
    }
   },
   "outputs": [
    {
     "data": {
      "text/plain": [
       "array([-0.08101405+0.j, -0.31749293+0.j, -0.69027853+0.j, -1.16916997+0.j])"
      ]
     },
     "execution_count": 51,
     "metadata": {},
     "output_type": "execute_result"
    }
   ],
   "source": [
    "evals, evecs = sp.linalg.eigs(A, k=4, which='SM'); evals"
   ]
  },
  {
   "cell_type": "code",
   "execution_count": 52,
   "metadata": {
    "slideshow": {
     "slide_type": "fragment"
    }
   },
   "outputs": [],
   "source": [
    "def sp_eigs_sorted(A, k=6, which='SR'):\n",
    "    \"\"\" compute and return eigenvalues sorted by real value \"\"\"\n",
    "    evals, evecs = sp.linalg.eigs(A, k=k, which=which)\n",
    "    idx = np.real(evals).argsort()\n",
    "    return evals[idx], evecs[idx]"
   ]
  },
  {
   "cell_type": "code",
   "execution_count": 53,
   "metadata": {
    "slideshow": {
     "slide_type": "fragment"
    }
   },
   "outputs": [
    {
     "data": {
      "text/plain": [
       "array([-1.16916997+0.j, -0.69027853+0.j, -0.31749293+0.j, -0.08101405+0.j])"
      ]
     },
     "execution_count": 53,
     "metadata": {},
     "output_type": "execute_result"
    }
   ],
   "source": [
    "evals, evecs = sp_eigs_sorted(A, k=4, which='SM'); evals"
   ]
  },
  {
   "cell_type": "markdown",
   "metadata": {
    "slideshow": {
     "slide_type": "subslide"
    }
   },
   "source": [
    "As a less trivial example, consider the spectrum of lowest eigenvalues of the linear combination $(1 -x) M_1 +x M_2$ of random sparse matrices $M_1$ and $M_2$. We can use the [`sp.rand`](https://docs.scipy.org/doc/scipy/reference/generated/scipy.sparse.rand.html) function to generate two random sparse matrices, and by repeatedly using `sp_eigs_sorted` to find the smallest 25 eigenvalues of the $(1 -x) M_1 +x M_2$ matrix for different values of $x$,"
   ]
  },
  {
   "cell_type": "code",
   "execution_count": 54,
   "metadata": {
    "slideshow": {
     "slide_type": "fragment"
    }
   },
   "outputs": [],
   "source": [
    "x_vec = np.linspace(0, 1, 50)\n",
    "\n",
    "N = 100\n",
    "# seed sp.rand with random_state to obtain a reproducible result\n",
    "M1 = sp.rand(N, N, density=0.2, random_state=112312321)\n",
    "M2 = sp.rand(N, N, density=0.2, random_state=984592134)"
   ]
  },
  {
   "cell_type": "code",
   "execution_count": 55,
   "metadata": {
    "slideshow": {
     "slide_type": "fragment"
    }
   },
   "outputs": [],
   "source": [
    "evals = np.array([sp_eigs_sorted((1 -x) *M1 +x *M2, k=25)[0] for x in x_vec])"
   ]
  },
  {
   "cell_type": "code",
   "execution_count": 56,
   "metadata": {
    "slideshow": {
     "slide_type": "subslide"
    }
   },
   "outputs": [
    {
     "data": {
      "image/png": "[encoded data removed]",
      "text/plain": [
       "<Figure size 576x288 with 1 Axes>"
      ]
     },
     "metadata": {
      "needs_background": "light"
     },
     "output_type": "display_data"
    }
   ],
   "source": [
    "fig, ax = plt.subplots(figsize=(8, 4))\n",
    "\n",
    "for idx in range(evals.shape[1]):\n",
    "    ax.plot(x_vec, np.real(evals[:,idx]), lw=0.5)\n",
    "\n",
    "ax.set_xlabel(r\"$x$\", fontsize=16)\n",
    "ax.set_ylabel(r\"eig. vals. of $(1-x)M_1+xM_2$\", fontsize=16)\n",
    "ax.set_xlim(0, 1)\n",
    "ax.set_ylim(-2.5, -0.5)\n",
    "ax.tick_params(which='both', direction='in')\n",
    "\n",
    "fig.tight_layout()"
   ]
  },
  {
   "cell_type": "markdown",
   "metadata": {
    "slideshow": {
     "slide_type": "subslide"
    }
   },
   "source": [
    "## Graphs and networks"
   ]
  },
  {
   "cell_type": "markdown",
   "metadata": {
    "slideshow": {
     "slide_type": "fragment"
    }
   },
   "source": [
    "Representing graphs as [adjacency matrices](https://en.wikipedia.org/wiki/Adjacency_matrix) is another important application of sparse matrices. In an\n",
    "adjacency matrix, an element describes which nodes in a graph are connected to each other. Consequently,\n",
    "if each node is only connected to a small set of other nodes, the adjacency matrix is sparse.\n",
    "The [`csgraph`](https://docs.scipy.org/doc/scipy/reference/sparse.csgraph.html) module in the Scipy `sparse` module provides functions for processing such graphs, including methods for traversing a graph using different methods (breadth-first and depth-first traversals, for example) and for computing shortest paths between nodes in a graph, and so on"
   ]
  },
  {
   "cell_type": "markdown",
   "metadata": {
    "slideshow": {
     "slide_type": "fragment"
    }
   },
   "source": [
    "For a more comprehensive framework for working with graphs, there is the [`NetworkX`](https://networkx.github.io/documentation/stable/) Python library.\n",
    "It provides utilities for creating and manipulating undirected and directed graphs, and also implements\n",
    "many graph algorithms, such as finding minimum paths between nodes in a graph. Here we assume that\n",
    "the `networkx` library is imported under the name `nx`. Using this library, we can, for example, create an undirected graph by initiating an object of the class `nx.Graph`. Any hashable Python object can be stored as nodes in a `Graph` object, which makes it very flexible data structure."
   ]
  },
  {
   "cell_type": "markdown",
   "metadata": {
    "slideshow": {
     "slide_type": "subslide"
    }
   },
   "source": [
    "For example, we can create a simple graph with node data that are integers using [`nx.Graph`](https://networkx.github.io/documentation/networkx-1.10/tutorial/tutorial.html)`()` and\n",
    "the `add_node` method, or `add_nodes_from` to add multiple nodes in one go. The `nodes` method returns a\n",
    "list of nodes:"
   ]
  },
  {
   "cell_type": "code",
   "execution_count": 57,
   "metadata": {
    "slideshow": {
     "slide_type": "fragment"
    }
   },
   "outputs": [
    {
     "data": {
      "text/plain": [
       "NodeView((1,))"
      ]
     },
     "execution_count": 57,
     "metadata": {},
     "output_type": "execute_result"
    }
   ],
   "source": [
    "g = nx.Graph()\n",
    "g.add_node(1)\n",
    "g.nodes()"
   ]
  },
  {
   "cell_type": "code",
   "execution_count": 58,
   "metadata": {
    "slideshow": {
     "slide_type": "fragment"
    }
   },
   "outputs": [
    {
     "data": {
      "text/plain": [
       "NodeView((1, 3, 4, 5))"
      ]
     },
     "execution_count": 58,
     "metadata": {},
     "output_type": "execute_result"
    }
   ],
   "source": [
    "g.add_nodes_from([3, 4, 5])\n",
    "g.nodes() "
   ]
  },
  {
   "cell_type": "markdown",
   "metadata": {
    "slideshow": {
     "slide_type": "subslide"
    }
   },
   "source": [
    "To connect nodes, we can add edges using `add_edge`. We pass the labels of the two nodes we want to\n",
    "connect as arguments. To add multiple edges, we can use `add_edges_from`, and pass to it a list of tuples of nodes to connect. The `edges` method returns a list of edges:"
   ]
  },
  {
   "cell_type": "code",
   "execution_count": 59,
   "metadata": {
    "slideshow": {
     "slide_type": "fragment"
    }
   },
   "outputs": [
    {
     "data": {
      "text/plain": [
       "EdgeView([(1, 2)])"
      ]
     },
     "execution_count": 59,
     "metadata": {},
     "output_type": "execute_result"
    }
   ],
   "source": [
    "g.add_edge(1, 2)\n",
    "g.edges()"
   ]
  },
  {
   "cell_type": "code",
   "execution_count": 60,
   "metadata": {
    "slideshow": {
     "slide_type": "fragment"
    }
   },
   "outputs": [
    {
     "data": {
      "text/plain": [
       "EdgeView([(1, 2), (3, 4), (5, 6)])"
      ]
     },
     "execution_count": 60,
     "metadata": {},
     "output_type": "execute_result"
    }
   ],
   "source": [
    "g.add_edges_from([(3, 4), (5, 6)])\n",
    "g.edges()"
   ]
  },
  {
   "cell_type": "markdown",
   "metadata": {
    "slideshow": {
     "slide_type": "subslide"
    }
   },
   "source": [
    "To represent edges between nodes that have weights associated with them (for example, a distance), we\n",
    "can use `add_weighted_edges_from`, to which we pass a list of tuples that also contains the weight factor for each edge, in addition to the two nodes. When calling the `edges` method, we can additionally give argument `data=True` to indicate that also the edge data should be included in the resulting list"
   ]
  },
  {
   "cell_type": "code",
   "execution_count": 61,
   "metadata": {
    "slideshow": {
     "slide_type": "fragment"
    }
   },
   "outputs": [
    {
     "data": {
      "text/plain": [
       "EdgeDataView([(1, 2, {}), (1, 3, {'weight': 1.5}), (3, 4, {}), (3, 5, {'weight': 2.5}), (5, 6, {})])"
      ]
     },
     "execution_count": 61,
     "metadata": {},
     "output_type": "execute_result"
    }
   ],
   "source": [
    "g.add_weighted_edges_from([(1, 3, 1.5), (3, 5, 2.5)])\n",
    "g.edges(data=True)"
   ]
  },
  {
   "cell_type": "markdown",
   "metadata": {
    "slideshow": {
     "slide_type": "subslide"
    }
   },
   "source": [
    "Note that if we add edges between nodes that do not yet exist in the graph, they are seamlessly added.\n",
    "For example, in the following code, we add a weighted edge between node 6 and 7. Node 7 does not previously exist in the graph, but when adding an edge to it, it is automatically created and added to the graph:"
   ]
  },
  {
   "cell_type": "code",
   "execution_count": 62,
   "metadata": {
    "slideshow": {
     "slide_type": "fragment"
    }
   },
   "outputs": [
    {
     "data": {
      "text/plain": [
       "NodeView((1, 3, 4, 5, 2, 6, 7))"
      ]
     },
     "execution_count": 62,
     "metadata": {},
     "output_type": "execute_result"
    }
   ],
   "source": [
    "g.add_weighted_edges_from([(6, 7, 1.5)])\n",
    "g.nodes()"
   ]
  },
  {
   "cell_type": "code",
   "execution_count": 63,
   "metadata": {
    "slideshow": {
     "slide_type": "fragment"
    }
   },
   "outputs": [
    {
     "data": {
      "text/plain": [
       "EdgeView([(1, 2), (1, 3), (3, 4), (3, 5), (5, 6), (6, 7)])"
      ]
     },
     "execution_count": 63,
     "metadata": {},
     "output_type": "execute_result"
    }
   ],
   "source": [
    "g.edges()"
   ]
  },
  {
   "cell_type": "markdown",
   "metadata": {
    "slideshow": {
     "slide_type": "subslide"
    }
   },
   "source": [
    "With these basic fundamentals in place, we are already prepared to look at a more complicated example\n",
    "of a graph. In the following we will build a graph from a dataset stored in a JSON file called\n",
    "`tokyo-metro.json`, which we load using the Python standard library module `json`:"
   ]
  },
  {
   "cell_type": "code",
   "execution_count": 64,
   "metadata": {
    "slideshow": {
     "slide_type": "fragment"
    }
   },
   "outputs": [],
   "source": [
    "import json\n",
    "with open(\"./files/tokyo-metro.json\") as f:\n",
    "    data = json.load(f)"
   ]
  },
  {
   "cell_type": "markdown",
   "metadata": {
    "slideshow": {
     "slide_type": "fragment"
    }
   },
   "source": [
    "The result of loading the JSON file is a dictionary `data` that contains metro line descriptions. For each\n",
    "line, there is a list of travel times between stations (`travel_times`), a list of possible transfer points to other\n",
    "lines (`transfer`), as well as the line color:"
   ]
  },
  {
   "cell_type": "code",
   "execution_count": 65,
   "metadata": {
    "slideshow": {
     "slide_type": "fragment"
    }
   },
   "outputs": [
    {
     "data": {
      "text/plain": [
       "dict_keys(['C', 'G', 'F', 'H', 'M', 'N', 'T', 'Y', 'Z'])"
      ]
     },
     "execution_count": 65,
     "metadata": {},
     "output_type": "execute_result"
    }
   ],
   "source": [
    "data.keys()"
   ]
  },
  {
   "cell_type": "code",
   "execution_count": 66,
   "metadata": {
    "slideshow": {
     "slide_type": "subslide"
    }
   },
   "outputs": [
    {
     "data": {
      "text/plain": [
       "{'color': '#149848',\n",
       " 'transfers': [['C3', 'F15'],\n",
       "  ['C4', 'Z2'],\n",
       "  ['C4', 'G2'],\n",
       "  ['C7', 'M14'],\n",
       "  ['C7', 'N6'],\n",
       "  ['C7', 'G6'],\n",
       "  ['C8', 'M15'],\n",
       "  ['C8', 'H6'],\n",
       "  ['C9', 'H7'],\n",
       "  ['C9', 'Y18'],\n",
       "  ['C11', 'T9'],\n",
       "  ['C11', 'M18'],\n",
       "  ['C11', 'Z8'],\n",
       "  ['C12', 'M19'],\n",
       "  ['C18', 'H21']],\n",
       " 'travel_times': [['C1', 'C2', 2],\n",
       "  ['C2', 'C3', 2],\n",
       "  ['C3', 'C4', 1],\n",
       "  ['C4', 'C5', 2],\n",
       "  ['C5', 'C6', 2],\n",
       "  ['C6', 'C7', 2],\n",
       "  ['C7', 'C8', 1],\n",
       "  ['C8', 'C9', 3],\n",
       "  ['C9', 'C10', 1],\n",
       "  ['C10', 'C11', 2],\n",
       "  ['C11', 'C12', 2],\n",
       "  ['C12', 'C13', 2],\n",
       "  ['C13', 'C14', 2],\n",
       "  ['C14', 'C15', 2],\n",
       "  ['C15', 'C16', 2],\n",
       "  ['C16', 'C17', 3],\n",
       "  ['C17', 'C18', 3],\n",
       "  ['C18', 'C19', 3]]}"
      ]
     },
     "execution_count": 66,
     "metadata": {},
     "output_type": "execute_result"
    }
   ],
   "source": [
    "data[\"C\"]"
   ]
  },
  {
   "cell_type": "markdown",
   "metadata": {
    "slideshow": {
     "slide_type": "subslide"
    }
   },
   "source": [
    "The format of the `transfers` list is `[['C3', 'F15'], ...]`, indicating that it is possible\n",
    "to transfer from C line to F line at station C3 to station F15. \n",
    "The format of the `travel_times` list is `[['C1', 'C2', 2], ['C2', 'C3', 2], ...]`, indicating that\n",
    "it takes two minutes to travel between the stations C1 and C2, and two minutes to travel between\n",
    "C2 and C3, etc. The `transfers` and `travel_times` are\n",
    "directly suitable for feeding to `add_weighed_edges_from` and `add_edges_from`, and we can therefore easily\n",
    "create a graph for representing the metro network by iterating over each metro line dictionary and call\n",
    "these methods:"
   ]
  },
  {
   "cell_type": "code",
   "execution_count": 67,
   "metadata": {
    "slideshow": {
     "slide_type": "fragment"
    }
   },
   "outputs": [],
   "source": [
    "g = nx.Graph()\n",
    "\n",
    "for line in data.values():\n",
    "    g.add_edges_from(line[\"transfers\"])    \n",
    "    g.add_weighted_edges_from(line[\"travel_times\"])"
   ]
  },
  {
   "cell_type": "code",
   "execution_count": 68,
   "metadata": {
    "scrolled": true,
    "slideshow": {
     "slide_type": "subslide"
    }
   },
   "outputs": [
    {
     "data": {
      "text/plain": [
       "EdgeDataView([('C3', 'F15', {}), ('C3', 'C2', {'weight': 2}), ('C3', 'C4', {'weight': 1}), ('F15', 'F14', {'weight': 2}), ('F15', 'F16', {'weight': 2}), ('C4', 'Z2', {}), ('C4', 'G2', {}), ('C4', 'C5', {'weight': 2}), ('Z2', 'G2', {}), ('Z2', 'Z1', {'weight': 3}), ('Z2', 'Z3', {'weight': 2}), ('G2', 'G1', {'weight': 2}), ('G2', 'G3', {'weight': 1}), ('C7', 'M14', {}), ('C7', 'N6', {}), ('C7', 'G6', {}), ('C7', 'C6', {'weight': 2}), ('C7', 'C8', {'weight': 1}), ('M14', 'G6', {}), ('M14', 'N6', {}), ('M14', 'M13', {'weight': 2}), ('M14', 'M15', {'weight': 1}), ('N6', 'G6', {}), ('N6', 'N5', {'weight': 2}), ('N6', 'N7', {'weight': 2}), ('G6', 'G5', {'weight': 2}), ('G6', 'G7', {'weight': 2}), ('C8', 'M15', {}), ('C8', 'H6', {}), ('C8', 'C9', {'weight': 3}), ('M15', 'H6', {}), ('M15', 'M16', {'weight': 3}), ('H6', 'H5', {'weight': 2}), ('H6', 'H7', {'weight': 3}), ('C9', 'H7', {}), ('C9', 'Y18', {}), ('C9', 'C10', {'weight': 1}), ('H7', 'Y18', {}), ('H7', 'H8', {'weight': 1}), ('Y18', 'Y17', {'weight': 2}), ('Y18', 'Y19', {'weight': 2}), ('C11', 'T9', {}), ('C11', 'M18', {}), ('C11', 'Z8', {}), ('C11', 'C10', {'weight': 2}), ('C11', 'C12', {'weight': 2}), ('T9', 'M18', {}), ('T9', 'Z8', {}), ('T9', 'T8', {'weight': 16}), ('T9', 'T10', {'weight': 18}), ('M18', 'Z8', {}), ('M18', 'M17', {'weight': 2}), ('M18', 'M19', {'weight': 2}), ('Z8', 'Z7', {'weight': 2}), ('Z8', 'Z9', {'weight': 2}), ('C12', 'M19', {}), ('C12', 'C13', {'weight': 2}), ('M19', 'M20', {'weight': 1}), ('C18', 'H21', {}), ('C18', 'C17', {'weight': 3}), ('C18', 'C19', {'weight': 3}), ('H21', 'H20', {'weight': 3}), ('C1', 'C2', {'weight': 2}), ('C5', 'C6', {'weight': 2}), ('C13', 'C14', {'weight': 2}), ('C14', 'C15', {'weight': 2}), ('C15', 'C16', {'weight': 2}), ('C16', 'C17', {'weight': 3}), ('G1', 'Z1', {}), ('G1', 'F16', {}), ('Z1', 'F16', {}), ('G4', 'Z3', {}), ('G4', 'G3', {'weight': 2}), ('G4', 'G5', {'weight': 2}), ('Z3', 'Z4', {'weight': 2}), ('G5', 'M13', {}), ('G5', 'Y16', {}), ('G5', 'Z4', {}), ('G5', 'N7', {}), ('M13', 'Y16', {}), ('M13', 'Z4', {}), ('M13', 'N7', {}), ('M13', 'M12', {'weight': 3}), ('Y16', 'N7', {}), ('Y16', 'Z4', {}), ('Y16', 'Y15', {'weight': 1}), ('Y16', 'Y17', {'weight': 2}), ('Z4', 'N7', {}), ('Z4', 'Z5', {'weight': 2}), ('N7', 'N8', {'weight': 2}), ('G9', 'M16', {}), ('G9', 'H8', {}), ('G9', 'G8', {'weight': 2}), ('G9', 'G10', {'weight': 1}), ('M16', 'H8', {}), ('M16', 'M17', {'weight': 2}), ('H8', 'H9', {'weight': 2}), ('G11', 'T10', {}), ('G11', 'G10', {'weight': 2}), ('G11', 'G12', {'weight': 2}), ('T10', 'T11', {'weight': 20}), ('G12', 'Z9', {}), ('G12', 'G13', {'weight': 1}), ('Z9', 'Z10', {'weight': 3}), ('G15', 'H16', {}), ('G15', 'G14', {'weight': 2}), ('G15', 'G16', {'weight': 1}), ('H16', 'H15', {'weight': 2}), ('H16', 'H17', {'weight': 1}), ('G16', 'H17', {}), ('G16', 'G17', {'weight': 2}), ('H17', 'H18', {'weight': 2}), ('G7', 'G8', {'weight': 2}), ('G13', 'G14', {'weight': 2}), ('G17', 'G18', {'weight': 1}), ('G18', 'G19', {'weight': 2}), ('F1', 'Y1', {}), ('F1', 'F2', {'weight': 3}), ('Y1', 'Y2', {'weight': 4}), ('F2', 'Y2', {}), ('F2', 'F3', {'weight': 2}), ('Y2', 'Y3', {'weight': 2}), ('F3', 'Y3', {}), ('F3', 'F4', {'weight': 3}), ('Y3', 'Y4', {'weight': 3}), ('F4', 'Y4', {}), ('F4', 'F5', {'weight': 2}), ('Y4', 'Y5', {'weight': 2}), ('F5', 'Y5', {}), ('F5', 'F6', {'weight': 2}), ('Y5', 'Y6', {'weight': 2}), ('F6', 'Y6', {}), ('F6', 'F7', {'weight': 2}), ('Y6', 'Y7', {'weight': 2}), ('F7', 'Y7', {}), ('F7', 'F8', {'weight': 2}), ('Y7', 'Y8', {'weight': 2}), ('F8', 'Y8', {}), ('F8', 'F9', {'weight': 2}), ('Y8', 'Y9', {'weight': 3}), ('F9', 'Y9', {}), ('F9', 'M25', {}), ('F9', 'F10', {'weight': 3}), ('Y9', 'M25', {}), ('Y9', 'Y10', {'weight': 2}), ('M25', 'M24', {'weight': 3}), ('F13', 'M9', {}), ('F13', 'F12', {'weight': 2}), ('F13', 'F14', {'weight': 3}), ('M9', 'M8', {'weight': 2}), ('M9', 'M10', {'weight': 1}), ('F10', 'F11', {'weight': 2}), ('F11', 'F12', {'weight': 2}), ('H12', 'T11', {}), ('H12', 'H11', {'weight': 1}), ('H12', 'H13', {'weight': 3}), ('T11', 'T12', {'weight': 21}), ('H1', 'H2', {'weight': 3}), ('H2', 'H3', {'weight': 3}), ('H3', 'H4', {'weight': 3}), ('H4', 'H5', {'weight': 3}), ('H9', 'H10', {'weight': 2}), ('H10', 'H11', {'weight': 2}), ('H13', 'H14', {'weight': 1}), ('H14', 'H15', {'weight': 2}), ('H18', 'H19', {'weight': 2}), ('H19', 'H20', {'weight': 2}), ('M12', 'N8', {}), ('M12', 'M11', {'weight': 2}), ('N8', 'N9', {'weight': 2}), ('M22', 'N11', {}), ('M22', 'M21', {'weight': 2}), ('M22', 'M23', {'weight': 3}), ('N11', 'N10', {'weight': 2}), ('N11', 'N12', {'weight': 3}), ('M1', 'M2', {'weight': 2}), ('M2', 'M3', {'weight': 2}), ('M3', 'M4', {'weight': 2}), ('M4', 'M5', {'weight': 2}), ('M5', 'M6', {'weight': 2}), ('M6', 'M7', {'weight': 2}), ('M6', 'm5', {'weight': 2}), ('M7', 'M8', {'weight': 2}), ('M10', 'M11', {'weight': 2}), ('M20', 'M21', {'weight': 2}), ('M23', 'M24', {'weight': 2}), ('m3', 'm4', {'weight': 2}), ('m4', 'm5', {'weight': 2}), ('N1', 'T1', {}), ('N1', 'N2', {'weight': 2}), ('T1', 'T2', {'weight': 0}), ('N2', 'T2', {}), ('N2', 'N3', {'weight': 2}), ('T2', 'T3', {'weight': 3}), ('N3', 'T3', {}), ('N3', 'N4', {'weight': 2}), ('T3', 'T4', {'weight': 6}), ('N9', 'Y14', {}), ('N9', 'N10', {'weight': 2}), ('Y14', 'Y13', {'weight': 2}), ('Y14', 'Y15', {'weight': 2}), ('N10', 'Y13', {}), ('N10', 'T6', {}), ('Y13', 'T6', {}), ('Y13', 'Y12', {'weight': 3}), ('T6', 'T5', {'weight': 11}), ('T6', 'T7', {'weight': 13}), ('N4', 'N5', {'weight': 2}), ('N12', 'N13', {'weight': 2}), ('N13', 'N14', {'weight': 2}), ('N14', 'N15', {'weight': 3}), ('N15', 'N16', {'weight': 1}), ('N16', 'N17', {'weight': 3}), ('N17', 'N18', {'weight': 2}), ('N18', 'N19', {'weight': 2}), ('T7', 'Z6', {}), ('T7', 'T8', {'weight': 14}), ('Z6', 'Z5', {'weight': 2}), ('Z6', 'Z7', {'weight': 2}), ('T4', 'T5', {'weight': 9}), ('T12', 'T13', {'weight': 24}), ('T13', 'T14', {'weight': 26}), ('T14', 'T15', {'weight': 27}), ('T15', 'T16', {'weight': 30}), ('T16', 'T17', {'weight': 33}), ('T17', 'T18', {'weight': 35}), ('T18', 'T19', {'weight': 37}), ('T19', 'T20', {'weight': 39}), ('T20', 'T21', {'weight': 41}), ('T21', 'T22', {'weight': 43}), ('T22', 'T23', {'weight': 46}), ('T23', 'T24', {'weight': 49}), ('Y10', 'Y11', {'weight': 2}), ('Y11', 'Y12', {'weight': 2}), ('Y19', 'Y20', {'weight': 2}), ('Y20', 'Y21', {'weight': 2}), ('Y21', 'Y22', {'weight': 2}), ('Y22', 'Y23', {'weight': 3}), ('Y23', 'Y24', {'weight': 2}), ('Z10', 'Z11', {'weight': 3}), ('Z11', 'Z12', {'weight': 3}), ('Z12', 'Z13', {'weight': 2}), ('Z13', 'Z14', {'weight': 2})])"
      ]
     },
     "execution_count": 68,
     "metadata": {},
     "output_type": "execute_result"
    }
   ],
   "source": [
    "g.edges(data=True)"
   ]
  },
  {
   "cell_type": "markdown",
   "metadata": {
    "slideshow": {
     "slide_type": "subslide"
    }
   },
   "source": [
    "The line transfer edges do not have edge weights, so let's first mark all transfer edges by adding a new Boolean attribute `transfer` to each edge:"
   ]
  },
  {
   "cell_type": "code",
   "execution_count": 69,
   "metadata": {
    "slideshow": {
     "slide_type": "fragment"
    }
   },
   "outputs": [],
   "source": [
    "for n1, n2 in g.edges():\n",
    "    g[n1][n2][\"transfer\"] = \"weight\" not in g[n1][n2]"
   ]
  },
  {
   "cell_type": "code",
   "execution_count": 70,
   "metadata": {
    "scrolled": true,
    "slideshow": {
     "slide_type": "fragment"
    }
   },
   "outputs": [
    {
     "data": {
      "text/plain": [
       "EdgeDataView([('C3', 'F15', {'transfer': True}), ('C3', 'C2', {'weight': 2, 'transfer': False}), ('C3', 'C4', {'weight': 1, 'transfer': False}), ('F15', 'F14', {'weight': 2, 'transfer': False}), ('F15', 'F16', {'weight': 2, 'transfer': False}), ('C4', 'Z2', {'transfer': True}), ('C4', 'G2', {'transfer': True}), ('C4', 'C5', {'weight': 2, 'transfer': False}), ('Z2', 'G2', {'transfer': True}), ('Z2', 'Z1', {'weight': 3, 'transfer': False}), ('Z2', 'Z3', {'weight': 2, 'transfer': False}), ('G2', 'G1', {'weight': 2, 'transfer': False}), ('G2', 'G3', {'weight': 1, 'transfer': False}), ('C7', 'M14', {'transfer': True}), ('C7', 'N6', {'transfer': True}), ('C7', 'G6', {'transfer': True}), ('C7', 'C6', {'weight': 2, 'transfer': False}), ('C7', 'C8', {'weight': 1, 'transfer': False}), ('M14', 'G6', {'transfer': True}), ('M14', 'N6', {'transfer': True}), ('M14', 'M13', {'weight': 2, 'transfer': False}), ('M14', 'M15', {'weight': 1, 'transfer': False}), ('N6', 'G6', {'transfer': True}), ('N6', 'N5', {'weight': 2, 'transfer': False}), ('N6', 'N7', {'weight': 2, 'transfer': False}), ('G6', 'G5', {'weight': 2, 'transfer': False}), ('G6', 'G7', {'weight': 2, 'transfer': False}), ('C8', 'M15', {'transfer': True}), ('C8', 'H6', {'transfer': True}), ('C8', 'C9', {'weight': 3, 'transfer': False}), ('M15', 'H6', {'transfer': True}), ('M15', 'M16', {'weight': 3, 'transfer': False}), ('H6', 'H5', {'weight': 2, 'transfer': False}), ('H6', 'H7', {'weight': 3, 'transfer': False}), ('C9', 'H7', {'transfer': True}), ('C9', 'Y18', {'transfer': True}), ('C9', 'C10', {'weight': 1, 'transfer': False}), ('H7', 'Y18', {'transfer': True}), ('H7', 'H8', {'weight': 1, 'transfer': False}), ('Y18', 'Y17', {'weight': 2, 'transfer': False}), ('Y18', 'Y19', {'weight': 2, 'transfer': False}), ('C11', 'T9', {'transfer': True}), ('C11', 'M18', {'transfer': True}), ('C11', 'Z8', {'transfer': True}), ('C11', 'C10', {'weight': 2, 'transfer': False}), ('C11', 'C12', {'weight': 2, 'transfer': False}), ('T9', 'M18', {'transfer': True}), ('T9', 'Z8', {'transfer': True}), ('T9', 'T8', {'weight': 16, 'transfer': False}), ('T9', 'T10', {'weight': 18, 'transfer': False}), ('M18', 'Z8', {'transfer': True}), ('M18', 'M17', {'weight': 2, 'transfer': False}), ('M18', 'M19', {'weight': 2, 'transfer': False}), ('Z8', 'Z7', {'weight': 2, 'transfer': False}), ('Z8', 'Z9', {'weight': 2, 'transfer': False}), ('C12', 'M19', {'transfer': True}), ('C12', 'C13', {'weight': 2, 'transfer': False}), ('M19', 'M20', {'weight': 1, 'transfer': False}), ('C18', 'H21', {'transfer': True}), ('C18', 'C17', {'weight': 3, 'transfer': False}), ('C18', 'C19', {'weight': 3, 'transfer': False}), ('H21', 'H20', {'weight': 3, 'transfer': False}), ('C1', 'C2', {'weight': 2, 'transfer': False}), ('C5', 'C6', {'weight': 2, 'transfer': False}), ('C13', 'C14', {'weight': 2, 'transfer': False}), ('C14', 'C15', {'weight': 2, 'transfer': False}), ('C15', 'C16', {'weight': 2, 'transfer': False}), ('C16', 'C17', {'weight': 3, 'transfer': False}), ('G1', 'Z1', {'transfer': True}), ('G1', 'F16', {'transfer': True}), ('Z1', 'F16', {'transfer': True}), ('G4', 'Z3', {'transfer': True}), ('G4', 'G3', {'weight': 2, 'transfer': False}), ('G4', 'G5', {'weight': 2, 'transfer': False}), ('Z3', 'Z4', {'weight': 2, 'transfer': False}), ('G5', 'M13', {'transfer': True}), ('G5', 'Y16', {'transfer': True}), ('G5', 'Z4', {'transfer': True}), ('G5', 'N7', {'transfer': True}), ('M13', 'Y16', {'transfer': True}), ('M13', 'Z4', {'transfer': True}), ('M13', 'N7', {'transfer': True}), ('M13', 'M12', {'weight': 3, 'transfer': False}), ('Y16', 'N7', {'transfer': True}), ('Y16', 'Z4', {'transfer': True}), ('Y16', 'Y15', {'weight': 1, 'transfer': False}), ('Y16', 'Y17', {'weight': 2, 'transfer': False}), ('Z4', 'N7', {'transfer': True}), ('Z4', 'Z5', {'weight': 2, 'transfer': False}), ('N7', 'N8', {'weight': 2, 'transfer': False}), ('G9', 'M16', {'transfer': True}), ('G9', 'H8', {'transfer': True}), ('G9', 'G8', {'weight': 2, 'transfer': False}), ('G9', 'G10', {'weight': 1, 'transfer': False}), ('M16', 'H8', {'transfer': True}), ('M16', 'M17', {'weight': 2, 'transfer': False}), ('H8', 'H9', {'weight': 2, 'transfer': False}), ('G11', 'T10', {'transfer': True}), ('G11', 'G10', {'weight': 2, 'transfer': False}), ('G11', 'G12', {'weight': 2, 'transfer': False}), ('T10', 'T11', {'weight': 20, 'transfer': False}), ('G12', 'Z9', {'transfer': True}), ('G12', 'G13', {'weight': 1, 'transfer': False}), ('Z9', 'Z10', {'weight': 3, 'transfer': False}), ('G15', 'H16', {'transfer': True}), ('G15', 'G14', {'weight': 2, 'transfer': False}), ('G15', 'G16', {'weight': 1, 'transfer': False}), ('H16', 'H15', {'weight': 2, 'transfer': False}), ('H16', 'H17', {'weight': 1, 'transfer': False}), ('G16', 'H17', {'transfer': True}), ('G16', 'G17', {'weight': 2, 'transfer': False}), ('H17', 'H18', {'weight': 2, 'transfer': False}), ('G7', 'G8', {'weight': 2, 'transfer': False}), ('G13', 'G14', {'weight': 2, 'transfer': False}), ('G17', 'G18', {'weight': 1, 'transfer': False}), ('G18', 'G19', {'weight': 2, 'transfer': False}), ('F1', 'Y1', {'transfer': True}), ('F1', 'F2', {'weight': 3, 'transfer': False}), ('Y1', 'Y2', {'weight': 4, 'transfer': False}), ('F2', 'Y2', {'transfer': True}), ('F2', 'F3', {'weight': 2, 'transfer': False}), ('Y2', 'Y3', {'weight': 2, 'transfer': False}), ('F3', 'Y3', {'transfer': True}), ('F3', 'F4', {'weight': 3, 'transfer': False}), ('Y3', 'Y4', {'weight': 3, 'transfer': False}), ('F4', 'Y4', {'transfer': True}), ('F4', 'F5', {'weight': 2, 'transfer': False}), ('Y4', 'Y5', {'weight': 2, 'transfer': False}), ('F5', 'Y5', {'transfer': True}), ('F5', 'F6', {'weight': 2, 'transfer': False}), ('Y5', 'Y6', {'weight': 2, 'transfer': False}), ('F6', 'Y6', {'transfer': True}), ('F6', 'F7', {'weight': 2, 'transfer': False}), ('Y6', 'Y7', {'weight': 2, 'transfer': False}), ('F7', 'Y7', {'transfer': True}), ('F7', 'F8', {'weight': 2, 'transfer': False}), ('Y7', 'Y8', {'weight': 2, 'transfer': False}), ('F8', 'Y8', {'transfer': True}), ('F8', 'F9', {'weight': 2, 'transfer': False}), ('Y8', 'Y9', {'weight': 3, 'transfer': False}), ('F9', 'Y9', {'transfer': True}), ('F9', 'M25', {'transfer': True}), ('F9', 'F10', {'weight': 3, 'transfer': False}), ('Y9', 'M25', {'transfer': True}), ('Y9', 'Y10', {'weight': 2, 'transfer': False}), ('M25', 'M24', {'weight': 3, 'transfer': False}), ('F13', 'M9', {'transfer': True}), ('F13', 'F12', {'weight': 2, 'transfer': False}), ('F13', 'F14', {'weight': 3, 'transfer': False}), ('M9', 'M8', {'weight': 2, 'transfer': False}), ('M9', 'M10', {'weight': 1, 'transfer': False}), ('F10', 'F11', {'weight': 2, 'transfer': False}), ('F11', 'F12', {'weight': 2, 'transfer': False}), ('H12', 'T11', {'transfer': True}), ('H12', 'H11', {'weight': 1, 'transfer': False}), ('H12', 'H13', {'weight': 3, 'transfer': False}), ('T11', 'T12', {'weight': 21, 'transfer': False}), ('H1', 'H2', {'weight': 3, 'transfer': False}), ('H2', 'H3', {'weight': 3, 'transfer': False}), ('H3', 'H4', {'weight': 3, 'transfer': False}), ('H4', 'H5', {'weight': 3, 'transfer': False}), ('H9', 'H10', {'weight': 2, 'transfer': False}), ('H10', 'H11', {'weight': 2, 'transfer': False}), ('H13', 'H14', {'weight': 1, 'transfer': False}), ('H14', 'H15', {'weight': 2, 'transfer': False}), ('H18', 'H19', {'weight': 2, 'transfer': False}), ('H19', 'H20', {'weight': 2, 'transfer': False}), ('M12', 'N8', {'transfer': True}), ('M12', 'M11', {'weight': 2, 'transfer': False}), ('N8', 'N9', {'weight': 2, 'transfer': False}), ('M22', 'N11', {'transfer': True}), ('M22', 'M21', {'weight': 2, 'transfer': False}), ('M22', 'M23', {'weight': 3, 'transfer': False}), ('N11', 'N10', {'weight': 2, 'transfer': False}), ('N11', 'N12', {'weight': 3, 'transfer': False}), ('M1', 'M2', {'weight': 2, 'transfer': False}), ('M2', 'M3', {'weight': 2, 'transfer': False}), ('M3', 'M4', {'weight': 2, 'transfer': False}), ('M4', 'M5', {'weight': 2, 'transfer': False}), ('M5', 'M6', {'weight': 2, 'transfer': False}), ('M6', 'M7', {'weight': 2, 'transfer': False}), ('M6', 'm5', {'weight': 2, 'transfer': False}), ('M7', 'M8', {'weight': 2, 'transfer': False}), ('M10', 'M11', {'weight': 2, 'transfer': False}), ('M20', 'M21', {'weight': 2, 'transfer': False}), ('M23', 'M24', {'weight': 2, 'transfer': False}), ('m3', 'm4', {'weight': 2, 'transfer': False}), ('m4', 'm5', {'weight': 2, 'transfer': False}), ('N1', 'T1', {'transfer': True}), ('N1', 'N2', {'weight': 2, 'transfer': False}), ('T1', 'T2', {'weight': 0, 'transfer': False}), ('N2', 'T2', {'transfer': True}), ('N2', 'N3', {'weight': 2, 'transfer': False}), ('T2', 'T3', {'weight': 3, 'transfer': False}), ('N3', 'T3', {'transfer': True}), ('N3', 'N4', {'weight': 2, 'transfer': False}), ('T3', 'T4', {'weight': 6, 'transfer': False}), ('N9', 'Y14', {'transfer': True}), ('N9', 'N10', {'weight': 2, 'transfer': False}), ('Y14', 'Y13', {'weight': 2, 'transfer': False}), ('Y14', 'Y15', {'weight': 2, 'transfer': False}), ('N10', 'Y13', {'transfer': True}), ('N10', 'T6', {'transfer': True}), ('Y13', 'T6', {'transfer': True}), ('Y13', 'Y12', {'weight': 3, 'transfer': False}), ('T6', 'T5', {'weight': 11, 'transfer': False}), ('T6', 'T7', {'weight': 13, 'transfer': False}), ('N4', 'N5', {'weight': 2, 'transfer': False}), ('N12', 'N13', {'weight': 2, 'transfer': False}), ('N13', 'N14', {'weight': 2, 'transfer': False}), ('N14', 'N15', {'weight': 3, 'transfer': False}), ('N15', 'N16', {'weight': 1, 'transfer': False}), ('N16', 'N17', {'weight': 3, 'transfer': False}), ('N17', 'N18', {'weight': 2, 'transfer': False}), ('N18', 'N19', {'weight': 2, 'transfer': False}), ('T7', 'Z6', {'transfer': True}), ('T7', 'T8', {'weight': 14, 'transfer': False}), ('Z6', 'Z5', {'weight': 2, 'transfer': False}), ('Z6', 'Z7', {'weight': 2, 'transfer': False}), ('T4', 'T5', {'weight': 9, 'transfer': False}), ('T12', 'T13', {'weight': 24, 'transfer': False}), ('T13', 'T14', {'weight': 26, 'transfer': False}), ('T14', 'T15', {'weight': 27, 'transfer': False}), ('T15', 'T16', {'weight': 30, 'transfer': False}), ('T16', 'T17', {'weight': 33, 'transfer': False}), ('T17', 'T18', {'weight': 35, 'transfer': False}), ('T18', 'T19', {'weight': 37, 'transfer': False}), ('T19', 'T20', {'weight': 39, 'transfer': False}), ('T20', 'T21', {'weight': 41, 'transfer': False}), ('T21', 'T22', {'weight': 43, 'transfer': False}), ('T22', 'T23', {'weight': 46, 'transfer': False}), ('T23', 'T24', {'weight': 49, 'transfer': False}), ('Y10', 'Y11', {'weight': 2, 'transfer': False}), ('Y11', 'Y12', {'weight': 2, 'transfer': False}), ('Y19', 'Y20', {'weight': 2, 'transfer': False}), ('Y20', 'Y21', {'weight': 2, 'transfer': False}), ('Y21', 'Y22', {'weight': 2, 'transfer': False}), ('Y22', 'Y23', {'weight': 3, 'transfer': False}), ('Y23', 'Y24', {'weight': 2, 'transfer': False}), ('Z10', 'Z11', {'weight': 3, 'transfer': False}), ('Z11', 'Z12', {'weight': 3, 'transfer': False}), ('Z12', 'Z13', {'weight': 2, 'transfer': False}), ('Z13', 'Z14', {'weight': 2, 'transfer': False})])"
      ]
     },
     "execution_count": 70,
     "metadata": {},
     "output_type": "execute_result"
    }
   ],
   "source": [
    "g.edges(data=True)"
   ]
  },
  {
   "cell_type": "code",
   "execution_count": 71,
   "metadata": {
    "slideshow": {
     "slide_type": "subslide"
    }
   },
   "outputs": [
    {
     "data": {
      "text/plain": [
       "184"
      ]
     },
     "execution_count": 71,
     "metadata": {},
     "output_type": "execute_result"
    }
   ],
   "source": [
    "g.number_of_nodes()"
   ]
  },
  {
   "cell_type": "code",
   "execution_count": 72,
   "metadata": {
    "slideshow": {
     "slide_type": "fragment"
    }
   },
   "outputs": [
    {
     "data": {
      "text/plain": [
       "['C3', 'F15', 'C4', 'Z2', 'G2']"
      ]
     },
     "execution_count": 72,
     "metadata": {},
     "output_type": "execute_result"
    }
   ],
   "source": [
    "list(g.nodes())[:5]"
   ]
  },
  {
   "cell_type": "code",
   "execution_count": 73,
   "metadata": {
    "slideshow": {
     "slide_type": "fragment"
    }
   },
   "outputs": [
    {
     "data": {
      "text/plain": [
       "243"
      ]
     },
     "execution_count": 73,
     "metadata": {},
     "output_type": "execute_result"
    }
   ],
   "source": [
    "g.number_of_edges()"
   ]
  },
  {
   "cell_type": "code",
   "execution_count": 74,
   "metadata": {
    "slideshow": {
     "slide_type": "fragment"
    }
   },
   "outputs": [
    {
     "data": {
      "text/plain": [
       "[('C3', 'F15'), ('C3', 'C2'), ('C3', 'C4'), ('F15', 'F14'), ('F15', 'F16')]"
      ]
     },
     "execution_count": 74,
     "metadata": {},
     "output_type": "execute_result"
    }
   ],
   "source": [
    "list(g.edges())[:5]"
   ]
  },
  {
   "cell_type": "markdown",
   "metadata": {
    "slideshow": {
     "slide_type": "subslide"
    }
   },
   "source": [
    "Next, for plotting purposes, we create two lists of edges containing transfer edges and on-train edges:"
   ]
  },
  {
   "cell_type": "code",
   "execution_count": 75,
   "metadata": {
    "slideshow": {
     "slide_type": "fragment"
    }
   },
   "outputs": [],
   "source": [
    "on_foot = [edge for edge in g.edges() if g.get_edge_data(*edge)[\"transfer\"]]\n",
    "on_train = [edge for edge in g.edges() if not g.get_edge_data(*edge)[\"transfer\"]]"
   ]
  },
  {
   "cell_type": "markdown",
   "metadata": {
    "slideshow": {
     "slide_type": "fragment"
    }
   },
   "source": [
    "and we also create a list with colors corresponding to each node in the network:"
   ]
  },
  {
   "cell_type": "code",
   "execution_count": 76,
   "metadata": {
    "slideshow": {
     "slide_type": "fragment"
    }
   },
   "outputs": [],
   "source": [
    "colors = [data[n[0].upper()][\"color\"] for n in g.nodes()]"
   ]
  },
  {
   "cell_type": "markdown",
   "metadata": {
    "slideshow": {
     "slide_type": "subslide"
    }
   },
   "source": [
    "To visualize the graph, we can use the Matplotlib-based drawing routines in the `networkx` library:\n",
    "We use `nx.draw_networkx` to draw each node, `nx.draw_networkx_labels` to draw the labels to the nodes, \n",
    "`nx.draw_networkx_edges` to draw the edges. We call `nx.draw_networkx_edges` twice, with the edge lists for transfers\n",
    "(`on_foot`) and on-train (`on_train`) connections, and color the links as blue and black, respectively, using the\n",
    "`edge_color` argument. The layout of the graph is determined by the `pos` argument to the drawing functions.\n",
    "Here we used the `graphviz_layout` to layout the nodes. All drawing functions also accept a Matplotlib\n",
    "axes instance via the `ax` argument."
   ]
  },
  {
   "cell_type": "code",
   "execution_count": 77,
   "metadata": {
    "slideshow": {
     "slide_type": "fragment"
    }
   },
   "outputs": [],
   "source": [
    "# !conda install -c alubbock graphviz pygraphviz\n",
    "# Please install graphviz and set 'path' environment for Windows 10 (See ./files/graphvis_installation.txt)\n",
    "\n",
    "from networkx.drawing.nx_agraph import graphviz_layout"
   ]
  },
  {
   "cell_type": "code",
   "execution_count": 78,
   "metadata": {
    "slideshow": {
     "slide_type": "subslide"
    }
   },
   "outputs": [],
   "source": [
    "%matplotlib qt\n",
    "\n",
    "fig, ax = plt.subplots(1, 1, figsize=(20, 15))\n",
    "\n",
    "pos = graphviz_layout(g, prog=\"neato\")\n",
    "nx.draw_networkx(g, pos, ax=ax, node_size=450, node_color=colors)\n",
    "nx.draw_networkx_labels(g, pos=pos, ax=ax, font_size=1)\n",
    "nx.draw_networkx_edges(g, pos=pos, ax=ax, edgelist=on_train, width=2)\n",
    "nx.draw_networkx_edges(g, pos=pos, ax=ax, edgelist=on_foot, edge_color=\"red\", width=2)\n",
    "\n",
    "# removing the default axis on all sides:\n",
    "for side in ['bottom','right','top','left']:\n",
    "    ax.spines[side].set_visible(False)\n",
    "\n",
    "# removing the axis labels and ticks\n",
    "ax.set_xticks([])\n",
    "ax.set_yticks([])\n",
    "ax.xaxis.set_ticks_position('none')\n",
    "ax.yaxis.set_ticks_position('none')"
   ]
  },
  {
   "cell_type": "markdown",
   "metadata": {
    "collapsed": true,
    "slideshow": {
     "slide_type": "subslide"
    }
   },
   "source": [
    "Once the network has been constructed, we can use the many graph algorithms provided by the\n",
    "NetworkX library to analyze the network. For example, to compute the degree (that is, the number of\n",
    "connections to a node) of each node, we can use the `degree` method"
   ]
  },
  {
   "cell_type": "code",
   "execution_count": 79,
   "metadata": {
    "slideshow": {
     "slide_type": "fragment"
    }
   },
   "outputs": [
    {
     "data": {
      "text/plain": [
       "DegreeView({'C3': 3, 'F15': 3, 'C4': 4, 'Z2': 4, 'G2': 4, 'C7': 5, 'M14': 5, 'N6': 5, 'G6': 5, 'C8': 4, 'M15': 4, 'H6': 4, 'C9': 4, 'H7': 4, 'Y18': 4, 'C11': 5, 'T9': 5, 'M18': 5, 'Z8': 5, 'C12': 3, 'M19': 3, 'C18': 3, 'H21': 2, 'C1': 1, 'C2': 2, 'C5': 2, 'C6': 2, 'C10': 2, 'C13': 2, 'C14': 2, 'C15': 2, 'C16': 2, 'C17': 2, 'C19': 1, 'G1': 3, 'Z1': 3, 'F16': 3, 'G4': 3, 'Z3': 3, 'G5': 6, 'M13': 6, 'Y16': 6, 'Z4': 6, 'N7': 6, 'G9': 4, 'M16': 4, 'H8': 4, 'G11': 3, 'T10': 3, 'G12': 3, 'Z9': 3, 'G15': 3, 'H16': 3, 'G16': 3, 'H17': 3, 'G3': 2, 'G7': 2, 'G8': 2, 'G10': 2, 'G13': 2, 'G14': 2, 'G17': 2, 'G18': 2, 'G19': 1, 'F1': 2, 'Y1': 2, 'F2': 3, 'Y2': 3, 'F3': 3, 'Y3': 3, 'F4': 3, 'Y4': 3, 'F5': 3, 'Y5': 3, 'F6': 3, 'Y6': 3, 'F7': 3, 'Y7': 3, 'F8': 3, 'Y8': 3, 'F9': 4, 'Y9': 4, 'M25': 3, 'F13': 3, 'M9': 3, 'F10': 2, 'F11': 2, 'F12': 2, 'F14': 2, 'H12': 3, 'T11': 3, 'H1': 1, 'H2': 2, 'H3': 2, 'H4': 2, 'H5': 2, 'H9': 2, 'H10': 2, 'H11': 2, 'H13': 2, 'H14': 2, 'H15': 2, 'H18': 2, 'H19': 2, 'H20': 2, 'M12': 3, 'N8': 3, 'M22': 3, 'N11': 3, 'M1': 1, 'M2': 2, 'M3': 2, 'M4': 2, 'M5': 2, 'M6': 3, 'M7': 2, 'M8': 2, 'M10': 2, 'M11': 2, 'M17': 2, 'M20': 2, 'M21': 2, 'M23': 2, 'M24': 2, 'm3': 1, 'm4': 2, 'm5': 2, 'N1': 2, 'T1': 2, 'N2': 3, 'T2': 3, 'N3': 3, 'T3': 3, 'N9': 3, 'Y14': 3, 'N10': 4, 'Y13': 4, 'T6': 4, 'N4': 2, 'N5': 2, 'N12': 2, 'N13': 2, 'N14': 2, 'N15': 2, 'N16': 2, 'N17': 2, 'N18': 2, 'N19': 1, 'T7': 3, 'Z6': 3, 'T4': 2, 'T5': 2, 'T8': 2, 'T12': 2, 'T13': 2, 'T14': 2, 'T15': 2, 'T16': 2, 'T17': 2, 'T18': 2, 'T19': 2, 'T20': 2, 'T21': 2, 'T22': 2, 'T23': 2, 'T24': 1, 'Y10': 2, 'Y11': 2, 'Y12': 2, 'Y15': 2, 'Y17': 2, 'Y19': 2, 'Y20': 2, 'Y21': 2, 'Y22': 2, 'Y23': 2, 'Y24': 1, 'Z5': 2, 'Z7': 2, 'Z10': 2, 'Z11': 2, 'Z12': 2, 'Z13': 2, 'Z14': 1})"
      ]
     },
     "execution_count": 79,
     "metadata": {},
     "output_type": "execute_result"
    }
   ],
   "source": [
    "g.degree()"
   ]
  },
  {
   "cell_type": "markdown",
   "metadata": {
    "slideshow": {
     "slide_type": "subslide"
    }
   },
   "source": [
    "For this graph, the degree of a node can be interpreted as the number of connections to a station. We can\n",
    "easily search for the most highly connected station in the network by using the `degree` method, the `values` method of the resulting Python dictionary, and the `max` function to find the highest degree in the network"
   ]
  },
  {
   "cell_type": "code",
   "execution_count": 80,
   "metadata": {
    "slideshow": {
     "slide_type": "fragment"
    }
   },
   "outputs": [
    {
     "data": {
      "text/plain": [
       "[('G5', 6), ('M13', 6), ('Y16', 6), ('Z4', 6), ('N7', 6)]"
      ]
     },
     "execution_count": 80,
     "metadata": {},
     "output_type": "execute_result"
    }
   ],
   "source": [
    "g_degree = dict(g.degree())\n",
    "d_max = max(g_degree.values())\n",
    "[(n, d) for (n, d) in g_degree.items() if d == d_max]"
   ]
  },
  {
   "cell_type": "markdown",
   "metadata": {
    "slideshow": {
     "slide_type": "subslide"
    }
   },
   "source": [
    "We can also compute the closest path between two points in the network using `nx.shortest_path`. For example, the optimal\n",
    "traveling route (assuming no waiting time and instantaneous transfer) for traveling between `Y24` and `C19` is:"
   ]
  },
  {
   "cell_type": "code",
   "execution_count": 81,
   "metadata": {
    "slideshow": {
     "slide_type": "fragment"
    }
   },
   "outputs": [
    {
     "data": {
      "text/plain": [
       "['Y24',\n",
       " 'Y23',\n",
       " 'Y22',\n",
       " 'Y21',\n",
       " 'Y20',\n",
       " 'Y19',\n",
       " 'Y18',\n",
       " 'C9',\n",
       " 'C10',\n",
       " 'C11',\n",
       " 'C12',\n",
       " 'C13',\n",
       " 'C14',\n",
       " 'C15',\n",
       " 'C16',\n",
       " 'C17',\n",
       " 'C18',\n",
       " 'C19']"
      ]
     },
     "execution_count": 81,
     "metadata": {},
     "output_type": "execute_result"
    }
   ],
   "source": [
    "p = nx.shortest_path(g, \"Y24\", \"C19\"); p"
   ]
  },
  {
   "cell_type": "markdown",
   "metadata": {
    "slideshow": {
     "slide_type": "subslide"
    }
   },
   "source": [
    "Given a path on this form, we can also directly evaluate the travel time by summing up the weight\n",
    "attributes of neighboring nodes in the path:"
   ]
  },
  {
   "cell_type": "code",
   "execution_count": 82,
   "metadata": {
    "slideshow": {
     "slide_type": "fragment"
    }
   },
   "outputs": [
    {
     "data": {
      "text/plain": [
       "35"
      ]
     },
     "execution_count": 82,
     "metadata": {},
     "output_type": "execute_result"
    }
   ],
   "source": [
    "np.sum([g[p[n]][p[n +1]][\"weight\"] for n in range(len(p) -1) if \"weight\" in g[p[n]][p[n +1]]])"
   ]
  },
  {
   "cell_type": "markdown",
   "metadata": {
    "slideshow": {
     "slide_type": "fragment"
    }
   },
   "source": [
    "The result suggests that it takes 35 minutes to travel from `Y24` to `C19`. Since the transfer nodes do not have a weight associated with them, the train transfers are effectively assumed to be instantaneous. \n",
    "\n",
    "It may be reasonable to assume that a train transfer takes about 5 minutes, and to take this into account in the shortest path and travel time computation, we can update the transfer nodes and add a weight of 5 to each of them. To do this we create a copy of the graph using the `copy` method, and iterate through the edges and update those with `transfer` attribute set to `True`:"
   ]
  },
  {
   "cell_type": "code",
   "execution_count": 83,
   "metadata": {
    "slideshow": {
     "slide_type": "fragment"
    }
   },
   "outputs": [],
   "source": [
    "h = g.copy()\n",
    "for n1, n2 in h.edges():\n",
    "    if h[n1][n2][\"transfer\"]:\n",
    "        h[n1][n2][\"weight\"] = 5\n",
    "p = nx.shortest_path(h, \"Y24\", \"C19\")"
   ]
  },
  {
   "cell_type": "code",
   "execution_count": 84,
   "metadata": {
    "slideshow": {
     "slide_type": "subslide"
    }
   },
   "outputs": [
    {
     "data": {
      "text/plain": [
       "['Y24',\n",
       " 'Y23',\n",
       " 'Y22',\n",
       " 'Y21',\n",
       " 'Y20',\n",
       " 'Y19',\n",
       " 'Y18',\n",
       " 'C9',\n",
       " 'C10',\n",
       " 'C11',\n",
       " 'C12',\n",
       " 'C13',\n",
       " 'C14',\n",
       " 'C15',\n",
       " 'C16',\n",
       " 'C17',\n",
       " 'C18',\n",
       " 'C19']"
      ]
     },
     "execution_count": 84,
     "metadata": {},
     "output_type": "execute_result"
    }
   ],
   "source": [
    "p"
   ]
  },
  {
   "cell_type": "code",
   "execution_count": 85,
   "metadata": {
    "slideshow": {
     "slide_type": "fragment"
    }
   },
   "outputs": [
    {
     "data": {
      "text/plain": [
       "40"
      ]
     },
     "execution_count": 85,
     "metadata": {},
     "output_type": "execute_result"
    }
   ],
   "source": [
    "np.sum([h[p[n]][p[n +1]][\"weight\"] for n in range(len(p) -1)])"
   ]
  },
  {
   "cell_type": "markdown",
   "metadata": {
    "slideshow": {
     "slide_type": "subslide"
    }
   },
   "source": [
    "With this method, we can of course compute the optimal path and travel time between arbitrary nodes\n",
    "in the network. As another example, we also compute the shortest path and traveling time between Z1 and\n",
    "H16 (32 minutes):"
   ]
  },
  {
   "cell_type": "code",
   "execution_count": 86,
   "metadata": {
    "slideshow": {
     "slide_type": "fragment"
    }
   },
   "outputs": [
    {
     "data": {
      "text/plain": [
       "32"
      ]
     },
     "execution_count": 86,
     "metadata": {},
     "output_type": "execute_result"
    }
   ],
   "source": [
    "p = nx.shortest_path(h, \"Z1\", \"H16\")\n",
    "np.sum([h[p[n]][p[n +1]][\"weight\"] for n in range(len(p) -1)])"
   ]
  },
  {
   "cell_type": "markdown",
   "metadata": {
    "slideshow": {
     "slide_type": "fragment"
    }
   },
   "source": [
    "The NetworkX representation of a graph can be converted to an adjacency matrix in the form of a Scipy\n",
    "sparse matrix using the `nx.to_scipy_sparse_matrix`, after which we can also analyze the graph with the\n",
    "routines in the `sp.csgraph` module"
   ]
  },
  {
   "cell_type": "code",
   "execution_count": 87,
   "metadata": {
    "slideshow": {
     "slide_type": "fragment"
    }
   },
   "outputs": [
    {
     "data": {
      "text/plain": [
       "<184x184 sparse matrix of type '<class 'numpy.intc'>'\n",
       "\twith 486 stored elements in Compressed Sparse Row format>"
      ]
     },
     "execution_count": 87,
     "metadata": {},
     "output_type": "execute_result"
    }
   ],
   "source": [
    "A = nx.to_scipy_sparse_matrix(g); A"
   ]
  },
  {
   "cell_type": "markdown",
   "metadata": {
    "slideshow": {
     "slide_type": "subslide"
    }
   },
   "source": [
    "As an example of this, we convert the Tokyo Metro graph to an adjacency\n",
    "matrix and compute its reverse Cuthill-McKee ordering (using `sp.csgraph.reverse_cuthill_mckee`, which is a reordering that reduces the maximum distance of the matrix elements from the diagonal), and permute the matrix with this ordering"
   ]
  },
  {
   "cell_type": "code",
   "execution_count": 88,
   "metadata": {
    "slideshow": {
     "slide_type": "fragment"
    }
   },
   "outputs": [
    {
     "data": {
      "image/png": "[encoded data removed]",
      "text/plain": [
       "<Figure size 576x288 with 2 Axes>"
      ]
     },
     "metadata": {
      "needs_background": "light"
     },
     "output_type": "display_data"
    }
   ],
   "source": [
    "perm = sp.csgraph.reverse_cuthill_mckee(A)\n",
    "\n",
    "\n",
    "%matplotlib inline\n",
    "fig, (ax1, ax2) = plt.subplots(1, 2, figsize=(8, 4))\n",
    "\n",
    "ax1.spy(A, markersize=2)\n",
    "ax2.spy(sp_permute(A, perm, perm), markersize=2)\n",
    "\n",
    "fig.tight_layout()"
   ]
  },
  {
   "cell_type": "markdown",
   "metadata": {
    "slideshow": {
     "slide_type": "subslide"
    }
   },
   "source": [
    "## Versions"
   ]
  },
  {
   "cell_type": "code",
   "execution_count": 89,
   "metadata": {
    "slideshow": {
     "slide_type": "fragment"
    }
   },
   "outputs": [
    {
     "name": "stdout",
     "output_type": "stream",
     "text": [
      "numpy:  1.18.1\n",
      "scipy:  1.4.1\n",
      "matplotlib:  3.1.3\n",
      "networkx:  2.4\n",
      "pygraphviz:  1.5\n"
     ]
    }
   ],
   "source": [
    "import pygraphviz\n",
    "print(\"numpy: \", np.__version__)\n",
    "print(\"scipy: \", scipy.__version__)\n",
    "print(\"matplotlib: \", mpl.__version__)\n",
    "print(\"networkx: \", nx.__version__)\n",
    "print(\"pygraphviz: \", pygraphviz.__version__)"
   ]
  }
 ],
 "metadata": {
  "celltoolbar": "Slideshow",
  "kernelspec": {
   "display_name": "Python 3",
   "language": "python",
   "name": "python3"
  },
  "language_info": {
   "codemirror_mode": {
    "name": "ipython",
    "version": 3
   },
   "file_extension": ".py",
   "mimetype": "text/x-python",
   "name": "python",
   "nbconvert_exporter": "python",
   "pygments_lexer": "ipython3",
   "version": "3.7.5"
  }
 },
 "nbformat": 4,
 "nbformat_minor": 2
}
