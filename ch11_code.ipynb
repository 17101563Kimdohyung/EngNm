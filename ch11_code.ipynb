{
 "cells": [
  {
   "cell_type": "markdown",
   "metadata": {
    "slideshow": {
     "slide_type": "skip"
    }
   },
   "source": [
    "[![Open In Colab](https://colab.research.google.com/assets/colab-badge.svg)](https://colab.research.google.com/github/SeoulTechPSE/EngNm/blob/master/ch11_code.ipynb)"
   ]
  },
  {
   "cell_type": "code",
   "execution_count": 1,
   "metadata": {
    "slideshow": {
     "slide_type": "skip"
    }
   },
   "outputs": [],
   "source": [
    "# Rendering sympy equations requires MathJax to be available within each cell output. \n",
    "# The following is a function that will make this happen for Colab.\n",
    "\n",
    "#from IPython.display import Math, HTML\n",
    "#\n",
    "#def load_mathjax_in_cell_output():\n",
    "#  display(HTML(\"<script src='https://www.gstatic.com/external_hosted/\"\n",
    "#               \"mathjax/latest/MathJax.js?config=default'></script>\"))\n",
    "#get_ipython().events.register('pre_run_cell', load_mathjax_in_cell_output)"
   ]
  },
  {
   "cell_type": "markdown",
   "metadata": {
    "slideshow": {
     "slide_type": "slide"
    }
   },
   "source": [
    "# Chapter 11: Partial differential equations"
   ]
  },
  {
   "cell_type": "markdown",
   "metadata": {
    "slideshow": {
     "slide_type": "fragment"
    }
   },
   "source": [
    "Creator: Robert Johansson, Updator: Kee-Youn Yoo\n",
    "\n",
    "Updated source code listings for Numerical Python - A Practical Techniques Approach for Industry (ISBN 978-1-484205-54-9)."
   ]
  },
  {
   "cell_type": "markdown",
   "metadata": {
    "slideshow": {
     "slide_type": "subslide"
    }
   },
   "source": [
    "* Conceptually, the difference between ordinary and partial differential equations(PDEs) is not that big, but the computational techniques required to deal with ODEs and PDEs are very different, and solving PDEs is typically much more computationally demanding. Most techniques for solving PDEs numerically are based on the idea of discretizing the problem in each independent variable that occurs in the PDE, and thereby recasting the problem into an algebraic form. This usually results in <font color=blue>*very large-scale linear algebra problems*</font> "
   ]
  },
  {
   "cell_type": "markdown",
   "metadata": {
    "slideshow": {
     "slide_type": "fragment"
    }
   },
   "source": [
    "* Two common techniques for recasting PDEs into algebraic form is the <font color=red> finite-difference methods (FDMs)</font>, where the derivatives in the problem are approximated with their finite-difference formula; and the <font color=red> finite-element methods (FEMs)</font>, where the unknown function is written as linear combination of simple basis functions that can be differentiated and integrated easily. The unknown function is described by a set of coefficients for the basis functions in this representation, and by a suitable rewriting of the PDEs, we can obtain algebraic equations for these coefficients"
   ]
  },
  {
   "cell_type": "markdown",
   "metadata": {
    "slideshow": {
     "slide_type": "subslide"
    }
   },
   "source": [
    "* With both FDMs and FEMs, the resulting algebraic equation system is usually very large, and in matrix \n",
    "form such equation systems are usually very sparse. Both FDM and FEM therefore heavily rely on sparse \n",
    "matrix representation for the algebraic linear equations. Most general-purpose \n",
    "frameworks for PDEs are based on FEM, or some variant thereof, as this method allows for solving very \n",
    "general problems on complicated problem domains."
   ]
  },
  {
   "cell_type": "markdown",
   "metadata": {
    "slideshow": {
     "slide_type": "fragment"
    }
   },
   "source": [
    "* For Python, there are at least three significant libraries for solving PDE problems using the FEM method: [the FiPy library](https://www.ctcms.nist.gov/fipy/), [the SfePy library](http://sfepy.org/doc-devel/index.html), and [the FEniCS library](https://fenicsproject.org/). All of these libraries are extensive and feature rich. Here we can only give a brief introduction to PDE problems and survey prominent examples of PDE libraries that can be used from Python, and go through a few examples that illustrate some of the features of one of these libraries (FEniCS)"
   ]
  },
  {
   "cell_type": "markdown",
   "metadata": {
    "slideshow": {
     "slide_type": "subslide"
    }
   },
   "source": [
    "## Importing modules"
   ]
  },
  {
   "cell_type": "code",
   "execution_count": 2,
   "metadata": {
    "slideshow": {
     "slide_type": "fragment"
    }
   },
   "outputs": [
    {
     "ename": "ImportError",
     "evalue": "Failed to import any qt binding",
     "output_type": "error",
     "traceback": [
      "\u001b[0;31m---------------------------------------------------------------------------\u001b[0m",
      "\u001b[0;31mImportError\u001b[0m                               Traceback (most recent call last)",
      "\u001b[0;32m<ipython-input-2-6ff79ce68a4b>\u001b[0m in \u001b[0;36m<module>\u001b[0;34m\u001b[0m\n\u001b[0;32m----> 1\u001b[0;31m \u001b[0mget_ipython\u001b[0m\u001b[0;34m(\u001b[0m\u001b[0;34m)\u001b[0m\u001b[0;34m.\u001b[0m\u001b[0mrun_line_magic\u001b[0m\u001b[0;34m(\u001b[0m\u001b[0;34m'matplotlib'\u001b[0m\u001b[0;34m,\u001b[0m \u001b[0;34m'qt'\u001b[0m\u001b[0;34m)\u001b[0m\u001b[0;34m\u001b[0m\u001b[0;34m\u001b[0m\u001b[0m\n\u001b[0m\u001b[1;32m      2\u001b[0m \u001b[0;32mimport\u001b[0m \u001b[0mmatplotlib\u001b[0m\u001b[0;34m.\u001b[0m\u001b[0mpyplot\u001b[0m \u001b[0;32mas\u001b[0m \u001b[0mplt\u001b[0m\u001b[0;34m\u001b[0m\u001b[0;34m\u001b[0m\u001b[0m\n\u001b[1;32m      3\u001b[0m \u001b[0;32mimport\u001b[0m \u001b[0mmatplotlib\u001b[0m \u001b[0;32mas\u001b[0m \u001b[0mmpl\u001b[0m\u001b[0;34m\u001b[0m\u001b[0;34m\u001b[0m\u001b[0m\n\u001b[1;32m      4\u001b[0m \u001b[0;32mimport\u001b[0m \u001b[0mmpl_toolkits\u001b[0m\u001b[0;34m.\u001b[0m\u001b[0mmplot3d\u001b[0m\u001b[0;34m\u001b[0m\u001b[0;34m\u001b[0m\u001b[0m\n",
      "\u001b[0;32m/usr/local/lib/python3.6/dist-packages/IPython/core/interactiveshell.py\u001b[0m in \u001b[0;36mrun_line_magic\u001b[0;34m(self, magic_name, line, _stack_depth)\u001b[0m\n\u001b[1;32m   2305\u001b[0m                 \u001b[0mkwargs\u001b[0m\u001b[0;34m[\u001b[0m\u001b[0;34m'local_ns'\u001b[0m\u001b[0;34m]\u001b[0m \u001b[0;34m=\u001b[0m \u001b[0msys\u001b[0m\u001b[0;34m.\u001b[0m\u001b[0m_getframe\u001b[0m\u001b[0;34m(\u001b[0m\u001b[0mstack_depth\u001b[0m\u001b[0;34m)\u001b[0m\u001b[0;34m.\u001b[0m\u001b[0mf_locals\u001b[0m\u001b[0;34m\u001b[0m\u001b[0;34m\u001b[0m\u001b[0m\n\u001b[1;32m   2306\u001b[0m             \u001b[0;32mwith\u001b[0m \u001b[0mself\u001b[0m\u001b[0;34m.\u001b[0m\u001b[0mbuiltin_trap\u001b[0m\u001b[0;34m:\u001b[0m\u001b[0;34m\u001b[0m\u001b[0;34m\u001b[0m\u001b[0m\n\u001b[0;32m-> 2307\u001b[0;31m                 \u001b[0mresult\u001b[0m \u001b[0;34m=\u001b[0m \u001b[0mfn\u001b[0m\u001b[0;34m(\u001b[0m\u001b[0;34m*\u001b[0m\u001b[0margs\u001b[0m\u001b[0;34m,\u001b[0m \u001b[0;34m**\u001b[0m\u001b[0mkwargs\u001b[0m\u001b[0;34m)\u001b[0m\u001b[0;34m\u001b[0m\u001b[0;34m\u001b[0m\u001b[0m\n\u001b[0m\u001b[1;32m   2308\u001b[0m             \u001b[0;32mreturn\u001b[0m \u001b[0mresult\u001b[0m\u001b[0;34m\u001b[0m\u001b[0;34m\u001b[0m\u001b[0m\n\u001b[1;32m   2309\u001b[0m \u001b[0;34m\u001b[0m\u001b[0m\n",
      "\u001b[0;32m<decorator-gen-108>\u001b[0m in \u001b[0;36mmatplotlib\u001b[0;34m(self, line)\u001b[0m\n",
      "\u001b[0;32m/usr/local/lib/python3.6/dist-packages/IPython/core/magic.py\u001b[0m in \u001b[0;36m<lambda>\u001b[0;34m(f, *a, **k)\u001b[0m\n\u001b[1;32m    185\u001b[0m     \u001b[0;31m# but it's overkill for just that one bit of state.\u001b[0m\u001b[0;34m\u001b[0m\u001b[0;34m\u001b[0m\u001b[0;34m\u001b[0m\u001b[0m\n\u001b[1;32m    186\u001b[0m     \u001b[0;32mdef\u001b[0m \u001b[0mmagic_deco\u001b[0m\u001b[0;34m(\u001b[0m\u001b[0marg\u001b[0m\u001b[0;34m)\u001b[0m\u001b[0;34m:\u001b[0m\u001b[0;34m\u001b[0m\u001b[0;34m\u001b[0m\u001b[0m\n\u001b[0;32m--> 187\u001b[0;31m         \u001b[0mcall\u001b[0m \u001b[0;34m=\u001b[0m \u001b[0;32mlambda\u001b[0m \u001b[0mf\u001b[0m\u001b[0;34m,\u001b[0m \u001b[0;34m*\u001b[0m\u001b[0ma\u001b[0m\u001b[0;34m,\u001b[0m \u001b[0;34m**\u001b[0m\u001b[0mk\u001b[0m\u001b[0;34m:\u001b[0m \u001b[0mf\u001b[0m\u001b[0;34m(\u001b[0m\u001b[0;34m*\u001b[0m\u001b[0ma\u001b[0m\u001b[0;34m,\u001b[0m \u001b[0;34m**\u001b[0m\u001b[0mk\u001b[0m\u001b[0;34m)\u001b[0m\u001b[0;34m\u001b[0m\u001b[0;34m\u001b[0m\u001b[0m\n\u001b[0m\u001b[1;32m    188\u001b[0m \u001b[0;34m\u001b[0m\u001b[0m\n\u001b[1;32m    189\u001b[0m         \u001b[0;32mif\u001b[0m \u001b[0mcallable\u001b[0m\u001b[0;34m(\u001b[0m\u001b[0marg\u001b[0m\u001b[0;34m)\u001b[0m\u001b[0;34m:\u001b[0m\u001b[0;34m\u001b[0m\u001b[0;34m\u001b[0m\u001b[0m\n",
      "\u001b[0;32m/usr/local/lib/python3.6/dist-packages/IPython/core/magics/pylab.py\u001b[0m in \u001b[0;36mmatplotlib\u001b[0;34m(self, line)\u001b[0m\n\u001b[1;32m     97\u001b[0m             \u001b[0mprint\u001b[0m\u001b[0;34m(\u001b[0m\u001b[0;34m\"Available matplotlib backends: %s\"\u001b[0m \u001b[0;34m%\u001b[0m \u001b[0mbackends_list\u001b[0m\u001b[0;34m)\u001b[0m\u001b[0;34m\u001b[0m\u001b[0;34m\u001b[0m\u001b[0m\n\u001b[1;32m     98\u001b[0m         \u001b[0;32melse\u001b[0m\u001b[0;34m:\u001b[0m\u001b[0;34m\u001b[0m\u001b[0;34m\u001b[0m\u001b[0m\n\u001b[0;32m---> 99\u001b[0;31m             \u001b[0mgui\u001b[0m\u001b[0;34m,\u001b[0m \u001b[0mbackend\u001b[0m \u001b[0;34m=\u001b[0m \u001b[0mself\u001b[0m\u001b[0;34m.\u001b[0m\u001b[0mshell\u001b[0m\u001b[0;34m.\u001b[0m\u001b[0menable_matplotlib\u001b[0m\u001b[0;34m(\u001b[0m\u001b[0margs\u001b[0m\u001b[0;34m.\u001b[0m\u001b[0mgui\u001b[0m\u001b[0;34m.\u001b[0m\u001b[0mlower\u001b[0m\u001b[0;34m(\u001b[0m\u001b[0;34m)\u001b[0m \u001b[0;32mif\u001b[0m \u001b[0misinstance\u001b[0m\u001b[0;34m(\u001b[0m\u001b[0margs\u001b[0m\u001b[0;34m.\u001b[0m\u001b[0mgui\u001b[0m\u001b[0;34m,\u001b[0m \u001b[0mstr\u001b[0m\u001b[0;34m)\u001b[0m \u001b[0;32melse\u001b[0m \u001b[0margs\u001b[0m\u001b[0;34m.\u001b[0m\u001b[0mgui\u001b[0m\u001b[0;34m)\u001b[0m\u001b[0;34m\u001b[0m\u001b[0;34m\u001b[0m\u001b[0m\n\u001b[0m\u001b[1;32m    100\u001b[0m             \u001b[0mself\u001b[0m\u001b[0;34m.\u001b[0m\u001b[0m_show_matplotlib_backend\u001b[0m\u001b[0;34m(\u001b[0m\u001b[0margs\u001b[0m\u001b[0;34m.\u001b[0m\u001b[0mgui\u001b[0m\u001b[0;34m,\u001b[0m \u001b[0mbackend\u001b[0m\u001b[0;34m)\u001b[0m\u001b[0;34m\u001b[0m\u001b[0;34m\u001b[0m\u001b[0m\n\u001b[1;32m    101\u001b[0m \u001b[0;34m\u001b[0m\u001b[0m\n",
      "\u001b[0;32m/usr/local/lib/python3.6/dist-packages/IPython/core/interactiveshell.py\u001b[0m in \u001b[0;36menable_matplotlib\u001b[0;34m(self, gui)\u001b[0m\n\u001b[1;32m   3405\u001b[0m                 \u001b[0mgui\u001b[0m\u001b[0;34m,\u001b[0m \u001b[0mbackend\u001b[0m \u001b[0;34m=\u001b[0m \u001b[0mpt\u001b[0m\u001b[0;34m.\u001b[0m\u001b[0mfind_gui_and_backend\u001b[0m\u001b[0;34m(\u001b[0m\u001b[0mself\u001b[0m\u001b[0;34m.\u001b[0m\u001b[0mpylab_gui_select\u001b[0m\u001b[0;34m)\u001b[0m\u001b[0;34m\u001b[0m\u001b[0;34m\u001b[0m\u001b[0m\n\u001b[1;32m   3406\u001b[0m \u001b[0;34m\u001b[0m\u001b[0m\n\u001b[0;32m-> 3407\u001b[0;31m         \u001b[0mpt\u001b[0m\u001b[0;34m.\u001b[0m\u001b[0mactivate_matplotlib\u001b[0m\u001b[0;34m(\u001b[0m\u001b[0mbackend\u001b[0m\u001b[0;34m)\u001b[0m\u001b[0;34m\u001b[0m\u001b[0;34m\u001b[0m\u001b[0m\n\u001b[0m\u001b[1;32m   3408\u001b[0m         \u001b[0mpt\u001b[0m\u001b[0;34m.\u001b[0m\u001b[0mconfigure_inline_support\u001b[0m\u001b[0;34m(\u001b[0m\u001b[0mself\u001b[0m\u001b[0;34m,\u001b[0m \u001b[0mbackend\u001b[0m\u001b[0;34m)\u001b[0m\u001b[0;34m\u001b[0m\u001b[0;34m\u001b[0m\u001b[0m\n\u001b[1;32m   3409\u001b[0m \u001b[0;34m\u001b[0m\u001b[0m\n",
      "\u001b[0;32m/usr/local/lib/python3.6/dist-packages/IPython/core/pylabtools.py\u001b[0m in \u001b[0;36mactivate_matplotlib\u001b[0;34m(backend)\u001b[0m\n\u001b[1;32m    316\u001b[0m     \u001b[0;32mfrom\u001b[0m \u001b[0mmatplotlib\u001b[0m \u001b[0;32mimport\u001b[0m \u001b[0mpyplot\u001b[0m \u001b[0;32mas\u001b[0m \u001b[0mplt\u001b[0m\u001b[0;34m\u001b[0m\u001b[0;34m\u001b[0m\u001b[0m\n\u001b[1;32m    317\u001b[0m \u001b[0;34m\u001b[0m\u001b[0m\n\u001b[0;32m--> 318\u001b[0;31m     \u001b[0mplt\u001b[0m\u001b[0;34m.\u001b[0m\u001b[0mswitch_backend\u001b[0m\u001b[0;34m(\u001b[0m\u001b[0mbackend\u001b[0m\u001b[0;34m)\u001b[0m\u001b[0;34m\u001b[0m\u001b[0;34m\u001b[0m\u001b[0m\n\u001b[0m\u001b[1;32m    319\u001b[0m \u001b[0;34m\u001b[0m\u001b[0m\n\u001b[1;32m    320\u001b[0m     \u001b[0mplt\u001b[0m\u001b[0;34m.\u001b[0m\u001b[0mshow\u001b[0m\u001b[0;34m.\u001b[0m\u001b[0m_needmain\u001b[0m \u001b[0;34m=\u001b[0m \u001b[0;32mFalse\u001b[0m\u001b[0;34m\u001b[0m\u001b[0;34m\u001b[0m\u001b[0m\n",
      "\u001b[0;32m/usr/local/lib/python3.6/dist-packages/matplotlib/pyplot.py\u001b[0m in \u001b[0;36mswitch_backend\u001b[0;34m(newbackend)\u001b[0m\n\u001b[1;32m    219\u001b[0m         else \"matplotlib.backends.backend_{}\".format(newbackend.lower()))\n\u001b[1;32m    220\u001b[0m \u001b[0;34m\u001b[0m\u001b[0m\n\u001b[0;32m--> 221\u001b[0;31m     \u001b[0mbackend_mod\u001b[0m \u001b[0;34m=\u001b[0m \u001b[0mimportlib\u001b[0m\u001b[0;34m.\u001b[0m\u001b[0mimport_module\u001b[0m\u001b[0;34m(\u001b[0m\u001b[0mbackend_name\u001b[0m\u001b[0;34m)\u001b[0m\u001b[0;34m\u001b[0m\u001b[0;34m\u001b[0m\u001b[0m\n\u001b[0m\u001b[1;32m    222\u001b[0m     Backend = type(\n\u001b[1;32m    223\u001b[0m         \"Backend\", (matplotlib.backends._Backend,), vars(backend_mod))\n",
      "\u001b[0;32m/usr/lib/python3.6/importlib/__init__.py\u001b[0m in \u001b[0;36mimport_module\u001b[0;34m(name, package)\u001b[0m\n\u001b[1;32m    124\u001b[0m                 \u001b[0;32mbreak\u001b[0m\u001b[0;34m\u001b[0m\u001b[0;34m\u001b[0m\u001b[0m\n\u001b[1;32m    125\u001b[0m             \u001b[0mlevel\u001b[0m \u001b[0;34m+=\u001b[0m \u001b[0;36m1\u001b[0m\u001b[0;34m\u001b[0m\u001b[0;34m\u001b[0m\u001b[0m\n\u001b[0;32m--> 126\u001b[0;31m     \u001b[0;32mreturn\u001b[0m \u001b[0m_bootstrap\u001b[0m\u001b[0;34m.\u001b[0m\u001b[0m_gcd_import\u001b[0m\u001b[0;34m(\u001b[0m\u001b[0mname\u001b[0m\u001b[0;34m[\u001b[0m\u001b[0mlevel\u001b[0m\u001b[0;34m:\u001b[0m\u001b[0;34m]\u001b[0m\u001b[0;34m,\u001b[0m \u001b[0mpackage\u001b[0m\u001b[0;34m,\u001b[0m \u001b[0mlevel\u001b[0m\u001b[0;34m)\u001b[0m\u001b[0;34m\u001b[0m\u001b[0;34m\u001b[0m\u001b[0m\n\u001b[0m\u001b[1;32m    127\u001b[0m \u001b[0;34m\u001b[0m\u001b[0m\n\u001b[1;32m    128\u001b[0m \u001b[0;34m\u001b[0m\u001b[0m\n",
      "\u001b[0;32m/usr/lib/python3.6/importlib/_bootstrap.py\u001b[0m in \u001b[0;36m_gcd_import\u001b[0;34m(name, package, level)\u001b[0m\n",
      "\u001b[0;32m/usr/lib/python3.6/importlib/_bootstrap.py\u001b[0m in \u001b[0;36m_find_and_load\u001b[0;34m(name, import_)\u001b[0m\n",
      "\u001b[0;32m/usr/lib/python3.6/importlib/_bootstrap.py\u001b[0m in \u001b[0;36m_find_and_load_unlocked\u001b[0;34m(name, import_)\u001b[0m\n",
      "\u001b[0;32m/usr/lib/python3.6/importlib/_bootstrap.py\u001b[0m in \u001b[0;36m_load_unlocked\u001b[0;34m(spec)\u001b[0m\n",
      "\u001b[0;32m/usr/lib/python3.6/importlib/_bootstrap_external.py\u001b[0m in \u001b[0;36mexec_module\u001b[0;34m(self, module)\u001b[0m\n",
      "\u001b[0;32m/usr/lib/python3.6/importlib/_bootstrap.py\u001b[0m in \u001b[0;36m_call_with_frames_removed\u001b[0;34m(f, *args, **kwds)\u001b[0m\n",
      "\u001b[0;32m/usr/local/lib/python3.6/dist-packages/matplotlib/backends/backend_qt5agg.py\u001b[0m in \u001b[0;36m<module>\u001b[0;34m\u001b[0m\n\u001b[1;32m      9\u001b[0m \u001b[0;32mfrom\u001b[0m \u001b[0;34m.\u001b[0m\u001b[0;34m.\u001b[0m \u001b[0;32mimport\u001b[0m \u001b[0mcbook\u001b[0m\u001b[0;34m\u001b[0m\u001b[0;34m\u001b[0m\u001b[0m\n\u001b[1;32m     10\u001b[0m \u001b[0;32mfrom\u001b[0m \u001b[0;34m.\u001b[0m\u001b[0mbackend_agg\u001b[0m \u001b[0;32mimport\u001b[0m \u001b[0mFigureCanvasAgg\u001b[0m\u001b[0;34m\u001b[0m\u001b[0;34m\u001b[0m\u001b[0m\n\u001b[0;32m---> 11\u001b[0;31m from .backend_qt5 import (\n\u001b[0m\u001b[1;32m     12\u001b[0m     \u001b[0mQtCore\u001b[0m\u001b[0;34m,\u001b[0m \u001b[0mQtGui\u001b[0m\u001b[0;34m,\u001b[0m \u001b[0mQtWidgets\u001b[0m\u001b[0;34m,\u001b[0m \u001b[0m_BackendQT5\u001b[0m\u001b[0;34m,\u001b[0m \u001b[0mFigureCanvasQT\u001b[0m\u001b[0;34m,\u001b[0m \u001b[0mFigureManagerQT\u001b[0m\u001b[0;34m,\u001b[0m\u001b[0;34m\u001b[0m\u001b[0;34m\u001b[0m\u001b[0m\n\u001b[1;32m     13\u001b[0m     NavigationToolbar2QT, backend_version)\n",
      "\u001b[0;32m/usr/local/lib/python3.6/dist-packages/matplotlib/backends/backend_qt5.py\u001b[0m in \u001b[0;36m<module>\u001b[0;34m\u001b[0m\n\u001b[1;32m     13\u001b[0m     \u001b[0m_Backend\u001b[0m\u001b[0;34m,\u001b[0m \u001b[0mFigureCanvasBase\u001b[0m\u001b[0;34m,\u001b[0m \u001b[0mFigureManagerBase\u001b[0m\u001b[0;34m,\u001b[0m \u001b[0mNavigationToolbar2\u001b[0m\u001b[0;34m,\u001b[0m\u001b[0;34m\u001b[0m\u001b[0;34m\u001b[0m\u001b[0m\n\u001b[1;32m     14\u001b[0m     TimerBase, cursors, ToolContainerBase, StatusbarBase, MouseButton)\n\u001b[0;32m---> 15\u001b[0;31m \u001b[0;32mimport\u001b[0m \u001b[0mmatplotlib\u001b[0m\u001b[0;34m.\u001b[0m\u001b[0mbackends\u001b[0m\u001b[0;34m.\u001b[0m\u001b[0mqt_editor\u001b[0m\u001b[0;34m.\u001b[0m\u001b[0mfigureoptions\u001b[0m \u001b[0;32mas\u001b[0m \u001b[0mfigureoptions\u001b[0m\u001b[0;34m\u001b[0m\u001b[0;34m\u001b[0m\u001b[0m\n\u001b[0m\u001b[1;32m     16\u001b[0m \u001b[0;32mfrom\u001b[0m \u001b[0mmatplotlib\u001b[0m\u001b[0;34m.\u001b[0m\u001b[0mbackends\u001b[0m\u001b[0;34m.\u001b[0m\u001b[0mqt_editor\u001b[0m\u001b[0;34m.\u001b[0m\u001b[0mformsubplottool\u001b[0m \u001b[0;32mimport\u001b[0m \u001b[0mUiSubplotTool\u001b[0m\u001b[0;34m\u001b[0m\u001b[0;34m\u001b[0m\u001b[0m\n\u001b[1;32m     17\u001b[0m \u001b[0;32mfrom\u001b[0m \u001b[0mmatplotlib\u001b[0m\u001b[0;34m.\u001b[0m\u001b[0mbackend_managers\u001b[0m \u001b[0;32mimport\u001b[0m \u001b[0mToolManager\u001b[0m\u001b[0;34m\u001b[0m\u001b[0;34m\u001b[0m\u001b[0m\n",
      "\u001b[0;32m/usr/local/lib/python3.6/dist-packages/matplotlib/backends/qt_editor/figureoptions.py\u001b[0m in \u001b[0;36m<module>\u001b[0;34m\u001b[0m\n\u001b[1;32m     11\u001b[0m \u001b[0;32mimport\u001b[0m \u001b[0mmatplotlib\u001b[0m\u001b[0;34m\u001b[0m\u001b[0;34m\u001b[0m\u001b[0m\n\u001b[1;32m     12\u001b[0m \u001b[0;32mfrom\u001b[0m \u001b[0mmatplotlib\u001b[0m \u001b[0;32mimport\u001b[0m \u001b[0mcm\u001b[0m\u001b[0;34m,\u001b[0m \u001b[0mcolors\u001b[0m \u001b[0;32mas\u001b[0m \u001b[0mmcolors\u001b[0m\u001b[0;34m,\u001b[0m \u001b[0mmarkers\u001b[0m\u001b[0;34m,\u001b[0m \u001b[0mimage\u001b[0m \u001b[0;32mas\u001b[0m \u001b[0mmimage\u001b[0m\u001b[0;34m\u001b[0m\u001b[0;34m\u001b[0m\u001b[0m\n\u001b[0;32m---> 13\u001b[0;31m \u001b[0;32mfrom\u001b[0m \u001b[0mmatplotlib\u001b[0m\u001b[0;34m.\u001b[0m\u001b[0mbackends\u001b[0m\u001b[0;34m.\u001b[0m\u001b[0mqt_compat\u001b[0m \u001b[0;32mimport\u001b[0m \u001b[0mQtGui\u001b[0m\u001b[0;34m\u001b[0m\u001b[0;34m\u001b[0m\u001b[0m\n\u001b[0m\u001b[1;32m     14\u001b[0m \u001b[0;32mfrom\u001b[0m \u001b[0mmatplotlib\u001b[0m\u001b[0;34m.\u001b[0m\u001b[0mbackends\u001b[0m\u001b[0;34m.\u001b[0m\u001b[0mqt_editor\u001b[0m \u001b[0;32mimport\u001b[0m \u001b[0m_formlayout\u001b[0m\u001b[0;34m\u001b[0m\u001b[0;34m\u001b[0m\u001b[0m\n\u001b[1;32m     15\u001b[0m \u001b[0;34m\u001b[0m\u001b[0m\n",
      "\u001b[0;32m/usr/local/lib/python3.6/dist-packages/matplotlib/backends/qt_compat.py\u001b[0m in \u001b[0;36m<module>\u001b[0;34m\u001b[0m\n\u001b[1;32m    156\u001b[0m         \u001b[0;32mbreak\u001b[0m\u001b[0;34m\u001b[0m\u001b[0;34m\u001b[0m\u001b[0m\n\u001b[1;32m    157\u001b[0m     \u001b[0;32melse\u001b[0m\u001b[0;34m:\u001b[0m\u001b[0;34m\u001b[0m\u001b[0;34m\u001b[0m\u001b[0m\n\u001b[0;32m--> 158\u001b[0;31m         \u001b[0;32mraise\u001b[0m \u001b[0mImportError\u001b[0m\u001b[0;34m(\u001b[0m\u001b[0;34m\"Failed to import any qt binding\"\u001b[0m\u001b[0;34m)\u001b[0m\u001b[0;34m\u001b[0m\u001b[0;34m\u001b[0m\u001b[0m\n\u001b[0m\u001b[1;32m    159\u001b[0m \u001b[0;32melse\u001b[0m\u001b[0;34m:\u001b[0m  \u001b[0;31m# We should not get there.\u001b[0m\u001b[0;34m\u001b[0m\u001b[0;34m\u001b[0m\u001b[0m\n\u001b[1;32m    160\u001b[0m     \u001b[0;32mraise\u001b[0m \u001b[0mAssertionError\u001b[0m\u001b[0;34m(\u001b[0m\u001b[0;34m\"Unexpected QT_API: {}\"\u001b[0m\u001b[0;34m.\u001b[0m\u001b[0mformat\u001b[0m\u001b[0;34m(\u001b[0m\u001b[0mQT_API\u001b[0m\u001b[0;34m)\u001b[0m\u001b[0;34m)\u001b[0m\u001b[0;34m\u001b[0m\u001b[0;34m\u001b[0m\u001b[0m\n",
      "\u001b[0;31mImportError\u001b[0m: Failed to import any qt binding"
     ]
    }
   ],
   "source": [
    "%matplotlib qt\n",
    "import matplotlib.pyplot as plt\n",
    "import matplotlib as mpl\n",
    "import mpl_toolkits.mplot3d"
   ]
  },
  {
   "cell_type": "code",
   "execution_count": null,
   "metadata": {
    "slideshow": {
     "slide_type": "fragment"
    }
   },
   "outputs": [],
   "source": [
    "import numpy as np\n",
    "import scipy.linalg as la\n",
    "import scipy.sparse as sp\n",
    "import scipy.sparse.linalg"
   ]
  },
  {
   "cell_type": "markdown",
   "metadata": {
    "slideshow": {
     "slide_type": "slide"
    }
   },
   "source": [
    "## Partial differential equations"
   ]
  },
  {
   "cell_type": "markdown",
   "metadata": {
    "slideshow": {
     "slide_type": "fragment"
    }
   },
   "source": [
    "The unknown quantity in a PDE is a multivariate function, here denoted as $u$. In an \n",
    "$n$-dimensional problem, the function $u$ depends on $n$ independent variables: $u(x_1,x_2,\\cdots,x_n)$.\n",
    "A general PDE can formally be written as\n",
    "\n",
    "$$\n",
    "F \\left( x_1, x_2, \\cdots, x_n, \\left\\{ \\frac{\\partial u}{\\partial x_{i_1}} \\right\\}_{ 0\\leq i_1 \\leq n}, \\left\\{ \\frac{\\partial^2 u}{\\partial x_{i_1} x_{i_2}} \\right\\}_{ 0\\leq i_1, i_2 \\leq n}, \\cdots  \\right) = 0, \\;\\;\\mathbf{x} \\in \\Omega\n",
    "$$\n",
    "\n",
    "where $\\Omega$ is the domain of the PDE problem. Many PDEs that occur in practice only \n",
    "contain up to second-order derivatives, and we typically deal with problems in two or three spatial \n",
    "dimensions, and possibly time. "
   ]
  },
  {
   "cell_type": "markdown",
   "metadata": {
    "slideshow": {
     "slide_type": "fragment"
    }
   },
   "source": [
    "When working with PDEs, it is common to denote the partial derivatives with respect to an independent variable using the subscript notation: $\\displaystyle u_x = \\frac{\\partial u}{\\partial x}$, $\\displaystyle u_{xx} = \\frac{\\partial^2 u}{\\partial^2 x}$, $\\displaystyle u_{xy} = \\frac{\\partial^2 u}{\\partial x \\partial y}$ and so on."
   ]
  },
  {
   "cell_type": "markdown",
   "metadata": {
    "slideshow": {
     "slide_type": "subslide"
    }
   },
   "source": [
    "* To fully specify a particular solution to a PDE, we need to define its boundary conditions, which are the known values of $u$ or the specific combinations of $u$ and its derivatives along the boundary of the problem domain $\\Omega$, as well as the initial values if the problem is time dependent. The boundary is often denoted as $\\Gamma$ or $\\partial \\Omega$, and in general different boundary conditions can be given for different parts of the boundary"
   ]
  },
  {
   "cell_type": "markdown",
   "metadata": {
    "slideshow": {
     "slide_type": "fragment"
    }
   },
   "source": [
    "* Three important types of boundary conditions are \n",
    " \n",
    " * *Dirichlet boundary condition*, which specifies the value of the function at the boundary, \n",
    " \n",
    "   $\\displaystyle u(\\mathbf{x}) = g(\\mathbf{x})$ for $\\mathbf{x} \\in \\Gamma_D$ \n",
    " \n",
    " * *Neumann boundary condition*, which specifies the normal derivative on the boundary, \n",
    " \n",
    "   $\\displaystyle \\frac{\\partial u}{\\partial \\mathbf{n}} = h(\\mathbf{x})$ for $\\mathbf{x} \\in \\Gamma_N$,  where the $\\mathbf{n}$ is the outward normal from the boundary\n",
    " \n",
    " * *Robin boundary condition*, which specifies as follows: $\\displaystyle \\alpha u(\\mathbf{x}) +\\beta \\frac{\\partial u}{\\partial \\mathbf{n}} = f(\\mathbf{x})$ for $\\mathbf{x} \\in \\Gamma_R$."
   ]
  },
  {
   "cell_type": "markdown",
   "metadata": {
    "slideshow": {
     "slide_type": "subslide"
    }
   },
   "source": [
    "## Finite-difference methods "
   ]
  },
  {
   "cell_type": "markdown",
   "metadata": {
    "slideshow": {
     "slide_type": "fragment"
    }
   },
   "source": [
    "The basic idea of the finite-difference method is to approximate the derivatives that occur in a differential equation with their finite-difference formulas on a discretized space. Replacing derivatives in an ODE or PDE with their finite-difference formulas recasts the problem from a differential equation to algebraic equations. If the original ODE or PDE is linear, the algebraic equations are also linear, and can be solved with standard linear algebra methods."
   ]
  },
  {
   "cell_type": "markdown",
   "metadata": {
    "slideshow": {
     "slide_type": "subslide"
    }
   },
   "source": [
    "### 1-dimensional"
   ]
  },
  {
   "cell_type": "markdown",
   "metadata": {
    "slideshow": {
     "slide_type": "fragment"
    }
   },
   "source": [
    "Consider the ODE problem $u_{xx} = -5$ in the interval $x \\in [0,\\;1]$, and with boundary conditions \n",
    "$u(x=0) = 1$ and $u(x=1) =2$, which, for example, arises from the steady-state heat \n",
    "equation in one dimension. In contrast to the initial-value problem considered, this is a boundary-value problem because the values of $u$ are specified at both $x=0$ and $x=1$."
   ]
  },
  {
   "cell_type": "markdown",
   "metadata": {
    "slideshow": {
     "slide_type": "fragment"
    }
   },
   "source": [
    "We can treat this problem by dividing the interval $[0,\\; 1]$ into interior discrete points $x_i, \\,i=1,2,\\cdots, N$, and the problem is then to find the function $u(x_i) = u_i$ at these points. \n",
    "Writing the ODE problem in finite-difference form gives an equation \n",
    "\n",
    "\n",
    "$$\n",
    "\\frac{u_{i-1} -2u_i +u_{i +1}}{(\\Delta x)^2} = -5\n",
    "$$\n",
    "\n",
    "for every interior point $x_i$, with the boundary conditions $u_0 = 1$ and $u_{N+1}=2$.\n",
    "Here the interval $[0,\\; 1]$ is discretized into $N+2$ evenly spaced points, including the boundary points, with separation $\\Delta x = 1/(N+1)$."
   ]
  },
  {
   "cell_type": "markdown",
   "metadata": {
    "slideshow": {
     "slide_type": "subslide"
    }
   },
   "source": [
    "The set of equations for the interior points can be written \n",
    "in a matrix form as $\\mathbf{Au} =\\mathbf{b}$, where\n",
    "\n",
    "$$\n",
    "\\mathbf{A} = \\frac{1}{(\\Delta x)^2} \n",
    "\\begin{bmatrix}\n",
    "-2 & 1 & 0 & \\cdots& \\cdots\\\\ \n",
    "1 & -2  & 1 & \\ddots &  \\ddots\\\\ \n",
    "0 & 1 & -2 & 1 & \\ddots & \\\\ \n",
    "\\vdots & \\ddots & \\ddots & \\ddots &\\ddots \\\\ \n",
    "\\vdots & \\ddots & \\ddots & 1 & -2\n",
    "\\end{bmatrix},\\;\n",
    "\\mathbf{b} = \\begin{bmatrix}\n",
    " -\\left(5 +\\frac{u_0}{(\\Delta x)^2}\\right),&  -5, & \\cdots, & -5, &  -\\left(5 +\\frac{u_{N+1}}{(\\Delta x)^2} \\right)\n",
    "\\end{bmatrix}^T\n",
    "$$"
   ]
  },
  {
   "cell_type": "markdown",
   "metadata": {
    "slideshow": {
     "slide_type": "fragment"
    }
   },
   "source": [
    "Here the matrix $\\mathbf{A}$ describes the coupling of the equations for $u_i$ to values at neighboring points due to the \n",
    "finite-difference formula that was used to approximate the second-order derivative in the ODE. The boundary \n",
    "values are included in the $\\mathbf{b}$ vector, which also contains the constant right-hand side of the original ODE \n",
    "(the source term). "
   ]
  },
  {
   "cell_type": "markdown",
   "metadata": {
    "slideshow": {
     "slide_type": "fragment"
    }
   },
   "source": [
    "At this point we can straightforwardly solve the linear equation system $\\mathbf{Au} = \\mathbf{b}$ for the \n",
    "unknown vector of $\\mathbf{u}$ and thereby obtain the approximate values of the function $u(x)$ at the discete points $\\{\n",
    "x_i\\}$."
   ]
  },
  {
   "cell_type": "code",
   "execution_count": null,
   "metadata": {
    "slideshow": {
     "slide_type": "subslide"
    }
   },
   "outputs": [],
   "source": [
    "N = 5\n",
    "x = np.linspace(0, 1, N +2); dx = 1.0 /(N + 1)\n",
    "\n",
    "A = (np.eye(N, k=-1) -2 *np.eye(N) +np.eye(N, k=1)) /dx**2; A"
   ]
  },
  {
   "cell_type": "code",
   "execution_count": null,
   "metadata": {
    "slideshow": {
     "slide_type": "fragment"
    }
   },
   "outputs": [],
   "source": [
    "u0 = 1\n",
    "u1 = 2\n",
    "\n",
    "b = -5 *np.ones(N); b[0] -= u0 /dx**2; b[N-1] -= u1 /dx**2; b"
   ]
  },
  {
   "cell_type": "code",
   "execution_count": null,
   "metadata": {
    "slideshow": {
     "slide_type": "fragment"
    }
   },
   "outputs": [],
   "source": [
    "u = np.linalg.solve(A, b); U = np.hstack([u0, u, u1])"
   ]
  },
  {
   "cell_type": "code",
   "execution_count": null,
   "metadata": {
    "slideshow": {
     "slide_type": "subslide"
    }
   },
   "outputs": [],
   "source": [
    "fig, ax = plt.subplots(figsize=(8, 4))\n",
    "\n",
    "ax.plot(x, U)\n",
    "ax.plot(x[1:-1], u, 'ks')\n",
    "ax.set_xlim(0, 1)\n",
    "ax.set_xlabel(r\"$x$\", fontsize=16)\n",
    "ax.set_ylabel(r\"$u(x)$\", fontsize=16)\n",
    "ax.tick_params(which='both', direction='in')\n",
    "\n",
    "fig.tight_layout();"
   ]
  },
  {
   "cell_type": "markdown",
   "metadata": {
    "slideshow": {
     "slide_type": "subslide"
    }
   },
   "source": [
    "### 2-dimensional"
   ]
  },
  {
   "cell_type": "markdown",
   "metadata": {
    "slideshow": {
     "slide_type": "fragment"
    }
   },
   "source": [
    "Consider the following two-dimensional generalization of the previous problem: $u_{xx} +u_{yy} = 0$, with the boundary conditions $u(x=0)=3$, $u(x=1)=-1$, $u(y=0)=-5$, and $u(y=1) = 5$ (no source term). In finite-difference form, we can write the PDE as\n",
    " \n",
    "$$\n",
    "\\frac{u_{m-1,n} -2u_{m,n} +u_{m+1,n}}{(\\Delta x)^2} +\\frac{u_{m, n-1} -2u_{m,n} +u_{m,n+1}}{(\\Delta y)^2}=0\n",
    "$$"
   ]
  },
  {
   "cell_type": "markdown",
   "metadata": {
    "slideshow": {
     "slide_type": "fragment"
    }
   },
   "source": [
    "If we divide the $x$ and $y$ intervals into $N$ interior points ($N+2$ points including the boundary points), then $\\Delta x = \\Delta y = \\frac{1}{N+1}$, and $\\mathbf{u}$ is a $N \\times N$ matrix. To write the equation on the standard form $\\mathbf{Av}= \\mathbf{b}$, we can rearrange the matrix $\\mathbf{u}$ by stacking its columns(or raws) into a vector of size $N^2 \\times 1$\n",
    "\n",
    "$$\n",
    "\\frac{v_{m-1 + N n} - 2v_{m + N n} + v_{m+1 + N n}}{(\\Delta x)^2}\n",
    "+\\frac{v_{m + N (n-1)} - 2v_{m + Nn} + v_{m + N(n+1)}}{(\\Delta y)^2}\n",
    "= 0\n",
    "$$"
   ]
  },
  {
   "cell_type": "markdown",
   "metadata": {
    "slideshow": {
     "slide_type": "subslide"
    }
   },
   "source": [
    "The matrix $\\mathbf{A}$ is then of size $N^2 \\times N^2$, which can be very big if we need to use a \n",
    "fine discretization of the $x$ and $y$ coordinates. Fortunately, since the finite-difference formula only couples neighboring points, the matrix $\\mathbf{A}$ turns out to be very sparse, \n",
    "and here we can benefit greatly from working with sparse matrices, as we will see in the following"
   ]
  },
  {
   "cell_type": "code",
   "execution_count": null,
   "metadata": {
    "slideshow": {
     "slide_type": "fragment"
    }
   },
   "outputs": [],
   "source": [
    "u0_l, u0_r = 3, -1\n",
    "u0_t, u0_b = 5, -5\n",
    "\n",
    "N = 100\n",
    "dx = 1 /(N +1)"
   ]
  },
  {
   "cell_type": "markdown",
   "metadata": {
    "slideshow": {
     "slide_type": "fragment"
    }
   },
   "source": [
    "Because the finite-difference formula couples both neighboring \n",
    "rows and columns, it is slightly more involved to construct the matrix $\\mathbf{A}$ for this example. \n",
    "However, a relatively direct approach is to first define the matrix \n",
    "`A_1d` that corresponds to the one-dimensional formula \n",
    "along one of the coordinates (say $x$, or the index $m$ in $u_{m,n}$)."
   ]
  },
  {
   "cell_type": "code",
   "execution_count": null,
   "metadata": {
    "slideshow": {
     "slide_type": "fragment"
    }
   },
   "outputs": [],
   "source": [
    "A_1d = (sp.eye(N, k=-1) +sp.eye(N, k=1) -4 *sp.eye(N)) /dx**2"
   ]
  },
  {
   "cell_type": "markdown",
   "metadata": {
    "slideshow": {
     "slide_type": "subslide"
    }
   },
   "source": [
    "To distribute this formula along each row, we can take the tensor product of the identity matrix of size \n",
    "$N\\times N$ with the `A_1d` matrix. The result describes all derivatives along the $m$-index for all indices $n$. To cover the terms that couple the equation for $u_{m,n}$ to $u_{m,n+1}$ and $u_{m,n-1}$, that is the derivatives along the index $n$, we need to add diagonals that are separated from the main diagonal by $N$ positions"
   ]
  },
  {
   "cell_type": "code",
   "execution_count": null,
   "metadata": {
    "slideshow": {
     "slide_type": "fragment"
    }
   },
   "outputs": [],
   "source": [
    "A = sp.kron(sp.eye(N), A_1d) +(sp.eye(N**2, k=-N) +sp.eye(N**2, k=N)) /dx**2; A"
   ]
  },
  {
   "cell_type": "markdown",
   "metadata": {
    "slideshow": {
     "slide_type": "fragment"
    }
   },
   "source": [
    "The printout of $\\mathbf{A}$ shows that it is a sparse matrix with $10^8$ elements with $49600$ nonzero elements, so that only one out of about 2000 elements is nonzero, and $\\mathbf{A}$ is indeed very sparse. "
   ]
  },
  {
   "cell_type": "markdown",
   "metadata": {
    "slideshow": {
     "slide_type": "subslide"
    }
   },
   "source": [
    "To construct the vector $\\mathbf{b}$ from the boundary conditions, it is convenient to create a \n",
    "$N \\times N$ array of zeros, and assign the boundary condition to edge elements of this array\n",
    " (which are the corresponding elements in $u$ that are coupled to the \n",
    "boundaries, that is, the interior points that are neighbors to the boundary). Once this \n",
    "$N \\times N$ array is created and assigned, we can use the `reshape` method to rearrange it into a \n",
    "$N^2 \\times 1$ vector that can be used in the $\\mathbf{Av} = \\mathbf{b}$:"
   ]
  },
  {
   "cell_type": "code",
   "execution_count": null,
   "metadata": {
    "slideshow": {
     "slide_type": "fragment"
    }
   },
   "outputs": [],
   "source": [
    "b = np.zeros((N, N))\n",
    "\n",
    "b[0, :]  += u0_b \n",
    "b[-1, :] += u0_t\n",
    "b[:, 0]  += u0_l\n",
    "b[:, -1] += u0_r\n",
    "\n",
    "b = -b.reshape(N**2) /dx**2; b"
   ]
  },
  {
   "cell_type": "markdown",
   "metadata": {
    "slideshow": {
     "slide_type": "subslide"
    }
   },
   "source": [
    "When the $\\mathbf{A}$ and $\\mathbf{b}$ arrays are created, we can proceed to solve the equation system for the vector $\\mathbf{v}$, and use the `reshape` method to arrange it back into the $N \\times N$ matrix $\\mathbf{u}$. "
   ]
  },
  {
   "cell_type": "code",
   "execution_count": null,
   "metadata": {
    "slideshow": {
     "slide_type": "fragment"
    }
   },
   "outputs": [],
   "source": [
    "v = sp.linalg.spsolve(A, b)\n",
    "u = v.reshape(N, N)"
   ]
  },
  {
   "cell_type": "code",
   "execution_count": null,
   "metadata": {
    "slideshow": {
     "slide_type": "fragment"
    }
   },
   "outputs": [],
   "source": [
    "U = np.vstack([np.ones((1, N +2)) * u0_b,\n",
    "               np.hstack([np.ones((N, 1))*u0_l, u, np.ones((N, 1))*u0_r]),\n",
    "               np.ones((1, N +2)) * u0_t])\n",
    "\n",
    "x = np.linspace(0, 1, N +2)\n",
    "X, Y = np.meshgrid(x, x)"
   ]
  },
  {
   "cell_type": "code",
   "execution_count": null,
   "metadata": {
    "slideshow": {
     "slide_type": "subslide"
    }
   },
   "outputs": [],
   "source": [
    "%matplotlib qt\n",
    "\n",
    "fig = plt.figure(figsize=(12, 5.5))\n",
    "cmap = mpl.cm.get_cmap('RdBu_r')\n",
    "\n",
    "#---------------------------------------------\n",
    "ax = fig.add_subplot(1, 2, 1)\n",
    "\n",
    "p = ax.pcolor(X, Y, U, vmin=-5, vmax=5, cmap=cmap)\n",
    "ax.set_xlabel(r\"$x_1$\", fontsize=16)\n",
    "ax.set_ylabel(r\"$x_2$\", fontsize=16)\n",
    "\n",
    "#---------------------------------------------\n",
    "ax = fig.add_subplot(1, 2, 2, projection='3d')\n",
    "\n",
    "p = ax.plot_surface(X, Y, U, vmin=-5, vmax=5, rstride=3, cstride=3, linewidth=0, cmap=cmap)\n",
    "ax.set_xlabel(r\"$x_1$\", fontsize=16)\n",
    "ax.set_ylabel(r\"$x_2$\", fontsize=16)\n",
    "\n",
    "cb = plt.colorbar(p, ax=ax, shrink=0.75)\n",
    "cb.set_label(r\"$u(x_1, x_2)$\", fontsize=18)\n",
    "\n",
    "fig.tight_layout()"
   ]
  },
  {
   "cell_type": "markdown",
   "metadata": {
    "slideshow": {
     "slide_type": "subslide"
    }
   },
   "source": [
    "To illustrate in concrete terms the importance of using sparse \n",
    "matrices for this type of problems, we can compare the time required for solving of the \n",
    "$\\mathbf{Av} = \\mathbf{b}$ equation: "
   ]
  },
  {
   "cell_type": "code",
   "execution_count": null,
   "metadata": {
    "slideshow": {
     "slide_type": "fragment"
    }
   },
   "outputs": [],
   "source": [
    "A_dense = A.todense()"
   ]
  },
  {
   "cell_type": "code",
   "execution_count": null,
   "metadata": {
    "slideshow": {
     "slide_type": "fragment"
    }
   },
   "outputs": [],
   "source": [
    "%time np.linalg.solve(A_dense, b)"
   ]
  },
  {
   "cell_type": "code",
   "execution_count": null,
   "metadata": {
    "slideshow": {
     "slide_type": "fragment"
    }
   },
   "outputs": [],
   "source": [
    "%time la.solve(A_dense, b)"
   ]
  },
  {
   "cell_type": "code",
   "execution_count": null,
   "metadata": {
    "slideshow": {
     "slide_type": "fragment"
    }
   },
   "outputs": [],
   "source": [
    "%time sp.linalg.spsolve(A, b)"
   ]
  },
  {
   "cell_type": "markdown",
   "metadata": {
    "slideshow": {
     "slide_type": "subslide"
    }
   },
   "source": [
    "From these results, we see that using sparse matrices for the present problem results in a speedup of \n",
    "several orders of magnitude."
   ]
  },
  {
   "cell_type": "markdown",
   "metadata": {
    "slideshow": {
     "slide_type": "fragment"
    }
   },
   "source": [
    "The finite-difference method that we used in the last two examples is powerful and relatively simple \n",
    "method for solving ODE boundary-value problems and PDE problems with simple geometries. However, it \n",
    "is not so easily adapted to problems on more complicate domains, or problems on nonuniform coordinate \n",
    "grids. \n",
    "\n",
    "For such problems finite-element methods are typically more flexible and convenient to work with, \n",
    "and although FEMs are conceptually more complicated than FDMs, they can be computationally efficient \n",
    "and adapts well to complicated problem domains and more involved boundary conditions."
   ]
  },
  {
   "cell_type": "markdown",
   "metadata": {
    "slideshow": {
     "slide_type": "subslide"
    }
   },
   "source": [
    "### 2-dimensional with source term"
   ]
  },
  {
   "cell_type": "code",
   "execution_count": null,
   "metadata": {
    "slideshow": {
     "slide_type": "fragment"
    }
   },
   "outputs": [],
   "source": [
    "b = - np.ones((N, N)).reshape(N**2)\n",
    "u = sp.linalg.spsolve(A, b).reshape(N, N)"
   ]
  },
  {
   "cell_type": "code",
   "execution_count": null,
   "metadata": {
    "slideshow": {
     "slide_type": "fragment"
    }
   },
   "outputs": [],
   "source": [
    "U = np.vstack([np.zeros((1, N +2)),\n",
    "               np.hstack([np.zeros((N, 1)), u, np.zeros((N, 1))]),\n",
    "               np.zeros((1, N +2))])\n",
    "\n",
    "x = np.linspace(0, 1, N +2)\n",
    "X, Y = np.meshgrid(x, x)"
   ]
  },
  {
   "cell_type": "code",
   "execution_count": null,
   "metadata": {
    "slideshow": {
     "slide_type": "fragment"
    }
   },
   "outputs": [],
   "source": [
    "fig, ax = plt.subplots(1, 1, figsize=(8, 6), subplot_kw={'projection': '3d'})\n",
    "\n",
    "p = ax.plot_surface(X, Y, U, rstride=4, cstride=4, linewidth=0, cmap=mpl.cm.get_cmap(\"Reds\"))\n",
    "cb = fig.colorbar(p, shrink=0.5)\n",
    "\n",
    "ax.set_xlabel(r\"$x_1$\", fontsize=16)\n",
    "ax.set_ylabel(r\"$x_2$\", fontsize=16)\n",
    "cb.set_label(r\"$u(x_1, x_2)$\", fontsize=16)\n",
    "\n",
    "fig.tight_layout()"
   ]
  },
  {
   "cell_type": "markdown",
   "metadata": {
    "slideshow": {
     "slide_type": "slide"
    }
   },
   "source": [
    "## Finite-element methods"
   ]
  },
  {
   "cell_type": "markdown",
   "metadata": {
    "slideshow": {
     "slide_type": "fragment"
    }
   },
   "source": [
    "* The basic idea of this method is to represent the domain on which the PDE is defined with a finite \n",
    "set of discrete regions, or elements, and to approximate the unknown function as a linear combination of \n",
    "basis functions with local support on each of these elements (or on a small group of neighboring elements). \n",
    "\n",
    "* Mathematically, this approximation solution, $u_h$, represents a projection of the exact solution \n",
    "$u$ in the function space $V$ (for example, continuous real-valued functions) onto a finite subspace \n",
    "$V_h \\subset V$ that is related to the discretization of the problem domain. If $V_h$ is a suitable subspace of \n",
    "$V$, then it can be expected that $u_h$ can be a good approximation to $u$."
   ]
  },
  {
   "cell_type": "markdown",
   "metadata": {
    "slideshow": {
     "slide_type": "fragment"
    }
   },
   "source": [
    "* To be able to solve the approximate problem on the simplified function space $V_h$, we can first rewrite the \n",
    "PDE from its original formulation, which is known as the *strong form*, to its corresponding variational form, \n",
    "also known as the <font color=\"red\">*weak form*</font>. To obtain the weak form, we multiply the PDE with an arbitrary function $v$  and integrate over the entire problem domain. The function $v$  is called a <font color=\"blue\">*test function*</font>, and it can in general be defined on function space $\\hat{V}$ that differs from that of $u$, which in this context is called a <font color=\"blue\">*trial function*</font>."
   ]
  },
  {
   "cell_type": "markdown",
   "metadata": {
    "slideshow": {
     "slide_type": "subslide"
    }
   },
   "source": [
    "* For example, consider the steady-state heat equation (also known as the Poisson equation) that we\n",
    "solved using the FDM earlier in this chapter: The strong form of this equation is $-\\Delta u(\\mathbf{x}) = f(\\mathbf{x})$ , where we have used the vector operator notation. By multiplying this equation with a test function $v$ and integrating over the domain $\\mathbf{x} \\in \\Omega$, $\\text{ }$we obtain the weak form:\n",
    "\n",
    "$$\n",
    "-\\int_{\\Omega} \\Delta u \\, v\\, d\\mathbf{x} = \\int_\\Omega f \\,v \\,d\\mathbf{x}\n",
    "$$"
   ]
  },
  {
   "cell_type": "markdown",
   "metadata": {
    "slideshow": {
     "slide_type": "fragment"
    }
   },
   "source": [
    "* Since the exact solution $u$ satisfies the strong form, it also satisfies the weak form of the PDE for any\n",
    "reasonable choice of $v$. The reverse does not necessarily hold true, but if a function $u_h$ satisfies the weak form for a large class of suitably chosen test functions $v$, then it is plausible that it is a good approximation to the exact solution $u$ (hence the name test function)."
   ]
  },
  {
   "cell_type": "markdown",
   "metadata": {
    "slideshow": {
     "slide_type": "subslide"
    }
   },
   "source": [
    "* To treat this problem numerically, we first need to make the transition from the infinite-dimensional\n",
    "  function spaces $V$ and $\\hat{V}$ to approximate finite-dimensional function spaces $V_h$ and $\\hat{V}_h$ :\n",
    "\n",
    "  $$\n",
    "-\\int_{\\Omega} \\Delta u_h \\, v_h\\, d\\mathbf{x} = \\int_\\Omega f \\,v_h \\,d\\mathbf{x}\n",
    "  $$\n",
    "\n",
    "  where $u_h \\in V_h$ and $v_h \\in  \\hat{V}_h$. The key point here is that $V_h$ and $\\hat{V}_h$ are finite dimensional, $\\text{ }$so we can use a finite set of basis functions ${\\phi_j}$ and ${\\hat{\\phi}_i}$ that spans the function spaces $V_h$ and $\\hat{V}_h$ respectively, to describe the functions $u_h$ and $v_h$. \n",
    "  \n",
    "*  In particular, we can express $u_h$ as a linear combination of the basis functions that spans its function space, \n",
    "\n",
    "   $$u_h =\\sum U_j \\phi_j$$\n",
    "   \n",
    "   Inserting this linear combination in the weak form of the PDE and carrying out the integrals and differential operators on the basis functions yields a set of algebraic equations."
   ]
  },
  {
   "cell_type": "markdown",
   "metadata": {
    "slideshow": {
     "slide_type": "subslide"
    }
   },
   "source": [
    "* To obtain an equation system on the simple form $\\mathbf{AU} = \\mathbf{b}$, $\\text{ }$we also must write the weak form of the PDE on bilinear form with respect to the $u_h$ and $v_h$ functions: $a(u_h, v_h) =L(v_h)$ for some functions $a$ and $L$. This is not always possible, but for the current example of the Poission equation, $\\text{ }$we can obtain this form by integrating by parts:\n",
    "\n",
    "  $$\n",
    "  \\begin{align*}\n",
    "   -\\int_\\Omega \\Delta u_h\\, v_h \\, d\\mathbf{x} &= \n",
    "    \\int_\\Omega \\nabla u_h \\cdot \\nabla v_h \\,d\\mathbf{x} -\\int_\\Omega \\nabla \\cdot (\\nabla u_h v_h) \\,d\\mathbf{x} \\\\ \n",
    "    &= \\int_\\Omega \\nabla u_h \\cdot \\nabla v_h \\,d\\mathbf{x} -\\int_{\\partial \\Omega} (\\nabla u_h \\cdot \\mathbf{n}) v_h\\, d\\Gamma\n",
    "  \\end{align*}\n",
    "  $$\n",
    "\n",
    "  where, in the second equality, $\\text{ }$we have also applied Gauss theorem to convert the second term to an integral over the boundary $\\partial \\Omega$ of the domain $\\Omega$. Here $\\mathbf{n}$ is the outward normal vector of the boundary $\\partial \\Omega$. There is no general method for rewriting a PDE on strong form to weak form, and each problem will have to be approached on a case-by-case basis"
   ]
  },
  {
   "cell_type": "markdown",
   "metadata": {
    "slideshow": {
     "slide_type": "subslide"
    }
   },
   "source": [
    "* To this end, $\\text{ }$assume that the problem satisfies \n",
    "\n",
    "  * Dirichlet boundary condition on a part of $\\partial \\Omega$ denoted $\\Gamma_D$: $\\{u=u_D,\\;\\mathbf{x} \\in \\Gamma_D \\}$, \n",
    "  * Neumann boundary conditions on another part of  $\\partial \\Omega$ denoted $\\Gamma_N$: $\\{\\nabla u \\cdot \\mathbf{n}=g,\\;\\mathbf{x} \\in \\Gamma_N \\}$, \n",
    "  * and Robin boundary conditions on the remaining part of  $\\partial \\Omega$ denoted $\\Gamma_R$: $\\{\\nabla u \\cdot \\mathbf{n}=r(u -s),\\;\\mathbf{x} \\in \\Gamma_R \\}$. \n",
    "  \n",
    "  Since we are free to choose the test functions $v_h$, we can let $v_h$ vanish on the part of the boundary that satisfies Dirichlet boundary conditions. In this case, $\\text{ }$we obtain the following weak form of the PDE problem:\n",
    "\n",
    "$$\n",
    "\\int_\\Omega \\nabla u_h \\cdot \\nabla v_h \\,d\\mathbf{x} -\\int_{\\Gamma_R} r u_h\\, v_h\\, d\\Gamma=\\int_\\Omega f\\, v_h \\,d\\mathbf{x} +\\int_{\\Gamma_N} g v_h\\, d\\Gamma\n",
    "-\\int_{\\Gamma_R} r \\,s\\, v_h\\, d\\Gamma\n",
    "$$"
   ]
  },
  {
   "cell_type": "markdown",
   "metadata": {
    "slideshow": {
     "slide_type": "subslide"
    }
   },
   "source": [
    "* If we substitute the function $u_h$ for its expression as a linear combination of basis functions, and\n",
    "substitute the test function with one of its basis functions, we obtain an algebraic equation:\n",
    "\n",
    "$$\n",
    "\\sum_j U_j \\left(\\int_\\Omega \\nabla \\phi_j \\cdot \\nabla \\hat{\\phi}_i \\,d\\mathbf{x} -\\int_{\\Gamma_R} r \\phi_j\\, \\hat{\\phi}_i \\,d\\Gamma \\right)\n",
    "=\\int_\\Omega f\\, \\hat{\\phi}_i \\,d\\mathbf{x} +\\int_{\\Gamma_N} g \\hat{\\phi}_i\\, d\\Gamma\n",
    "-\\int_{\\Gamma_R} r \\,s\\, \\hat{\\phi}_i\\, d\\Gamma\n",
    "$$"
   ]
  },
  {
   "cell_type": "markdown",
   "metadata": {
    "slideshow": {
     "slide_type": "fragment"
    }
   },
   "source": [
    "* If there are $N$ basis functions in $V_h$, $\\text{ }$then there are $N$ unknown coefficients $U_j$, $\\text{ }$and we need $N$ independent test functions $\\hat{\\phi}_i$ to obtain a closed equation system. This equation system is on the form $\\mathbf{AU} = \\mathbf{b}$ with\n",
    "\n",
    "  $$A_{ij}=\\int_\\Omega \\nabla \\phi_j \\cdot \\nabla \\hat{\\phi}_i \\,d\\mathbf{x} -\\int_{\\Gamma_R} r \\phi_j\\, \\hat{\\phi}_i \\,d\\Gamma, \\text{ and }\n",
    "  b_i=\\int_\\Omega f\\, \\hat{\\phi}_i \\,d\\mathbf{x} +\\int_{\\Gamma_N} g \\hat{\\phi}_i\\, d\\Gamma\n",
    "-\\int_{\\Gamma_R} r \\,s\\, \\hat{\\phi}_i\\, d\\Gamma$$ \n",
    "\n",
    "  Following this procedure, $\\text{ }$we have therefore converted the PDE problem into a system of linear equations that can be readily solved."
   ]
  },
  {
   "cell_type": "markdown",
   "metadata": {
    "slideshow": {
     "slide_type": "subslide"
    }
   },
   "source": [
    "* In practice, a very large number of basis functions can be required to obtain a good approximation\n",
    "to the exact solution, and the linear equation systems generated by FEMs are therefore often very large.\n",
    "However, the fact that each basis functions have support only at one or a few nearby elements in the\n",
    "discretization of the problem domain ensures that the matrix $\\mathbf{A}$ is sparse, which makes it tractable to solve\n",
    "rather large-scale FEM problems. We also note that an important property of the basis functions $\\phi_j$ and $\\hat{\\phi}_i$\n",
    "is that it should be easy to compute the derivatives and integrals of the expression that occur in the final\n",
    "weak form of the problem, so that the matrix $\\mathbf{A}$ and vector $\\mathbf{b}$ can be assembled efficiently."
   ]
  },
  {
   "cell_type": "markdown",
   "metadata": {
    "slideshow": {
     "slide_type": "fragment"
    }
   },
   "source": [
    "* When using FEM software for solving PDE problems, it is typically required to convert the PDE to weak\n",
    "form by hand, and if possible rewrite it on the bilinear form $a(u,v) = L(v)$ . It is also necessary to provide a\n",
    "suitable discretization of the problem domain. This discretization is called a mesh, and it is usually made up\n",
    "of triangular partitioning (or their higher-order generalizations) of the total domain. Meshing an intricate\n",
    "problem domain can in itself be a complicated process, and it may require using sophisticated software\n",
    "especially dedicated for mesh generation. For simple geometries there are tools for programmatically\n",
    "generating meshes, and we will see examples of this in the following section."
   ]
  },
  {
   "cell_type": "markdown",
   "metadata": {
    "slideshow": {
     "slide_type": "subslide"
    }
   },
   "source": [
    "* Once a mesh is generated and the PDE problem is written on a suitable weak form, we can feed the\n",
    "problem into a FEM framework, which then automatically assembles the algebraic equation system and\n",
    "applies suitable sparse equation solvers to find the solution. In this processes, we often have a choice of what\n",
    "type of basis functions to use, as well as which type of solver to use. Once the algebraic equation is solved,\n",
    "we can construct the approximation solution to the PDE with the help of the basis functions, and we can for\n",
    "example visualize the solution or post process it in some other fashion"
   ]
  },
  {
   "cell_type": "markdown",
   "metadata": {
    "slideshow": {
     "slide_type": "fragment"
    }
   },
   "source": [
    "* In the following section, we will look at solving example problems with **FEniCS**, and thereby introduce some\n",
    "of its basic features and usage. The hope is that the examples can give a flavor of how it is to work with FEM\n",
    "problems in Python, and provide a starting point for the readers interested in learning more about FEM\n",
    "with Python.\n"
   ]
  },
  {
   "cell_type": "markdown",
   "metadata": {
    "slideshow": {
     "slide_type": "subslide"
    }
   },
   "source": [
    "## Solving PDEs using FEniCS"
   ]
  },
  {
   "cell_type": "markdown",
   "metadata": {
    "slideshow": {
     "slide_type": "fragment"
    }
   },
   "source": [
    "FEniCS is a highly capable FEM framework that is made up of a collection of libraries and tools for\n",
    "solving PDE problem. Much of FEniCS is programmed in C++, but it also provides an official Python interface.\n",
    "Because of the complexity of the many dependencies of the FEniCS libraries to external low-level numerical\n",
    "libraries, FEniCS is usually packaged and installed as an independent environment. For more information about\n",
    "the FEniCS, see the project's web site at http://fenicsproject.org. At the time of writing, the most recent\n",
    "version is 2019.1.0."
   ]
  },
  {
   "cell_type": "markdown",
   "metadata": {
    "slideshow": {
     "slide_type": "subslide"
    }
   },
   "source": [
    "### FEniCS on Docker and Jupyter Notebook"
   ]
  },
  {
   "cell_type": "markdown",
   "metadata": {
    "slideshow": {
     "slide_type": "fragment"
    }
   },
   "source": [
    "    $ docker version\n",
    "    Client:\n",
    "     Version:      17.03.1-ce\n",
    "     API version:  1.27\n",
    "     Go version:   go1.7.5\n",
    "     Git commit:   c6d412e\n",
    "     Built:        Tue Mar 28 00:40:02 2017\n",
    "     OS/Arch:      windows/amd64\n",
    "\n",
    "    Server:\n",
    "     Version:      17.03.1-ce\n",
    "     API version:  1.27 (minimum version 1.12)\n",
    "     Go version:   go1.7.5\n",
    "     Git commit:   c6d412e\n",
    "     Built:        Fri Mar 24 00:00:50 2017\n",
    "     OS/Arch:      linux/amd64\n",
    "     Experimental: true"
   ]
  },
  {
   "cell_type": "markdown",
   "metadata": {
    "slideshow": {
     "slide_type": "subslide"
    }
   },
   "source": [
    "    $ docker pull quay.io/fenicsproject/stable:latest\n",
    "    \n",
    "    $ docker run --name fenics-notebook -w /home/fenics/shared -v ${pwd}:/home/fenics/shared -d -p 127.0.0.1:8888:8888 quay.io/fenicsproject/stable 'jupyter-notebook --ip=0.0.0.0'\n",
    "    \n",
    "    $ docker logs --tail 3 fenics-notebook\n",
    "    Copy/paste this URL into your browser when you connect for the first time,\n",
    "    to login with a token:\n",
    "        http://0.0.0.0:8888/?token=e720c81a3a3cc44ff55a8f2f92f86e2512d24467f233a9f7"
   ]
  },
  {
   "cell_type": "markdown",
   "metadata": {
    "slideshow": {
     "slide_type": "subslide"
    }
   },
   "source": [
    "### Solving the Possion equation"
   ]
  },
  {
   "cell_type": "markdown",
   "metadata": {
    "slideshow": {
     "slide_type": "fragment"
    }
   },
   "source": [
    "$$\n",
    "\\begin{eqnarray}\n",
    "-\\Delta u(\\mathbf{x}) &&= f(\\mathbf{x}),\\:&&\\mathbf{x} \\:\\text{in} \\:\\Omega \\\\ \n",
    "u(\\mathbf{x}) &&= u_D(\\mathbf{x}),\\:&&\\mathbf{x} \\:\\text{on} \\:\\partial\\Omega \n",
    "\\end{eqnarray}\n",
    "$$"
   ]
  },
  {
   "cell_type": "code",
   "execution_count": null,
   "metadata": {
    "slideshow": {
     "slide_type": "fragment"
    }
   },
   "outputs": [],
   "source": [
    "\"\"\"\n",
    "FEniCS tutorial demo program: Poisson equation with Dirichlet conditions.\n",
    "Test problem is chosen to give an exact solution at all nodes of the mesh.\n",
    "  -Laplace(u) = f    in the unit square\n",
    "            u = u_D  on the boundary\n",
    "  u_D = 1 + x^2 + 2y^2\n",
    "    f = -6\n",
    "\"\"\"\n",
    "\n",
    "from __future__ import print_function\n",
    "from fenics import *\n",
    "import numpy as np"
   ]
  },
  {
   "cell_type": "code",
   "execution_count": null,
   "metadata": {},
   "outputs": [],
   "source": [
    "# Create mesh and define function space\n",
    "mesh = UnitSquareMesh(8, 8)\n",
    "V = FunctionSpace(mesh, 'P', 1)"
   ]
  },
  {
   "cell_type": "code",
   "execution_count": null,
   "metadata": {},
   "outputs": [],
   "source": [
    "# Define boundary condition\n",
    "u_D = Expression('1 + x[0]*x[0] + 2*x[1]*x[1]', degree=2)\n",
    "\n",
    "def boundary(x, on_boundary):\n",
    "    return on_boundary\n",
    "\n",
    "bc = DirichletBC(V, u_D, boundary)"
   ]
  },
  {
   "cell_type": "code",
   "execution_count": null,
   "metadata": {},
   "outputs": [],
   "source": [
    "# Define variational problem\n",
    "u = TrialFunction(V)\n",
    "v = TestFunction(V)\n",
    "f = Constant(-6.0)\n",
    "a = dot(grad(u), grad(v))*dx\n",
    "L = f*v*dx"
   ]
  },
  {
   "cell_type": "code",
   "execution_count": null,
   "metadata": {},
   "outputs": [],
   "source": [
    "# Compute solution\n",
    "u = Function(V)\n",
    "solve(a == L, u, bc)"
   ]
  },
  {
   "cell_type": "code",
   "execution_count": null,
   "metadata": {},
   "outputs": [],
   "source": [
    "# Plot solution\n",
    "plot(u);"
   ]
  },
  {
   "cell_type": "code",
   "execution_count": null,
   "metadata": {},
   "outputs": [],
   "source": [
    "plot(mesh);"
   ]
  },
  {
   "cell_type": "code",
   "execution_count": null,
   "metadata": {},
   "outputs": [],
   "source": [
    "from IPython.display import HTML"
   ]
  },
  {
   "cell_type": "code",
   "execution_count": null,
   "metadata": {
    "scrolled": true
   },
   "outputs": [],
   "source": [
    "HTML(X3DOM().html(u))"
   ]
  },
  {
   "cell_type": "code",
   "execution_count": null,
   "metadata": {},
   "outputs": [],
   "source": [
    "# Compute error in L2 norm\n",
    "error_L2 = errornorm(u_D, u, 'L2')\n",
    "\n",
    "# Compute maximum error at vertices\n",
    "vertex_values_u_D = u_D.compute_vertex_values(mesh) # see pp.28-29 \"of The FEniCS Tutorial Volum I\n",
    "vertex_values_u = u.compute_vertex_values(mesh)\n",
    "error_max = np.max(np.abs(vertex_values_u_D - vertex_values_u))\n",
    "\n",
    "# Print errors\n",
    "print('error_L2  =', error_L2)\n",
    "print('error_max =', error_max)"
   ]
  },
  {
   "cell_type": "code",
   "execution_count": null,
   "metadata": {},
   "outputs": [],
   "source": [
    "# Save solution in VTK format\n",
    "file = File(\"./files/poisson.pvd\")\n",
    "file << u"
   ]
  },
  {
   "cell_type": "markdown",
   "metadata": {},
   "source": [
    "### Plotting the solution using ParaView"
   ]
  },
  {
   "cell_type": "markdown",
   "metadata": {},
   "source": [
    "![ParaView_Poisson](./figs/poisson.png)"
   ]
  },
  {
   "cell_type": "markdown",
   "metadata": {
    "slideshow": {
     "slide_type": "subslide"
    }
   },
   "source": [
    "### Deflection of a membrane"
   ]
  },
  {
   "cell_type": "markdown",
   "metadata": {
    "slideshow": {
     "slide_type": "fragment"
    }
   },
   "source": [
    "We want to compute the deflection $D(x,y)$ of a two-dimensional, circular\n",
    "membrane of radius $R$, subject to a load $p$ over the membrane. The appropriate\n",
    "PDE model is\n",
    "\n",
    "$$\n",
    "-T\\nabla^2 D = p \\:\\: \\text{in} \\: \\Omega = \\{(x, y) \\, | \\, x^2 +y^2 \\leq R \\}.\n",
    "$$\n",
    "\n",
    "Here, $T$ is the tension in the membrane (constant), and $p$ is the external\n",
    "pressure load. The boundary of the membrane has no deflection, implying\n",
    "$D = 0$ as a boundary condition. A localized load can be modeled as a Gaussian\n",
    "function:\n",
    "\n",
    "$$\n",
    "p(x,y) = \\frac{A}{2\\pi\\sigma} \\exp \\left[ -\\frac{1}{2} \\left(\\frac{x - x_0}{\\sigma} \\right)^2\n",
    " -\\frac{1}{2} \\left(\\frac{y - y_0}{\\sigma} \\right)^2 \\right]\n",
    "$$\n",
    "\n",
    "The parameter $A$ is the amplitude of the pressure, $(x_0,y_0)$ the localization\n",
    "of the maximum point of the load, and $\\sigma$ the *width* of $p$. We will take the\n",
    "center $(x_0,y_0)$ of the pressure to be $(0,R_0)$ for some $0 < R_0 < R$.\n"
   ]
  },
  {
   "cell_type": "markdown",
   "metadata": {
    "slideshow": {
     "slide_type": "subslide"
    }
   },
   "source": [
    "There are many physical parameters in this problem, and we can benefit\n",
    "from grouping them by means of scaling. Let us introduce dimensionless\n",
    "coordinates $\\bar{x}=x/R$, $\\bar{y}=y/R$, and a dimensionless deflection $w=D/D_c$, where $D_c$ is a characteristic size of \n",
    "the deflection. Introducing $\\bar{R}_0=R_0/R$, we obtain\n",
    "\n",
    "$$\n",
    "-\\left(\\frac{\\partial^2 w}{\\partial \\bar{x}^2} +\\frac{\\partial^2 w}{\\partial \\bar{y}^2} \\right) \n",
    "= \\alpha \\exp\\left(-\\beta^2 (\\bar{x}^2 +(\\bar{y} -\\bar{R}_0)^2 )\\right)\\:\\:\\text{for}\\:\\bar{x}^2 + \\bar{y}^2 < 1,\n",
    "$$\n",
    "\n",
    "where\n",
    "\n",
    "$$\n",
    "\\alpha = \\frac{R^2 A}{2\\pi TD_c \\sigma},\\:\\: \\beta = \\frac{R}{\\sqrt{2} \\sigma}.\n",
    "$$\n",
    "\n",
    "With an appropriate scaling, $w$ and its derivatives are of size unity, so the\n",
    "left-hand side of the scaled PDE is about unity in size, while the right-hand\n",
    "side has $\\alpha$ as its characteristic size. This suggest choosing $\\alpha$ to be unity,\n",
    "or around unity. We shall in this particular case choose $\\alpha=4$. With\n",
    "$D_c = AR^2/(8\\pi \\sigma T)$ and dropping the bars we obtain the scaled problem\n",
    "\n",
    "$$\n",
    "-\\nabla^2 w = 4 \\exp\\left(-\\beta^2 (x^2 +(y -R_0)^2 )\\right),\n",
    "$$\n",
    "\n",
    "to be solved over the unit disc with $w=0$ on the boundary. Now there are\n",
    "only two parameters to vary: the dimensionless extent of the pressure, $\\beta$, and\n",
    "the localization of the pressure peak, $R_0 \\in [0,1]$. As $\\beta \\rightarrow  0$, the solution will\n",
    "approach the special case $w = 1 −x^2 -y^2$. Given a computed scaled solution w, the physical deflection can be computed\n",
    "by\n",
    "\n",
    "$$\n",
    "D = \\frac{AR^2}{8 \\pi \\sigma T} w.\n",
    "$$"
   ]
  },
  {
   "cell_type": "code",
   "execution_count": null,
   "metadata": {},
   "outputs": [],
   "source": [
    "\"\"\"\n",
    "FEniCS tutorial demo program: Deflection of a membrane.\n",
    "  -Laplace(w) = p  in the unit circle\n",
    "            w = 0  on the boundary\n",
    "The load p is a Gaussian function centered at (0, 0.6).\n",
    "\"\"\"\n",
    "\n",
    "from __future__ import print_function\n",
    "from fenics import *\n",
    "from mshr import *\n",
    "import numpy as np"
   ]
  },
  {
   "cell_type": "markdown",
   "metadata": {},
   "source": [
    "A mesh over the unit disk can be created by the `mshr` tool in FEniCS:"
   ]
  },
  {
   "cell_type": "code",
   "execution_count": null,
   "metadata": {},
   "outputs": [],
   "source": [
    "# Create mesh and define function space\n",
    "domain = Circle(Point(0, 0), 1)\n",
    "mesh = generate_mesh(domain, 64)\n",
    "V = FunctionSpace(mesh, 'P', 2)"
   ]
  },
  {
   "cell_type": "markdown",
   "metadata": {},
   "source": [
    "The `Circle` shape from `mshr` takes the center and radius of the circle as\n",
    "arguments. The second argument to the `generate_mesh` function specifies\n",
    "the desired mesh resolution. The cell size will be (approximately) equal to\n",
    "the diameter of the domain divided by the resolution."
   ]
  },
  {
   "cell_type": "code",
   "execution_count": null,
   "metadata": {},
   "outputs": [],
   "source": [
    "# Define boundary condition\n",
    "w_D = Constant(0)\n",
    "\n",
    "def boundary(x, on_boundary):\n",
    "    return on_boundary\n",
    "\n",
    "bc = DirichletBC(V, w_D, boundary)"
   ]
  },
  {
   "cell_type": "code",
   "execution_count": null,
   "metadata": {},
   "outputs": [],
   "source": [
    "# Define load\n",
    "beta = 8\n",
    "R0 = 0.6\n",
    "p = Expression('4*exp(-pow(beta, 2)*(pow(x[0], 2) + pow(x[1] - R0, 2)))',\n",
    "               degree=1, beta=beta, R0=R0)"
   ]
  },
  {
   "cell_type": "markdown",
   "metadata": {},
   "source": [
    "All the parameters initialized by keyword arguments\n",
    "can at any time have their values modified. For example, we may set\n",
    "\n",
    "    p.beta = 12\n",
    "    p.R0 = 0.3"
   ]
  },
  {
   "cell_type": "code",
   "execution_count": null,
   "metadata": {},
   "outputs": [],
   "source": [
    "# Define variational problem\n",
    "w = TrialFunction(V)\n",
    "v = TestFunction(V)\n",
    "a = dot(grad(w), grad(v))*dx\n",
    "L = p*v*dx"
   ]
  },
  {
   "cell_type": "code",
   "execution_count": null,
   "metadata": {},
   "outputs": [],
   "source": [
    "# Compute solution\n",
    "w = Function(V)\n",
    "solve(a == L, w, bc)"
   ]
  },
  {
   "cell_type": "markdown",
   "metadata": {},
   "source": [
    "It is of interest to visualize the pressure $p$ along with the deflection $w$ so that\n",
    "we may examine the membrane's response to the pressure. We must then\n",
    "transform the formula (`Expression`) to a finite element function (`Function`).\n",
    "The most natural approach is to construct a finite element function whose\n",
    "degrees of freedom are calculated from $p$. That is, we interpolate $p$ to the\n",
    "function space $V$ :"
   ]
  },
  {
   "cell_type": "code",
   "execution_count": null,
   "metadata": {},
   "outputs": [],
   "source": [
    "# Plot solution\n",
    "plot(w, title='Deflection');"
   ]
  },
  {
   "cell_type": "code",
   "execution_count": null,
   "metadata": {},
   "outputs": [],
   "source": [
    "p = interpolate(p, V)\n",
    "plot(p, title='Load');"
   ]
  },
  {
   "cell_type": "code",
   "execution_count": null,
   "metadata": {},
   "outputs": [],
   "source": [
    "vtkfile_w = File('files/poisson_membrane/deflection.pvd')\n",
    "vtkfile_w << w\n",
    "vtkfile_p = File('files/poisson_membrane/load.pvd')\n",
    "vtkfile_p << p"
   ]
  },
  {
   "cell_type": "code",
   "execution_count": null,
   "metadata": {},
   "outputs": [],
   "source": [
    "# Curve plot along x = 0 comparing p and w\n",
    "\n",
    "tol = 0.001  # avoid hitting points outside the domain\n",
    "\n",
    "y = np.linspace(-1 + tol, 1 - tol, 101)\n",
    "\n",
    "points = [(0, y_) for y_ in y]  # 2D points\n",
    "\n",
    "w_line = np.array([w(point) for point in points])\n",
    "p_line = np.array([p(point) for point in points])\n",
    "\n",
    "plt.plot(y, 50*w_line, 'k', linewidth=2)  # magnify w\n",
    "plt.plot(y, p_line, 'b--', linewidth=2)\n",
    "plt.grid(True)\n",
    "plt.xlim(-1.0, 1.0)\n",
    "plt.xlabel('$y$')\n",
    "plt.legend(['Deflection ($\\\\times 50$)', 'Load'], loc='upper left')\n",
    "plt.tick_params(which='both', direction='in')\n",
    "\n",
    "# Hold plots\n",
    "plt.show()"
   ]
  },
  {
   "cell_type": "markdown",
   "metadata": {},
   "source": [
    "![Paraview_membrane_delflection](./figs/possion_membrane_deflection.png)"
   ]
  }
 ],
 "metadata": {
  "celltoolbar": "Slideshow",
  "kernelspec": {
   "display_name": "Python 3",
   "language": "python",
   "name": "python3"
  },
  "language_info": {
   "codemirror_mode": {
    "name": "ipython",
    "version": 3
   },
   "file_extension": ".py",
   "mimetype": "text/x-python",
   "name": "python",
   "nbconvert_exporter": "python",
   "pygments_lexer": "ipython3",
   "version": "3.7.5"
  }
 },
 "nbformat": 4,
 "nbformat_minor": 2
}
