{
 "cells": [
  {
   "cell_type": "markdown",
   "metadata": {},
   "source": [
    "# Chapter 8: Integration"
   ]
  },
  {
   "cell_type": "markdown",
   "metadata": {},
   "source": [
    "Robert Johansson\n",
    "\n",
    "Updated source code listings for Numerical Python - A Practical Techniques Approach for Industry (ISBN 978-1-484205-54-9).\n",
    "\n",
    "Updator: Kee-Youn Yoo"
   ]
  },
  {
   "cell_type": "markdown",
   "metadata": {},
   "source": [
    "## Importing modules"
   ]
  },
  {
   "cell_type": "code",
   "execution_count": 1,
   "metadata": {
    "collapsed": true
   },
   "outputs": [],
   "source": [
    "%matplotlib inline\n",
    "import matplotlib.pyplot as plt\n",
    "import matplotlib as mpl\n",
    "\n",
    "import numpy as np\n",
    "\n",
    "from scipy import integrate\n",
    "import sympy\n",
    "sympy.init_printing()"
   ]
  },
  {
   "cell_type": "markdown",
   "metadata": {},
   "source": [
    "## Numerical integration methods"
   ]
  },
  {
   "cell_type": "markdown",
   "metadata": {},
   "source": [
    "Here we are concerned with evaluating definite integrals on the form $I(f) = \\int_a^b f(x) dx$, with given integration\n",
    "limits $a$ and $b$. The interval $[a, b]$ can be finite, semi-infinite (where either $a =-\\infty$ or $b=\\infty$, or infinite (where\n",
    "$a =-\\infty$ and $b=\\infty$)."
   ]
  },
  {
   "cell_type": "markdown",
   "metadata": {},
   "source": [
    "$$ I(f) \\approx \\sum_{i=0}^{n-1} \\omega_i\\, f(x_i) +r_n$$\n",
    "\n",
    "Quadrature rules can be derived from interpolations of $f(x)$ on the interval $[a, b]$. If the points $x_i$ are evenly spaced in the\n",
    "interval $[a, b]$, and a polynomial interpolation is used, then the resulting quadrature rule is known as a\n",
    "*Newton-Cotes quadrature rule*."
   ]
  },
  {
   "cell_type": "markdown",
   "metadata": {},
   "source": [
    "* For instance, approximating $f(x)$ with a zeroth order polynomial (constant value) using the midpoint value $x_0 = (a + b)/ 2$, we obtain\n",
    "$$I(f) \\approx f\\left(\\frac{a +b}{2}\\right) \\int_a^b dx =(b-a) \\left(\\frac{a +b}{2}\\right)$$\n",
    "This is known as the midpoint rule, and it integrates polynomials of up to order one (linear functions)\n",
    "exactly, and it is therefore said to be of polynomial degree one."
   ]
  },
  {
   "cell_type": "markdown",
   "metadata": {},
   "source": [
    "* Approximating $f(x)$ by a polynomial of degree one, evaluated at the endpoints of the interval, results in\n",
    "$$I(f) \\approx \\frac{b-a}{2} \\left( f(a) + f(b) \\right) $$\n",
    "This is known as the trapezoid rule, and it is also of polynomial degree one."
   ]
  },
  {
   "cell_type": "markdown",
   "metadata": {},
   "source": [
    "* Using an interpolation polynomial of second order results in *Simpson’s rule*,\n",
    "$$I(f) \\approx \\frac{b-a}{6} \\left( f(a) +4f\\left(\\frac{a+b}{2} \\right)+ f(b) \\right) $$\n",
    "which uses function evaluations at the endpoints and the midpoint. This method is of polynomial degree\n",
    "three, meaning that it integrates exactly polynomials up to order three."
   ]
  },
  {
   "cell_type": "code",
   "execution_count": 2,
   "metadata": {},
   "outputs": [
    {
     "data": {
      "image/png": "[encoded data removed]",
      "text/latex": [
       "$$w_{0} f{\\left (a \\right )} + w_{1} f{\\left (\\frac{a}{2} + \\frac{b}{2} \\right )} + w_{2} f{\\left (b \\right )}$$"
      ],
      "text/plain": [
       "              ⎛a   b⎞          \n",
       "w₀⋅f(a) + w₁⋅f⎜─ + ─⎟ + w₂⋅f(b)\n",
       "              ⎝2   2⎠          "
      ]
     },
     "execution_count": 2,
     "metadata": {},
     "output_type": "execute_result"
    }
   ],
   "source": [
    "a, b, X = sympy.symbols(\"a, b, x\")\n",
    "f = sympy.Function(\"f\")\n",
    "\n",
    "x = a, (a + b)/2, b # for Simpson's rule\n",
    "w = [sympy.symbols(\"w_%d\" % i) for i in range(len(x))]\n",
    "\n",
    "q_rule = sum([w[i] * f(x[i]) for i in range(len(x))]); q_rule"
   ]
  },
  {
   "cell_type": "markdown",
   "metadata": {},
   "source": [
    "To compute the appropriate values of the weight factors $w_i$ we choose the polynomial basis functions\n",
    "$ \\left\\{\\phi_n(x) = x^n \\right\\}_{n=0}^2$ for the interpolation of $f(x)$,"
   ]
  },
  {
   "cell_type": "code",
   "execution_count": 3,
   "metadata": {},
   "outputs": [
    {
     "data": {
      "image/png": "[encoded data removed]",
      "text/latex": [
       "$$\\left [ \\left( x \\mapsto 1 \\right), \\quad \\left( x \\mapsto x \\right), \\quad \\left( x \\mapsto x^{2} \\right)\\right ]$$"
      ],
      "text/plain": [
       "⎡                   2⎤\n",
       "⎣x ↦ 1, x ↦ x, x ↦ x ⎦"
      ]
     },
     "execution_count": 3,
     "metadata": {},
     "output_type": "execute_result"
    }
   ],
   "source": [
    "phi = [sympy.Lambda(X, X**n) for n in range(len(x))]; phi"
   ]
  },
  {
   "cell_type": "code",
   "execution_count": 4,
   "metadata": {},
   "outputs": [
    {
     "data": {
      "image/png": "[encoded data removed]",
      "text/latex": [
       "$$\\left [ a - b + w_{0} + w_{1} + w_{2}, \\quad \\frac{a^{2}}{2} + a w_{0} - \\frac{b^{2}}{2} + b w_{2} + w_{1} \\left(\\frac{a}{2} + \\frac{b}{2}\\right), \\quad \\frac{a^{3}}{3} + a^{2} w_{0} - \\frac{b^{3}}{3} + b^{2} w_{2} + w_{1} \\left(\\frac{a}{2} + \\frac{b}{2}\\right)^{2}\\right ]$$"
      ],
      "text/plain": [
       "⎡                       2           2                       3            3    \n",
       "⎢                      a           b              ⎛a   b⎞  a     2      b     \n",
       "⎢a - b + w₀ + w₁ + w₂, ── + a⋅w₀ - ── + b⋅w₂ + w₁⋅⎜─ + ─⎟, ── + a ⋅w₀ - ── + b\n",
       "⎣                      2           2              ⎝2   2⎠  3            3     \n",
       "\n",
       "                 2⎤\n",
       "2         ⎛a   b⎞ ⎥\n",
       " ⋅w₂ + w₁⋅⎜─ + ─⎟ ⎥\n",
       "          ⎝2   2⎠ ⎦"
      ]
     },
     "execution_count": 4,
     "metadata": {},
     "output_type": "execute_result"
    }
   ],
   "source": [
    "eqs = [q_rule.subs(f, phi[n]) - sympy.integrate(phi[n](X), (X, a, b)) for n in range(len(phi))]; eqs"
   ]
  },
  {
   "cell_type": "code",
   "execution_count": 5,
   "metadata": {},
   "outputs": [
    {
     "data": {
      "image/png": "[encoded data removed]",
      "text/latex": [
       "$$\\left \\{ w_{0} : - \\frac{a}{6} + \\frac{b}{6}, \\quad w_{1} : - \\frac{2 a}{3} + \\frac{2 b}{3}, \\quad w_{2} : - \\frac{a}{6} + \\frac{b}{6}\\right \\}$$"
      ],
      "text/plain": [
       "⎧      a   b        2⋅a   2⋅b        a   b⎫\n",
       "⎨w₀: - ─ + ─, w₁: - ─── + ───, w₂: - ─ + ─⎬\n",
       "⎩      6   6         3     3         6   6⎭"
      ]
     },
     "execution_count": 5,
     "metadata": {},
     "output_type": "execute_result"
    }
   ],
   "source": [
    "w_sol = sympy.solve(eqs, w); w_sol"
   ]
  },
  {
   "cell_type": "code",
   "execution_count": 6,
   "metadata": {},
   "outputs": [
    {
     "data": {
      "image/png": "[encoded data removed]",
      "text/latex": [
       "$$- \\frac{1}{6} \\left(a - b\\right) \\left(f{\\left (a \\right )} + f{\\left (b \\right )} + 4 f{\\left (\\frac{a}{2} + \\frac{b}{2} \\right )}\\right)$$"
      ],
      "text/plain": [
       "         ⎛                 ⎛a   b⎞⎞ \n",
       "-(a - b)⋅⎜f(a) + f(b) + 4⋅f⎜─ + ─⎟⎟ \n",
       "         ⎝                 ⎝2   2⎠⎠ \n",
       "────────────────────────────────────\n",
       "                 6                  "
      ]
     },
     "execution_count": 6,
     "metadata": {},
     "output_type": "execute_result"
    }
   ],
   "source": [
    "q_rule.subs(w_sol).simplify()"
   ]
  },
  {
   "cell_type": "markdown",
   "metadata": {
    "collapsed": true
   },
   "source": [
    "We recognize this result as Simpson's quadrature rule given above. Choosing different sample points\n",
    "(the $x$ tuple in this code), results in different quadrature rules.\n",
    "Higher-order quadrature rules can similarly be derived using higher-order polynomial interpolation\n",
    "(more sample points in the $[a, b]$ interval). However, high-order polynomial interpolation can have\n",
    "undesirable behavior between the sample points. \n",
    "Rather than using higher-order quadrature rules, it is therefore often better to divide the integration interval $[a, b]$ into subintervals\n",
    "$[a=x_0,\\,x_1],\\,[x_1,\\,x_2],\\,\\cdots,\\,[x_{n-1},\\,x_n=b]$ and use a low-order quadrature rule in each of these subintervals.\n",
    "Such methods are known as *composite quadrature rules*."
   ]
  },
  {
   "cell_type": "markdown",
   "metadata": {},
   "source": [
    "An important parameter that characterize composite quadrature rules is the subinterval length\n",
    "$h =(b - a)/N$. Estimates for the errors in an approximate quadrature rule, and the scaling of the error with\n",
    "respect to $h$, can be obtained from Taylor series expansions of the integrand and the analytical integration of\n",
    "the term in the resulting series."
   ]
  },
  {
   "cell_type": "markdown",
   "metadata": {},
   "source": [
    "We have seen that the Newton-Cotes quadrature rules uses evenly spaced sample points of the\n",
    "integrand $f(x)$. However, this is not necessarily the most efficient choice of quadrature nodes, and\n",
    "then it can be advantageous to use\n",
    "quadrature rules that do not use evenly spaced sample points. An example of such a method is a *Gaussian\n",
    "quadrature*, which also uses polynomial interpolation to determine the values of the weight factors in the\n",
    "quadrature rule, but where the quadrature nodes $x_i$ are chosen to maximize the order of polynomials that\n",
    "can be integrated exactly (the polynomial degree) given a fixed number of quadrature points."
   ]
  },
  {
   "cell_type": "markdown",
   "metadata": {},
   "source": [
    "## Numerical integration with Scipy"
   ]
  },
  {
   "cell_type": "markdown",
   "metadata": {},
   "source": [
    "The numerical quadrature routines in the Scipy `integrate` module can be categorized into two types:\n",
    "routines that take the integrand as a Python function, and routines that take arrays with samples of the\n",
    "integrand at given points."
   ]
  },
  {
   "cell_type": "markdown",
   "metadata": {},
   "source": [
    "The functions of the first type use Gaussian quadrature (`quad`, `quadrature`,\n",
    "`fixed_quad`), while functions of the second type use Newton-Cotes methods (`trapz`, `simps`, and `romb`)."
   ]
  },
  {
   "cell_type": "markdown",
   "metadata": {},
   "source": [
    "As a concrete example, consider the numerical evaluation of the integral\n",
    "\n",
    "$$\\int_{-1}^1 e^{-x^2} \\,dx $$"
   ]
  },
  {
   "cell_type": "code",
   "execution_count": 7,
   "metadata": {
    "collapsed": true
   },
   "outputs": [],
   "source": [
    "def f(x):\n",
    "    return np.exp(-x**2)\n",
    "\n",
    "val, err = integrate.quad(f, -1, 1)"
   ]
  },
  {
   "cell_type": "code",
   "execution_count": 8,
   "metadata": {},
   "outputs": [
    {
     "data": {
      "image/png": "[encoded data removed]",
      "text/latex": [
       "$$\\left ( 1.493648265624854, \\quad 1.6582826951881447e-14\\right )$$"
      ],
      "text/plain": [
       "(1.493648265624854, 1.6582826951881447e-14)"
      ]
     },
     "execution_count": 8,
     "metadata": {},
     "output_type": "execute_result"
    }
   ],
   "source": [
    "val, err"
   ]
  },
  {
   "cell_type": "markdown",
   "metadata": {},
   "source": [
    "### Extra arguments"
   ]
  },
  {
   "cell_type": "markdown",
   "metadata": {},
   "source": [
    "We wish to evaluate $\\int_{-1}^1 a e^{-(x-b)^2/c^2}\\, dx$\n",
    "for the specific values of the parameters $a =1$, $b = 2$, and $c = 3$,"
   ]
  },
  {
   "cell_type": "code",
   "execution_count": 9,
   "metadata": {
    "collapsed": true
   },
   "outputs": [],
   "source": [
    "def f(x, a, b, c):\n",
    "    return a * np.exp(-((x-b)/c)**2)\n",
    "\n",
    "val, err = integrate.quad(f, -1, 1, args=(1, 2, 3))"
   ]
  },
  {
   "cell_type": "code",
   "execution_count": 10,
   "metadata": {},
   "outputs": [
    {
     "data": {
      "image/png": "[encoded data removed]",
      "text/latex": [
       "$$\\left ( 1.2763068351022229, \\quad 1.4169852348169507e-14\\right )$$"
      ],
      "text/plain": [
       "(1.2763068351022229, 1.4169852348169507e-14)"
      ]
     },
     "execution_count": 10,
     "metadata": {},
     "output_type": "execute_result"
    }
   ],
   "source": [
    "val, err"
   ]
  },
  {
   "cell_type": "markdown",
   "metadata": {},
   "source": [
    "### Reshuffle arguments"
   ]
  },
  {
   "cell_type": "markdown",
   "metadata": {},
   "source": [
    "We wish to compute the integral $\\int_0^5 J_0 (x)\\,dx$, where the integrand $J_0(x)$ is the zeroth order Bessel function of the first kind,"
   ]
  },
  {
   "cell_type": "code",
   "execution_count": 11,
   "metadata": {
    "collapsed": true
   },
   "outputs": [],
   "source": [
    "from scipy.special import jv\n",
    "\n",
    "f = lambda x: jv(0, x)\n",
    "\n",
    "val, err = integrate.quad(f, 0, 5)"
   ]
  },
  {
   "cell_type": "code",
   "execution_count": 12,
   "metadata": {},
   "outputs": [
    {
     "data": {
      "image/png": "[encoded data removed]",
      "text/latex": [
       "$$\\left ( 0.7153119177847678, \\quad 2.47260738289741e-14\\right )$$"
      ],
      "text/plain": [
       "(0.7153119177847678, 2.47260738289741e-14)"
      ]
     },
     "execution_count": 12,
     "metadata": {},
     "output_type": "execute_result"
    }
   ],
   "source": [
    "val, err"
   ]
  },
  {
   "cell_type": "markdown",
   "metadata": {},
   "source": [
    "### Infinite limits"
   ]
  },
  {
   "cell_type": "markdown",
   "metadata": {},
   "source": [
    "Consider the integral $\\int_{-\\infty}^{\\infty} e^{-x^2} \\,dx$,"
   ]
  },
  {
   "cell_type": "code",
   "execution_count": 13,
   "metadata": {
    "collapsed": true
   },
   "outputs": [],
   "source": [
    "f = lambda x: np.exp(-x**2)\n",
    "\n",
    "val, err = integrate.quad(f, -np.inf, np.inf)"
   ]
  },
  {
   "cell_type": "code",
   "execution_count": 14,
   "metadata": {},
   "outputs": [
    {
     "data": {
      "image/png": "[encoded data removed]",
      "text/latex": [
       "$$\\left ( 1.7724538509055159, \\quad 1.4202636780944923e-08\\right )$$"
      ],
      "text/plain": [
       "(1.7724538509055159, 1.4202636780944923e-08)"
      ]
     },
     "execution_count": 14,
     "metadata": {},
     "output_type": "execute_result"
    }
   ],
   "source": [
    "val, err"
   ]
  },
  {
   "cell_type": "markdown",
   "metadata": {},
   "source": [
    "### Singularity"
   ]
  },
  {
   "cell_type": "markdown",
   "metadata": {},
   "source": [
    "Consider the integral $\\int_{-1}^1 \\frac{1}{\\sqrt{|x|}}\\, dx$. The integrand diverges at $x = 0$, but the value of\n",
    "the integral does not diverge, and its value is $4$. Naively trying to compute this integral using `quad` may fail\n",
    "because of the diverging integrand:"
   ]
  },
  {
   "cell_type": "code",
   "execution_count": 15,
   "metadata": {},
   "outputs": [
    {
     "name": "stderr",
     "output_type": "stream",
     "text": [
      "/usr/local/lib/python3.4/dist-packages/ipykernel_launcher.py:1: RuntimeWarning: divide by zero encountered in double_scalars\n",
      "  \"\"\"Entry point for launching an IPython kernel.\n"
     ]
    },
    {
     "data": {
      "image/png": "[encoded data removed]",
      "text/latex": [
       "$$\\left ( inf, \\quad inf\\right )$$"
      ],
      "text/plain": [
       "(inf, inf)"
      ]
     },
     "execution_count": 15,
     "metadata": {},
     "output_type": "execute_result"
    }
   ],
   "source": [
    "f = lambda x: 1/np.sqrt(abs(x))\n",
    "\n",
    "a, b = -1, 1\n",
    "integrate.quad(f, a, b)"
   ]
  },
  {
   "cell_type": "code",
   "execution_count": 16,
   "metadata": {},
   "outputs": [
    {
     "data": {
      "image/png": "[encoded data removed]",
      "text/plain": [
       "<matplotlib.figure.Figure at 0x6ddcc4f0>"
      ]
     },
     "metadata": {},
     "output_type": "display_data"
    }
   ],
   "source": [
    "x = np.linspace(a, b, 10000)\n",
    "\n",
    "fig, ax = plt.subplots(figsize=(8, 3))\n",
    "\n",
    "ax.plot(x, f(x), lw=2)\n",
    "ax.fill_between(x, f(x), color='green', alpha=0.5)\n",
    "ax.set_xlabel(\"$x$\", fontsize=18)\n",
    "ax.set_ylabel(\"$f(x)$\", fontsize=18)\n",
    "ax.set_xlim(-1, 1)\n",
    "ax.set_ylim(0, 25)\n",
    "ax.tick_params(which='both', direction='in');"
   ]
  },
  {
   "cell_type": "markdown",
   "metadata": {},
   "source": [
    "In this case the evaluation of the integral fails because the integrand diverges exactly at one of the\n",
    "sample points in the Gaussian quadrature rule (the midpoint). We can guide the `quad` routine by specifying\n",
    "a list of points that should be avoided using the `points` keyword arguments, and using `points=[0]` in the\n",
    "current example allows `quad` to correctly evaluate the integral:"
   ]
  },
  {
   "cell_type": "code",
   "execution_count": 17,
   "metadata": {},
   "outputs": [
    {
     "name": "stderr",
     "output_type": "stream",
     "text": [
      "/usr/local/lib/python3.4/dist-packages/scipy/integrate/quadpack.py:364: IntegrationWarning: The maximum number of subdivisions (50) has been achieved.\n",
      "  If increasing the limit yields no improvement it is advised to analyze \n",
      "  the integrand in order to determine the difficulties.  If the position of a \n",
      "  local difficulty can be determined (singularity, discontinuity) one will \n",
      "  probably gain from splitting up the interval and calling the integrator \n",
      "  on the subranges.  Perhaps a special-purpose integrator should be used.\n",
      "  warnings.warn(msg, IntegrationWarning)\n"
     ]
    }
   ],
   "source": [
    "val, err = integrate.quad(f, a, b, points=[0])"
   ]
  },
  {
   "cell_type": "code",
   "execution_count": 18,
   "metadata": {},
   "outputs": [
    {
     "data": {
      "image/png": "[encoded data removed]",
      "text/latex": [
       "$$\\left ( 3.9999841434154684, \\quad 0.0004651790837922874\\right )$$"
      ],
      "text/plain": [
       "(3.9999841434154684, 0.0004651790837922874)"
      ]
     },
     "execution_count": 18,
     "metadata": {},
     "output_type": "execute_result"
    }
   ],
   "source": [
    "val, err"
   ]
  },
  {
   "cell_type": "markdown",
   "metadata": {},
   "source": [
    "### Tabulated integrand"
   ]
  },
  {
   "cell_type": "markdown",
   "metadata": {},
   "source": [
    "Let’s evaluate the integral $\\int_0^2 \\sqrt{x}\\, dx$ by taking $25$ samples of the integrand in the integration interval $[0, 2]$,"
   ]
  },
  {
   "cell_type": "code",
   "execution_count": 19,
   "metadata": {
    "collapsed": true
   },
   "outputs": [],
   "source": [
    "f = lambda x: np.sqrt(x)\n",
    "\n",
    "a, b = 0, 2\n",
    "x = np.linspace(a, b, 25)\n",
    "y = f(x)"
   ]
  },
  {
   "cell_type": "code",
   "execution_count": 20,
   "metadata": {},
   "outputs": [
    {
     "data": {
      "image/png": "[encoded data removed]",
      "text/plain": [
       "<matplotlib.figure.Figure at 0x6dcc4b50>"
      ]
     },
     "metadata": {},
     "output_type": "display_data"
    }
   ],
   "source": [
    "fig, ax = plt.subplots(figsize=(8, 3))\n",
    "\n",
    "ax.plot(x, y, 'bo')\n",
    "\n",
    "xx = np.linspace(a, b, 500)\n",
    "ax.plot(xx, f(xx), 'b-')\n",
    "ax.fill_between(xx, f(xx), color='green', alpha=0.5)\n",
    "\n",
    "ax.set_xlim(0, 2)\n",
    "ax.set_ylim(0, 1.6)\n",
    "ax.set_xlabel(r\"$x$\", fontsize=18)\n",
    "ax.set_ylabel(r\"$f(x)$\", fontsize=18)\n",
    "ax.tick_params(which='both', direction='in')"
   ]
  },
  {
   "cell_type": "code",
   "execution_count": 21,
   "metadata": {},
   "outputs": [
    {
     "data": {
      "image/png": "[encoded data removed]",
      "text/latex": [
       "$$1.88082171605$$"
      ],
      "text/plain": [
       "1.88082171605"
      ]
     },
     "execution_count": 21,
     "metadata": {},
     "output_type": "execute_result"
    }
   ],
   "source": [
    "val_trapz = integrate.trapz(y, x); val_trapz"
   ]
  },
  {
   "cell_type": "code",
   "execution_count": 22,
   "metadata": {},
   "outputs": [
    {
     "data": {
      "image/png": "[encoded data removed]",
      "text/latex": [
       "$$1.88366510245$$"
      ],
      "text/plain": [
       "1.88366510245"
      ]
     },
     "execution_count": 22,
     "metadata": {},
     "output_type": "execute_result"
    }
   ],
   "source": [
    "val_simps = integrate.simps(y, x); val_simps"
   ]
  },
  {
   "cell_type": "code",
   "execution_count": 23,
   "metadata": {},
   "outputs": [
    {
     "data": {
      "image/png": "[encoded data removed]",
      "text/latex": [
       "$$1.8856180831641267$$"
      ],
      "text/plain": [
       "1.8856180831641267"
      ]
     },
     "execution_count": 23,
     "metadata": {},
     "output_type": "execute_result"
    }
   ],
   "source": [
    "val_exact = 2.0/3.0 * (b-a)**(3.0/2.0); val_exact"
   ]
  },
  {
   "cell_type": "code",
   "execution_count": 24,
   "metadata": {},
   "outputs": [
    {
     "data": {
      "image/png": "[encoded data removed]",
      "text/latex": [
       "$$0.00479636711328$$"
      ],
      "text/plain": [
       "0.00479636711328"
      ]
     },
     "execution_count": 24,
     "metadata": {},
     "output_type": "execute_result"
    }
   ],
   "source": [
    "val_exact - val_trapz"
   ]
  },
  {
   "cell_type": "code",
   "execution_count": 25,
   "metadata": {},
   "outputs": [
    {
     "data": {
      "image/png": "[encoded data removed]",
      "text/latex": [
       "$$0.00195298071541$$"
      ],
      "text/plain": [
       "0.00195298071541"
      ]
     },
     "execution_count": 25,
     "metadata": {},
     "output_type": "execute_result"
    }
   ],
   "source": [
    "val_exact - val_simps"
   ]
  },
  {
   "cell_type": "markdown",
   "metadata": {},
   "source": [
    "---"
   ]
  },
  {
   "cell_type": "code",
   "execution_count": 26,
   "metadata": {},
   "outputs": [
    {
     "data": {
      "image/png": "[encoded data removed]",
      "text/latex": [
       "$$0.000378798422913$$"
      ],
      "text/plain": [
       "0.000378798422913"
      ]
     },
     "execution_count": 26,
     "metadata": {},
     "output_type": "execute_result"
    }
   ],
   "source": [
    "x = np.linspace(a, b, 1 + 2**6)\n",
    "y = f(x)\n",
    "dx = x[1] - x[0]\n",
    "\n",
    "val_exact - integrate.romb(y, dx=dx)"
   ]
  },
  {
   "cell_type": "code",
   "execution_count": 27,
   "metadata": {},
   "outputs": [
    {
     "data": {
      "image/png": "[encoded data removed]",
      "text/latex": [
       "$$0.000448485554158$$"
      ],
      "text/plain": [
       "0.000448485554158"
      ]
     },
     "execution_count": 27,
     "metadata": {},
     "output_type": "execute_result"
    }
   ],
   "source": [
    "val_exact - integrate.simps(y, dx=dx)"
   ]
  },
  {
   "cell_type": "markdown",
   "metadata": {},
   "source": [
    "## Multiple integration"
   ]
  },
  {
   "cell_type": "markdown",
   "metadata": {},
   "source": [
    "The double integral routine `dblquad` can evaluate integrals on the form\n",
    "\n",
    "$$\\int_a^b \\int_{g(x)}^{h(x)} f(x,y)\\, dxdy $$,\n",
    "\n",
    "and it has the function signature `dblquad(f, a, b, g, h)`, where `f` is a Python function for the integrand,\n",
    "`a` and `b` are constant integration limits along the $x$ dimension, and `g` and `f` are Python functions (taking $x$ as\n",
    "argument) that specify the integration limits along the $y$ dimension."
   ]
  },
  {
   "cell_type": "markdown",
   "metadata": {},
   "source": [
    "Consider the integral $\\int_0^1 \\int_0^1 e^{-(x^2+y^2)}\\,dxdy$,"
   ]
  },
  {
   "cell_type": "code",
   "execution_count": 28,
   "metadata": {
    "collapsed": true
   },
   "outputs": [],
   "source": [
    "def f(x, y):\n",
    "    return np.exp(-x**2-y**2)\n",
    "\n",
    "a, b = 0, 1\n",
    "g = lambda x: 0\n",
    "h = lambda x: 1"
   ]
  },
  {
   "cell_type": "code",
   "execution_count": 29,
   "metadata": {},
   "outputs": [
    {
     "data": {
      "image/png": "[encoded data removed]",
      "text/latex": [
       "$$\\left ( 0.5577462853510337, \\quad 8.291374381535408e-15\\right )$$"
      ],
      "text/plain": [
       "(0.5577462853510337, 8.291374381535408e-15)"
      ]
     },
     "execution_count": 29,
     "metadata": {},
     "output_type": "execute_result"
    }
   ],
   "source": [
    "integrate.dblquad(f, a, b, g, h)"
   ]
  },
  {
   "cell_type": "markdown",
   "metadata": {},
   "source": [
    "The `tplquad` function can compute integrals on the form\n",
    "\n",
    "$$ \\int_a^b \\int_{g(x)}^{h(x)} \\int_{q(x,y)}^{r(x,y)} f(x,y,z)\\,dxdydz $$.\n",
    "\n",
    "Consider the generalization of the previous integral to three variables: $\\int_0^1 \\int_0^1 \\int_0^1 e^{-(x^2+y^2+z^2)}\\,dxdydz$"
   ]
  },
  {
   "cell_type": "code",
   "execution_count": 30,
   "metadata": {},
   "outputs": [
    {
     "data": {
      "image/png": "[encoded data removed]",
      "text/latex": [
       "$$\\left ( 0.4165383858866382, \\quad 8.291335287314424e-15\\right )$$"
      ],
      "text/plain": [
       "(0.4165383858866382, 8.291335287314424e-15)"
      ]
     },
     "execution_count": 30,
     "metadata": {},
     "output_type": "execute_result"
    }
   ],
   "source": [
    "def f(x, y, z):\n",
    "    return np.exp(-x**2-y**2-z**2)\n",
    "\n",
    "a, b = 0, 1\n",
    "g, h = lambda x: 0, lambda x: 1\n",
    "q, r = lambda x, y: 0, lambda x, y: 1\n",
    "\n",
    "integrate.tplquad(f, 0, 1, g, h, q, r)"
   ]
  },
  {
   "cell_type": "markdown",
   "metadata": {},
   "source": [
    "For arbitrary number of integrations, we can use the `nquad` function."
   ]
  },
  {
   "cell_type": "code",
   "execution_count": 31,
   "metadata": {},
   "outputs": [
    {
     "data": {
      "image/png": "[encoded data removed]",
      "text/latex": [
       "$$\\left ( 0.4165383858866382, \\quad 8.291335287314424e-15\\right )$$"
      ],
      "text/plain": [
       "(0.4165383858866382, 8.291335287314424e-15)"
      ]
     },
     "execution_count": 31,
     "metadata": {},
     "output_type": "execute_result"
    }
   ],
   "source": [
    "integrate.nquad(f, [(0, 1), (0, 1), (0, 1)])"
   ]
  },
  {
   "cell_type": "code",
   "execution_count": 32,
   "metadata": {
    "collapsed": true
   },
   "outputs": [],
   "source": [
    "def f(*args):\n",
    "    return  np.exp(-np.sum(np.array(args)**2))"
   ]
  },
  {
   "cell_type": "code",
   "execution_count": 33,
   "metadata": {},
   "outputs": [
    {
     "name": "stdout",
     "output_type": "stream",
     "text": [
      "CPU times: user 0 ns, sys: 0 ns, total: 0 ns\n",
      "Wall time: 2.82 ms\n"
     ]
    },
    {
     "data": {
      "image/png": "[encoded data removed]",
      "text/latex": [
       "$$\\left ( 0.7468241328124271, \\quad 8.291413475940725e-15\\right )$$"
      ],
      "text/plain": [
       "(0.7468241328124271, 8.291413475940725e-15)"
      ]
     },
     "execution_count": 33,
     "metadata": {},
     "output_type": "execute_result"
    }
   ],
   "source": [
    "%time integrate.nquad(f, [(0, 1)] * 1)"
   ]
  },
  {
   "cell_type": "code",
   "execution_count": 34,
   "metadata": {},
   "outputs": [
    {
     "name": "stdout",
     "output_type": "stream",
     "text": [
      "CPU times: user 30 ms, sys: 20 ms, total: 50 ms\n",
      "Wall time: 45.5 ms\n"
     ]
    },
    {
     "data": {
      "image/png": "[encoded data removed]",
      "text/latex": [
       "$$\\left ( 0.5577462853510337, \\quad 8.291374381535408e-15\\right )$$"
      ],
      "text/plain": [
       "(0.5577462853510337, 8.291374381535408e-15)"
      ]
     },
     "execution_count": 34,
     "metadata": {},
     "output_type": "execute_result"
    }
   ],
   "source": [
    "%time integrate.nquad(f, [(0, 1)] * 2)"
   ]
  },
  {
   "cell_type": "code",
   "execution_count": 35,
   "metadata": {},
   "outputs": [
    {
     "name": "stdout",
     "output_type": "stream",
     "text": [
      "CPU times: user 790 ms, sys: 10 ms, total: 800 ms\n",
      "Wall time: 795 ms\n"
     ]
    },
    {
     "data": {
      "image/png": "[encoded data removed]",
      "text/latex": [
       "$$\\left ( 0.4165383858866382, \\quad 8.291335287314424e-15\\right )$$"
      ],
      "text/plain": [
       "(0.4165383858866382, 8.291335287314424e-15)"
      ]
     },
     "execution_count": 35,
     "metadata": {},
     "output_type": "execute_result"
    }
   ],
   "source": [
    "%time integrate.nquad(f, [(0, 1)] * 3)"
   ]
  },
  {
   "cell_type": "code",
   "execution_count": 36,
   "metadata": {},
   "outputs": [
    {
     "name": "stdout",
     "output_type": "stream",
     "text": [
      "CPU times: user 15.5 s, sys: 70 ms, total: 15.6 s\n",
      "Wall time: 15.7 s\n"
     ]
    },
    {
     "data": {
      "image/png": "[encoded data removed]",
      "text/latex": [
       "$$\\left ( 0.31108091882287664, \\quad 8.291296193277774e-15\\right )$$"
      ],
      "text/plain": [
       "(0.31108091882287664, 8.291296193277774e-15)"
      ]
     },
     "execution_count": 36,
     "metadata": {},
     "output_type": "execute_result"
    }
   ],
   "source": [
    "%time integrate.nquad(f, [(0, 1)] * 4)"
   ]
  },
  {
   "cell_type": "markdown",
   "metadata": {},
   "source": [
    "### Monte Carlo integration"
   ]
  },
  {
   "cell_type": "markdown",
   "metadata": {
    "collapsed": true
   },
   "source": [
    "Here we see that increasing the number of integrations form one to five, increases the computation\n",
    "time from a few microseconds to nearly a minute. For even larger number of integrals it may become\n",
    "impractical to use direct quadrature routines, and other methods, such as Monte Carlo sampling techniques\n",
    "can often be superior, especially if the required precision is not that high."
   ]
  },
  {
   "cell_type": "code",
   "execution_count": 37,
   "metadata": {
    "collapsed": true
   },
   "outputs": [],
   "source": [
    "import skmonaco"
   ]
  },
  {
   "cell_type": "code",
   "execution_count": 38,
   "metadata": {},
   "outputs": [
    {
     "name": "stdout",
     "output_type": "stream",
     "text": [
      "CPU times: user 7.85 s, sys: 0 ns, total: 7.85 s\n",
      "Wall time: 7.89 s\n"
     ]
    },
    {
     "data": {
      "image/png": "[encoded data removed]",
      "text/latex": [
       "$$\\left ( 0.311674710088, \\quad 0.000559844867996\\right )$$"
      ],
      "text/plain": [
       "(0.311674710088, 0.000559844867996)"
      ]
     },
     "execution_count": 38,
     "metadata": {},
     "output_type": "execute_result"
    }
   ],
   "source": [
    "%time skmonaco.mcquad(f, xl=np.zeros(4), xu=np.ones(4), npoints=100000)"
   ]
  },
  {
   "cell_type": "code",
   "execution_count": 39,
   "metadata": {},
   "outputs": [
    {
     "name": "stdout",
     "output_type": "stream",
     "text": [
      "CPU times: user 8.42 s, sys: 10 ms, total: 8.43 s\n",
      "Wall time: 8.45 s\n"
     ]
    },
    {
     "data": {
      "image/png": "[encoded data removed]",
      "text/latex": [
       "$$\\left ( 0.0536758529959, \\quad 0.000170707592941\\right )$$"
      ],
      "text/plain": [
       "(0.0536758529959, 0.000170707592941)"
      ]
     },
     "execution_count": 39,
     "metadata": {},
     "output_type": "execute_result"
    }
   ],
   "source": [
    "%time skmonaco.mcquad(f, xl=np.zeros(10), xu=np.ones(10), npoints=100000)"
   ]
  },
  {
   "cell_type": "markdown",
   "metadata": {},
   "source": [
    "## Symbolic and arbitrary-precision integration"
   ]
  },
  {
   "cell_type": "markdown",
   "metadata": {},
   "source": [
    "For example, to compute the integral $\\int_{-1}^{1} 2\\sqrt{1-x^2}\\,dx$, we first create a symbol for x, and define expressions for the integrand and the integration"
   ]
  },
  {
   "cell_type": "code",
   "execution_count": 40,
   "metadata": {},
   "outputs": [
    {
     "data": {
      "image/png": "[encoded data removed]",
      "text/latex": [
       "$$\\pi$$"
      ],
      "text/plain": [
       "π"
      ]
     },
     "execution_count": 40,
     "metadata": {},
     "output_type": "execute_result"
    }
   ],
   "source": [
    "x = sympy.symbols(\"x\")\n",
    "f = 2 * sympy.sqrt(1-x**2)\n",
    "a, b = -1, 1\n",
    "val_sym = sympy.integrate(f, (x, a, b)); val_sym"
   ]
  },
  {
   "cell_type": "markdown",
   "metadata": {},
   "source": [
    "As pointed out earlier, this situation is the exception, and in general we will not be able to find an analytical closed-form\n",
    "expression. We then need to resort to numerical quadrature, for example, using Scipy's `integrate.quad`. However, the `mpmath` library, which comes bundled with Sympy, provides an alternative implementation of numerical quadrature,\n",
    "using multiple-precision computations. With this library, we can evaluate an integral to arbitrary precision,\n",
    "without being restricted to the limitations of floating-point numbers."
   ]
  },
  {
   "cell_type": "markdown",
   "metadata": {},
   "source": [
    "For example, if we require 75 accurate decimal places, we set:"
   ]
  },
  {
   "cell_type": "code",
   "execution_count": 41,
   "metadata": {},
   "outputs": [
    {
     "data": {
      "image/png": "[encoded data removed]",
      "text/plain": [
       "<matplotlib.figure.Figure at 0x6c668fd0>"
      ]
     },
     "metadata": {},
     "output_type": "display_data"
    }
   ],
   "source": [
    "sympy.mpmath.mp.dps = 75\n",
    "f_mpmath = sympy.lambdify(x, f, 'mpmath')\n",
    "sympy.plot(f, (x, -2, 2));"
   ]
  },
  {
   "cell_type": "code",
   "execution_count": 42,
   "metadata": {},
   "outputs": [
    {
     "data": {
      "image/png": "[encoded data removed]",
      "text/latex": [
       "$$3.14159265358979323846264338327950288419716939937510582097494459230781640629$$"
      ],
      "text/plain": [
       "3.14159265358979323846264338327950288419716939937510582097494459230781640629"
      ]
     },
     "execution_count": 42,
     "metadata": {},
     "output_type": "execute_result"
    }
   ],
   "source": [
    "val = sympy.mpmath.quad(f_mpmath, (a, b))\n",
    "sympy.sympify(val)"
   ]
  },
  {
   "cell_type": "code",
   "execution_count": 43,
   "metadata": {},
   "outputs": [
    {
     "data": {
      "image/png": "[encoded data removed]",
      "text/latex": [
       "$$6.90893484407555570030908149024031965689280029154902510801896277613487344253 \\cdot 10^{-77}$$"
      ],
      "text/plain": [
       "6.908934844075555700309081490240319656892800291549025108018962776134873442530e\n",
       "-77"
      ]
     },
     "execution_count": 43,
     "metadata": {},
     "output_type": "execute_result"
    }
   ],
   "source": [
    "sympy.N(val_sym, sympy.mpmath.mp.dps+1) - val"
   ]
  },
  {
   "cell_type": "markdown",
   "metadata": {},
   "source": [
    "---"
   ]
  },
  {
   "cell_type": "code",
   "execution_count": 44,
   "metadata": {},
   "outputs": [
    {
     "name": "stdout",
     "output_type": "stream",
     "text": [
      "CPU times: user 70 ms, sys: 10 ms, total: 80 ms\n",
      "Wall time: 73.9 ms\n"
     ]
    },
    {
     "data": {
      "text/plain": [
       "mpf('3.14159265358979323846264338327950288419716939937510582097494459230781640628613')"
      ]
     },
     "execution_count": 44,
     "metadata": {},
     "output_type": "execute_result"
    }
   ],
   "source": [
    "%time sympy.mpmath.quad(f_mpmath, [a, b])"
   ]
  },
  {
   "cell_type": "code",
   "execution_count": 45,
   "metadata": {},
   "outputs": [
    {
     "name": "stdout",
     "output_type": "stream",
     "text": [
      "CPU times: user 10 ms, sys: 0 ns, total: 10 ms\n",
      "Wall time: 11.5 ms\n"
     ]
    },
    {
     "data": {
      "image/png": "[encoded data removed]",
      "text/latex": [
       "$$\\left ( 3.1415926535897967, \\quad 2.000470900043183e-09\\right )$$"
      ],
      "text/plain": [
       "(3.1415926535897967, 2.000470900043183e-09)"
      ]
     },
     "execution_count": 45,
     "metadata": {},
     "output_type": "execute_result"
    }
   ],
   "source": [
    "f_numpy = sympy.lambdify(x, f, 'numpy')\n",
    "%time integrate.quad(f_numpy, a, b)"
   ]
  },
  {
   "cell_type": "markdown",
   "metadata": {},
   "source": [
    "---"
   ]
  },
  {
   "cell_type": "markdown",
   "metadata": {},
   "source": [
    "### Double and triple integrals"
   ]
  },
  {
   "cell_type": "markdown",
   "metadata": {},
   "source": [
    "The `mpmath` library's `quad` function can also be used to evaluate double and triple integrals. For example, to compute the double integral:\n",
    "\n",
    "$$ \\int_0^1 \\int_0^1 \\cos(x) \\cos(y) e^{-(x^2+y^2)}\\, dxdy $$\n",
    "\n",
    "\n",
    "and the triple integral:\n",
    "\n",
    "$$ \\int_0^1 \\int_0^1 \\int_0^1 \\cos(x) \\cos(y) \\cos(z) e^{-(x^2+y^2+z^2)}\\, dx dy dz $$\n",
    "\n",
    "to 30 significant decimals (this example cannot be solved symbolically with Sympy),"
   ]
  },
  {
   "cell_type": "code",
   "execution_count": 46,
   "metadata": {
    "collapsed": true
   },
   "outputs": [],
   "source": [
    "x, y, z = sympy.symbols(\"x, y, z\")"
   ]
  },
  {
   "cell_type": "code",
   "execution_count": 47,
   "metadata": {
    "collapsed": true
   },
   "outputs": [],
   "source": [
    "f2 = sympy.cos(x) * sympy.cos(y) * sympy.exp(-x**2 - y**2)\n",
    "f3 = sympy.cos(x) * sympy.cos(y) * sympy.cos(z) * sympy.exp(-x**2 - y**2 - z**2)\n",
    "\n",
    "f2_mpmath = sympy.lambdify((x, y), f2, 'mpmath')\n",
    "f3_mpmath = sympy.lambdify((x, y, z), f3, 'mpmath')"
   ]
  },
  {
   "cell_type": "code",
   "execution_count": 48,
   "metadata": {
    "collapsed": true
   },
   "outputs": [],
   "source": [
    "sympy.mpmath.mp.dps = 30\n",
    "\n",
    "res2 = sympy.mpmath.quad(f2_mpmath, (0, 1), (0, 1))\n",
    "res3 = sympy.mpmath.quad(f3_mpmath, (0, 1), (0, 1), (0, 1))"
   ]
  },
  {
   "cell_type": "code",
   "execution_count": 49,
   "metadata": {},
   "outputs": [
    {
     "data": {
      "image/png": "[encoded data removed]",
      "text/latex": [
       "$$\\left ( 0.430564794306099099242308990196, \\quad 0.282525579518426896867622772405\\right )$$"
      ],
      "text/plain": [
       "(0.430564794306099099242308990196, 0.282525579518426896867622772405)"
      ]
     },
     "execution_count": 49,
     "metadata": {},
     "output_type": "execute_result"
    }
   ],
   "source": [
    "sympy.sympify(res2), sympy.sympify(res3)"
   ]
  },
  {
   "cell_type": "markdown",
   "metadata": {},
   "source": [
    "## Integral transforms"
   ]
  },
  {
   "cell_type": "markdown",
   "metadata": {},
   "source": [
    "In general, an integral transform of a function $f(t)$ can be written as\n",
    "\n",
    "$$ T_f(u) = \\int_{t_1}^{t_2} \\, K(t, u) f(t) \\,dt$$,\n",
    "\n",
    "where $T_f(u)$ is the transformed function. The choice of the kernel $K(t, u)$ and the integration limits\n",
    "determines the type of integral transform. The inverse of the integral transform is given by\n",
    "\n",
    "$$ f(t)=\\int_{u_1}^{u_2} K^{-1}(u, t) \\, T_f(u) \\, du$$,\n",
    "\n",
    "where $K^{-1} (u,t)$ is the kernel of the inverse transform."
   ]
  },
  {
   "cell_type": "markdown",
   "metadata": {},
   "source": [
    "Sympy provides functions for several types of integral transform, but here we focus on the Laplace transform\n",
    "\n",
    "$$ L_f(s) = \\int_0^{\\infty} e^{-st} f(t) \\,dt $$,\n",
    "\n",
    "with the inverse transform\n",
    "\n",
    "$$ f(t) = \\frac{1}{2\\pi i} \\int_{\\gamma -i\\infty}^{\\gamma +i \\infty} e^{st} L_f(s)\\,ds$$,\n",
    "\n",
    "and the Fourier transform\n",
    "\n",
    "$$ F_f(\\omega) = \\frac{1}{\\sqrt{2\\pi}} \\int_{-\\infty}^{\\infty} e^{-i\\omega t} f(t)\\,dt$$,\n",
    "\n",
    "with the inverse transform\n",
    "\n",
    "$$ f(t) = \\frac{1}{\\sqrt{2\\pi}} \\int_{-\\infty}^{\\infty} e^{i\\omega t} F_f(\\omega)\\,d\\omega$$."
   ]
  },
  {
   "cell_type": "markdown",
   "metadata": {},
   "source": [
    "With Sympy, we can perform these transforms with the `sympy.laplace_transform` and\n",
    "`sympy.fourier_transform`, respectively, and the corresponding inverse transforms can be computed with\n",
    "the `sympy.inverse_laplace_transform` and `sympy.inverse_fourier_transform`."
   ]
  },
  {
   "cell_type": "code",
   "execution_count": 50,
   "metadata": {},
   "outputs": [
    {
     "data": {
      "image/png": "[encoded data removed]",
      "text/latex": [
       "$$\\left ( \\frac{a}{a^{2} + s^{2}}, \\quad -\\infty, \\quad 0 < \\Re{s}\\right )$$"
      ],
      "text/plain": [
       "⎛   a                  ⎞\n",
       "⎜───────, -∞, 0 < re(s)⎟\n",
       "⎜ 2    2               ⎟\n",
       "⎝a  + s                ⎠"
      ]
     },
     "execution_count": 50,
     "metadata": {},
     "output_type": "execute_result"
    }
   ],
   "source": [
    "s = sympy.symbols(\"s\")\n",
    "a, t = sympy.symbols(\"a, t\", positive=True)\n",
    "\n",
    "f = sympy.sin(a*t)\n",
    "sympy.laplace_transform(f, t, s)"
   ]
  },
  {
   "cell_type": "code",
   "execution_count": 51,
   "metadata": {},
   "outputs": [
    {
     "data": {
      "image/png": "[encoded data removed]",
      "text/latex": [
       "$$\\frac{a}{a^{2} + s^{2}}$$"
      ],
      "text/plain": [
       "   a   \n",
       "───────\n",
       " 2    2\n",
       "a  + s "
      ]
     },
     "execution_count": 51,
     "metadata": {},
     "output_type": "execute_result"
    }
   ],
   "source": [
    "F = sympy.laplace_transform(f, t, s, noconds=True); F"
   ]
  },
  {
   "cell_type": "code",
   "execution_count": 52,
   "metadata": {},
   "outputs": [
    {
     "data": {
      "image/png": "[encoded data removed]",
      "text/latex": [
       "$$\\sin{\\left (a t \\right )}$$"
      ],
      "text/plain": [
       "sin(a⋅t)"
      ]
     },
     "execution_count": 52,
     "metadata": {},
     "output_type": "execute_result"
    }
   ],
   "source": [
    "sympy.inverse_laplace_transform(F, s, t, noconds=True)"
   ]
  },
  {
   "cell_type": "markdown",
   "metadata": {
    "collapsed": true
   },
   "source": [
    "---"
   ]
  },
  {
   "cell_type": "code",
   "execution_count": 53,
   "metadata": {},
   "outputs": [
    {
     "data": {
      "image/png": "[encoded data removed]",
      "text/latex": [
       "$$\\left [ \\frac{1}{s^{2}}, \\quad \\frac{2}{s^{3}}, \\quad \\frac{6}{s^{4}}, \\quad \\frac{24}{s^{5}}\\right ]$$"
      ],
      "text/plain": [
       "⎡1   2   6   24⎤\n",
       "⎢──, ──, ──, ──⎥\n",
       "⎢ 2   3   4   5⎥\n",
       "⎣s   s   s   s ⎦"
      ]
     },
     "execution_count": 53,
     "metadata": {},
     "output_type": "execute_result"
    }
   ],
   "source": [
    "[sympy.laplace_transform(f, t, s, noconds=True) for f in [t, t**2, t**3, t**4]]"
   ]
  },
  {
   "cell_type": "code",
   "execution_count": 54,
   "metadata": {},
   "outputs": [
    {
     "data": {
      "image/png": "[encoded data removed]",
      "text/latex": [
       "$$\\frac{\\Gamma{\\left(n + 1 \\right)}}{s^{n + 1}}$$"
      ],
      "text/plain": [
       " -n - 1         \n",
       "s      ⋅Γ(n + 1)"
      ]
     },
     "execution_count": 54,
     "metadata": {},
     "output_type": "execute_result"
    }
   ],
   "source": [
    "n = sympy.symbols(\"n\", integer=True, positive=True)\n",
    "sympy.laplace_transform(t**n, t, s, noconds=True)"
   ]
  },
  {
   "cell_type": "code",
   "execution_count": 55,
   "metadata": {},
   "outputs": [
    {
     "data": {
      "image/png": "[encoded data removed]",
      "text/latex": [
       "$$\\frac{s}{\\left(a + s\\right)^{2}}$$"
      ],
      "text/plain": [
       "   s    \n",
       "────────\n",
       "       2\n",
       "(a + s) "
      ]
     },
     "execution_count": 55,
     "metadata": {},
     "output_type": "execute_result"
    }
   ],
   "source": [
    "sympy.laplace_transform((1 - a*t) * sympy.exp(-a*t), t, s, noconds=True)"
   ]
  },
  {
   "cell_type": "markdown",
   "metadata": {},
   "source": [
    "---"
   ]
  },
  {
   "cell_type": "code",
   "execution_count": 56,
   "metadata": {},
   "outputs": [
    {
     "data": {
      "image/png": "[encoded data removed]",
      "text/latex": [
       "$$\\frac{\\sqrt{\\pi}}{\\sqrt{a}} e^{- \\frac{\\pi^{2} \\omega^{2}}{a}}$$"
      ],
      "text/plain": [
       "      2  2 \n",
       "    -π ⋅ω  \n",
       "    ───────\n",
       "       a   \n",
       "√π⋅ℯ       \n",
       "───────────\n",
       "     √a    "
      ]
     },
     "execution_count": 56,
     "metadata": {},
     "output_type": "execute_result"
    }
   ],
   "source": [
    "a, t, w = sympy.symbols(\"a, t, omega\")\n",
    "\n",
    "f = sympy.exp(-a*t**2)\n",
    "F = sympy.fourier_transform(f, t, w); F"
   ]
  },
  {
   "cell_type": "code",
   "execution_count": 57,
   "metadata": {},
   "outputs": [
    {
     "data": {
      "image/png": "[encoded data removed]",
      "text/latex": [
       "$$e^{- a t^{2}}$$"
      ],
      "text/plain": [
       "     2\n",
       " -a⋅t \n",
       "ℯ     "
      ]
     },
     "execution_count": 57,
     "metadata": {},
     "output_type": "execute_result"
    }
   ],
   "source": [
    "sympy.inverse_fourier_transform(F, w, t)"
   ]
  },
  {
   "cell_type": "markdown",
   "metadata": {},
   "source": [
    "## Versions"
   ]
  },
  {
   "cell_type": "code",
   "execution_count": 58,
   "metadata": {},
   "outputs": [
    {
     "data": {
      "application/json": {
       "Software versions": [
        {
         "module": "Python",
         "version": "3.4.2 32bit [GCC 4.9.1]"
        },
        {
         "module": "IPython",
         "version": "6.0.0"
        },
        {
         "module": "OS",
         "version": "Linux 4.9.24 v7+ armv7l with debian 8.0"
        },
        {
         "module": "numpy",
         "version": "1.8.2"
        },
        {
         "module": "matplotlib",
         "version": "2.0.0"
        },
        {
         "module": "scipy",
         "version": "0.19.0"
        },
        {
         "module": "sympy",
         "version": "1.0"
        }
       ]
      },
      "text/html": [
       "<table><tr><th>Software</th><th>Version</th></tr><tr><td>Python</td><td>3.4.2 32bit [GCC 4.9.1]</td></tr><tr><td>IPython</td><td>6.0.0</td></tr><tr><td>OS</td><td>Linux 4.9.24 v7+ armv7l with debian 8.0</td></tr><tr><td>numpy</td><td>1.8.2</td></tr><tr><td>matplotlib</td><td>2.0.0</td></tr><tr><td>scipy</td><td>0.19.0</td></tr><tr><td>sympy</td><td>1.0</td></tr><tr><td colspan='2'>Thu May 11 08:37:27 2017 KST</td></tr></table>"
      ],
      "text/latex": [
       "\\begin{tabular}{|l|l|}\\hline\n",
       "{\\bf Software} & {\\bf Version} \\\\ \\hline\\hline\n",
       "Python & 3.4.2 32bit [GCC 4.9.1] \\\\ \\hline\n",
       "IPython & 6.0.0 \\\\ \\hline\n",
       "OS & Linux 4.9.24 v7+ armv7l with debian 8.0 \\\\ \\hline\n",
       "numpy & 1.8.2 \\\\ \\hline\n",
       "matplotlib & 2.0.0 \\\\ \\hline\n",
       "scipy & 0.19.0 \\\\ \\hline\n",
       "sympy & 1.0 \\\\ \\hline\n",
       "\\hline \\multicolumn{2}{|l|}{Thu May 11 08:37:27 2017 KST} \\\\ \\hline\n",
       "\\end{tabular}\n"
      ],
      "text/plain": [
       "Software versions\n",
       "Python 3.4.2 32bit [GCC 4.9.1]\n",
       "IPython 6.0.0\n",
       "OS Linux 4.9.24 v7+ armv7l with debian 8.0\n",
       "numpy 1.8.2\n",
       "matplotlib 2.0.0\n",
       "scipy 0.19.0\n",
       "sympy 1.0\n",
       "Thu May 11 08:37:27 2017 KST"
      ]
     },
     "execution_count": 58,
     "metadata": {},
     "output_type": "execute_result"
    }
   ],
   "source": [
    "%reload_ext version_information\n",
    "%version_information numpy, matplotlib, scipy, sympy"
   ]
  }
 ],
 "metadata": {
  "kernelspec": {
   "display_name": "Python 3",
   "language": "python",
   "name": "python3"
  },
  "language_info": {
   "codemirror_mode": {
    "name": "ipython",
    "version": 3
   },
   "file_extension": ".py",
   "mimetype": "text/x-python",
   "name": "python",
   "nbconvert_exporter": "python",
   "pygments_lexer": "ipython3",
   "version": "3.6.1"
  }
 },
 "nbformat": 4,
 "nbformat_minor": 2
}
