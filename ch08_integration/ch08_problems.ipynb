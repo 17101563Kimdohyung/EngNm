{
 "cells": [
  {
   "cell_type": "markdown",
   "metadata": {
    "slideshow": {
     "slide_type": "slide"
    }
   },
   "source": [
    "# Chapter 8: Integration - problems"
   ]
  },
  {
   "cell_type": "code",
   "execution_count": null,
   "metadata": {
    "slideshow": {
     "slide_type": "fragment"
    }
   },
   "outputs": [],
   "source": [
    "import numpy as np\n",
    "import sympy\n",
    "sympy.init_printing()\n",
    "import scipy\n",
    "\n",
    "%run laplace_transform_expansion.ipynb"
   ]
  },
  {
   "cell_type": "markdown",
   "metadata": {
    "slideshow": {
     "slide_type": "slide"
    }
   },
   "source": [
    "**Problem 1** $\\text{ }$ \n",
    "\n",
    "Evaluate the double integral $\\displaystyle \\iint_R e^{x +3y}\\,dA$ over the region bounded by the graphs of $y=1$, $\\text{ }y=2$, $\\text{ }y=x$, and $\\text{ }y=-x +5$\n",
    "\n",
    "**Solution** \n",
    "\n",
    "$\\displaystyle \\iint_R e^{x +3y}\\,dA = \\int_1^2 \\int_{y}^{5-y} e^{x +3y}\\, dx \\,dy=$"
   ]
  },
  {
   "cell_type": "code",
   "execution_count": null,
   "metadata": {
    "slideshow": {
     "slide_type": "fragment"
    }
   },
   "outputs": [],
   "source": []
  },
  {
   "cell_type": "markdown",
   "metadata": {
    "slideshow": {
     "slide_type": "slide"
    }
   },
   "source": [
    "**Problem 2**\n",
    "\n",
    "Consider the solid bounded by the graphes of $x^2 +y^2=4$, $\\text{ }z = 4-y$, and $\\text{ }z=0$ shown in\n",
    "\n",
    "![Solid for Problem 2](problem_02.png)\n",
    "\n",
    "Evaluate the volume $V$ of the solid"
   ]
  },
  {
   "cell_type": "code",
   "execution_count": null,
   "metadata": {
    "slideshow": {
     "slide_type": "fragment"
    }
   },
   "outputs": [],
   "source": []
  },
  {
   "cell_type": "markdown",
   "metadata": {
    "slideshow": {
     "slide_type": "slide"
    }
   },
   "source": [
    "**Problem 3**\n",
    "\n",
    "Consider the solid bounded by the graphes of $x^2 +y^2=4$, $\\text{ }y^2 +z^2=$. \n",
    "An eighth of the solid is shown in\n",
    "\n",
    "![Solid for Problem 3](problem_03.png)\n",
    "\n",
    "Evaluate the volume $V$ of the solid"
   ]
  },
  {
   "cell_type": "code",
   "execution_count": null,
   "metadata": {
    "slideshow": {
     "slide_type": "fragment"
    }
   },
   "outputs": [],
   "source": []
  },
  {
   "cell_type": "markdown",
   "metadata": {
    "slideshow": {
     "slide_type": "slide"
    }
   },
   "source": [
    "**Problem 4**\n",
    "\n",
    "Find the moment of inertia about the $z$-axis of the homogeneous solid bounded between the spheres\n",
    "\n",
    "> $x^2 +y^2 +z^2 =a^2\\text{ }$ and $\\text{ }x^2 +y^2 +z^2 = b^2$, $\\text{} a < b$\n",
    "\n",
    "![Solid for Problem 4](problem_04.png)\n",
    "\n",
    "**Solution**\n",
    "\n",
    "If $\\delta(\\rho,\\phi,\\theta)=1$ is the density, then\n",
    "\n",
    ">$\\displaystyle I_z = \\iiint_D (x^2 +y^2) \\, dV =$"
   ]
  },
  {
   "cell_type": "code",
   "execution_count": null,
   "metadata": {
    "slideshow": {
     "slide_type": "fragment"
    }
   },
   "outputs": [],
   "source": []
  },
  {
   "cell_type": "markdown",
   "metadata": {
    "slideshow": {
     "slide_type": "slide"
    }
   },
   "source": [
    "**Problem 5**\n",
    "\n",
    "Bessel's differential equation of order $0$ is\n",
    "\n",
    ">$ty'' +y' +ty=0$\n",
    "\n",
    "We know that a solution of the initil-value problem $ty'' +y' +ty=0$, $\\text{ }y(0)=1$, $\\text{ }y'(0)=0$ is\n",
    "$y(t)=J_0(t)$. \n",
    "\n",
    "In some instances the Laplace transform can be used to solve linear differential equations with variable monomial coefficients. Reduce the given differential equation to a linear first-order DE in the transformed function $Y(s)=\\mathcal{L}_t\\{y(t)\\}$. Solve the first-order DE for $Y(s)$ and then find $y(t)=\\mathcal{L}_t^{-1}\\{ Y(s)\\}$"
   ]
  },
  {
   "cell_type": "code",
   "execution_count": null,
   "metadata": {
    "slideshow": {
     "slide_type": "fragment"
    }
   },
   "outputs": [],
   "source": []
  }
 ],
 "metadata": {
  "celltoolbar": "Slideshow",
  "kernelspec": {
   "display_name": "Python 3",
   "language": "python",
   "name": "python3"
  },
  "language_info": {
   "codemirror_mode": {
    "name": "ipython",
    "version": 3
   },
   "file_extension": ".py",
   "mimetype": "text/x-python",
   "name": "python",
   "nbconvert_exporter": "python",
   "pygments_lexer": "ipython3",
   "version": "3.7.5"
  }
 },
 "nbformat": 4,
 "nbformat_minor": 4
}
