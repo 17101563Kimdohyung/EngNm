{
 "cells": [
  {
   "cell_type": "markdown",
   "metadata": {
    "slideshow": {
     "slide_type": "skip"
    }
   },
   "source": [
    "[![Open In Colab](https://colab.research.google.com/assets/colab-badge.svg)](https://colab.research.google.com/github/SeoulTechPSE/EngNm/blob/master/ch08_integration/ch08_problems.ipynb)"
   ]
  },
  {
   "cell_type": "code",
   "execution_count": null,
   "metadata": {
    "slideshow": {
     "slide_type": "skip"
    }
   },
   "outputs": [],
   "source": [
    "# Rendering sympy equations requires MathJax to be available within each cell output. \n",
    "# The following is a function that will make this happen for Colab.\n",
    "\n",
    "#from IPython.display import Math, HTML\n",
    "#\n",
    "#def load_mathjax_in_cell_output():\n",
    "#  display(HTML(\"<script src='https://www.gstatic.com/external_hosted/\"\n",
    "#               \"mathjax/latest/MathJax.js?config=default'></script>\"))\n",
    "#get_ipython().events.register('pre_run_cell', load_mathjax_in_cell_output)"
   ]
  },
  {
   "cell_type": "markdown",
   "metadata": {
    "slideshow": {
     "slide_type": "slide"
    }
   },
   "source": [
    "# Chapter 8: Integration - problems\n",
    "\n",
    "$~$"
   ]
  },
  {
   "cell_type": "code",
   "execution_count": 1,
   "metadata": {
    "slideshow": {
     "slide_type": "fragment"
    }
   },
   "outputs": [],
   "source": [
    "import numpy as np\n",
    "import sympy\n",
    "sympy.init_printing()\n",
    "import scipy\n",
    "from scipy import integrate\n",
    "\n",
    "%run laplace_transform_expansion.ipynb"
   ]
  },
  {
   "cell_type": "markdown",
   "metadata": {
    "slideshow": {
     "slide_type": "slide"
    }
   },
   "source": [
    "**Problem 1** $\\text{ }$ \n",
    "\n",
    "Evaluate the double integral $\\displaystyle \\iint_R e^{x +3y}\\,dA$ over the region bounded by the graphs of $y=1$, $\\text{ }y=2$, $\\text{ }y=x$, and $\\text{ }y=-x +5$\n",
    "\n",
    "**Solution** \n",
    "\n",
    "$\\displaystyle \\iint_R e^{x +3y}\\,dA = \\int_1^2 \\int_{y}^{5-y} e^{x +3y}\\, dx \\,dy$"
   ]
  },
  {
   "cell_type": "code",
   "execution_count": 2,
   "metadata": {
    "slideshow": {
     "slide_type": "fragment"
    }
   },
   "outputs": [
    {
     "data": {
      "image/png": "[encoded data removed]",
      "text/latex": [
       "$\\displaystyle \\left( 2771.6354253213167, \\  5.6763387117623665e-11\\right)$"
      ],
      "text/plain": [
       "(2771.6354253213167, 5.6763387117623665e-11)"
      ]
     },
     "execution_count": 2,
     "metadata": {},
     "output_type": "execute_result"
    }
   ],
   "source": [
    "def fun(x, y):\n",
    "    return np.exp(x +3*y)\n",
    "\n",
    "a, b = 1, 2\n",
    "g = lambda y: y\n",
    "h = lambda y: 5 -y\n",
    "\n",
    "scipy.integrate.dblquad(fun, a, b, g, h)"
   ]
  },
  {
   "cell_type": "markdown",
   "metadata": {
    "slideshow": {
     "slide_type": "slide"
    }
   },
   "source": [
    "**Problem 2**\n",
    "\n",
    "Consider the solid bounded by the graphes of $x^2 +y^2=4$, $\\text{ }z = 4-y$, and $\\text{ }z=0$ shown in\n",
    "\n",
    "<center><img src=\"problem_02.png\" width=\"250\"></center> \n",
    "\n",
    "Evaluate the volume $V$ of the solid\n",
    "\n",
    "**Solution**\n",
    "\n",
    "$\\displaystyle \\int_{-2}^{+2}\\int_{-\\sqrt{4 -x^2}}^{+\\sqrt{4-x^2}} \\left[ \\int_0^{4-y} \\,dz \\right] \\,dy \\,dx\n",
    "=\\int_{-2}^{+2}\\int_{-\\sqrt{4 -x^2}}^{+\\sqrt{4-x^2}} 4-y \\,dy \\,dx$"
   ]
  },
  {
   "cell_type": "code",
   "execution_count": 3,
   "metadata": {
    "slideshow": {
     "slide_type": "subslide"
    }
   },
   "outputs": [
    {
     "data": {
      "image/png": "[encoded data removed]",
      "text/latex": [
       "$\\displaystyle \\left( 50.265482457436754, \\  3.2007541506118287e-08\\right)$"
      ],
      "text/plain": [
       "(50.265482457436754, 3.2007541506118287e-08)"
      ]
     },
     "execution_count": 3,
     "metadata": {},
     "output_type": "execute_result"
    }
   ],
   "source": [
    "def fun(x, y):\n",
    "    return 4 -y\n",
    "\n",
    "a, b = -2, 2\n",
    "g = lambda x: -np.sqrt(4 -x*x) \n",
    "h = lambda x: np.sqrt(4 -x*x)\n",
    "\n",
    "scipy.integrate.dblquad(fun, a, b, g, h)"
   ]
  },
  {
   "cell_type": "markdown",
   "metadata": {
    "slideshow": {
     "slide_type": "slide"
    }
   },
   "source": [
    "**Problem 3**\n",
    "\n",
    "Consider the solid bounded by the graphes of $x^2 +y^2=4$, $\\text{ }y^2 +z^2=4$. \n",
    "$\\text{ }$An eighth of the solid is shown in\n",
    "\n",
    "<center><img src=\"problem_03.png\" width=\"250\"></center> \n",
    "\n",
    "Evaluate the volume $V$ of the solid\n",
    "\n",
    "**Solution**\n",
    "\n",
    "$\\displaystyle 8 \\int_0^2 \\int_{0}^{\\sqrt{4 -x^2}} \\left [\\int_{0}^{\\sqrt{4 -y^2}} \\, dz  \\right ] \\, dy \\,dx =\n",
    "8 \\int_0^2 \\int_{0}^{\\sqrt{4 -x^2}} \\sqrt{4 -y^2} \\, dy \\,dx $"
   ]
  },
  {
   "cell_type": "code",
   "execution_count": 4,
   "metadata": {
    "slideshow": {
     "slide_type": "subslide"
    }
   },
   "outputs": [
    {
     "data": {
      "image/png": "[encoded data removed]",
      "text/latex": [
       "$\\displaystyle 42.666666666666664$"
      ],
      "text/plain": [
       "42.666666666666664"
      ]
     },
     "execution_count": 4,
     "metadata": {},
     "output_type": "execute_result"
    }
   ],
   "source": [
    "def fun(x, y):\n",
    "    return np.sqrt(4 -y**2)\n",
    "\n",
    "a, b = 0, 2\n",
    "g = lambda x: 0\n",
    "h = lambda x: np.sqrt(4 -x**2)\n",
    "k = scipy.integrate.dblquad(fun, a, b, g, h)\n",
    "V = 8.0 *k[0]; V"
   ]
  },
  {
   "cell_type": "markdown",
   "metadata": {
    "slideshow": {
     "slide_type": "slide"
    }
   },
   "source": [
    "**Problem 4**\n",
    "\n",
    "Find the moment of inertia about the $z$-axis of the homogeneous solid bounded between the spheres\n",
    "\n",
    "> $\\scriptsize x^2 +y^2 +z^2 =a^2\\text{ }$ and $\\text{ }x^2 +y^2 +z^2 = b^2$, $\\text{ } a < b$\n",
    "\n",
    "<center><img src=\"problem_04.png\" width=\"250\"></center> \n",
    "\n",
    "**Solution**\n",
    "\n",
    "If $\\delta(\\rho,\\phi,\\theta)=1$ is the density, then\n",
    "\n",
    ">$\\scriptsize\\displaystyle I_z = \\iiint_D (x^2 +y^2) \\, dV = \\int_a^b \\int_0^\\pi \\int_0^{2\\pi} \\left(\\rho^2 \\sin^2 \\phi\\right) \\rho^2 \\sin \\phi\\, d\\theta \\, d\\phi \\,d\\rho$"
   ]
  },
  {
   "cell_type": "code",
   "execution_count": 5,
   "metadata": {
    "slideshow": {
     "slide_type": "subslide"
    }
   },
   "outputs": [
    {
     "data": {
      "image/png": "[encoded data removed]",
      "text/latex": [
       "$\\displaystyle 2 \\pi \\left(- \\frac{4 a^{5}}{15} + \\frac{4 b^{5}}{15}\\right)$"
      ],
      "text/plain": [
       "    ⎛     5      5⎞\n",
       "    ⎜  4⋅a    4⋅b ⎟\n",
       "2⋅π⋅⎜- ──── + ────⎟\n",
       "    ⎝   15     15 ⎠"
      ]
     },
     "execution_count": 5,
     "metadata": {},
     "output_type": "execute_result"
    }
   ],
   "source": [
    "a, b, rho, phi, theta = sympy.symbols(\"a, b, rho, phi, theta\")\n",
    "\n",
    "sympy.integrate(rho**4 *(sympy.sin(phi))**3, (rho, a, b), (phi, 0, sympy.pi), (theta, 0, 2*sympy.pi))"
   ]
  },
  {
   "cell_type": "markdown",
   "metadata": {
    "slideshow": {
     "slide_type": "slide"
    }
   },
   "source": [
    "**Problem 5**\n",
    "\n",
    "Bessel's differential equation of order $0$ is\n",
    "\n",
    ">$ty'' +y' +ty=0$\n",
    "\n",
    "We know that a solution of the initil-value problem $ty'' +y' +ty=0$, $\\text{ }y(0)=1$, $\\text{ }y'(0)=0$ is\n",
    "$y(t)=J_0(t)$. \n",
    "\n",
    "In some instances, the Laplace transform can be used to solve linear differential equations with variable monomial coefficients. Reduce the given differential equation to a linear first-order DE in the transformed function $Y(s)=\\mathcal{L}_t\\{y(t)\\}$. Solve the first-order DE for $Y(s)$ and then find $y(t)=\\mathcal{L}_t^{-1}\\{ Y(s)\\}$"
   ]
  },
  {
   "cell_type": "code",
   "execution_count": 6,
   "metadata": {
    "slideshow": {
     "slide_type": "subslide"
    }
   },
   "outputs": [
    {
     "data": {
      "image/png": "[encoded data removed]",
      "text/latex": [
       "$\\displaystyle t y{\\left(t \\right)} + t \\frac{d^{2}}{d t^{2}} y{\\left(t \\right)} + \\frac{d}{d t} y{\\left(t \\right)}$"
      ],
      "text/plain": [
       "             2                 \n",
       "            d          d       \n",
       "t⋅y(t) + t⋅───(y(t)) + ──(y(t))\n",
       "             2         dt      \n",
       "           dt                  "
      ]
     },
     "execution_count": 6,
     "metadata": {},
     "output_type": "execute_result"
    }
   ],
   "source": [
    "s, t = sympy.symbols(\"s, t\", positive=True)\n",
    "\n",
    "y = sympy.Function(\"y\")\n",
    "Y  = sympy.Function(\"Y\")\n",
    "Ly = sympy.laplace_transform(y(t), t, s)\n",
    "\n",
    "ode = t *y(t).diff(t, 2) +y(t).diff(t) +t *y(t); ode"
   ]
  },
  {
   "cell_type": "code",
   "execution_count": 7,
   "metadata": {
    "slideshow": {
     "slide_type": "subslide"
    }
   },
   "outputs": [
    {
     "data": {
      "image/png": "[encoded data removed]",
      "text/latex": [
       "$\\displaystyle - s^{2} \\frac{d}{d s} Y{\\left(s \\right)} - s Y{\\left(s \\right)} - \\frac{d}{d s} Y{\\left(s \\right)}$"
      ],
      "text/plain": [
       "   2 d                   d       \n",
       "- s ⋅──(Y(s)) - s⋅Y(s) - ──(Y(s))\n",
       "     ds                  ds      "
      ]
     },
     "execution_count": 7,
     "metadata": {},
     "output_type": "execute_result"
    }
   ],
   "source": [
    "ics={y(0): 1, y(t).diff(t).subs(t, 0): 0}\n",
    "\n",
    "Lode = laplace_transform_expansion(laplace_transform(ode, t, s)).subs(Ly, Y(s)).subs(ics); Lode"
   ]
  },
  {
   "cell_type": "code",
   "execution_count": 8,
   "metadata": {
    "slideshow": {
     "slide_type": "fragment"
    }
   },
   "outputs": [
    {
     "data": {
      "image/png": "[encoded data removed]",
      "text/latex": [
       "$\\displaystyle Y{\\left(s \\right)} = \\frac{C_{1}}{\\sqrt{s^{2} + 1}}$"
      ],
      "text/plain": [
       "            C₁    \n",
       "Y(s) = ───────────\n",
       "          ________\n",
       "         ╱  2     \n",
       "       ╲╱  s  + 1 "
      ]
     },
     "execution_count": 8,
     "metadata": {},
     "output_type": "execute_result"
    }
   ],
   "source": [
    "sol = sympy.dsolve(Lode, Y(s)); sol"
   ]
  },
  {
   "cell_type": "code",
   "execution_count": 9,
   "metadata": {
    "slideshow": {
     "slide_type": "fragment"
    }
   },
   "outputs": [
    {
     "data": {
      "image/png": "[encoded data removed]",
      "text/latex": [
       "$\\displaystyle C_{1} J_{0}\\left(t\\right)$"
      ],
      "text/plain": [
       "C₁⋅besselj(0, t)"
      ]
     },
     "execution_count": 9,
     "metadata": {},
     "output_type": "execute_result"
    }
   ],
   "source": [
    "y = sympy.inverse_laplace_transform(sol.rhs, s, t); y"
   ]
  },
  {
   "cell_type": "code",
   "execution_count": 10,
   "metadata": {
    "slideshow": {
     "slide_type": "fragment"
    }
   },
   "outputs": [
    {
     "data": {
      "image/png": "[encoded data removed]",
      "text/latex": [
       "$\\displaystyle C_{1} = 1$"
      ],
      "text/plain": [
       "C₁ = 1"
      ]
     },
     "execution_count": 10,
     "metadata": {},
     "output_type": "execute_result"
    }
   ],
   "source": [
    "c = sympy.Eq(y.subs(t, 0), 1); c"
   ]
  },
  {
   "cell_type": "code",
   "execution_count": 11,
   "metadata": {
    "slideshow": {
     "slide_type": "fragment"
    }
   },
   "outputs": [
    {
     "data": {
      "image/png": "[encoded data removed]",
      "text/latex": [
       "$\\displaystyle J_{0}\\left(t\\right)$"
      ],
      "text/plain": [
       "besselj(0, t)"
      ]
     },
     "execution_count": 11,
     "metadata": {},
     "output_type": "execute_result"
    }
   ],
   "source": [
    "y.subs(c.lhs, 1)"
   ]
  }
 ],
 "metadata": {
  "celltoolbar": "Slideshow",
  "kernelspec": {
   "display_name": "Python 3",
   "language": "python",
   "name": "python3"
  },
  "language_info": {
   "codemirror_mode": {
    "name": "ipython",
    "version": 3
   },
   "file_extension": ".py",
   "mimetype": "text/x-python",
   "name": "python",
   "nbconvert_exporter": "python",
   "pygments_lexer": "ipython3",
   "version": "3.7.5"
  }
 },
 "nbformat": 4,
 "nbformat_minor": 4
}
