{
 "cells": [
  {
   "cell_type": "markdown",
   "metadata": {},
   "source": [
    "# Chapter 10: Sparse matrices and graphs"
   ]
  },
  {
   "cell_type": "markdown",
   "metadata": {},
   "source": [
    "Robert Johansson\n",
    "\n",
    "Updated source code listings for Numerical Python - A Practical Techniques Approach for Industry (ISBN 978-1-484205-54-9).\n",
    "\n",
    "Updator: Kee-Youn Yoo"
   ]
  },
  {
   "cell_type": "markdown",
   "metadata": {},
   "source": [
    "For matrices that are dominated by elements that are zero, it is inefficient to store all the zeros in the\n",
    "computer's memory, and it is more suitable to store only the nonzero values with additional information\n",
    "about their locations. For non-sparse matrices, known as dense matrices, such a representation is less efficient\n",
    "than storing all values consecutively in the memory, but for large *sparse* matrices it can be vastly superior."
   ]
  },
  {
   "cell_type": "markdown",
   "metadata": {},
   "source": [
    "There are several options for working with sparse matrices in Python. Here we mainly focus on the sparse\n",
    "matrix module in Scipy, `scipy.sparse`, which provides an easy-to-use interface for representing\n",
    "sparse matrices and carrying out linear algebra operations on such objects. Toward the end of the chapter, we also briefly explore representing and processing graphs, using the Scipy `sparse.csgraph` module and the NetworkX library. Graphs can be represented as adjacency matrices, which in many applications are very sparse. Graphs and sparse matrices are therefore closely connected topics."
   ]
  },
  {
   "cell_type": "markdown",
   "metadata": {},
   "source": [
    "## Importing modules"
   ]
  },
  {
   "cell_type": "code",
   "execution_count": 1,
   "metadata": {
    "collapsed": true
   },
   "outputs": [],
   "source": [
    "%matplotlib inline\n",
    "import matplotlib.pyplot as plt\n",
    "import matplotlib as mpl\n",
    "mpl.rcParams['text.usetex'] = True\n",
    "\n",
    "import numpy as np\n",
    "import scipy.linalg as la\n",
    "\n",
    "import scipy.sparse as sp\n",
    "import scipy.sparse.linalg\n",
    "\n",
    "import networkx as nx"
   ]
  },
  {
   "cell_type": "markdown",
   "metadata": {},
   "source": [
    "## Sparse matrices in scipy"
   ]
  },
  {
   "cell_type": "markdown",
   "metadata": {},
   "source": [
    "The basic idea of sparse matrix representation is to avoid storing the excessive amount of zeros in a\n",
    "sparse matrix. if we store only the nonzero elements, we clearly also\n",
    "need to store the row and column indices for each element. There are numerous approaches to organizing\n",
    "the storage of the nonzero elements and their corresponding row and column indices."
   ]
  },
  {
   "cell_type": "markdown",
   "metadata": {},
   "source": [
    "The class `sp.coo_matrix` is used to represent sparse matrices in the coordinate list format. This format is particularly easy to initialize. For instance, with the matrix,\n",
    "\n",
    "\\begin{bmatrix}\n",
    "0 & 1 & 0 & 0\\\\ \n",
    "0 & 0 & 0 & 2\\\\ \n",
    "0 & 0 & 3 & 0\\\\ \n",
    "4 & 0 & 0 & 0\n",
    "\\end{bmatrix},\n",
    "\n",
    "we can easily identify the nonzero values $[A_{01}=1,\\,A_{13}=2,\\,A_{22}=3,\\,A_{30}=4]$ and their corresponding rows\n",
    "$[0, 1, 2, 3]$ and columns $[1, 3, 2, 0]$ (note that here we have used Python’s zero-based indexing)."
   ]
  },
  {
   "cell_type": "code",
   "execution_count": 2,
   "metadata": {},
   "outputs": [
    {
     "data": {
      "text/plain": [
       "<4x4 sparse matrix of type '<class 'numpy.int32'>'\n",
       "\twith 4 stored elements in COOrdinate format>"
      ]
     },
     "execution_count": 2,
     "metadata": {},
     "output_type": "execute_result"
    }
   ],
   "source": [
    "values = [1, 2, 3, 4]\n",
    "\n",
    "rows = [0, 1, 2, 3]\n",
    "cols = [1, 3, 2, 0]\n",
    "\n",
    "A = sp.coo_matrix((values, (rows, cols)), shape=[4, 4]); A"
   ]
  },
  {
   "cell_type": "markdown",
   "metadata": {},
   "source": [
    "The result is a data structure that represents the sparse matrix. All sparse matrix representations in\n",
    "Scipy's `sparse` module share several common attributes. Examples of such attributes are `shape`, `size`,`dtype`, and `ndim`, and common to all sparse matrix representations are the `nnz` (number of nonzero elements) and `data` (the nonzero values) attributes:"
   ]
  },
  {
   "cell_type": "code",
   "execution_count": 3,
   "metadata": {},
   "outputs": [
    {
     "data": {
      "text/plain": [
       "((4, 4), 4, dtype('int32'), 2)"
      ]
     },
     "execution_count": 3,
     "metadata": {},
     "output_type": "execute_result"
    }
   ],
   "source": [
    "A.shape, A.size, A.dtype, A.ndim"
   ]
  },
  {
   "cell_type": "code",
   "execution_count": 4,
   "metadata": {},
   "outputs": [
    {
     "data": {
      "text/plain": [
       "(4, array([1, 2, 3, 4]))"
      ]
     },
     "execution_count": 4,
     "metadata": {},
     "output_type": "execute_result"
    }
   ],
   "source": [
    "A.nnz, A.data"
   ]
  },
  {
   "cell_type": "code",
   "execution_count": 5,
   "metadata": {},
   "outputs": [
    {
     "data": {
      "text/plain": [
       "(array([0, 1, 2, 3], dtype=int32), array([1, 3, 2, 0], dtype=int32))"
      ]
     },
     "execution_count": 5,
     "metadata": {},
     "output_type": "execute_result"
    }
   ],
   "source": [
    "A.row, A.col"
   ]
  },
  {
   "cell_type": "markdown",
   "metadata": {},
   "source": [
    "There are also a large number of methods available for operating on sparse matrix objects. Many of\n",
    "these methods are for applying mathematical functions on the matrix. For example, element-wise math\n",
    "methods like `sin`, `cos`, `arcsin`, etc., aggregation methods like `min`, `max`, `sum`, etc., mathematical array\n",
    "operators such as conjugate (`conj`) and transpose (`transpose`), etc., and `dot` for computing the dot product\n",
    "between sparse matrices or a sparse matrix and a dense vector."
   ]
  },
  {
   "cell_type": "markdown",
   "metadata": {},
   "source": [
    "Another important family of methods is used to convert sparse matrices\n",
    "between different formats: For example `tocoo`, `tocsr`, `tolil`, etc. There are also the methods for converting a\n",
    "sparse matrix to Numpy `ndarray` and Numpy `matrix` objects (that is, dense matrix representations): `toarray`\n",
    "and `todense`, respectively."
   ]
  },
  {
   "cell_type": "code",
   "execution_count": 6,
   "metadata": {},
   "outputs": [
    {
     "data": {
      "text/plain": [
       "<4x4 sparse matrix of type '<class 'numpy.int32'>'\n",
       "\twith 4 stored elements in Compressed Sparse Row format>"
      ]
     },
     "execution_count": 6,
     "metadata": {},
     "output_type": "execute_result"
    }
   ],
   "source": [
    "A.tocsr()"
   ]
  },
  {
   "cell_type": "code",
   "execution_count": 7,
   "metadata": {},
   "outputs": [
    {
     "data": {
      "text/plain": [
       "array([[0, 1, 0, 0],\n",
       "       [0, 0, 0, 2],\n",
       "       [0, 0, 3, 0],\n",
       "       [4, 0, 0, 0]], dtype=int32)"
      ]
     },
     "execution_count": 7,
     "metadata": {},
     "output_type": "execute_result"
    }
   ],
   "source": [
    "A.toarray()"
   ]
  },
  {
   "cell_type": "code",
   "execution_count": 8,
   "metadata": {},
   "outputs": [
    {
     "data": {
      "text/plain": [
       "matrix([[0, 1, 0, 0],\n",
       "        [0, 0, 0, 2],\n",
       "        [0, 0, 3, 0],\n",
       "        [4, 0, 0, 0]], dtype=int32)"
      ]
     },
     "execution_count": 8,
     "metadata": {},
     "output_type": "execute_result"
    }
   ],
   "source": [
    "A.todense()"
   ]
  },
  {
   "cell_type": "markdown",
   "metadata": {},
   "source": [
    "The obvious way to access elements in a matrix, which we have used in numerous different contexts so\n",
    "far, is using the indexing syntax, for example `A[1,2]`, as well as the slicing syntax, for example `A[1:3, 2]`,\n",
    "and so on. We can often use this syntax with sparse matrices too, but not all representations support\n",
    "indexing and slicing, and if it is supported it may not be an efficient operation."
   ]
  },
  {
   "cell_type": "code",
   "execution_count": 9,
   "metadata": {},
   "outputs": [
    {
     "ename": "TypeError",
     "evalue": "'coo_matrix' object is not subscriptable",
     "output_type": "error",
     "traceback": [
      "\u001b[0;31m---------------------------------------------------------------------------\u001b[0m",
      "\u001b[0;31mTypeError\u001b[0m                                 Traceback (most recent call last)",
      "\u001b[0;32m<ipython-input-9-13df355f18af>\u001b[0m in \u001b[0;36m<module>\u001b[0;34m()\u001b[0m\n\u001b[0;32m----> 1\u001b[0;31m \u001b[0mA\u001b[0m\u001b[0;34m[\u001b[0m\u001b[0;36m1\u001b[0m\u001b[0;34m,\u001b[0m\u001b[0;36m2\u001b[0m\u001b[0;34m]\u001b[0m\u001b[0;34m\u001b[0m\u001b[0m\n\u001b[0m",
      "\u001b[0;31mTypeError\u001b[0m: 'coo_matrix' object is not subscriptable"
     ]
    }
   ],
   "source": [
    "A[1,2]"
   ]
  },
  {
   "cell_type": "code",
   "execution_count": 10,
   "metadata": {},
   "outputs": [
    {
     "ename": "NotImplementedError",
     "evalue": "",
     "output_type": "error",
     "traceback": [
      "\u001b[0;31m---------------------------------------------------------------------------\u001b[0m",
      "\u001b[0;31mNotImplementedError\u001b[0m                       Traceback (most recent call last)",
      "\u001b[0;32m<ipython-input-10-7f4c44f6556f>\u001b[0m in \u001b[0;36m<module>\u001b[0;34m()\u001b[0m\n\u001b[0;32m----> 1\u001b[0;31m \u001b[0mA\u001b[0m\u001b[0;34m.\u001b[0m\u001b[0mtobsr\u001b[0m\u001b[0;34m(\u001b[0m\u001b[0;34m)\u001b[0m\u001b[0;34m[\u001b[0m\u001b[0;36m1\u001b[0m\u001b[0;34m,\u001b[0m\u001b[0;36m2\u001b[0m\u001b[0;34m]\u001b[0m\u001b[0;34m\u001b[0m\u001b[0m\n\u001b[0m",
      "\u001b[0;32m/usr/local/lib/python3.4/dist-packages/scipy/sparse/bsr.py\u001b[0m in \u001b[0;36m__getitem__\u001b[0;34m(self, key)\u001b[0m\n\u001b[1;32m    310\u001b[0m \u001b[0;34m\u001b[0m\u001b[0m\n\u001b[1;32m    311\u001b[0m     \u001b[0;32mdef\u001b[0m \u001b[0m__getitem__\u001b[0m\u001b[0;34m(\u001b[0m\u001b[0mself\u001b[0m\u001b[0;34m,\u001b[0m\u001b[0mkey\u001b[0m\u001b[0;34m)\u001b[0m\u001b[0;34m:\u001b[0m\u001b[0;34m\u001b[0m\u001b[0m\n\u001b[0;32m--> 312\u001b[0;31m         \u001b[0;32mraise\u001b[0m \u001b[0mNotImplementedError\u001b[0m\u001b[0;34m\u001b[0m\u001b[0m\n\u001b[0m\u001b[1;32m    313\u001b[0m \u001b[0;34m\u001b[0m\u001b[0m\n\u001b[1;32m    314\u001b[0m     \u001b[0;32mdef\u001b[0m \u001b[0m__setitem__\u001b[0m\u001b[0;34m(\u001b[0m\u001b[0mself\u001b[0m\u001b[0;34m,\u001b[0m\u001b[0mkey\u001b[0m\u001b[0;34m,\u001b[0m\u001b[0mval\u001b[0m\u001b[0;34m)\u001b[0m\u001b[0;34m:\u001b[0m\u001b[0;34m\u001b[0m\u001b[0m\n",
      "\u001b[0;31mNotImplementedError\u001b[0m: "
     ]
    }
   ],
   "source": [
    "A.tobsr()[1,2]"
   ]
  },
  {
   "cell_type": "code",
   "execution_count": 11,
   "metadata": {},
   "outputs": [
    {
     "data": {
      "text/plain": [
       "0"
      ]
     },
     "execution_count": 11,
     "metadata": {},
     "output_type": "execute_result"
    }
   ],
   "source": [
    "A.tocsr()[1,2]"
   ]
  },
  {
   "cell_type": "code",
   "execution_count": 12,
   "metadata": {},
   "outputs": [
    {
     "data": {
      "text/plain": [
       "<2x1 sparse matrix of type '<class 'numpy.int32'>'\n",
       "\twith 1 stored elements in LInked List format>"
      ]
     },
     "execution_count": 12,
     "metadata": {},
     "output_type": "execute_result"
    }
   ],
   "source": [
    "A.tolil()[1:3,3]"
   ]
  },
  {
   "cell_type": "markdown",
   "metadata": {},
   "source": [
    "When working with sparse matrices, it is common to face the situation that different tasks – such\n",
    "as construction, updating, and arithmetic operations – are most efficiently handled in different formats.\n",
    "Converting between different sparse formats is a relatively efficient, so it is useful to switch between\n",
    "different formats in different parts of an application. Efficient use of sparse matrices therefore requires an\n",
    "understanding of how different formats are implemented and what they are suitable for. "
   ]
  },
  {
   "cell_type": "markdown",
   "metadata": {},
   "source": [
    "For computations, the most important sparse matrix representations in Scipy's `sparse` module are\n",
    "the **CSR (Compressed Sparse Row)** and **CSC (Compressed Sparse Column)** formats, because they are well\n",
    "suited for efficient matrix arithmetic and linear algebra applications. Other formats, like **COO**, **LIL** and **DOK**\n",
    "are mainly used for constructing and updated sparse matrices, and once a sparse matrix is ready to be used\n",
    "in computations, it is best to convert it to either CSR or CSC format, using the `tocsr` or `tocsc` methods,\n",
    "respectively."
   ]
  },
  {
   "cell_type": "markdown",
   "metadata": {},
   "source": [
    "In the CSR format, the nonzero values (`data`) are stored along with an array that contains the column\n",
    "indices of each value (`indices`), and another array that stores the offsets of the column index array of each\n",
    "row with the total number of nonzero elements at the end(`indptr`). For instance, consider the matrix\n",
    "\n",
    "\\begin{bmatrix}\n",
    "1 & 2 & 0 & 0\\\\ \n",
    "0 & 3 & 4 & 0\\\\ \n",
    "0 & 0 & 5 & 6\\\\ \n",
    "7 & 0 & 8 & 9\n",
    "\\end{bmatrix}"
   ]
  },
  {
   "cell_type": "code",
   "execution_count": 13,
   "metadata": {},
   "outputs": [
    {
     "data": {
      "text/plain": [
       "array([[1, 2, 0, 0],\n",
       "       [0, 3, 4, 0],\n",
       "       [0, 0, 5, 6],\n",
       "       [7, 0, 8, 9]])"
      ]
     },
     "execution_count": 13,
     "metadata": {},
     "output_type": "execute_result"
    }
   ],
   "source": [
    "A = np.array([[1, 2, 0, 0], [0, 3, 4, 0], [0, 0, 5, 6], [7, 0, 8, 9]]); A"
   ]
  },
  {
   "cell_type": "code",
   "execution_count": 14,
   "metadata": {
    "collapsed": true
   },
   "outputs": [],
   "source": [
    "A = sp.csr_matrix(A)"
   ]
  },
  {
   "cell_type": "code",
   "execution_count": 15,
   "metadata": {},
   "outputs": [
    {
     "data": {
      "text/plain": [
       "array([1, 2, 3, 4, 5, 6, 7, 8, 9], dtype=int32)"
      ]
     },
     "execution_count": 15,
     "metadata": {},
     "output_type": "execute_result"
    }
   ],
   "source": [
    "A.data"
   ]
  },
  {
   "cell_type": "code",
   "execution_count": 16,
   "metadata": {},
   "outputs": [
    {
     "data": {
      "text/plain": [
       "array([0, 1, 1, 2, 2, 3, 0, 2, 3], dtype=int32)"
      ]
     },
     "execution_count": 16,
     "metadata": {},
     "output_type": "execute_result"
    }
   ],
   "source": [
    "A.indices"
   ]
  },
  {
   "cell_type": "code",
   "execution_count": 17,
   "metadata": {},
   "outputs": [
    {
     "data": {
      "text/plain": [
       "array([0, 2, 4, 6, 9], dtype=int32)"
      ]
     },
     "execution_count": 17,
     "metadata": {},
     "output_type": "execute_result"
    }
   ],
   "source": [
    "A.indptr"
   ]
  },
  {
   "cell_type": "markdown",
   "metadata": {},
   "source": [
    "For example, the elements in the third row, with index `i=2`, starts at\n",
    "`indptr[2]=4` and ends at `indptr[3]-1=5`, which gives the element values `data[4]=5` and `data[5]=6` and\n",
    "column indices `indices[4]=2` and `indices[5]=3`. Thus, `A[2,2]= 5` and `A[2,3]= 6`:"
   ]
  },
  {
   "cell_type": "code",
   "execution_count": 18,
   "metadata": {},
   "outputs": [
    {
     "data": {
      "text/plain": [
       "(4, 5)"
      ]
     },
     "execution_count": 18,
     "metadata": {},
     "output_type": "execute_result"
    }
   ],
   "source": [
    "i = 2\n",
    "A.indptr[i], A.indptr[i+1]-1"
   ]
  },
  {
   "cell_type": "code",
   "execution_count": 19,
   "metadata": {},
   "outputs": [
    {
     "data": {
      "text/plain": [
       "array([2, 3], dtype=int32)"
      ]
     },
     "execution_count": 19,
     "metadata": {},
     "output_type": "execute_result"
    }
   ],
   "source": [
    "A.indices[A.indptr[i]:A.indptr[i+1]]"
   ]
  },
  {
   "cell_type": "code",
   "execution_count": 20,
   "metadata": {},
   "outputs": [
    {
     "data": {
      "text/plain": [
       "array([5, 6], dtype=int32)"
      ]
     },
     "execution_count": 20,
     "metadata": {},
     "output_type": "execute_result"
    }
   ],
   "source": [
    "A.data[A.indptr[i]:A.indptr[i+1]]"
   ]
  },
  {
   "cell_type": "code",
   "execution_count": 21,
   "metadata": {},
   "outputs": [
    {
     "data": {
      "text/plain": [
       "(5, 6)"
      ]
     },
     "execution_count": 21,
     "metadata": {},
     "output_type": "execute_result"
    }
   ],
   "source": [
    "A[2, 2], A[2, 3] # check"
   ]
  },
  {
   "cell_type": "markdown",
   "metadata": {},
   "source": [
    "### Functions for creating sparse matrices"
   ]
  },
  {
   "cell_type": "markdown",
   "metadata": {},
   "source": [
    "As we have seen examples of earlier in this chapter, one way of constructing sparse matrices is to prepare the\n",
    "data structures for a specific sparse matrix format, and pass these to the constructor of the corresponding\n",
    "sparse matrix class. While this method is sometimes suitable, it is often more convenient to compose\n",
    "sparse matrices from predefined template matrices"
   ]
  },
  {
   "cell_type": "markdown",
   "metadata": {},
   "source": [
    "To create a sparse matrix of\n",
    "size 10 x 10 with a main diagonal and an upper and lower diagonal, we can use three calls to `sp.eye`, using\n",
    "the `k` argument to specify the offset from the main diagonal:"
   ]
  },
  {
   "cell_type": "code",
   "execution_count": 22,
   "metadata": {},
   "outputs": [
    {
     "data": {
      "text/plain": [
       "<10x10 sparse matrix of type '<class 'numpy.float64'>'\n",
       "\twith 28 stored elements in Compressed Sparse Row format>"
      ]
     },
     "execution_count": 22,
     "metadata": {},
     "output_type": "execute_result"
    }
   ],
   "source": [
    "N = 10\n",
    "A = sp.eye(N, k=1) - 2 * sp.eye(N) + sp.eye(N, k=-1); A"
   ]
  },
  {
   "cell_type": "markdown",
   "metadata": {},
   "source": [
    "By default the resulting object is sparse matrix in the CSR format, but using the `format` argument, we\n",
    "can specify any other sparse matrix format. All functions for creating sparse matrices in `sp.sparse` accept this argument.\n",
    "For example, in the previous example we could have produced the same matrix using `sp.diags`, by specifying\n",
    "the pattern `[1, -2, 1]`, and the corresponding offsets from the main diagonal `[1, 0, -1]`. If we additionally want the resulting sparse\n",
    "matrix in CSC format, we can set `format='csc'`: "
   ]
  },
  {
   "cell_type": "code",
   "execution_count": 23,
   "metadata": {},
   "outputs": [
    {
     "data": {
      "text/plain": [
       "<10x10 sparse matrix of type '<class 'numpy.float64'>'\n",
       "\twith 28 stored elements in Compressed Sparse Column format>"
      ]
     },
     "execution_count": 23,
     "metadata": {},
     "output_type": "execute_result"
    }
   ],
   "source": [
    "A = sp.diags([1, -2, 1], [1, 0, -1], shape=[N, N], format='csc'); A"
   ]
  },
  {
   "cell_type": "code",
   "execution_count": 24,
   "metadata": {},
   "outputs": [
    {
     "data": {
      "image/png": "[encoded data removed]",
      "text/plain": [
       "<matplotlib.figure.Figure at 0x6e65b490>"
      ]
     },
     "metadata": {},
     "output_type": "display_data"
    }
   ],
   "source": [
    "fig, ax = plt.subplots()\n",
    "ax.spy(A);"
   ]
  },
  {
   "cell_type": "markdown",
   "metadata": {},
   "source": [
    "For example, to create a sparse matrix for the tensor product between $A$ and the matrix\n",
    "\n",
    "\\begin{bmatrix}\n",
    "0 & 1 & 0\\\\ \n",
    "1 & 0 & 1\\\\ \n",
    "0 & 1 & 0\n",
    "\\end{bmatrix}\n",
    "\n",
    "we can use `sp.kron(A, B)`:"
   ]
  },
  {
   "cell_type": "code",
   "execution_count": 25,
   "metadata": {},
   "outputs": [
    {
     "data": {
      "image/png": "[encoded data removed]",
      "text/plain": [
       "<matplotlib.figure.Figure at 0x6e64ac50>"
      ]
     },
     "metadata": {},
     "output_type": "display_data"
    }
   ],
   "source": [
    "B = sp.diags([1, 1], [-1, 1], shape=[3,3])\n",
    "C = sp.kron(A, B)\n",
    "\n",
    "fig, (ax_A, ax_B, ax_C) = plt.subplots(1, 3, figsize=(12, 4))\n",
    "ax_A.spy(A)\n",
    "ax_B.spy(B)\n",
    "ax_C.spy(C);"
   ]
  },
  {
   "cell_type": "markdown",
   "metadata": {},
   "source": [
    "### Sparse linear algebra functions"
   ]
  },
  {
   "cell_type": "markdown",
   "metadata": {},
   "source": [
    "The main application of sparse matrices is to perform linear algebra operations on large matrices that are\n",
    "intractable or inefficient to treat using dense matrix representations.The Scipy `sparse` module contains a\n",
    "module `linalg` that implements many linear algebra routines. Not all linear algebra operations are suitable\n",
    "for sparse matrices, and in some cases the behavior of the sparse matrix version of operations needs to be\n",
    "modified compared to the dense counterparts. Consequently, there are a number of differences between the\n",
    "sparse linear algebra module `scipy.sparse.linalg` and the dense linear algebra module `scipy.linalg`.\n",
    "In general, for sparse matrix methods to be efficient, they must retain the sparsity of matrices involved in the\n",
    "computation. An examples of operations where the sparsity usually is not retained is the matrix inverse, and\n",
    "it should therefore be avoided when possible."
   ]
  },
  {
   "cell_type": "markdown",
   "metadata": {},
   "source": [
    "### Linear equation systems"
   ]
  },
  {
   "cell_type": "markdown",
   "metadata": {},
   "source": [
    "The most important application of sparse matrices is arguably to solve linear equation system on the form\n",
    "$\\mathbf{A}\\mathbf{x} = \\mathbf{b}$, where $\\mathbf{A}$ is a sparse matrix and $\\mathbf{x}$ and $\\mathbf{b}$ are dense vectors. \n",
    "The Scipy `sparse.linalg` module has both\n",
    "direct and iterative solver for this type of problem (`sp.linalg.spsolve`), and methods to factor a matrix $\\mathbf{A}$,\n",
    "using for example LU factorization (`sp.linalg.splu`) and incomplete LU factorization (`sp.linalg.spilu`)."
   ]
  },
  {
   "cell_type": "code",
   "execution_count": 26,
   "metadata": {
    "collapsed": true
   },
   "outputs": [],
   "source": [
    "N = 10\n",
    "A = sp.diags([1, -2, 1], [1, 0, -1], shape=[N, N], format='csc')\n",
    "b = -np.ones(N)"
   ]
  },
  {
   "cell_type": "code",
   "execution_count": 27,
   "metadata": {},
   "outputs": [
    {
     "data": {
      "text/plain": [
       "array([  5.,   9.,  12.,  14.,  15.,  15.,  14.,  12.,   9.,   5.])"
      ]
     },
     "execution_count": 27,
     "metadata": {},
     "output_type": "execute_result"
    }
   ],
   "source": [
    "x = sp.linalg.spsolve(A, b); x"
   ]
  },
  {
   "cell_type": "markdown",
   "metadata": {},
   "source": [
    "For comparison, we can also solve this problem using\n",
    "dense direct solver in Numpy `np.linalg.solve` (or, similarly, using `scipy.linalg.solve`)."
   ]
  },
  {
   "cell_type": "code",
   "execution_count": 28,
   "metadata": {},
   "outputs": [
    {
     "data": {
      "text/plain": [
       "array([  5.,   9.,  12.,  14.,  15.,  15.,  14.,  12.,   9.,   5.])"
      ]
     },
     "execution_count": 28,
     "metadata": {},
     "output_type": "execute_result"
    }
   ],
   "source": [
    "np.linalg.solve(A.todense(), b)"
   ]
  },
  {
   "cell_type": "markdown",
   "metadata": {},
   "source": [
    "As expected, the result agrees with what we obtained from the sparse solver. For small problems like this\n",
    "one there is not much to gain using sparse matrices, but for increasing system size the merits of using sparse\n",
    "matrices and sparse solvers become apparent. For this particular problem, the threshold system size beyond\n",
    "which using sparse methods outperforms dense methods is approximately N =100."
   ]
  },
  {
   "cell_type": "markdown",
   "metadata": {},
   "source": [
    "An alternative to the spsolve interface is to explicitly compute the LU factorization using `sp.sparse.splu`\n",
    "or `sp.sparse.spilu` (incomplete LU factorization). These functions return an object that contains the $\\mathbf{L}$ and\n",
    "$\\mathbf{U}$ factors, and that has a method solve that solves $\\mathbf{LUx} = \\mathbf{b}$ for a given vector $\\mathbf{b}$."
   ]
  },
  {
   "cell_type": "code",
   "execution_count": 29,
   "metadata": {
    "collapsed": true
   },
   "outputs": [],
   "source": [
    "lu = sp.linalg.splu(A)"
   ]
  },
  {
   "cell_type": "code",
   "execution_count": 30,
   "metadata": {},
   "outputs": [
    {
     "data": {
      "text/plain": [
       "<10x10 sparse matrix of type '<class 'numpy.float64'>'\n",
       "\twith 20 stored elements in Compressed Sparse Column format>"
      ]
     },
     "execution_count": 30,
     "metadata": {},
     "output_type": "execute_result"
    }
   ],
   "source": [
    "lu.L"
   ]
  },
  {
   "cell_type": "code",
   "execution_count": 31,
   "metadata": {},
   "outputs": [
    {
     "data": {
      "text/plain": [
       "<10x10 sparse matrix of type '<class 'numpy.float64'>'\n",
       "\twith 20 stored elements in Compressed Sparse Column format>"
      ]
     },
     "execution_count": 31,
     "metadata": {},
     "output_type": "execute_result"
    }
   ],
   "source": [
    "lu.U"
   ]
  },
  {
   "cell_type": "code",
   "execution_count": 32,
   "metadata": {},
   "outputs": [
    {
     "data": {
      "text/plain": [
       "array([  5.,   9.,  12.,  14.,  15.,  15.,  14.,  12.,   9.,   5.])"
      ]
     },
     "execution_count": 32,
     "metadata": {},
     "output_type": "execute_result"
    }
   ],
   "source": [
    "x = lu.solve(b); x"
   ]
  },
  {
   "cell_type": "markdown",
   "metadata": {},
   "source": [
    "An important consideration that arises with sparse matrices is that the LU factorization of $\\mathbf{A}$ may\n",
    "introduce new nonzero elements in $\\mathbf{L}$ and $\\mathbf{U}$ compared to the matrix $\\mathbf{A}$, and therefore make $\\mathbf{L}$ and $\\mathbf{U}$ less sparse. Elements that exist in $\\mathbf{L}$ or $\\mathbf{U}$, but not in $\\mathbf{A}$, are called fill-ins. If the amount of fill-ins is large the\n",
    "advantage of using sparse matrices may be lost. While there is no complete solution to eliminate fill-ins, it is\n",
    "often possible to reduce fill-in by permuting the rows and columns in $\\mathbf{A}$, so that the LU factorization takes\n",
    "the form $\\mathbf{P_r AP_c} = \\mathbf{LU}$.\n",
    "\n",
    "The `spsolve`, `splu` and `spilu` functions all take the\n",
    "argument `permc_spec`, which can take the values `NATURAL`, `MMD_ATA`, `MMD_AT_PLUT_A`, or `COLAMD`, which\n",
    "indicates different permutation methods that are built in in these methods. The object returned by `splu` and\n",
    "`spilu` accounts for such permutations, and the permutation vectors are available via the `perm_c` and `perm_r`\n",
    "attributes."
   ]
  },
  {
   "cell_type": "code",
   "execution_count": 33,
   "metadata": {},
   "outputs": [
    {
     "data": {
      "text/plain": [
       "<10x10 sparse matrix of type '<class 'numpy.float64'>'\n",
       "\twith 8 stored elements in Compressed Sparse Column format>"
      ]
     },
     "execution_count": 33,
     "metadata": {},
     "output_type": "execute_result"
    }
   ],
   "source": [
    "lu.L * lu.U - A"
   ]
  },
  {
   "cell_type": "code",
   "execution_count": 34,
   "metadata": {},
   "outputs": [
    {
     "data": {
      "text/plain": [
       "array([0, 1, 2, 3, 4, 5, 6, 8, 7, 9], dtype=int32)"
      ]
     },
     "execution_count": 34,
     "metadata": {},
     "output_type": "execute_result"
    }
   ],
   "source": [
    "lu.perm_r"
   ]
  },
  {
   "cell_type": "code",
   "execution_count": 35,
   "metadata": {},
   "outputs": [
    {
     "data": {
      "text/plain": [
       "array([0, 1, 2, 3, 4, 5, 6, 8, 7, 9], dtype=int32)"
      ]
     },
     "execution_count": 35,
     "metadata": {},
     "output_type": "execute_result"
    }
   ],
   "source": [
    "lu.perm_c"
   ]
  },
  {
   "cell_type": "code",
   "execution_count": 36,
   "metadata": {
    "collapsed": true
   },
   "outputs": [],
   "source": [
    "def sp_permute(A, perm_r, perm_c):\n",
    "    \"\"\" permute rows and columns of A \"\"\"\n",
    "    M, N = A.shape\n",
    "    # row permumation matrix\n",
    "    Pr = sp.coo_matrix((np.ones(M), (perm_r, np.arange(N)))).tocsr()\n",
    "    # column permutation matrix\n",
    "    Pc = sp.coo_matrix((np.ones(M), (np.arange(M), perm_c))).tocsr()\n",
    "    return Pr.T * A * Pc.T"
   ]
  },
  {
   "cell_type": "code",
   "execution_count": 37,
   "metadata": {},
   "outputs": [
    {
     "data": {
      "text/plain": [
       "<10x10 sparse matrix of type '<class 'numpy.float64'>'\n",
       "\twith 0 stored elements in Compressed Sparse Column format>"
      ]
     },
     "execution_count": 37,
     "metadata": {},
     "output_type": "execute_result"
    }
   ],
   "source": [
    "sp_permute(lu.L * lu.U, lu.perm_r, lu.perm_c) - A"
   ]
  },
  {
   "cell_type": "code",
   "execution_count": 38,
   "metadata": {},
   "outputs": [
    {
     "data": {
      "image/png": "[encoded data removed]",
      "text/plain": [
       "<matplotlib.figure.Figure at 0x6e4744d0>"
      ]
     },
     "metadata": {},
     "output_type": "display_data"
    }
   ],
   "source": [
    "fig, (ax1, ax2, ax3) = plt.subplots(1, 3, figsize=(12, 4))\n",
    "ax1.spy(lu.L)\n",
    "ax2.spy(lu.U)\n",
    "ax3.spy(A);"
   ]
  },
  {
   "cell_type": "markdown",
   "metadata": {},
   "source": [
    "By default, the direct sparse linear solver in Scipy uses the `SuperLU` package. An alternative sparse\n",
    "matrix solver that also can be used in Scipy is the `UMFPACK` package, although this package is not bundled\n",
    "with Scipy and requires that the `scikit-umfpack` Python library is installed. If `scikit-umfpack` is available,\n",
    "and if the `use_umfpack` argument to the `sp.linalg.spsolve` function is `True`, then the `UMFPACK` is used\n",
    "instead of `SuperLU`. Whether `SuperLU` or `UMFPACK` gives better performance varies from problem to\n",
    "problem, so it is worth having both installed and testing both for any given problem."
   ]
  },
  {
   "cell_type": "code",
   "execution_count": 39,
   "metadata": {},
   "outputs": [
    {
     "data": {
      "text/plain": [
       "array([  5.,   9.,  12.,  14.,  15.,  15.,  14.,  12.,   9.,   5.])"
      ]
     },
     "execution_count": 39,
     "metadata": {},
     "output_type": "execute_result"
    }
   ],
   "source": [
    "# use_umfpack=True is only effective if scikit-umfpack is installed\n",
    "x = sp.linalg.spsolve(A, b, use_umfpack=True); x"
   ]
  },
  {
   "cell_type": "markdown",
   "metadata": {},
   "source": [
    "The `sp.spsolve` function is an interface to direct solvers, which internally performs matrix\n",
    "factorization. An alternative approach is to use iterative methods that originate in optimization. The Scipy\n",
    "`sparse.linalg` module contains several functions for iterative solution of sparse linear problems: For\n",
    "example, `bicg` (biconjugate gradient method), `bicgstab` (biconjugate gradient stabilized method), `cg`\n",
    "(conjugate gradient), `gmres` (generalized minimum residual), and `lgmres` (loose generalized minimum\n",
    "residual method). All of these functions (and a few others) can be used to solve the problem $\\mathbf{Ax} = \\mathbf{b}$ by calling\n",
    "the function with $\\mathbf{A}$ and $\\mathbf{b}$ as arguments, and they all return a tuple `(x, info)` where `x` is the solution and\n",
    "`info` contains additional information about the solution process (`info=0` indicates success, and it is positive\n",
    "for convergence error, and negative for input error). For example:"
   ]
  },
  {
   "cell_type": "code",
   "execution_count": 40,
   "metadata": {},
   "outputs": [
    {
     "data": {
      "text/plain": [
       "array([  5.,   9.,  12.,  14.,  15.,  15.,  14.,  12.,   9.,   5.])"
      ]
     },
     "execution_count": 40,
     "metadata": {},
     "output_type": "execute_result"
    }
   ],
   "source": [
    "x, info = sp.linalg.bicgstab(A, b); x"
   ]
  },
  {
   "cell_type": "code",
   "execution_count": 41,
   "metadata": {},
   "outputs": [
    {
     "data": {
      "text/plain": [
       "array([  5.,   9.,  12.,  14.,  15.,  15.,  14.,  12.,   9.,   5.])"
      ]
     },
     "execution_count": 41,
     "metadata": {},
     "output_type": "execute_result"
    }
   ],
   "source": [
    "x, info = sp.linalg.cg(A, b); x"
   ]
  },
  {
   "cell_type": "code",
   "execution_count": 42,
   "metadata": {},
   "outputs": [
    {
     "data": {
      "text/plain": [
       "array([  5.,   9.,  12.,  14.,  15.,  15.,  14.,  12.,   9.,   5.])"
      ]
     },
     "execution_count": 42,
     "metadata": {},
     "output_type": "execute_result"
    }
   ],
   "source": [
    "x, info = sp.linalg.lgmres(A, b); x"
   ]
  },
  {
   "cell_type": "markdown",
   "metadata": {},
   "source": [
    "Iterative solver may have an advantage over direct solvers for very large problems,\n",
    "where direct solvers may require excessive memory usage due to undesirable fill-ins. In contrast, iterative\n",
    "solvers only require to evaluate sparse matrix-vector multiplications, and therefore do not suffer from fill-in\n",
    "problems, but on the other hand they might have slow convergence for many problems, especially if not\n",
    "properly preconditioned."
   ]
  },
  {
   "cell_type": "markdown",
   "metadata": {},
   "source": [
    "#### A matrix permutation method: reverse_cuthil_mcKee"
   ]
  },
  {
   "cell_type": "code",
   "execution_count": 43,
   "metadata": {},
   "outputs": [
    {
     "data": {
      "text/plain": [
       "array([ 7, 15, 23,  1,  9, 17,  2, 10, 18,  3, 11, 19,  4, 12, 20,  5, 13,\n",
       "       21,  6, 14, 22, 24, 16,  8,  0], dtype=int32)"
      ]
     },
     "execution_count": 43,
     "metadata": {},
     "output_type": "execute_result"
    }
   ],
   "source": [
    "N = 25\n",
    "A = sp.diags([1, -2, 1], [8, 0, -8], shape=[N, N], format='csc')\n",
    "perm = sp.csgraph.reverse_cuthill_mckee(A); perm"
   ]
  },
  {
   "cell_type": "code",
   "execution_count": 44,
   "metadata": {},
   "outputs": [
    {
     "data": {
      "image/png": "[encoded data removed]",
      "text/plain": [
       "<matplotlib.figure.Figure at 0x6e3e0cf0>"
      ]
     },
     "metadata": {},
     "output_type": "display_data"
    }
   ],
   "source": [
    "fig, (ax1, ax2) = plt.subplots(1, 2, figsize=(8, 4))\n",
    "ax1.spy(A)\n",
    "ax2.spy(sp_permute(A, perm, perm));"
   ]
  },
  {
   "cell_type": "markdown",
   "metadata": {},
   "source": [
    "#### Performance comparison: Sparse/Dense"
   ]
  },
  {
   "cell_type": "code",
   "execution_count": 45,
   "metadata": {},
   "outputs": [
    {
     "data": {
      "image/png": "[encoded data removed]",
      "text/plain": [
       "<matplotlib.figure.Figure at 0x6e252ff0>"
      ]
     },
     "metadata": {},
     "output_type": "display_data"
    }
   ],
   "source": [
    "# compare performance of solving Ax=b vs system size N,\n",
    "# where A is the sparse matrix for the 1d poisson problem\n",
    "import time\n",
    "\n",
    "def setup(N):\n",
    "    A = sp.diags([1,-2,1], [1,0,-1], shape=[N, N], format='csr')\n",
    "    b = -np.ones(N)\n",
    "    return A, A.todense(), b\n",
    "\n",
    "reps = 10\n",
    "\n",
    "N_vec = np.arange(2, 300, 1)\n",
    "t_sparse = np.empty(len(N_vec))\n",
    "t_dense = np.empty(len(N_vec))\n",
    "for idx, N in enumerate(N_vec):\n",
    "    A, A_dense, b = setup(N)\n",
    "    t = time.time()\n",
    "    for r in range(reps):\n",
    "        x = np.linalg.solve(A_dense, b)\n",
    "    t_dense[idx] = (time.time() - t)/reps\n",
    "\n",
    "    t = time.time()\n",
    "    for r in range(reps):\n",
    "        x = sp.linalg.spsolve(A, b, use_umfpack=True)\n",
    "    t_sparse[idx] = (time.time() - t)/reps\n",
    "    \n",
    "fig, ax = plt.subplots(figsize=(8, 4))\n",
    "\n",
    "ax.plot(N_vec, t_dense * 1e3, '.-', label=\"dense\")\n",
    "ax.plot(N_vec, t_sparse * 1e3, '.-', label=\"sparse\")\n",
    "ax.set_xlabel(r\"$N$\", fontsize=16)\n",
    "ax.set_ylabel(\"Elapsed Time, [ms]\", fontsize=16)\n",
    "ax.legend(loc=0)\n",
    "\n",
    "ax.set_xlim(0, 300)\n",
    "ax.set_ylim(0, 80)\n",
    "\n",
    "fig.tight_layout()"
   ]
  },
  {
   "cell_type": "markdown",
   "metadata": {},
   "source": [
    "### Eigenvalue problems"
   ]
  },
  {
   "cell_type": "markdown",
   "metadata": {},
   "source": [
    "Sparse eigenvalue and singular-value problems can be solved using the `sp.linalg.eigs` and `sp.linalg.svds`\n",
    "functions, respectively. For real symmetric or complex hermitian matrices, the eigenvalues (which in this\n",
    "case are real) and eigenvectors can also be computed using `sp.linalg.eigsh`. These functions do not\n",
    "compute all eigenvalues or singular values, but rather compute a given number of eigenvalues and\n",
    "vectors (the default is six)."
   ]
  },
  {
   "cell_type": "markdown",
   "metadata": {},
   "source": [
    "For example, to compute the lowest four eigenvalues for the sparse matrix of the one-dimensional\n",
    "Poisson problem (of system size 10 x 10),"
   ]
  },
  {
   "cell_type": "code",
   "execution_count": 46,
   "metadata": {
    "collapsed": true
   },
   "outputs": [],
   "source": [
    "N = 10\n",
    "A = sp.diags([1, -2, 1], [1, 0, -1], shape=[N, N], format='csc')\n",
    "evals, evecs = sp.linalg.eigs(A, k=4, which='LM')"
   ]
  },
  {
   "cell_type": "code",
   "execution_count": 47,
   "metadata": {},
   "outputs": [
    {
     "data": {
      "text/plain": [
       "array([-3.91898595+0.j, -3.68250707+0.j, -3.30972147+0.j, -2.83083003+0.j])"
      ]
     },
     "execution_count": 47,
     "metadata": {},
     "output_type": "execute_result"
    }
   ],
   "source": [
    "evals"
   ]
  },
  {
   "cell_type": "code",
   "execution_count": 48,
   "metadata": {},
   "outputs": [
    {
     "data": {
      "text/plain": [
       "array([[-0.12013117+0.j, -0.23053002+0.j, -0.32225270+0.j, -0.38786839+0.j],\n",
       "       [ 0.23053002+0.j,  0.38786839+0.j,  0.42206128+0.j,  0.32225270+0.j],\n",
       "       [-0.32225270+0.j, -0.42206128+0.j, -0.23053002+0.j,  0.12013117+0.j],\n",
       "       [ 0.38786839+0.j,  0.32225270+0.j, -0.12013117+0.j, -0.42206128+0.j],\n",
       "       [-0.42206128+0.j, -0.12013117+0.j,  0.38786839+0.j,  0.23053002+0.j],\n",
       "       [ 0.42206128+0.j, -0.12013117+0.j, -0.38786839+0.j,  0.23053002+0.j],\n",
       "       [-0.38786839+0.j,  0.32225270+0.j,  0.12013117+0.j, -0.42206128+0.j],\n",
       "       [ 0.32225270+0.j, -0.42206128+0.j,  0.23053002+0.j,  0.12013117+0.j],\n",
       "       [-0.23053002+0.j,  0.38786839+0.j, -0.42206128+0.j,  0.32225270+0.j],\n",
       "       [ 0.12013117+0.j, -0.23053002+0.j,  0.32225270+0.j, -0.38786839+0.j]])"
      ]
     },
     "execution_count": 48,
     "metadata": {},
     "output_type": "execute_result"
    }
   ],
   "source": [
    "evecs"
   ]
  },
  {
   "cell_type": "code",
   "execution_count": 49,
   "metadata": {},
   "outputs": [
    {
     "data": {
      "text/plain": [
       "True"
      ]
     },
     "execution_count": 49,
     "metadata": {},
     "output_type": "execute_result"
    }
   ],
   "source": [
    "np.allclose(A.dot(evecs[:,0]), evals[0] * evecs[:,0])"
   ]
  },
  {
   "cell_type": "markdown",
   "metadata": {},
   "source": [
    "For this particular example, the sparse matrix $\\mathbf{A}$ is symmetric, so instead of `sp.linalg.eigs` we could\n",
    "use `sp.linalg.eigsh` instead, and in doing so we obtain an eigenvalue array with real-valued elements:"
   ]
  },
  {
   "cell_type": "code",
   "execution_count": 50,
   "metadata": {},
   "outputs": [
    {
     "data": {
      "text/plain": [
       "array([-3.91898595, -3.68250707, -3.30972147, -2.83083003])"
      ]
     },
     "execution_count": 50,
     "metadata": {},
     "output_type": "execute_result"
    }
   ],
   "source": [
    "evals, evecs = sp.linalg.eigsh(A, k=4, which='LM'); evals"
   ]
  },
  {
   "cell_type": "markdown",
   "metadata": {},
   "source": [
    "By changing the argument `which='LM'` (for largest magnitude) to `which='SM'` (smallest magnitude), we\n",
    "obtain a different set of eigenvalues and vector (those with smallest magnitude)."
   ]
  },
  {
   "cell_type": "code",
   "execution_count": 51,
   "metadata": {},
   "outputs": [
    {
     "data": {
      "text/plain": [
       "array([-0.08101405+0.j, -0.31749293+0.j, -0.69027853+0.j, -1.16916997+0.j])"
      ]
     },
     "execution_count": 51,
     "metadata": {},
     "output_type": "execute_result"
    }
   ],
   "source": [
    "evals, evecs = sp.linalg.eigs(A, k=4, which='SM'); evals"
   ]
  },
  {
   "cell_type": "code",
   "execution_count": 52,
   "metadata": {
    "collapsed": true
   },
   "outputs": [],
   "source": [
    "def sp_eigs_sorted(A, k=6, which='SR'):\n",
    "    \"\"\" compute and return eigenvalues sorted by real value \"\"\"\n",
    "    evals, evecs = sp.linalg.eigs(A, k=k, which=which)\n",
    "    idx = np.real(evals).argsort()\n",
    "    return evals[idx], evecs[idx]"
   ]
  },
  {
   "cell_type": "code",
   "execution_count": 53,
   "metadata": {},
   "outputs": [
    {
     "data": {
      "text/plain": [
       "array([-1.16916997+0.j, -0.69027853+0.j, -0.31749293+0.j, -0.08101405+0.j])"
      ]
     },
     "execution_count": 53,
     "metadata": {},
     "output_type": "execute_result"
    }
   ],
   "source": [
    "evals, evecs = sp_eigs_sorted(A, k=4, which='SM'); evals"
   ]
  },
  {
   "cell_type": "markdown",
   "metadata": {},
   "source": [
    "As a less trivial example, consider the\n",
    "spectrum of lowest eigenvalues of the linear combination $(1 -x) M_1 +x M_2$ of random sparse matrices $M_1$ and\n",
    "$M_2$. We can use the `sp.rand` function to generate two random sparse matrices, and by repeatedly using\n",
    "`sp_eigs_sorted` to find the smallest 25 eigenvalues of the $(1 -x) M_1 +x M_2$ matrix for different values of $x$,"
   ]
  },
  {
   "cell_type": "code",
   "execution_count": 54,
   "metadata": {
    "collapsed": true
   },
   "outputs": [],
   "source": [
    "x_vec = np.linspace(0, 1, 50)\n",
    "\n",
    "N = 100\n",
    "# seed sp.rand with random_state to obtain a reproducible result\n",
    "M1 = sp.rand(N, N, density=0.2, random_state=112312321)\n",
    "M2 = sp.rand(N, N, density=0.2, random_state=984592134)"
   ]
  },
  {
   "cell_type": "code",
   "execution_count": 55,
   "metadata": {
    "collapsed": true
   },
   "outputs": [],
   "source": [
    "evals = np.array([sp_eigs_sorted((1-x)*M1 + x*M2, k=25)[0] for x in x_vec])"
   ]
  },
  {
   "cell_type": "code",
   "execution_count": 56,
   "metadata": {},
   "outputs": [
    {
     "data": {
      "image/png": "[encoded data removed]",
      "text/plain": [
       "<matplotlib.figure.Figure at 0x6e0b03d0>"
      ]
     },
     "metadata": {},
     "output_type": "display_data"
    }
   ],
   "source": [
    "fig, ax = plt.subplots(figsize=(8, 4))\n",
    "\n",
    "for idx in range(evals.shape[1]):\n",
    "    ax.plot(x_vec, np.real(evals[:,idx]), lw=0.5)\n",
    "\n",
    "ax.set_xlabel(r\"$x$\", fontsize=16)\n",
    "ax.set_ylabel(r\"eig. vals. of $(1-x)M_1+xM_2$\", fontsize=16)\n",
    "ax.set_xlim(0, 1)\n",
    "ax.set_ylim(-2.5, -0.5)\n",
    "ax.tick_params(which='both', direction='in')\n",
    "\n",
    "fig.tight_layout()"
   ]
  },
  {
   "cell_type": "markdown",
   "metadata": {},
   "source": [
    "## Graphs and networks"
   ]
  },
  {
   "cell_type": "markdown",
   "metadata": {},
   "source": [
    "Representing graphs as adjacency matrices is another important application of sparse matrices. In an\n",
    "adjacency matrix an element describes which nodes in a graph are connected to each other. Consequently,\n",
    "if each node is only connected to a small set of other nodes the adjacency matrix is sparse.\n",
    "The `csgraph` module in the Scipy `sparse` module provides functions for processing such graphs, including methods for\n",
    "traversing a graph using different methods (breadth-first and depth-first traversals, for example) and for\n",
    "computing shortest paths between nodes in a graph, and so on."
   ]
  },
  {
   "cell_type": "markdown",
   "metadata": {},
   "source": [
    "For a more comprehensive framework for working with graphs, there is the `NetworkX` Python library.\n",
    "It provides utilities for creating and manipulating undirected and directed graphs, and also implements\n",
    "many graph algorithms, such as finding minimum paths between nodes in a graph. Here we assume that\n",
    "the networkx library is imported under the name `nx`. Using this library, we can, for example, create an\n",
    "undirected graph by initiating an object of the class `nx.Graph`. Any hashable Python object can be stored as\n",
    "nodes in a Graph object, which makes it very flexible data structure."
   ]
  },
  {
   "cell_type": "markdown",
   "metadata": {},
   "source": [
    "For example, we can create a simple graph with node data that are integers using `nx.Graph()`, and\n",
    "the `add_node` method, or `add_nodes_from` to add multiple nodes in one go. The `nodes` method returns a\n",
    "list of nodes:"
   ]
  },
  {
   "cell_type": "code",
   "execution_count": 57,
   "metadata": {},
   "outputs": [
    {
     "data": {
      "text/plain": [
       "[1]"
      ]
     },
     "execution_count": 57,
     "metadata": {},
     "output_type": "execute_result"
    }
   ],
   "source": [
    "g = nx.Graph()\n",
    "g.add_node(1)\n",
    "g.nodes()"
   ]
  },
  {
   "cell_type": "code",
   "execution_count": 58,
   "metadata": {},
   "outputs": [
    {
     "data": {
      "text/plain": [
       "[1, 3, 4, 5]"
      ]
     },
     "execution_count": 58,
     "metadata": {},
     "output_type": "execute_result"
    }
   ],
   "source": [
    "g.add_nodes_from([3, 4, 5])\n",
    "g.nodes()"
   ]
  },
  {
   "cell_type": "markdown",
   "metadata": {},
   "source": [
    "To connect nodes we can add edges, using `add_edge`. We pass the labels of the two nodes we want to\n",
    "connect as arguments. To add multiple edges we can use `add_edges_from`, and pass to it a list of tuples of\n",
    "nodes to connect. The `edges` method returns a list of edges:"
   ]
  },
  {
   "cell_type": "code",
   "execution_count": 59,
   "metadata": {},
   "outputs": [
    {
     "data": {
      "text/plain": [
       "[(1, 2)]"
      ]
     },
     "execution_count": 59,
     "metadata": {},
     "output_type": "execute_result"
    }
   ],
   "source": [
    "g.add_edge(1, 2)\n",
    "g.edges()"
   ]
  },
  {
   "cell_type": "code",
   "execution_count": 60,
   "metadata": {},
   "outputs": [
    {
     "data": {
      "text/plain": [
       "[(1, 2), (3, 4), (5, 6)]"
      ]
     },
     "execution_count": 60,
     "metadata": {},
     "output_type": "execute_result"
    }
   ],
   "source": [
    "g.add_edges_from([(3, 4), (5, 6)])\n",
    "g.edges()"
   ]
  },
  {
   "cell_type": "markdown",
   "metadata": {},
   "source": [
    "To represent edges between nodes that have weights associated with them (for example, a distance), we\n",
    "can use `add_weighted_edges_from`, to which we pass a list of tuples that also contains the weight factor for\n",
    "each edge, in addition to the two nodes. When calling the `edges` method, we can additionally give argument\n",
    "`data=True` to indicate that also the edge data should be included in the resulting list."
   ]
  },
  {
   "cell_type": "code",
   "execution_count": 61,
   "metadata": {},
   "outputs": [
    {
     "data": {
      "text/plain": [
       "[(1, 2, {}),\n",
       " (1, 3, {'weight': 1.5}),\n",
       " (3, 4, {}),\n",
       " (3, 5, {'weight': 2.5}),\n",
       " (5, 6, {})]"
      ]
     },
     "execution_count": 61,
     "metadata": {},
     "output_type": "execute_result"
    }
   ],
   "source": [
    "g.add_weighted_edges_from([(1, 3, 1.5), (3, 5, 2.5)])\n",
    "g.edges(data=True)"
   ]
  },
  {
   "cell_type": "markdown",
   "metadata": {},
   "source": [
    "Note that if we add edges between nodes that do not yet exist in the graph, they are seamlessly added.\n",
    "For example, in the following code we add a weighted edge between node 6 and 7. Node 7 does not previously\n",
    "exist in the graph, but when adding an edge to it, it is automatically created and added to the graph:"
   ]
  },
  {
   "cell_type": "code",
   "execution_count": 62,
   "metadata": {},
   "outputs": [
    {
     "data": {
      "text/plain": [
       "[1, 2, 3, 4, 5, 6, 7]"
      ]
     },
     "execution_count": 62,
     "metadata": {},
     "output_type": "execute_result"
    }
   ],
   "source": [
    "g.add_weighted_edges_from([(6, 7, 1.5)])\n",
    "g.nodes()"
   ]
  },
  {
   "cell_type": "code",
   "execution_count": 63,
   "metadata": {},
   "outputs": [
    {
     "data": {
      "text/plain": [
       "[(1, 2), (1, 3), (3, 4), (3, 5), (5, 6), (6, 7)]"
      ]
     },
     "execution_count": 63,
     "metadata": {},
     "output_type": "execute_result"
    }
   ],
   "source": [
    "g.edges()"
   ]
  },
  {
   "cell_type": "markdown",
   "metadata": {},
   "source": [
    "With these basic fundamentals in place, we are already prepared to look at a more complicated example\n",
    "of a graph. In the following we will build a graph from a dataset stored in a JSON file called\n",
    "`tokyo-metro.json`, which we load using the Python standard library module `json`:"
   ]
  },
  {
   "cell_type": "code",
   "execution_count": 64,
   "metadata": {
    "collapsed": true
   },
   "outputs": [],
   "source": [
    "import json\n",
    "with open(\"./files/tokyo-metro.json\") as f:\n",
    "    data = json.load(f)"
   ]
  },
  {
   "cell_type": "markdown",
   "metadata": {},
   "source": [
    "The result of loading the JSON file is a dictionary `data` that contains metro line descriptions. For each\n",
    "line, there is a list of travel times between stations (`travel_times`), a list of possible transfer points to other\n",
    "lines (`transfer`), as well as the line color:"
   ]
  },
  {
   "cell_type": "code",
   "execution_count": 65,
   "metadata": {},
   "outputs": [
    {
     "data": {
      "text/plain": [
       "dict_keys(['F', 'T', 'C', 'M', 'Z', 'N', 'Y', 'H', 'G'])"
      ]
     },
     "execution_count": 65,
     "metadata": {},
     "output_type": "execute_result"
    }
   ],
   "source": [
    "data.keys()"
   ]
  },
  {
   "cell_type": "code",
   "execution_count": 66,
   "metadata": {},
   "outputs": [
    {
     "data": {
      "text/plain": [
       "{'color': '#149848',\n",
       " 'transfers': [['C3', 'F15'],\n",
       "  ['C4', 'Z2'],\n",
       "  ['C4', 'G2'],\n",
       "  ['C7', 'M14'],\n",
       "  ['C7', 'N6'],\n",
       "  ['C7', 'G6'],\n",
       "  ['C8', 'M15'],\n",
       "  ['C8', 'H6'],\n",
       "  ['C9', 'H7'],\n",
       "  ['C9', 'Y18'],\n",
       "  ['C11', 'T9'],\n",
       "  ['C11', 'M18'],\n",
       "  ['C11', 'Z8'],\n",
       "  ['C12', 'M19'],\n",
       "  ['C18', 'H21']],\n",
       " 'travel_times': [['C1', 'C2', 2],\n",
       "  ['C2', 'C3', 2],\n",
       "  ['C3', 'C4', 1],\n",
       "  ['C4', 'C5', 2],\n",
       "  ['C5', 'C6', 2],\n",
       "  ['C6', 'C7', 2],\n",
       "  ['C7', 'C8', 1],\n",
       "  ['C8', 'C9', 3],\n",
       "  ['C9', 'C10', 1],\n",
       "  ['C10', 'C11', 2],\n",
       "  ['C11', 'C12', 2],\n",
       "  ['C12', 'C13', 2],\n",
       "  ['C13', 'C14', 2],\n",
       "  ['C14', 'C15', 2],\n",
       "  ['C15', 'C16', 2],\n",
       "  ['C16', 'C17', 3],\n",
       "  ['C17', 'C18', 3],\n",
       "  ['C18', 'C19', 3]]}"
      ]
     },
     "execution_count": 66,
     "metadata": {},
     "output_type": "execute_result"
    }
   ],
   "source": [
    "data[\"C\"]"
   ]
  },
  {
   "cell_type": "markdown",
   "metadata": {},
   "source": [
    "The format of the `transfers` list is `[['C3', 'F15'], ...]`, indicating that it is possible\n",
    "to transfer from C line to F line at station C3 to station F15. \n",
    "The format of the `travel_times` list is `[['C1', 'C2', 2], ['C2', 'C3', 2], ...]`, indicating that\n",
    "it takes two minutes to travel between the stations C1 and C2, and two minutes to travel between\n",
    "C2 and C3, etc. The `transfers` and `travel_times` are\n",
    "directly suitable for feeding to `add_weighed_edges_from` and `add_edges_from`, and we can therefore easily\n",
    "create a graph for representing the metro network by iterating over each metro line dictionary and call\n",
    "these methods:"
   ]
  },
  {
   "cell_type": "code",
   "execution_count": 67,
   "metadata": {
    "collapsed": true
   },
   "outputs": [],
   "source": [
    "g = nx.Graph()\n",
    "\n",
    "for line in data.values():\n",
    "    g.add_edges_from(line[\"transfers\"])    \n",
    "    g.add_weighted_edges_from(line[\"travel_times\"])"
   ]
  },
  {
   "cell_type": "code",
   "execution_count": 68,
   "metadata": {},
   "outputs": [
    {
     "data": {
      "text/plain": [
       "[('N14', 'N13', {'weight': 2}),\n",
       " ('N14', 'N15', {'weight': 3}),\n",
       " ('H8', 'H9', {'weight': 2}),\n",
       " ('H8', 'H7', {'weight': 1}),\n",
       " ('H8', 'G9', {}),\n",
       " ('H8', 'M16', {}),\n",
       " ('T21', 'T22', {'weight': 43}),\n",
       " ('T21', 'T20', {'weight': 41}),\n",
       " ('F9', 'F10', {'weight': 3}),\n",
       " ('F9', 'M25', {}),\n",
       " ('F9', 'Y9', {}),\n",
       " ('F9', 'F8', {'weight': 2}),\n",
       " ('N13', 'N12', {'weight': 2}),\n",
       " ('F10', 'F11', {'weight': 2}),\n",
       " ('C6', 'C5', {'weight': 2}),\n",
       " ('C6', 'C7', {'weight': 2}),\n",
       " ('G4', 'G5', {'weight': 2}),\n",
       " ('G4', 'Z3', {}),\n",
       " ('G4', 'G3', {'weight': 2}),\n",
       " ('T5', 'T4', {'weight': 9}),\n",
       " ('T5', 'T6', {'weight': 11}),\n",
       " ('M13', 'M14', {'weight': 2}),\n",
       " ('M13', 'Y16', {}),\n",
       " ('M13', 'M12', {'weight': 3}),\n",
       " ('M13', 'N7', {}),\n",
       " ('M13', 'Z4', {}),\n",
       " ('M13', 'G5', {}),\n",
       " ('C17', 'C18', {'weight': 3}),\n",
       " ('C17', 'C16', {'weight': 3}),\n",
       " ('Z13', 'Z14', {'weight': 2}),\n",
       " ('Z13', 'Z12', {'weight': 2}),\n",
       " ('N6', 'M14', {}),\n",
       " ('N6', 'C7', {}),\n",
       " ('N6', 'N5', {'weight': 2}),\n",
       " ('N6', 'N7', {'weight': 2}),\n",
       " ('N6', 'G6', {}),\n",
       " ('G1', 'G2', {'weight': 2}),\n",
       " ('G1', 'Z1', {}),\n",
       " ('G1', 'F16', {}),\n",
       " ('M2', 'M1', {'weight': 2}),\n",
       " ('M2', 'M3', {'weight': 2}),\n",
       " ('G9', 'G8', {'weight': 2}),\n",
       " ('G9', 'G10', {'weight': 1}),\n",
       " ('G9', 'M16', {}),\n",
       " ('H7', 'Y18', {}),\n",
       " ('H7', 'C9', {}),\n",
       " ('H7', 'H6', {'weight': 3}),\n",
       " ('M25', 'Y9', {}),\n",
       " ('M25', 'M24', {'weight': 3}),\n",
       " ('H6', 'C8', {}),\n",
       " ('H6', 'H5', {'weight': 2}),\n",
       " ('H6', 'M15', {}),\n",
       " ('Z1', 'Z2', {'weight': 3}),\n",
       " ('Z1', 'F16', {}),\n",
       " ('F14', 'F13', {'weight': 3}),\n",
       " ('F14', 'F15', {'weight': 2}),\n",
       " ('Z10', 'Z9', {'weight': 3}),\n",
       " ('Z10', 'Z11', {'weight': 3}),\n",
       " ('H9', 'H10', {'weight': 2}),\n",
       " ('T12', 'T13', {'weight': 24}),\n",
       " ('T12', 'T11', {'weight': 21}),\n",
       " ('Y4', 'Y5', {'weight': 2}),\n",
       " ('Y4', 'F4', {}),\n",
       " ('Y4', 'Y3', {'weight': 3}),\n",
       " ('F11', 'F12', {'weight': 2}),\n",
       " ('C10', 'C11', {'weight': 2}),\n",
       " ('C10', 'C9', {'weight': 1}),\n",
       " ('G18', 'G19', {'weight': 2}),\n",
       " ('G18', 'G17', {'weight': 1}),\n",
       " ('T11', 'H12', {}),\n",
       " ('T11', 'T10', {'weight': 20}),\n",
       " ('Y5', 'Y6', {'weight': 2}),\n",
       " ('Y5', 'F5', {}),\n",
       " ('H12', 'H11', {'weight': 1}),\n",
       " ('H12', 'H13', {'weight': 3}),\n",
       " ('F8', 'F7', {'weight': 2}),\n",
       " ('F8', 'Y8', {}),\n",
       " ('G12', 'G13', {'weight': 1}),\n",
       " ('G12', 'Z9', {}),\n",
       " ('G12', 'G11', {'weight': 2}),\n",
       " ('C19', 'C18', {'weight': 3}),\n",
       " ('Y2', 'Y1', {'weight': 4}),\n",
       " ('Y2', 'Y3', {'weight': 2}),\n",
       " ('Y2', 'F2', {}),\n",
       " ('T4', 'T3', {'weight': 6}),\n",
       " ('T13', 'T14', {'weight': 26}),\n",
       " ('Y18', 'Y17', {'weight': 2}),\n",
       " ('Y18', 'C9', {}),\n",
       " ('Y18', 'Y19', {'weight': 2}),\n",
       " ('F6', 'Y6', {}),\n",
       " ('F6', 'F5', {'weight': 2}),\n",
       " ('F6', 'F7', {'weight': 2}),\n",
       " ('M19', 'M18', {'weight': 2}),\n",
       " ('M19', 'C12', {}),\n",
       " ('M19', 'M20', {'weight': 1}),\n",
       " ('M6', 'M7', {'weight': 2}),\n",
       " ('M6', 'M5', {'weight': 2}),\n",
       " ('M6', 'm5', {'weight': 2}),\n",
       " ('N10', 'Y13', {}),\n",
       " ('N10', 'N11', {'weight': 2}),\n",
       " ('N10', 'T6', {}),\n",
       " ('N10', 'N9', {'weight': 2}),\n",
       " ('Z7', 'Z8', {'weight': 2}),\n",
       " ('Z7', 'Z6', {'weight': 2}),\n",
       " ('C7', 'M14', {}),\n",
       " ('C7', 'C8', {'weight': 1}),\n",
       " ('C7', 'G6', {}),\n",
       " ('G7', 'G8', {'weight': 2}),\n",
       " ('G7', 'G6', {'weight': 2}),\n",
       " ('F4', 'F3', {'weight': 3}),\n",
       " ('F4', 'F5', {'weight': 2}),\n",
       " ('Y1', 'F1', {}),\n",
       " ('G10', 'G11', {'weight': 2}),\n",
       " ('G5', 'Y16', {}),\n",
       " ('G5', 'N7', {}),\n",
       " ('G5', 'Z4', {}),\n",
       " ('G5', 'G6', {'weight': 2}),\n",
       " ('C4', 'C5', {'weight': 2}),\n",
       " ('C4', 'G2', {}),\n",
       " ('C4', 'Z2', {}),\n",
       " ('C4', 'C3', {'weight': 1}),\n",
       " ('H16', 'H17', {'weight': 1}),\n",
       " ('H16', 'G15', {}),\n",
       " ('H16', 'H15', {'weight': 2}),\n",
       " ('Z2', 'G2', {}),\n",
       " ('Z2', 'Z3', {'weight': 2}),\n",
       " ('H4', 'H3', {'weight': 3}),\n",
       " ('H4', 'H5', {'weight': 3}),\n",
       " ('Z8', 'M18', {}),\n",
       " ('Z8', 'C11', {}),\n",
       " ('Z8', 'Z9', {'weight': 2}),\n",
       " ('Z8', 'T9', {}),\n",
       " ('T14', 'T15', {'weight': 27}),\n",
       " ('Y11', 'Y12', {'weight': 2}),\n",
       " ('Y11', 'Y10', {'weight': 2}),\n",
       " ('H14', 'H13', {'weight': 1}),\n",
       " ('H14', 'H15', {'weight': 2}),\n",
       " ('M4', 'M5', {'weight': 2}),\n",
       " ('M4', 'M3', {'weight': 2}),\n",
       " ('Y13', 'Y12', {'weight': 3}),\n",
       " ('Y13', 'Y14', {'weight': 2}),\n",
       " ('Y13', 'T6', {}),\n",
       " ('T20', 'T19', {'weight': 39}),\n",
       " ('Y15', 'Y16', {'weight': 1}),\n",
       " ('Y15', 'Y14', {'weight': 2}),\n",
       " ('M11', 'M12', {'weight': 2}),\n",
       " ('M11', 'M10', {'weight': 2}),\n",
       " ('F3', 'F2', {'weight': 2}),\n",
       " ('F3', 'Y3', {}),\n",
       " ('Y21', 'Y20', {'weight': 2}),\n",
       " ('Y21', 'Y22', {'weight': 2}),\n",
       " ('C14', 'C15', {'weight': 2}),\n",
       " ('C14', 'C13', {'weight': 2}),\n",
       " ('N18', 'N19', {'weight': 2}),\n",
       " ('N18', 'N17', {'weight': 2}),\n",
       " ('N4', 'N5', {'weight': 2}),\n",
       " ('N4', 'N3', {'weight': 2}),\n",
       " ('M8', 'M7', {'weight': 2}),\n",
       " ('M8', 'M9', {'weight': 2}),\n",
       " ('N15', 'N16', {'weight': 1}),\n",
       " ('m3', 'm4', {'weight': 2}),\n",
       " ('Z5', 'Z4', {'weight': 2}),\n",
       " ('Z5', 'Z6', {'weight': 2}),\n",
       " ('T24', 'T23', {'weight': 49}),\n",
       " ('C15', 'C16', {'weight': 2}),\n",
       " ('N16', 'N17', {'weight': 3}),\n",
       " ('H10', 'H11', {'weight': 2}),\n",
       " ('M24', 'M23', {'weight': 2}),\n",
       " ('Z6', 'T7', {}),\n",
       " ('C8', 'C9', {'weight': 3}),\n",
       " ('C8', 'M15', {}),\n",
       " ('H17', 'G16', {}),\n",
       " ('H17', 'H18', {'weight': 2}),\n",
       " ('Y22', 'Y23', {'weight': 3}),\n",
       " ('M23', 'M22', {'weight': 3}),\n",
       " ('Y9', 'Y10', {'weight': 2}),\n",
       " ('Y9', 'Y8', {'weight': 3}),\n",
       " ('T10', 'G11', {}),\n",
       " ('T10', 'T9', {'weight': 18}),\n",
       " ('C18', 'H21', {}),\n",
       " ('H19', 'H20', {'weight': 2}),\n",
       " ('H19', 'H18', {'weight': 2}),\n",
       " ('T19', 'T18', {'weight': 37}),\n",
       " ('F7', 'Y7', {}),\n",
       " ('T22', 'T23', {'weight': 46}),\n",
       " ('Y7', 'Y6', {'weight': 2}),\n",
       " ('Y7', 'Y8', {'weight': 2}),\n",
       " ('M17', 'M18', {'weight': 2}),\n",
       " ('M17', 'M16', {'weight': 2}),\n",
       " ('Y17', 'Y16', {'weight': 2}),\n",
       " ('T3', 'N3', {}),\n",
       " ('T3', 'T2', {'weight': 3}),\n",
       " ('N7', 'N8', {'weight': 2}),\n",
       " ('N7', 'Y16', {}),\n",
       " ('N7', 'Z4', {}),\n",
       " ('C11', 'M18', {}),\n",
       " ('C11', 'T9', {}),\n",
       " ('C11', 'C12', {'weight': 2}),\n",
       " ('H1', 'H2', {'weight': 3}),\n",
       " ('T7', 'T8', {'weight': 14}),\n",
       " ('T7', 'T6', {'weight': 13}),\n",
       " ('F12', 'F13', {'weight': 2}),\n",
       " ('G17', 'G16', {'weight': 2}),\n",
       " ('M14', 'M15', {'weight': 1}),\n",
       " ('M14', 'G6', {}),\n",
       " ('Y16', 'Z4', {}),\n",
       " ('F15', 'F16', {'weight': 2}),\n",
       " ('F15', 'C3', {}),\n",
       " ('Y23', 'Y24', {'weight': 2}),\n",
       " ('M9', 'F13', {}),\n",
       " ('M9', 'M10', {'weight': 1}),\n",
       " ('Z4', 'Z3', {'weight': 2}),\n",
       " ('H2', 'H3', {'weight': 3}),\n",
       " ('G2', 'G3', {'weight': 1}),\n",
       " ('G13', 'G14', {'weight': 2}),\n",
       " ('T1', 'N1', {}),\n",
       " ('T1', 'T2', {'weight': 0}),\n",
       " ('T8', 'T9', {'weight': 16}),\n",
       " ('M21', 'M20', {'weight': 2}),\n",
       " ('M21', 'M22', {'weight': 2}),\n",
       " ('Z12', 'Z11', {'weight': 3}),\n",
       " ('N9', 'Y14', {}),\n",
       " ('N9', 'N8', {'weight': 2}),\n",
       " ('G14', 'G15', {'weight': 2}),\n",
       " ('T15', 'T16', {'weight': 30}),\n",
       " ('m4', 'm5', {'weight': 2}),\n",
       " ('T17', 'T16', {'weight': 33}),\n",
       " ('T17', 'T18', {'weight': 35}),\n",
       " ('N11', 'N12', {'weight': 3}),\n",
       " ('N11', 'M22', {}),\n",
       " ('C2', 'C1', {'weight': 2}),\n",
       " ('C2', 'C3', {'weight': 2}),\n",
       " ('N8', 'M12', {}),\n",
       " ('M18', 'T9', {}),\n",
       " ('H21', 'H20', {'weight': 3}),\n",
       " ('C13', 'C12', {'weight': 2}),\n",
       " ('Y20', 'Y19', {'weight': 2}),\n",
       " ('M15', 'M16', {'weight': 3}),\n",
       " ('G16', 'G15', {'weight': 1}),\n",
       " ('F1', 'F2', {'weight': 3}),\n",
       " ('N3', 'N2', {'weight': 2}),\n",
       " ('N1', 'N2', {'weight': 2}),\n",
       " ('T2', 'N2', {})]"
      ]
     },
     "execution_count": 68,
     "metadata": {},
     "output_type": "execute_result"
    }
   ],
   "source": [
    "g.edges(data=True)"
   ]
  },
  {
   "cell_type": "markdown",
   "metadata": {},
   "source": [
    "The line transfer edges do not have edge weights, so let's first mark all transfer edges by adding a new Boolean attribute `transfer` to each edge:"
   ]
  },
  {
   "cell_type": "code",
   "execution_count": 69,
   "metadata": {
    "collapsed": true
   },
   "outputs": [],
   "source": [
    "for n1, n2 in g.edges_iter():\n",
    "    g[n1][n2][\"transfer\"] = \"weight\" not in g[n1][n2]"
   ]
  },
  {
   "cell_type": "code",
   "execution_count": 70,
   "metadata": {},
   "outputs": [
    {
     "data": {
      "text/plain": [
       "[('N14', 'N13', {'transfer': False, 'weight': 2}),\n",
       " ('N14', 'N15', {'transfer': False, 'weight': 3}),\n",
       " ('H8', 'H9', {'transfer': False, 'weight': 2}),\n",
       " ('H8', 'H7', {'transfer': False, 'weight': 1}),\n",
       " ('H8', 'G9', {'transfer': True}),\n",
       " ('H8', 'M16', {'transfer': True}),\n",
       " ('T21', 'T22', {'transfer': False, 'weight': 43}),\n",
       " ('T21', 'T20', {'transfer': False, 'weight': 41}),\n",
       " ('F9', 'F10', {'transfer': False, 'weight': 3}),\n",
       " ('F9', 'M25', {'transfer': True}),\n",
       " ('F9', 'Y9', {'transfer': True}),\n",
       " ('F9', 'F8', {'transfer': False, 'weight': 2}),\n",
       " ('N13', 'N12', {'transfer': False, 'weight': 2}),\n",
       " ('F10', 'F11', {'transfer': False, 'weight': 2}),\n",
       " ('C6', 'C5', {'transfer': False, 'weight': 2}),\n",
       " ('C6', 'C7', {'transfer': False, 'weight': 2}),\n",
       " ('G4', 'G5', {'transfer': False, 'weight': 2}),\n",
       " ('G4', 'Z3', {'transfer': True}),\n",
       " ('G4', 'G3', {'transfer': False, 'weight': 2}),\n",
       " ('T5', 'T4', {'transfer': False, 'weight': 9}),\n",
       " ('T5', 'T6', {'transfer': False, 'weight': 11}),\n",
       " ('M13', 'M14', {'transfer': False, 'weight': 2}),\n",
       " ('M13', 'Y16', {'transfer': True}),\n",
       " ('M13', 'M12', {'transfer': False, 'weight': 3}),\n",
       " ('M13', 'N7', {'transfer': True}),\n",
       " ('M13', 'Z4', {'transfer': True}),\n",
       " ('M13', 'G5', {'transfer': True}),\n",
       " ('C17', 'C18', {'transfer': False, 'weight': 3}),\n",
       " ('C17', 'C16', {'transfer': False, 'weight': 3}),\n",
       " ('Z13', 'Z14', {'transfer': False, 'weight': 2}),\n",
       " ('Z13', 'Z12', {'transfer': False, 'weight': 2}),\n",
       " ('N6', 'M14', {'transfer': True}),\n",
       " ('N6', 'C7', {'transfer': True}),\n",
       " ('N6', 'N5', {'transfer': False, 'weight': 2}),\n",
       " ('N6', 'N7', {'transfer': False, 'weight': 2}),\n",
       " ('N6', 'G6', {'transfer': True}),\n",
       " ('G1', 'G2', {'transfer': False, 'weight': 2}),\n",
       " ('G1', 'Z1', {'transfer': True}),\n",
       " ('G1', 'F16', {'transfer': True}),\n",
       " ('M2', 'M1', {'transfer': False, 'weight': 2}),\n",
       " ('M2', 'M3', {'transfer': False, 'weight': 2}),\n",
       " ('G9', 'G8', {'transfer': False, 'weight': 2}),\n",
       " ('G9', 'G10', {'transfer': False, 'weight': 1}),\n",
       " ('G9', 'M16', {'transfer': True}),\n",
       " ('H7', 'Y18', {'transfer': True}),\n",
       " ('H7', 'C9', {'transfer': True}),\n",
       " ('H7', 'H6', {'transfer': False, 'weight': 3}),\n",
       " ('M25', 'Y9', {'transfer': True}),\n",
       " ('M25', 'M24', {'transfer': False, 'weight': 3}),\n",
       " ('H6', 'C8', {'transfer': True}),\n",
       " ('H6', 'H5', {'transfer': False, 'weight': 2}),\n",
       " ('H6', 'M15', {'transfer': True}),\n",
       " ('Z1', 'Z2', {'transfer': False, 'weight': 3}),\n",
       " ('Z1', 'F16', {'transfer': True}),\n",
       " ('F14', 'F13', {'transfer': False, 'weight': 3}),\n",
       " ('F14', 'F15', {'transfer': False, 'weight': 2}),\n",
       " ('Z10', 'Z9', {'transfer': False, 'weight': 3}),\n",
       " ('Z10', 'Z11', {'transfer': False, 'weight': 3}),\n",
       " ('H9', 'H10', {'transfer': False, 'weight': 2}),\n",
       " ('T12', 'T13', {'transfer': False, 'weight': 24}),\n",
       " ('T12', 'T11', {'transfer': False, 'weight': 21}),\n",
       " ('Y4', 'Y5', {'transfer': False, 'weight': 2}),\n",
       " ('Y4', 'F4', {'transfer': True}),\n",
       " ('Y4', 'Y3', {'transfer': False, 'weight': 3}),\n",
       " ('F11', 'F12', {'transfer': False, 'weight': 2}),\n",
       " ('C10', 'C11', {'transfer': False, 'weight': 2}),\n",
       " ('C10', 'C9', {'transfer': False, 'weight': 1}),\n",
       " ('G18', 'G19', {'transfer': False, 'weight': 2}),\n",
       " ('G18', 'G17', {'transfer': False, 'weight': 1}),\n",
       " ('T11', 'H12', {'transfer': True}),\n",
       " ('T11', 'T10', {'transfer': False, 'weight': 20}),\n",
       " ('Y5', 'Y6', {'transfer': False, 'weight': 2}),\n",
       " ('Y5', 'F5', {'transfer': True}),\n",
       " ('H12', 'H11', {'transfer': False, 'weight': 1}),\n",
       " ('H12', 'H13', {'transfer': False, 'weight': 3}),\n",
       " ('F8', 'F7', {'transfer': False, 'weight': 2}),\n",
       " ('F8', 'Y8', {'transfer': True}),\n",
       " ('G12', 'G13', {'transfer': False, 'weight': 1}),\n",
       " ('G12', 'Z9', {'transfer': True}),\n",
       " ('G12', 'G11', {'transfer': False, 'weight': 2}),\n",
       " ('C19', 'C18', {'transfer': False, 'weight': 3}),\n",
       " ('Y2', 'Y1', {'transfer': False, 'weight': 4}),\n",
       " ('Y2', 'Y3', {'transfer': False, 'weight': 2}),\n",
       " ('Y2', 'F2', {'transfer': True}),\n",
       " ('T4', 'T3', {'transfer': False, 'weight': 6}),\n",
       " ('T13', 'T14', {'transfer': False, 'weight': 26}),\n",
       " ('Y18', 'Y17', {'transfer': False, 'weight': 2}),\n",
       " ('Y18', 'C9', {'transfer': True}),\n",
       " ('Y18', 'Y19', {'transfer': False, 'weight': 2}),\n",
       " ('F6', 'Y6', {'transfer': True}),\n",
       " ('F6', 'F5', {'transfer': False, 'weight': 2}),\n",
       " ('F6', 'F7', {'transfer': False, 'weight': 2}),\n",
       " ('M19', 'M18', {'transfer': False, 'weight': 2}),\n",
       " ('M19', 'C12', {'transfer': True}),\n",
       " ('M19', 'M20', {'transfer': False, 'weight': 1}),\n",
       " ('M6', 'M7', {'transfer': False, 'weight': 2}),\n",
       " ('M6', 'M5', {'transfer': False, 'weight': 2}),\n",
       " ('M6', 'm5', {'transfer': False, 'weight': 2}),\n",
       " ('N10', 'Y13', {'transfer': True}),\n",
       " ('N10', 'N11', {'transfer': False, 'weight': 2}),\n",
       " ('N10', 'T6', {'transfer': True}),\n",
       " ('N10', 'N9', {'transfer': False, 'weight': 2}),\n",
       " ('Z7', 'Z8', {'transfer': False, 'weight': 2}),\n",
       " ('Z7', 'Z6', {'transfer': False, 'weight': 2}),\n",
       " ('C7', 'M14', {'transfer': True}),\n",
       " ('C7', 'C8', {'transfer': False, 'weight': 1}),\n",
       " ('C7', 'G6', {'transfer': True}),\n",
       " ('G7', 'G8', {'transfer': False, 'weight': 2}),\n",
       " ('G7', 'G6', {'transfer': False, 'weight': 2}),\n",
       " ('F4', 'F3', {'transfer': False, 'weight': 3}),\n",
       " ('F4', 'F5', {'transfer': False, 'weight': 2}),\n",
       " ('Y1', 'F1', {'transfer': True}),\n",
       " ('G10', 'G11', {'transfer': False, 'weight': 2}),\n",
       " ('G5', 'Y16', {'transfer': True}),\n",
       " ('G5', 'N7', {'transfer': True}),\n",
       " ('G5', 'Z4', {'transfer': True}),\n",
       " ('G5', 'G6', {'transfer': False, 'weight': 2}),\n",
       " ('C4', 'C5', {'transfer': False, 'weight': 2}),\n",
       " ('C4', 'G2', {'transfer': True}),\n",
       " ('C4', 'Z2', {'transfer': True}),\n",
       " ('C4', 'C3', {'transfer': False, 'weight': 1}),\n",
       " ('H16', 'H17', {'transfer': False, 'weight': 1}),\n",
       " ('H16', 'G15', {'transfer': True}),\n",
       " ('H16', 'H15', {'transfer': False, 'weight': 2}),\n",
       " ('Z2', 'G2', {'transfer': True}),\n",
       " ('Z2', 'Z3', {'transfer': False, 'weight': 2}),\n",
       " ('H4', 'H3', {'transfer': False, 'weight': 3}),\n",
       " ('H4', 'H5', {'transfer': False, 'weight': 3}),\n",
       " ('Z8', 'M18', {'transfer': True}),\n",
       " ('Z8', 'C11', {'transfer': True}),\n",
       " ('Z8', 'Z9', {'transfer': False, 'weight': 2}),\n",
       " ('Z8', 'T9', {'transfer': True}),\n",
       " ('T14', 'T15', {'transfer': False, 'weight': 27}),\n",
       " ('Y11', 'Y12', {'transfer': False, 'weight': 2}),\n",
       " ('Y11', 'Y10', {'transfer': False, 'weight': 2}),\n",
       " ('H14', 'H13', {'transfer': False, 'weight': 1}),\n",
       " ('H14', 'H15', {'transfer': False, 'weight': 2}),\n",
       " ('M4', 'M5', {'transfer': False, 'weight': 2}),\n",
       " ('M4', 'M3', {'transfer': False, 'weight': 2}),\n",
       " ('Y13', 'Y12', {'transfer': False, 'weight': 3}),\n",
       " ('Y13', 'Y14', {'transfer': False, 'weight': 2}),\n",
       " ('Y13', 'T6', {'transfer': True}),\n",
       " ('T20', 'T19', {'transfer': False, 'weight': 39}),\n",
       " ('Y15', 'Y16', {'transfer': False, 'weight': 1}),\n",
       " ('Y15', 'Y14', {'transfer': False, 'weight': 2}),\n",
       " ('M11', 'M12', {'transfer': False, 'weight': 2}),\n",
       " ('M11', 'M10', {'transfer': False, 'weight': 2}),\n",
       " ('F3', 'F2', {'transfer': False, 'weight': 2}),\n",
       " ('F3', 'Y3', {'transfer': True}),\n",
       " ('Y21', 'Y20', {'transfer': False, 'weight': 2}),\n",
       " ('Y21', 'Y22', {'transfer': False, 'weight': 2}),\n",
       " ('C14', 'C15', {'transfer': False, 'weight': 2}),\n",
       " ('C14', 'C13', {'transfer': False, 'weight': 2}),\n",
       " ('N18', 'N19', {'transfer': False, 'weight': 2}),\n",
       " ('N18', 'N17', {'transfer': False, 'weight': 2}),\n",
       " ('N4', 'N5', {'transfer': False, 'weight': 2}),\n",
       " ('N4', 'N3', {'transfer': False, 'weight': 2}),\n",
       " ('M8', 'M7', {'transfer': False, 'weight': 2}),\n",
       " ('M8', 'M9', {'transfer': False, 'weight': 2}),\n",
       " ('N15', 'N16', {'transfer': False, 'weight': 1}),\n",
       " ('m3', 'm4', {'transfer': False, 'weight': 2}),\n",
       " ('Z5', 'Z4', {'transfer': False, 'weight': 2}),\n",
       " ('Z5', 'Z6', {'transfer': False, 'weight': 2}),\n",
       " ('T24', 'T23', {'transfer': False, 'weight': 49}),\n",
       " ('C15', 'C16', {'transfer': False, 'weight': 2}),\n",
       " ('N16', 'N17', {'transfer': False, 'weight': 3}),\n",
       " ('H10', 'H11', {'transfer': False, 'weight': 2}),\n",
       " ('M24', 'M23', {'transfer': False, 'weight': 2}),\n",
       " ('Z6', 'T7', {'transfer': True}),\n",
       " ('C8', 'C9', {'transfer': False, 'weight': 3}),\n",
       " ('C8', 'M15', {'transfer': True}),\n",
       " ('H17', 'G16', {'transfer': True}),\n",
       " ('H17', 'H18', {'transfer': False, 'weight': 2}),\n",
       " ('Y22', 'Y23', {'transfer': False, 'weight': 3}),\n",
       " ('M23', 'M22', {'transfer': False, 'weight': 3}),\n",
       " ('Y9', 'Y10', {'transfer': False, 'weight': 2}),\n",
       " ('Y9', 'Y8', {'transfer': False, 'weight': 3}),\n",
       " ('T10', 'G11', {'transfer': True}),\n",
       " ('T10', 'T9', {'transfer': False, 'weight': 18}),\n",
       " ('C18', 'H21', {'transfer': True}),\n",
       " ('H19', 'H20', {'transfer': False, 'weight': 2}),\n",
       " ('H19', 'H18', {'transfer': False, 'weight': 2}),\n",
       " ('T19', 'T18', {'transfer': False, 'weight': 37}),\n",
       " ('F7', 'Y7', {'transfer': True}),\n",
       " ('T22', 'T23', {'transfer': False, 'weight': 46}),\n",
       " ('Y7', 'Y6', {'transfer': False, 'weight': 2}),\n",
       " ('Y7', 'Y8', {'transfer': False, 'weight': 2}),\n",
       " ('M17', 'M18', {'transfer': False, 'weight': 2}),\n",
       " ('M17', 'M16', {'transfer': False, 'weight': 2}),\n",
       " ('Y17', 'Y16', {'transfer': False, 'weight': 2}),\n",
       " ('T3', 'N3', {'transfer': True}),\n",
       " ('T3', 'T2', {'transfer': False, 'weight': 3}),\n",
       " ('N7', 'N8', {'transfer': False, 'weight': 2}),\n",
       " ('N7', 'Y16', {'transfer': True}),\n",
       " ('N7', 'Z4', {'transfer': True}),\n",
       " ('C11', 'M18', {'transfer': True}),\n",
       " ('C11', 'T9', {'transfer': True}),\n",
       " ('C11', 'C12', {'transfer': False, 'weight': 2}),\n",
       " ('H1', 'H2', {'transfer': False, 'weight': 3}),\n",
       " ('T7', 'T8', {'transfer': False, 'weight': 14}),\n",
       " ('T7', 'T6', {'transfer': False, 'weight': 13}),\n",
       " ('F12', 'F13', {'transfer': False, 'weight': 2}),\n",
       " ('G17', 'G16', {'transfer': False, 'weight': 2}),\n",
       " ('M14', 'M15', {'transfer': False, 'weight': 1}),\n",
       " ('M14', 'G6', {'transfer': True}),\n",
       " ('Y16', 'Z4', {'transfer': True}),\n",
       " ('F15', 'F16', {'transfer': False, 'weight': 2}),\n",
       " ('F15', 'C3', {'transfer': True}),\n",
       " ('Y23', 'Y24', {'transfer': False, 'weight': 2}),\n",
       " ('M9', 'F13', {'transfer': True}),\n",
       " ('M9', 'M10', {'transfer': False, 'weight': 1}),\n",
       " ('Z4', 'Z3', {'transfer': False, 'weight': 2}),\n",
       " ('H2', 'H3', {'transfer': False, 'weight': 3}),\n",
       " ('G2', 'G3', {'transfer': False, 'weight': 1}),\n",
       " ('G13', 'G14', {'transfer': False, 'weight': 2}),\n",
       " ('T1', 'N1', {'transfer': True}),\n",
       " ('T1', 'T2', {'transfer': False, 'weight': 0}),\n",
       " ('T8', 'T9', {'transfer': False, 'weight': 16}),\n",
       " ('M21', 'M20', {'transfer': False, 'weight': 2}),\n",
       " ('M21', 'M22', {'transfer': False, 'weight': 2}),\n",
       " ('Z12', 'Z11', {'transfer': False, 'weight': 3}),\n",
       " ('N9', 'Y14', {'transfer': True}),\n",
       " ('N9', 'N8', {'transfer': False, 'weight': 2}),\n",
       " ('G14', 'G15', {'transfer': False, 'weight': 2}),\n",
       " ('T15', 'T16', {'transfer': False, 'weight': 30}),\n",
       " ('m4', 'm5', {'transfer': False, 'weight': 2}),\n",
       " ('T17', 'T16', {'transfer': False, 'weight': 33}),\n",
       " ('T17', 'T18', {'transfer': False, 'weight': 35}),\n",
       " ('N11', 'N12', {'transfer': False, 'weight': 3}),\n",
       " ('N11', 'M22', {'transfer': True}),\n",
       " ('C2', 'C1', {'transfer': False, 'weight': 2}),\n",
       " ('C2', 'C3', {'transfer': False, 'weight': 2}),\n",
       " ('N8', 'M12', {'transfer': True}),\n",
       " ('M18', 'T9', {'transfer': True}),\n",
       " ('H21', 'H20', {'transfer': False, 'weight': 3}),\n",
       " ('C13', 'C12', {'transfer': False, 'weight': 2}),\n",
       " ('Y20', 'Y19', {'transfer': False, 'weight': 2}),\n",
       " ('M15', 'M16', {'transfer': False, 'weight': 3}),\n",
       " ('G16', 'G15', {'transfer': False, 'weight': 1}),\n",
       " ('F1', 'F2', {'transfer': False, 'weight': 3}),\n",
       " ('N3', 'N2', {'transfer': False, 'weight': 2}),\n",
       " ('N1', 'N2', {'transfer': False, 'weight': 2}),\n",
       " ('T2', 'N2', {'transfer': True})]"
      ]
     },
     "execution_count": 70,
     "metadata": {},
     "output_type": "execute_result"
    }
   ],
   "source": [
    "g.edges(data=True)"
   ]
  },
  {
   "cell_type": "code",
   "execution_count": 71,
   "metadata": {},
   "outputs": [
    {
     "data": {
      "text/plain": [
       "184"
      ]
     },
     "execution_count": 71,
     "metadata": {},
     "output_type": "execute_result"
    }
   ],
   "source": [
    "g.number_of_nodes()"
   ]
  },
  {
   "cell_type": "code",
   "execution_count": 72,
   "metadata": {},
   "outputs": [
    {
     "data": {
      "text/plain": [
       "['N14', 'H8', 'T21', 'F9', 'N13']"
      ]
     },
     "execution_count": 72,
     "metadata": {},
     "output_type": "execute_result"
    }
   ],
   "source": [
    "g.nodes()[:5]"
   ]
  },
  {
   "cell_type": "code",
   "execution_count": 73,
   "metadata": {},
   "outputs": [
    {
     "data": {
      "text/plain": [
       "243"
      ]
     },
     "execution_count": 73,
     "metadata": {},
     "output_type": "execute_result"
    }
   ],
   "source": [
    "g.number_of_edges()"
   ]
  },
  {
   "cell_type": "code",
   "execution_count": 74,
   "metadata": {},
   "outputs": [
    {
     "data": {
      "text/plain": [
       "[('N14', 'N13'), ('N14', 'N15'), ('H8', 'H9'), ('H8', 'H7'), ('H8', 'G9')]"
      ]
     },
     "execution_count": 74,
     "metadata": {},
     "output_type": "execute_result"
    }
   ],
   "source": [
    "g.edges()[:5]"
   ]
  },
  {
   "cell_type": "markdown",
   "metadata": {},
   "source": [
    "Next, for plotting purposes, we create two lists of edges containing transfer edges and on-train edges:"
   ]
  },
  {
   "cell_type": "code",
   "execution_count": 75,
   "metadata": {
    "collapsed": true
   },
   "outputs": [],
   "source": [
    "on_foot = [edge for edge in g.edges_iter() if g.get_edge_data(*edge)[\"transfer\"]]\n",
    "on_train = [edge for edge in g.edges_iter() if not g.get_edge_data(*edge)[\"transfer\"]]"
   ]
  },
  {
   "cell_type": "markdown",
   "metadata": {},
   "source": [
    "and we also create a list with colors corresponding to each node in the network:"
   ]
  },
  {
   "cell_type": "code",
   "execution_count": 76,
   "metadata": {
    "collapsed": true
   },
   "outputs": [],
   "source": [
    "colors = [data[n[0].upper()][\"color\"] for n in g.nodes()]"
   ]
  },
  {
   "cell_type": "markdown",
   "metadata": {},
   "source": [
    "To visualize the graph we can use the Matplotlib-based drawing routines in the `networkx` library:\n",
    "We use `nx.draw_networkx` to draw each node, `nx.draw_networkx_labels` to draw the labels to the nodes, \n",
    "`nx.draw_network_edges` to draw the edges. We call `nx.draw_network_edges` twice, with the edge lists for transfers\n",
    "(`on_foot`) and on-train (`on_train`) connections, and color the links as blue and black, respectively, using the\n",
    "`edge_color` argument. The layout of the graph is determined by the `pos` argument to the drawing functions.\n",
    "Here we used the `graphviz_layout` to layout the nodes. All drawing functions also accept a Matplotlib\n",
    "axes instance via the `ax` argument."
   ]
  },
  {
   "cell_type": "code",
   "execution_count": 77,
   "metadata": {
    "collapsed": true
   },
   "outputs": [],
   "source": [
    "from networkx.drawing.nx_agraph import graphviz_layout"
   ]
  },
  {
   "cell_type": "code",
   "execution_count": 78,
   "metadata": {},
   "outputs": [
    {
     "data": {
      "image/png": "[encoded data removed]",
      "text/plain": [
       "<matplotlib.figure.Figure at 0x6e021fb0>"
      ]
     },
     "metadata": {},
     "output_type": "display_data"
    }
   ],
   "source": [
    "fig, ax = plt.subplots(1, 1, figsize=(18, 12))\n",
    "\n",
    "pos = graphviz_layout(g, prog=\"neato\")\n",
    "nx.draw_networkx(g, pos, ax=ax, node_size=500, node_color=colors)\n",
    "nx.draw_networkx_labels(g, pos=pos, ax=ax, font_size=1)\n",
    "nx.draw_networkx_edges(g, pos=pos, ax=ax, edgelist=on_train, width=2)\n",
    "nx.draw_networkx_edges(g, pos=pos, ax=ax, edgelist=on_foot, edge_color=\"blue\")\n",
    "\n",
    "# removing the default axis on all sides:\n",
    "for side in ['bottom','right','top','left']:\n",
    "    ax.spines[side].set_visible(False)\n",
    "\n",
    "# removing the axis labels and ticks\n",
    "ax.set_xticks([])\n",
    "ax.set_yticks([])\n",
    "ax.xaxis.set_ticks_position('none')\n",
    "ax.yaxis.set_ticks_position('none')\n",
    "\n",
    "fig.tight_layout()"
   ]
  },
  {
   "cell_type": "markdown",
   "metadata": {
    "collapsed": true
   },
   "source": [
    "Once the network has been constructed, we can use the many graph algorithms provided by the\n",
    "NetworkX library to analyze the network. For example, to compute the degree (that is, the number of\n",
    "connections to a node) of each node, we can use the `degree` method"
   ]
  },
  {
   "cell_type": "code",
   "execution_count": 79,
   "metadata": {},
   "outputs": [
    {
     "data": {
      "text/plain": [
       "{'C1': 1,\n",
       " 'C10': 2,\n",
       " 'C11': 5,\n",
       " 'C12': 3,\n",
       " 'C13': 2,\n",
       " 'C14': 2,\n",
       " 'C15': 2,\n",
       " 'C16': 2,\n",
       " 'C17': 2,\n",
       " 'C18': 3,\n",
       " 'C19': 1,\n",
       " 'C2': 2,\n",
       " 'C3': 3,\n",
       " 'C4': 4,\n",
       " 'C5': 2,\n",
       " 'C6': 2,\n",
       " 'C7': 5,\n",
       " 'C8': 4,\n",
       " 'C9': 4,\n",
       " 'F1': 2,\n",
       " 'F10': 2,\n",
       " 'F11': 2,\n",
       " 'F12': 2,\n",
       " 'F13': 3,\n",
       " 'F14': 2,\n",
       " 'F15': 3,\n",
       " 'F16': 3,\n",
       " 'F2': 3,\n",
       " 'F3': 3,\n",
       " 'F4': 3,\n",
       " 'F5': 3,\n",
       " 'F6': 3,\n",
       " 'F7': 3,\n",
       " 'F8': 3,\n",
       " 'F9': 4,\n",
       " 'G1': 3,\n",
       " 'G10': 2,\n",
       " 'G11': 3,\n",
       " 'G12': 3,\n",
       " 'G13': 2,\n",
       " 'G14': 2,\n",
       " 'G15': 3,\n",
       " 'G16': 3,\n",
       " 'G17': 2,\n",
       " 'G18': 2,\n",
       " 'G19': 1,\n",
       " 'G2': 4,\n",
       " 'G3': 2,\n",
       " 'G4': 3,\n",
       " 'G5': 6,\n",
       " 'G6': 5,\n",
       " 'G7': 2,\n",
       " 'G8': 2,\n",
       " 'G9': 4,\n",
       " 'H1': 1,\n",
       " 'H10': 2,\n",
       " 'H11': 2,\n",
       " 'H12': 3,\n",
       " 'H13': 2,\n",
       " 'H14': 2,\n",
       " 'H15': 2,\n",
       " 'H16': 3,\n",
       " 'H17': 3,\n",
       " 'H18': 2,\n",
       " 'H19': 2,\n",
       " 'H2': 2,\n",
       " 'H20': 2,\n",
       " 'H21': 2,\n",
       " 'H3': 2,\n",
       " 'H4': 2,\n",
       " 'H5': 2,\n",
       " 'H6': 4,\n",
       " 'H7': 4,\n",
       " 'H8': 4,\n",
       " 'H9': 2,\n",
       " 'M1': 1,\n",
       " 'M10': 2,\n",
       " 'M11': 2,\n",
       " 'M12': 3,\n",
       " 'M13': 6,\n",
       " 'M14': 5,\n",
       " 'M15': 4,\n",
       " 'M16': 4,\n",
       " 'M17': 2,\n",
       " 'M18': 5,\n",
       " 'M19': 3,\n",
       " 'M2': 2,\n",
       " 'M20': 2,\n",
       " 'M21': 2,\n",
       " 'M22': 3,\n",
       " 'M23': 2,\n",
       " 'M24': 2,\n",
       " 'M25': 3,\n",
       " 'M3': 2,\n",
       " 'M4': 2,\n",
       " 'M5': 2,\n",
       " 'M6': 3,\n",
       " 'M7': 2,\n",
       " 'M8': 2,\n",
       " 'M9': 3,\n",
       " 'N1': 2,\n",
       " 'N10': 4,\n",
       " 'N11': 3,\n",
       " 'N12': 2,\n",
       " 'N13': 2,\n",
       " 'N14': 2,\n",
       " 'N15': 2,\n",
       " 'N16': 2,\n",
       " 'N17': 2,\n",
       " 'N18': 2,\n",
       " 'N19': 1,\n",
       " 'N2': 3,\n",
       " 'N3': 3,\n",
       " 'N4': 2,\n",
       " 'N5': 2,\n",
       " 'N6': 5,\n",
       " 'N7': 6,\n",
       " 'N8': 3,\n",
       " 'N9': 3,\n",
       " 'T1': 2,\n",
       " 'T10': 3,\n",
       " 'T11': 3,\n",
       " 'T12': 2,\n",
       " 'T13': 2,\n",
       " 'T14': 2,\n",
       " 'T15': 2,\n",
       " 'T16': 2,\n",
       " 'T17': 2,\n",
       " 'T18': 2,\n",
       " 'T19': 2,\n",
       " 'T2': 3,\n",
       " 'T20': 2,\n",
       " 'T21': 2,\n",
       " 'T22': 2,\n",
       " 'T23': 2,\n",
       " 'T24': 1,\n",
       " 'T3': 3,\n",
       " 'T4': 2,\n",
       " 'T5': 2,\n",
       " 'T6': 4,\n",
       " 'T7': 3,\n",
       " 'T8': 2,\n",
       " 'T9': 5,\n",
       " 'Y1': 2,\n",
       " 'Y10': 2,\n",
       " 'Y11': 2,\n",
       " 'Y12': 2,\n",
       " 'Y13': 4,\n",
       " 'Y14': 3,\n",
       " 'Y15': 2,\n",
       " 'Y16': 6,\n",
       " 'Y17': 2,\n",
       " 'Y18': 4,\n",
       " 'Y19': 2,\n",
       " 'Y2': 3,\n",
       " 'Y20': 2,\n",
       " 'Y21': 2,\n",
       " 'Y22': 2,\n",
       " 'Y23': 2,\n",
       " 'Y24': 1,\n",
       " 'Y3': 3,\n",
       " 'Y4': 3,\n",
       " 'Y5': 3,\n",
       " 'Y6': 3,\n",
       " 'Y7': 3,\n",
       " 'Y8': 3,\n",
       " 'Y9': 4,\n",
       " 'Z1': 3,\n",
       " 'Z10': 2,\n",
       " 'Z11': 2,\n",
       " 'Z12': 2,\n",
       " 'Z13': 2,\n",
       " 'Z14': 1,\n",
       " 'Z2': 4,\n",
       " 'Z3': 3,\n",
       " 'Z4': 6,\n",
       " 'Z5': 2,\n",
       " 'Z6': 3,\n",
       " 'Z7': 2,\n",
       " 'Z8': 5,\n",
       " 'Z9': 3,\n",
       " 'm3': 1,\n",
       " 'm4': 2,\n",
       " 'm5': 2}"
      ]
     },
     "execution_count": 79,
     "metadata": {},
     "output_type": "execute_result"
    }
   ],
   "source": [
    "g.degree()"
   ]
  },
  {
   "cell_type": "markdown",
   "metadata": {},
   "source": [
    "For this graph, the degree of a node can be interpreted as the number of connections to a station. We can\n",
    "easily search for the most highly connected station in the network by using the `degree method`, the `values`\n",
    "method of the resulting Python dictionary, and the `max` function to find the highest degree in the network."
   ]
  },
  {
   "cell_type": "code",
   "execution_count": 80,
   "metadata": {},
   "outputs": [
    {
     "data": {
      "text/plain": [
       "[('M13', 6), ('G5', 6), ('N7', 6), ('Y16', 6), ('Z4', 6)]"
      ]
     },
     "execution_count": 80,
     "metadata": {},
     "output_type": "execute_result"
    }
   ],
   "source": [
    "d_max = max(g.degree().values())\n",
    "[(n, d) for (n, d) in g.degree().items() if d == d_max]"
   ]
  },
  {
   "cell_type": "markdown",
   "metadata": {},
   "source": [
    "We can also compute the closest path between two points in the network using `nx.shortest_path`. For example, the optimal\n",
    "traveling route (assuming no waiting time and instantaneous transfer) for traveling between `Y24` and `C19` is:"
   ]
  },
  {
   "cell_type": "code",
   "execution_count": 81,
   "metadata": {},
   "outputs": [
    {
     "data": {
      "text/plain": [
       "['Y24',\n",
       " 'Y23',\n",
       " 'Y22',\n",
       " 'Y21',\n",
       " 'Y20',\n",
       " 'Y19',\n",
       " 'Y18',\n",
       " 'C9',\n",
       " 'C10',\n",
       " 'C11',\n",
       " 'C12',\n",
       " 'C13',\n",
       " 'C14',\n",
       " 'C15',\n",
       " 'C16',\n",
       " 'C17',\n",
       " 'C18',\n",
       " 'C19']"
      ]
     },
     "execution_count": 81,
     "metadata": {},
     "output_type": "execute_result"
    }
   ],
   "source": [
    "p = nx.shortest_path(g, \"Y24\", \"C19\"); p"
   ]
  },
  {
   "cell_type": "markdown",
   "metadata": {},
   "source": [
    "Given a path on this form, we can also directly evaluate the travel time by summing up the weight\n",
    "attributes of neighboring nodes in the path:"
   ]
  },
  {
   "cell_type": "code",
   "execution_count": 82,
   "metadata": {},
   "outputs": [
    {
     "data": {
      "text/plain": [
       "35"
      ]
     },
     "execution_count": 82,
     "metadata": {},
     "output_type": "execute_result"
    }
   ],
   "source": [
    "np.sum([g[p[n]][p[n+1]][\"weight\"] for n in range(len(p)-1) if \"weight\" in g[p[n]][p[n+1]]])"
   ]
  },
  {
   "cell_type": "markdown",
   "metadata": {},
   "source": [
    "The result suggests that it takes 35 minutes to travel from `Y24` to `C19`. Since the transfer nodes do not\n",
    "have a weight associated with them, the train transfers are effectively assumed to be instantaneous. It may be\n",
    "reasonable to assume that a train transfer takes about 5 minutes, and to take this into account in the shortest\n",
    "path and travel time computation we can update the transfer nodes and add a weight of 5 to each of them.\n",
    "To do this we create a copy of the graph using the `copy` method, and iterate through the edges and update\n",
    "those with `transfer` attribute set to `True`:"
   ]
  },
  {
   "cell_type": "code",
   "execution_count": 87,
   "metadata": {},
   "outputs": [
    {
     "data": {
      "text/plain": [
       "['Y24',\n",
       " 'Y23',\n",
       " 'Y22',\n",
       " 'Y21',\n",
       " 'Y20',\n",
       " 'Y19',\n",
       " 'Y18',\n",
       " 'C9',\n",
       " 'C10',\n",
       " 'C11',\n",
       " 'C12',\n",
       " 'C13',\n",
       " 'C14',\n",
       " 'C15',\n",
       " 'C16',\n",
       " 'C17',\n",
       " 'C18',\n",
       " 'C19']"
      ]
     },
     "execution_count": 87,
     "metadata": {},
     "output_type": "execute_result"
    }
   ],
   "source": [
    "h = g.copy()\n",
    "for n1, n2 in h.edges_iter():\n",
    "    if h[n1][n2][\"transfer\"]:\n",
    "        h[n1][n2][\"weight\"] = 5\n",
    "p = nx.shortest_path(h, \"Y24\", \"C19\"); p"
   ]
  },
  {
   "cell_type": "code",
   "execution_count": 88,
   "metadata": {},
   "outputs": [
    {
     "data": {
      "text/plain": [
       "40"
      ]
     },
     "execution_count": 88,
     "metadata": {},
     "output_type": "execute_result"
    }
   ],
   "source": [
    "np.sum([h[p[n]][p[n+1]][\"weight\"] for n in range(len(p)-1)])"
   ]
  },
  {
   "cell_type": "markdown",
   "metadata": {},
   "source": [
    "With this method, we can of course compute the optimal path and travel time between arbitrary nodes\n",
    "in the network. As another example, we also compute the shortest path and traveling time between Z1 and\n",
    "H16 (32 minutes):"
   ]
  },
  {
   "cell_type": "code",
   "execution_count": 89,
   "metadata": {},
   "outputs": [
    {
     "data": {
      "text/plain": [
       "32"
      ]
     },
     "execution_count": 89,
     "metadata": {},
     "output_type": "execute_result"
    }
   ],
   "source": [
    "p = nx.shortest_path(h, \"Z1\", \"H16\")\n",
    "np.sum([h[p[n]][p[n+1]][\"weight\"] for n in range(len(p)-1)])"
   ]
  },
  {
   "cell_type": "markdown",
   "metadata": {},
   "source": [
    "The NetworkX representation of a graph can be converted to an adjacency matrix in the form of a Scipy\n",
    "sparse matrix using the `nx.to_scipy_sparse_matrix`, after which we can also analyze the graph with the\n",
    "routines in the `sp.csgraph` module. As an example of this, we convert the Tokyo Metro graph to an adjacency\n",
    "matrix and compute its reverse Cuthill-McKee ordering (using `sp.csgraph.reverse_cuthill_mckee`, which is a reordering that reduces the maximum distance of the matrix elements from the diagonal), and permute the matrix with this ordering."
   ]
  },
  {
   "cell_type": "code",
   "execution_count": 90,
   "metadata": {},
   "outputs": [
    {
     "data": {
      "text/plain": [
       "<184x184 sparse matrix of type '<class 'numpy.int32'>'\n",
       "\twith 486 stored elements in Compressed Sparse Row format>"
      ]
     },
     "execution_count": 90,
     "metadata": {},
     "output_type": "execute_result"
    }
   ],
   "source": [
    "A = nx.to_scipy_sparse_matrix(g); A"
   ]
  },
  {
   "cell_type": "code",
   "execution_count": 91,
   "metadata": {},
   "outputs": [
    {
     "data": {
      "image/png": "[encoded data removed]",
      "text/plain": [
       "<matplotlib.figure.Figure at 0x6e0c6b30>"
      ]
     },
     "metadata": {},
     "output_type": "display_data"
    }
   ],
   "source": [
    "perm = sp.csgraph.reverse_cuthill_mckee(A)\n",
    "\n",
    "fig, (ax1, ax2) = plt.subplots(1, 2, figsize=(8, 4))\n",
    "\n",
    "ax1.spy(A, markersize=2)\n",
    "ax2.spy(sp_permute(A, perm, perm), markersize=2)\n",
    "\n",
    "fig.tight_layout()"
   ]
  },
  {
   "cell_type": "markdown",
   "metadata": {},
   "source": [
    "## Versions"
   ]
  },
  {
   "cell_type": "code",
   "execution_count": 92,
   "metadata": {},
   "outputs": [
    {
     "data": {
      "application/json": {
       "Software versions": [
        {
         "module": "Python",
         "version": "3.4.2 32bit [GCC 4.9.1]"
        },
        {
         "module": "IPython",
         "version": "6.0.0"
        },
        {
         "module": "OS",
         "version": "Linux 4.9.24 v7+ armv7l with debian 8.0"
        },
        {
         "module": "numpy",
         "version": "1.12.1"
        },
        {
         "module": "scipy",
         "version": "0.19.0"
        },
        {
         "module": "matplotlib",
         "version": "2.0.2"
        },
        {
         "module": "networkx",
         "version": "1.11"
        },
        {
         "module": "pygraphviz",
         "version": "1.3.1"
        }
       ]
      },
      "text/html": [
       "<table><tr><th>Software</th><th>Version</th></tr><tr><td>Python</td><td>3.4.2 32bit [GCC 4.9.1]</td></tr><tr><td>IPython</td><td>6.0.0</td></tr><tr><td>OS</td><td>Linux 4.9.24 v7+ armv7l with debian 8.0</td></tr><tr><td>numpy</td><td>1.12.1</td></tr><tr><td>scipy</td><td>0.19.0</td></tr><tr><td>matplotlib</td><td>2.0.2</td></tr><tr><td>networkx</td><td>1.11</td></tr><tr><td>pygraphviz</td><td>1.3.1</td></tr><tr><td colspan='2'>Mon May 15 11:35:39 2017 KST</td></tr></table>"
      ],
      "text/latex": [
       "\\begin{tabular}{|l|l|}\\hline\n",
       "{\\bf Software} & {\\bf Version} \\\\ \\hline\\hline\n",
       "Python & 3.4.2 32bit [GCC 4.9.1] \\\\ \\hline\n",
       "IPython & 6.0.0 \\\\ \\hline\n",
       "OS & Linux 4.9.24 v7+ armv7l with debian 8.0 \\\\ \\hline\n",
       "numpy & 1.12.1 \\\\ \\hline\n",
       "scipy & 0.19.0 \\\\ \\hline\n",
       "matplotlib & 2.0.2 \\\\ \\hline\n",
       "networkx & 1.11 \\\\ \\hline\n",
       "pygraphviz & 1.3.1 \\\\ \\hline\n",
       "\\hline \\multicolumn{2}{|l|}{Mon May 15 11:35:39 2017 KST} \\\\ \\hline\n",
       "\\end{tabular}\n"
      ],
      "text/plain": [
       "Software versions\n",
       "Python 3.4.2 32bit [GCC 4.9.1]\n",
       "IPython 6.0.0\n",
       "OS Linux 4.9.24 v7+ armv7l with debian 8.0\n",
       "numpy 1.12.1\n",
       "scipy 0.19.0\n",
       "matplotlib 2.0.2\n",
       "networkx 1.11\n",
       "pygraphviz 1.3.1\n",
       "Mon May 15 11:35:39 2017 KST"
      ]
     },
     "execution_count": 92,
     "metadata": {},
     "output_type": "execute_result"
    }
   ],
   "source": [
    "%reload_ext version_information\n",
    "%version_information numpy, scipy, matplotlib, networkx, pygraphviz"
   ]
  }
 ],
 "metadata": {
  "kernelspec": {
   "display_name": "Python 3",
   "language": "python",
   "name": "python3"
  },
  "language_info": {
   "codemirror_mode": {
    "name": "ipython",
    "version": 3
   },
   "file_extension": ".py",
   "mimetype": "text/x-python",
   "name": "python",
   "nbconvert_exporter": "python",
   "pygments_lexer": "ipython3",
   "version": "3.6.1"
  }
 },
 "nbformat": 4,
 "nbformat_minor": 2
}
